{
 "cells": [
  {
   "cell_type": "markdown",
   "id": "6b8f0748",
   "metadata": {},
   "source": [
    "# Likhetstrekk med f.eks. R"
   ]
  },
  {
   "cell_type": "markdown",
   "id": "0d6a9d66",
   "metadata": {},
   "source": [
    "https://www.dataquest.io/blog/python-vs-r/"
   ]
  },
  {
   "cell_type": "markdown",
   "id": "2e3e078e",
   "metadata": {},
   "source": [
    "#### Skriv dine egne funksjoner"
   ]
  },
  {
   "cell_type": "markdown",
   "id": "c2cc686c",
   "metadata": {},
   "source": [
    "#### Open-source -> Packages"
   ]
  },
  {
   "cell_type": "markdown",
   "id": "256f684d",
   "metadata": {},
   "source": [
    "Man \"importerer\" gjerne biblioteker avhengig av den funksjonaliteten man trenger."
   ]
  },
  {
   "cell_type": "markdown",
   "id": "8c555bb0",
   "metadata": {},
   "source": [
    "#### Arbeid i Git"
   ]
  },
  {
   "cell_type": "markdown",
   "id": "b15f3e22",
   "metadata": {},
   "source": [
    "All utvikling i moderne kodespråk lener seg gjerne på samhandlingsverktøyet \"git\", el."
   ]
  },
  {
   "cell_type": "markdown",
   "id": "fcd89889",
   "metadata": {},
   "source": [
    "<hr>"
   ]
  },
  {
   "cell_type": "markdown",
   "id": "91628e42",
   "metadata": {},
   "source": [
    "# Forskjeller"
   ]
  },
  {
   "cell_type": "markdown",
   "id": "429e922b",
   "metadata": {},
   "source": [
    "\"R is more functional, Python more object-oriented\"\n",
    "\n",
    "Forskjellen ligger kanskje i om man skal \"forstå delkomponentene så man kan bygge ny / endre funksjonalitet\".\\\n",
    "Python eksponerer mer til den jevne bruker, og dermed mer ansvar og muligheter?"
   ]
  },
  {
   "cell_type": "markdown",
   "id": "acf9491f",
   "metadata": {},
   "source": [
    "#### Generalisme"
   ]
  },
  {
   "cell_type": "markdown",
   "id": "c54c08b6",
   "metadata": {},
   "source": [
    "\"Skriv en API, en nettside, ett dataspill, en GUI, en work-scheduler\""
   ]
  },
  {
   "cell_type": "markdown",
   "id": "84105ff7",
   "metadata": {},
   "source": [
    "#### Namespaces\n",
    "I R ligger funksjonen \"read_csv\" på \"bunnnivå\" etter innlast fra pakken \"readr\".\\\n",
    "Andre pakker vil da \"ta plassen til\" read_csv i R, om de har noe med samme navn. Dette kalles \"mask\"."
   ]
  },
  {
   "cell_type": "code",
   "execution_count": null,
   "id": "892ee72d",
   "metadata": {},
   "outputs": [],
   "source": [
    "library(readr)\n",
    "nba <- read_csv(\"nba_2013.csv\")"
   ]
  },
  {
   "cell_type": "markdown",
   "id": "24d2caaf",
   "metadata": {},
   "source": [
    "Dette unngås i Python ved at metoden alltid ligger under pakken, derfor \"pd.\" i starten.\\\n",
    "Noe som ofte fører til \"litt mer tekst\"."
   ]
  },
  {
   "cell_type": "code",
   "execution_count": null,
   "id": "b52495b4",
   "metadata": {},
   "outputs": [],
   "source": [
    "import pandas as pd\n",
    "nba = pd.read_csv(\"nba_2013.csv\")"
   ]
  }
 ],
 "metadata": {
  "kernelspec": {
   "display_name": "Python 3",
   "language": "python",
   "name": "python3"
  },
  "language_info": {
   "codemirror_mode": {
    "name": "ipython",
    "version": 3
   },
   "file_extension": ".py",
   "mimetype": "text/x-python",
   "name": "python",
   "nbconvert_exporter": "python",
   "pygments_lexer": "ipython3",
   "version": "3.8.10"
  }
 },
 "nbformat": 4,
 "nbformat_minor": 5
}
