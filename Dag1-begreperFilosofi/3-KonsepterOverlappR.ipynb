{
 "cells": [
  {
   "cell_type": "markdown",
   "id": "99446721",
   "metadata": {},
   "source": [
    "## Likhetstrekk med andre moderne, open-source programmeringsspråk, f.eks. R"
   ]
  },
  {
   "cell_type": "markdown",
   "id": "e02e5cce",
   "metadata": {},
   "source": [
    "https://www.dataquest.io/blog/python-vs-r/"
   ]
  },
  {
   "cell_type": "markdown",
   "id": "073669d1",
   "metadata": {},
   "source": [
    "#### \"Lettlesthet\"\n",
    "Lett å lese for nestemann. (Potensielt deg selv?)"
   ]
  },
  {
   "cell_type": "markdown",
   "id": "80649c33",
   "metadata": {},
   "source": [
    "#### Skriv dine egne funksjoner\n",
    "Eksponerer delkomponenter, slik at man kan endre grunnleggende funksjonalitet. Om man har behov og tid."
   ]
  },
  {
   "cell_type": "markdown",
   "id": "dda56464",
   "metadata": {},
   "source": [
    "#### Open-source -> Packages"
   ]
  },
  {
   "cell_type": "markdown",
   "id": "f4b7ee50",
   "metadata": {},
   "source": [
    "Gratis. (Kanskje man kan finne noen \"rammeverk\" det går an å betale for???)\\\n",
    "Man \"importerer\" gjerne biblioteker avhengig av den funksjonaliteten man trenger. \\\n",
    "Pypi = CRAN - Distribusjonssystemer / lokasjoner for pakker"
   ]
  },
  {
   "cell_type": "markdown",
   "id": "d2bdeed9",
   "metadata": {},
   "source": [
    "#### Arbeid i Git"
   ]
  },
  {
   "cell_type": "markdown",
   "id": "169c76f9",
   "metadata": {},
   "source": [
    "All utvikling i moderne kodespråk lener seg gjerne på samhandlingsverktøyet \"git\". \\\n",
    "Uavhengig av valgt programmeringsspråk eller \"miljø\", er dette en av kompetansene som bør bygges."
   ]
  },
  {
   "cell_type": "markdown",
   "id": "c7a3fb71",
   "metadata": {},
   "source": [
    "<hr>"
   ]
  },
  {
   "cell_type": "markdown",
   "id": "86b15426",
   "metadata": {},
   "source": [
    "# Forskjeller"
   ]
  },
  {
   "cell_type": "markdown",
   "id": "cf3cb4bc",
   "metadata": {},
   "source": [
    "\"R is more functional, Python more object-oriented\"\n",
    "\n",
    "Forskjellen ligger kanskje i om man skal \"forstå delkomponentene så man kan bygge ny / endre funksjonalitet\".\\\n",
    "Python eksponerer mer til den jevne bruker, og dermed mer ansvar og muligheter?"
   ]
  },
  {
   "cell_type": "markdown",
   "id": "78c1ae25",
   "metadata": {},
   "source": [
    "#### Generalisme"
   ]
  },
  {
   "cell_type": "markdown",
   "id": "ab04ab3b",
   "metadata": {},
   "source": [
    "\"Skriv en API, en nettside, ett dataspill, en GUI, en work-scheduler\""
   ]
  },
  {
   "cell_type": "markdown",
   "id": "4b820de5",
   "metadata": {},
   "source": [
    "#### Namespaces\n",
    "En merkbar forskjell? \\\n",
    "I R ligger funksjonen \"read_csv\" på \"bunnnivå\" etter innlast fra pakken \"readr\".\\"
   ]
  },
  {
   "cell_type": "code",
   "execution_count": null,
   "id": "88be897c",
   "metadata": {},
   "outputs": [],
   "source": [
    "library(readr)\n",
    "nba <- read_csv(\"nba_2013.csv\")"
   ]
  },
  {
   "cell_type": "markdown",
   "id": "15efab81",
   "metadata": {},
   "source": [
    "Andre pakker vil da \"ta plassen til\" read_csv i R, om de har noe med samme navn og lastes senere. Dette kalles \"mask\" eller \"masking\" av navnene på funksjonene / classene. \\\n",
    "Dette unngås i Python ved at metoden alltid ligger under pakken, derfor \"pd.\" i starten.\\\n",
    "Noe som ofte fører til \"litt mer tekst\", men man unngår problematikken når pakkeforfattere ikke har snakket med alle andre pakkeforfattere for å finne opp kun unike navn..."
   ]
  },
  {
   "cell_type": "code",
   "execution_count": null,
   "id": "a11dea82",
   "metadata": {},
   "outputs": [],
   "source": [
    "import pandas as pd\n",
    "nba = pd.read_csv(\"nba_2013.csv\")"
   ]
  }
 ],
 "metadata": {
  "kernelspec": {
   "display_name": "Python 3",
   "language": "python",
   "name": "python3"
  },
  "language_info": {
   "codemirror_mode": {
    "name": "ipython",
    "version": 3
   },
   "file_extension": ".py",
   "mimetype": "text/x-python",
   "name": "python",
   "nbconvert_exporter": "python",
   "pygments_lexer": "ipython3",
   "version": "3.8.10"
  }
 },
 "nbformat": 4,
 "nbformat_minor": 5
}
