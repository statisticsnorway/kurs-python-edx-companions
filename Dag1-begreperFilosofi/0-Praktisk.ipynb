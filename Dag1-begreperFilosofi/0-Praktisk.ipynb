{
 "cells": [
  {
   "cell_type": "markdown",
   "id": "57dcc842",
   "metadata": {},
   "source": [
    "### Kursstruktur\n",
    "https://github.com/statisticsnorway/kurs-python-edx-companion (Se readme.md)\n",
    "\n",
    "- Dag1 - 2. juni - Begreper og filosofi\n",
    "    - Forelesning med diskusjoner og erfaringer\n",
    "    \n",
    "    \n",
    "- Dag2 - 3. juni - Miljøer\n",
    "    - Demoer med spørsmål taklet underveis\n",
    "    \n",
    "    \n",
    "- Dag3 - 7. juni - Pandas og operasjoner\n",
    "    - Demoer og live-koding om tid"
   ]
  },
  {
   "cell_type": "markdown",
   "id": "c736b819",
   "metadata": {},
   "source": [
    "### Hvordan få dette \"repoet\" med kode-eksempler inn i \"din jupyter\"?"
   ]
  },
  {
   "cell_type": "markdown",
   "id": "1c1887ec",
   "metadata": {},
   "source": [
    "- \"Stå i rett mappe\"\n",
    "- git clone https://github.com/statisticsnorway/kurs-python-edx-companion.git\n",
    "- (er også en knapp for clone i mappe-utforskeren på dapla)"
   ]
  },
  {
   "cell_type": "code",
   "execution_count": null,
   "id": "9725d225",
   "metadata": {},
   "outputs": [],
   "source": []
  }
 ],
 "metadata": {
  "kernelspec": {
   "display_name": "Python 3",
   "language": "python",
   "name": "python3"
  },
  "language_info": {
   "codemirror_mode": {
    "name": "ipython",
    "version": 3
   },
   "file_extension": ".py",
   "mimetype": "text/x-python",
   "name": "python",
   "nbconvert_exporter": "python",
   "pygments_lexer": "ipython3",
   "version": "3.8.8"
  }
 },
 "nbformat": 4,
 "nbformat_minor": 5
}
