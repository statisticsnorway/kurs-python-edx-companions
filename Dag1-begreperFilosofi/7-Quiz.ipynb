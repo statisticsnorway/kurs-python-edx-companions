{
 "cells": [
  {
   "cell_type": "markdown",
   "id": "77670009",
   "metadata": {},
   "source": [
    "# Kjør hele arket, så besvar spørsmålene med alternativene."
   ]
  },
  {
   "cell_type": "code",
   "execution_count": 1,
   "id": "6e9dc396",
   "metadata": {
    "jupyter": {
     "source_hidden": true
    }
   },
   "outputs": [
    {
     "name": "stdout",
     "output_type": "stream",
     "text": [
      "/home/jovyan/kurs-python-edx-companion/src/elaering\n"
     ]
    }
   ],
   "source": [
    "%cd /home/jovyan/kurs-python-edx-companion/src/elaering\n",
    "from multchoice import multchoice\n",
    "import codecs"
   ]
  },
  {
   "cell_type": "code",
   "execution_count": 2,
   "id": "cca3f117",
   "metadata": {
    "jupyter": {
     "source_hidden": true
    }
   },
   "outputs": [
    {
     "data": {
      "application/vnd.jupyter.widget-view+json": {
       "model_id": "2142ce0978d246f68543b69bea3d47a0",
       "version_major": 2,
       "version_minor": 0
      },
      "text/plain": [
       "VBox(children=(Output(), RadioButtons(options=(('En kolonne', 0), ('Navnet på ett objekt', 1), ('Ett svaralter…"
      ]
     },
     "metadata": {},
     "output_type": "display_data"
    }
   ],
   "source": [
    "Q1 = multchoice('Hva er en variabel?',\n",
    "                    ['En kolonne',\n",
    "                     'Navnet på ett objekt',\n",
    "                     'Ett svaralternativ'], \n",
    "                codecs.decode('Aniarg cå rgg bowrxg', 'rot13'))\n",
    "Q1"
   ]
  },
  {
   "cell_type": "code",
   "execution_count": 3,
   "id": "9bb441c2",
   "metadata": {
    "jupyter": {
     "source_hidden": true
    }
   },
   "outputs": [
    {
     "data": {
      "application/vnd.jupyter.widget-view+json": {
       "model_id": "0ca097688c144036afd726f7d1da183f",
       "version_major": 2,
       "version_minor": 0
      },
      "text/plain": [
       "VBox(children=(Output(), RadioButtons(options=(('Masking', 0), ('Objekter', 1), ('Git', 2), ('Versjonering', 3…"
      ]
     },
     "metadata": {},
     "output_type": "display_data"
    }
   ],
   "source": [
    "Q2 = multchoice('Hva er forskjellen på pakkehåndtering i Python versus R?',\n",
    "                    ['Masking',\n",
    "                     'Objekter',\n",
    "                     'Git', \n",
    "                     'Versjonering'], \n",
    "                codecs.decode('Znfxvat', 'rot13'))\n",
    "Q2"
   ]
  },
  {
   "cell_type": "code",
   "execution_count": 4,
   "id": "b4ad7b52",
   "metadata": {
    "jupyter": {
     "source_hidden": true
    }
   },
   "outputs": [
    {
     "data": {
      "application/vnd.jupyter.widget-view+json": {
       "model_id": "151d0eda314b4394b175e9a80db3b1f7",
       "version_major": 2,
       "version_minor": 0
      },
      "text/plain": [
       "VBox(children=(Output(), RadioButtons(options=(('Classes', 0), ('Variabler', 1), ('Functions', 2), ('Attribute…"
      ]
     },
     "metadata": {},
     "output_type": "display_data"
    }
   ],
   "source": [
    "Q3 = multchoice('Hva er Python-ekvivalenten til en \"macro\" i SAS?',\n",
    "                    ['Classes',\n",
    "                     'Variabler',\n",
    "                     'Functions', \n",
    "                     'Attributes'], \n",
    "                codecs.decode('Shapgvbaf', 'rot13'))\n",
    "Q3"
   ]
  },
  {
   "cell_type": "code",
   "execution_count": 5,
   "id": "cdc4f827",
   "metadata": {
    "jupyter": {
     "source_hidden": true
    }
   },
   "outputs": [
    {
     "data": {
      "application/vnd.jupyter.widget-view+json": {
       "model_id": "f0dfe0c5d25f44e99164491ebbccdd23",
       "version_major": 2,
       "version_minor": 0
      },
      "text/plain": [
       "VBox(children=(Output(), RadioButtons(options=(('IndentationError', 0), ('MissingRows', 1), ('ValueError', 2),…"
      ]
     },
     "metadata": {},
     "output_type": "display_data"
    }
   ],
   "source": [
    "Q4 = multchoice('Hvilke av disse er ikke en error i Python?',\n",
    "                    [\n",
    "                     'IndentationError',\n",
    "                     'MissingRows',\n",
    "                     'ValueError', \n",
    "                     'KeyError'], \n",
    "                codecs.decode('ZvffvatEbjf', 'rot13'))\n",
    "Q4"
   ]
  },
  {
   "cell_type": "code",
   "execution_count": 6,
   "id": "508882d5",
   "metadata": {
    "jupyter": {
     "source_hidden": true
    }
   },
   "outputs": [
    {
     "data": {
      "application/vnd.jupyter.widget-view+json": {
       "model_id": "33b62c065fe94f17b00c55e9fe8f5e2d",
       "version_major": 2,
       "version_minor": 0
      },
      "text/plain": [
       "VBox(children=(Output(), RadioButtons(options=(('list()', 0), ('\"\"', 1), ('int(1)', 2), ('0.0', 3)), value=0),…"
      ]
     },
     "metadata": {},
     "output_type": "display_data"
    }
   ],
   "source": [
    "Q5 = multchoice('Hvilken regnes som True i Python?',\n",
    "                    [\n",
    "                     'list()',\n",
    "                     '\"\"', \n",
    "                     'int(1)',\n",
    "                     '0.0'], \n",
    "                codecs.decode('vag(1)', 'rot13'))\n",
    "Q5"
   ]
  },
  {
   "cell_type": "code",
   "execution_count": 7,
   "id": "2f5d29dc",
   "metadata": {
    "jupyter": {
     "source_hidden": true
    }
   },
   "outputs": [
    {
     "data": {
      "application/vnd.jupyter.widget-view+json": {
       "model_id": "f77610fc79eb41eabb8da87771938bd5",
       "version_major": 2,
       "version_minor": 0
      },
      "text/plain": [
       "VBox(children=(Output(), RadioButtons(options=(('En forkortet algoritme', 0), ('En funksjon som tilhører en cl…"
      ]
     },
     "metadata": {},
     "output_type": "display_data"
    }
   ],
   "source": [
    "Q6 = multchoice('En Metode/Method er?',\n",
    "                    [\n",
    "                     'En forkortet algoritme', \n",
    "                    'En funksjon som tilhører en class',\n",
    "                     'En seksjon hos SSB',\n",
    "                    'Standard måter å skrive koden på'\n",
    "                     ], \n",
    "                codecs.decode('Ra shaxfwba fbz gvyuøere ra pynff', 'rot13'))\n",
    "Q6"
   ]
  },
  {
   "cell_type": "code",
   "execution_count": null,
   "id": "cf2bbcb2",
   "metadata": {},
   "outputs": [],
   "source": []
  }
 ],
 "metadata": {
  "kernelspec": {
   "display_name": "Python 3",
   "language": "python",
   "name": "python3"
  },
  "language_info": {
   "codemirror_mode": {
    "name": "ipython",
    "version": 3
   },
   "file_extension": ".py",
   "mimetype": "text/x-python",
   "name": "python",
   "nbconvert_exporter": "python",
   "pygments_lexer": "ipython3",
   "version": "3.8.10"
  }
 },
 "nbformat": 4,
 "nbformat_minor": 5
}
