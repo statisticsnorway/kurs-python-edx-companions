{
 "cells": [
  {
   "cell_type": "markdown",
   "id": "e060959b",
   "metadata": {},
   "source": [
    "# Kjør hele arket, så besvar spørsmålene med alternativene."
   ]
  },
  {
   "cell_type": "code",
   "execution_count": 1,
   "id": "281c8ebe",
   "metadata": {
    "jupyter": {
     "source_hidden": true
    }
   },
   "outputs": [
    {
     "name": "stdout",
     "output_type": "stream",
     "text": [
      "/home/jovyan/kurs-python-edx-companion/src/elaering\n"
     ]
    }
   ],
   "source": [
    "%cd /home/jovyan/kurs-python-edx-companion/src/elaering\n",
    "from multchoice import multchoice\n",
    "import codecs"
   ]
  },
  {
   "cell_type": "code",
   "execution_count": 2,
   "id": "9a94c5d6",
   "metadata": {
    "jupyter": {
     "source_hidden": true
    }
   },
   "outputs": [
    {
     "data": {
      "application/vnd.jupyter.widget-view+json": {
       "model_id": "baab3dee3295437ebcb2c2ad1cf14959",
       "version_major": 2,
       "version_minor": 0
      },
      "text/plain": [
       "VBox(children=(Output(), RadioButtons(options=(('En kolonne', 0), ('Navnet på ett objekt', 1), ('Ett svaralter…"
      ]
     },
     "metadata": {},
     "output_type": "display_data"
    }
   ],
   "source": [
    "Q1 = multchoice('Hva er en variabel?',\n",
    "                    ['En kolonne',\n",
    "                     'Navnet på ett objekt',\n",
    "                     'Ett svaralternativ'], \n",
    "                codecs.decode('Aniarg cå rgg bowrxg', 'rot13'))\n",
    "Q1"
   ]
  },
  {
   "cell_type": "code",
   "execution_count": 3,
   "id": "a7303745",
   "metadata": {
    "jupyter": {
     "source_hidden": true
    }
   },
   "outputs": [
    {
     "data": {
      "application/vnd.jupyter.widget-view+json": {
       "model_id": "feae046080a849eba68b6ae95165112a",
       "version_major": 2,
       "version_minor": 0
      },
      "text/plain": [
       "VBox(children=(Output(), RadioButtons(options=(('Masking', 0), ('Objekter', 1), ('Git', 2), ('Versjonering', 3…"
      ]
     },
     "metadata": {},
     "output_type": "display_data"
    }
   ],
   "source": [
    "Q2 = multchoice('Hva er forskjellen på pakkehåndtering i Python versus R?',\n",
    "                    ['Masking',\n",
    "                     'Objekter',\n",
    "                     'Git', \n",
    "                     'Versjonering'], \n",
    "                codecs.decode('Znfxvat', 'rot13'))\n",
    "Q2"
   ]
  },
  {
   "cell_type": "code",
   "execution_count": 4,
   "id": "b83ce901",
   "metadata": {
    "jupyter": {
     "source_hidden": true
    }
   },
   "outputs": [
    {
     "data": {
      "application/vnd.jupyter.widget-view+json": {
       "model_id": "a5ff64a4f63246c5a4d635677ca4f313",
       "version_major": 2,
       "version_minor": 0
      },
      "text/plain": [
       "VBox(children=(Output(), RadioButtons(options=(('Classes', 0), ('Variabler', 1), ('Functions', 2), ('Attribute…"
      ]
     },
     "metadata": {},
     "output_type": "display_data"
    }
   ],
   "source": [
    "Q3 = multchoice('Hva er Python-ekvivalenten til en \"macro\" i SAS?',\n",
    "                    ['Classes',\n",
    "                     'Variabler',\n",
    "                     'Functions', \n",
    "                     'Attributes'], \n",
    "                codecs.decode('Shapgvbaf', 'rot13'))\n",
    "Q3"
   ]
  },
  {
   "cell_type": "code",
   "execution_count": 5,
   "id": "93751172",
   "metadata": {
    "jupyter": {
     "source_hidden": true
    }
   },
   "outputs": [
    {
     "data": {
      "application/vnd.jupyter.widget-view+json": {
       "model_id": "3876de4d30404b5782a884302fe592d2",
       "version_major": 2,
       "version_minor": 0
      },
      "text/plain": [
       "VBox(children=(Output(), RadioButtons(options=(('IndentationError', 0), ('MissingRows', 1), ('ValueError', 2),…"
      ]
     },
     "metadata": {},
     "output_type": "display_data"
    }
   ],
   "source": [
    "Q4 = multchoice('Hvilke av disse er ikke en error i Python?',\n",
    "                    [\n",
    "                     'IndentationError',\n",
    "                     'MissingRows',\n",
    "                     'ValueError', \n",
    "                     'KeyError'], \n",
    "                codecs.decode('ZvffvatEbjf', 'rot13'))\n",
    "Q4"
   ]
  },
  {
   "cell_type": "code",
   "execution_count": 6,
   "id": "8aae5b77",
   "metadata": {
    "jupyter": {
     "source_hidden": true
    }
   },
   "outputs": [
    {
     "data": {
      "application/vnd.jupyter.widget-view+json": {
       "model_id": "180bead635fb40a99ff0a92d2a71c0ce",
       "version_major": 2,
       "version_minor": 0
      },
      "text/plain": [
       "VBox(children=(Output(), RadioButtons(options=(('list()', 0), ('\"\"', 1), ('int(1)', 2), ('0.0', 3)), value=0),…"
      ]
     },
     "metadata": {},
     "output_type": "display_data"
    }
   ],
   "source": [
    "Q5 = multchoice('Hvilken regnes som True i Python?',\n",
    "                    [\n",
    "                     'list()',\n",
    "                     '\"\"', \n",
    "                     'int(1)',\n",
    "                     '0.0'], \n",
    "                codecs.decode('vag(1)', 'rot13'))\n",
    "Q5"
   ]
  },
  {
   "cell_type": "code",
   "execution_count": 7,
   "id": "be299f81",
   "metadata": {
    "jupyter": {
     "source_hidden": true
    }
   },
   "outputs": [
    {
     "data": {
      "application/vnd.jupyter.widget-view+json": {
       "model_id": "dbb709a445544ae38313ed81041a2f4e",
       "version_major": 2,
       "version_minor": 0
      },
      "text/plain": [
       "VBox(children=(Output(), RadioButtons(options=(('En forkortet algoritme', 0), ('En funksjon som tilhører en cl…"
      ]
     },
     "metadata": {},
     "output_type": "display_data"
    }
   ],
   "source": [
    "Q6 = multchoice('En Metode/Method er?',\n",
    "                    [\n",
    "                     'En forkortet algoritme', \n",
    "                    'En funksjon som tilhører en class',\n",
    "                     'En seksjon hos SSB',\n",
    "                    'Standard måter å skrive koden på'\n",
    "                     ], \n",
    "                codecs.decode('Ra shaxfwba fbz gvyuøere ra pynff', 'rot13'))\n",
    "Q6"
   ]
  },
  {
   "cell_type": "code",
   "execution_count": null,
   "id": "8ea44bf2",
   "metadata": {},
   "outputs": [],
   "source": []
  }
 ],
 "metadata": {
  "kernelspec": {
   "display_name": "Python 3",
   "language": "python",
   "name": "python3"
  },
  "language_info": {
   "codemirror_mode": {
    "name": "ipython",
    "version": 3
   },
   "file_extension": ".py",
   "mimetype": "text/x-python",
   "name": "python",
   "nbconvert_exporter": "python",
   "pygments_lexer": "ipython3",
   "version": "3.8.10"
  }
 },
 "nbformat": 4,
 "nbformat_minor": 5
}
