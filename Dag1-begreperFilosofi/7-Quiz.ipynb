{
 "cells": [
  {
   "cell_type": "markdown",
   "id": "dd697fcf",
   "metadata": {},
   "source": [
    "# Kjør hele arket, så besvar spørsmålene med alternativene."
   ]
  },
  {
   "cell_type": "code",
   "execution_count": 10,
   "id": "afb2fb93",
   "metadata": {},
   "outputs": [
    {
     "name": "stdout",
     "output_type": "stream",
     "text": [
      "/home/jovyan/kurs-python-edx-companions/src/elaering\n"
     ]
    }
   ],
   "source": [
    "%cd /home/jovyan/kurs-python-edx-companions/src/elaering\n",
    "from multchoice import multchoice\n",
    "import codecs"
   ]
  },
  {
   "cell_type": "code",
   "execution_count": 2,
   "id": "0f52d3ea",
   "metadata": {
    "jupyter": {
     "source_hidden": true
    }
   },
   "outputs": [
    {
     "data": {
      "application/vnd.jupyter.widget-view+json": {
       "model_id": "cf29f7a449034b74b9d7967f917230b4",
       "version_major": 2,
       "version_minor": 0
      },
      "text/plain": [
       "VBox(children=(Output(), RadioButtons(options=(('En kolonne', 0), ('Navnet på ett objekt', 1), ('Ett svaralter…"
      ]
     },
     "metadata": {},
     "output_type": "display_data"
    }
   ],
   "source": [
    "Q1 = multchoice('Hva er en variabel?',\n",
    "                    ['En kolonne',\n",
    "                     'Navnet på ett objekt',\n",
    "                     'Ett svaralternativ'], \n",
    "                codecs.decode('Aniarg cå rgg bowrxg', 'rot13'))\n",
    "Q1"
   ]
  },
  {
   "cell_type": "code",
   "execution_count": 3,
   "id": "1231f57d",
   "metadata": {
    "jupyter": {
     "source_hidden": true
    }
   },
   "outputs": [
    {
     "data": {
      "application/vnd.jupyter.widget-view+json": {
       "model_id": "99b06ea61de345a4a7fa8ccb8720f6d3",
       "version_major": 2,
       "version_minor": 0
      },
      "text/plain": [
       "VBox(children=(Output(), RadioButtons(options=(('Masking', 0), ('Objekter', 1), ('Git', 2), ('Versjonering', 3…"
      ]
     },
     "metadata": {},
     "output_type": "display_data"
    }
   ],
   "source": [
    "Q2 = multchoice('Hva er forskjellen på pakkehåndtering i Python versus R?',\n",
    "                    ['Masking',\n",
    "                     'Objekter',\n",
    "                     'Git', \n",
    "                     'Versjonering'], \n",
    "                codecs.decode('Znfxvat', 'rot13'))\n",
    "Q2"
   ]
  },
  {
   "cell_type": "code",
   "execution_count": 4,
   "id": "8c44a431",
   "metadata": {
    "jupyter": {
     "source_hidden": true
    }
   },
   "outputs": [
    {
     "data": {
      "application/vnd.jupyter.widget-view+json": {
       "model_id": "9febc39eecbd424780fc2b638e5d7313",
       "version_major": 2,
       "version_minor": 0
      },
      "text/plain": [
       "VBox(children=(Output(), RadioButtons(options=(('Classes', 0), ('Variabler', 1), ('Functions', 2), ('Attribute…"
      ]
     },
     "metadata": {},
     "output_type": "display_data"
    }
   ],
   "source": [
    "Q3 = multchoice('Hva er Python-ekvivalenten til en \"macro\" i SAS?',\n",
    "                    ['Classes',\n",
    "                     'Variabler',\n",
    "                     'Functions', \n",
    "                     'Attributes'], \n",
    "                codecs.decode('Shapgvbaf', 'rot13'))\n",
    "Q3"
   ]
  },
  {
   "cell_type": "code",
   "execution_count": 5,
   "id": "ee6a9f25",
   "metadata": {
    "jupyter": {
     "source_hidden": true
    }
   },
   "outputs": [
    {
     "data": {
      "application/vnd.jupyter.widget-view+json": {
       "model_id": "f7dfaa9b67c74b06b0d479cc7cb5eabb",
       "version_major": 2,
       "version_minor": 0
      },
      "text/plain": [
       "VBox(children=(Output(), RadioButtons(options=(('IndentationError', 0), ('MissingRows', 1), ('ValueError', 2),…"
      ]
     },
     "metadata": {},
     "output_type": "display_data"
    }
   ],
   "source": [
    "Q4 = multchoice('Hvilke av disse er ikke en error i Python?',\n",
    "                    [\n",
    "                     'IndentationError',\n",
    "                     'MissingRows',\n",
    "                     'ValueError', \n",
    "                     'KeyError'], \n",
    "                codecs.decode('ZvffvatEbjf', 'rot13'))\n",
    "Q4"
   ]
  },
  {
   "cell_type": "code",
   "execution_count": 6,
   "id": "0308f3d9",
   "metadata": {
    "jupyter": {
     "source_hidden": true
    }
   },
   "outputs": [
    {
     "data": {
      "application/vnd.jupyter.widget-view+json": {
       "model_id": "683559efeaf84c5aadb30e4b37244e3f",
       "version_major": 2,
       "version_minor": 0
      },
      "text/plain": [
       "VBox(children=(Output(), RadioButtons(options=(('list()', 0), ('\"\"', 1), ('int(1)', 2), ('0.0', 3)), value=0),…"
      ]
     },
     "metadata": {},
     "output_type": "display_data"
    }
   ],
   "source": [
    "Q5 = multchoice('Hvilken regnes som True i Python?',\n",
    "                    [\n",
    "                     'list()',\n",
    "                     '\"\"', \n",
    "                     'int(1)',\n",
    "                     '0.0'], \n",
    "                codecs.decode('vag(1)', 'rot13'))\n",
    "Q5"
   ]
  },
  {
   "cell_type": "code",
   "execution_count": 7,
   "id": "8e0cc1d3",
   "metadata": {
    "jupyter": {
     "source_hidden": true
    }
   },
   "outputs": [
    {
     "data": {
      "application/vnd.jupyter.widget-view+json": {
       "model_id": "b2fe63c6f45a46ab953abf650a033fda",
       "version_major": 2,
       "version_minor": 0
      },
      "text/plain": [
       "VBox(children=(Output(), RadioButtons(options=(('En forkortet algoritme', 0), ('En funksjon som tilhører en cl…"
      ]
     },
     "metadata": {},
     "output_type": "display_data"
    }
   ],
   "source": [
    "Q6 = multchoice('En Metode/Method er?',\n",
    "                    [\n",
    "                     'En forkortet algoritme', \n",
    "                    'En funksjon som tilhører en class',\n",
    "                     'En seksjon hos SSB',\n",
    "                    'Standard måter å skrive koden på'\n",
    "                     ], \n",
    "                codecs.decode('Ra shaxfwba fbz gvyuøere ra pynff', 'rot13'))\n",
    "Q6"
   ]
  },
  {
   "cell_type": "code",
   "execution_count": null,
   "id": "a2a1c648",
   "metadata": {},
   "outputs": [],
   "source": []
  }
 ],
 "metadata": {
  "kernelspec": {
   "display_name": "Python 3",
   "language": "python",
   "name": "python3"
  },
  "language_info": {
   "codemirror_mode": {
    "name": "ipython",
    "version": 3
   },
   "file_extension": ".py",
   "mimetype": "text/x-python",
   "name": "python",
   "nbconvert_exporter": "python",
   "pygments_lexer": "ipython3",
   "version": "3.8.10"
  }
 },
 "nbformat": 4,
 "nbformat_minor": 5
}
