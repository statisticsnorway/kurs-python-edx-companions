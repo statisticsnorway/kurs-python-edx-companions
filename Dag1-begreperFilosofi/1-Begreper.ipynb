{
 "cells": [
  {
   "cell_type": "markdown",
   "id": "a488ab36",
   "metadata": {},
   "source": [
    "### Begreper fra SAS-verden\n",
    "(Vanskelig å google)\\\n",
    "Hvilke analoger har vi?\n",
    "- \"Kode\"\n",
    "- \"Variabel\"\n",
    "- \"PROC\" = Procedure = Function ?\n",
    "- \"Macrovariabel\"\n",
    "- \"Macroer\"\n",
    "- \"Koble\"\n",
    "- \"Omkoding\"\n",
    "- \"Grupperingsvariabel\" - \"Formater\"\n",
    "- \"Datatyper\": Bare \"karakter\" og \"numerisk\"?"
   ]
  },
  {
   "cell_type": "markdown",
   "id": "64677cf6",
   "metadata": {},
   "source": [
    "### Begreper fra \"objekt-orientert\"-python-verden\n",
    "\n",
    "Grunnleggende komponenter\n",
    "- Variable\n",
    "- Object (\"everything is an object\")\n",
    "- Class"
   ]
  },
  {
   "cell_type": "markdown",
   "id": "9d7c4835",
   "metadata": {},
   "source": [
    "### En variabel med navn \"x\" av classen \"int\" er registrert som ett objekt med verdien \"6\"."
   ]
  },
  {
   "cell_type": "code",
   "execution_count": 3,
   "id": "caad4cc5",
   "metadata": {},
   "outputs": [],
   "source": [
    "x = 6"
   ]
  },
  {
   "cell_type": "code",
   "execution_count": 4,
   "id": "c1c3e1b9",
   "metadata": {},
   "outputs": [
    {
     "data": {
      "text/plain": [
       "int"
      ]
     },
     "execution_count": 4,
     "metadata": {},
     "output_type": "execute_result"
    }
   ],
   "source": [
    "type(x)"
   ]
  },
  {
   "cell_type": "code",
   "execution_count": 6,
   "id": "09b19029",
   "metadata": {},
   "outputs": [],
   "source": [
    "#help(int)"
   ]
  },
  {
   "cell_type": "markdown",
   "id": "cb1e4a67",
   "metadata": {},
   "source": [
    "##### Vi overskriver variabelen \"x\" med ett objekt av classen \"float\" med verdi \"7.0\""
   ]
  },
  {
   "cell_type": "code",
   "execution_count": 3,
   "id": "c1b1d4a3",
   "metadata": {},
   "outputs": [],
   "source": [
    "x = 7.0"
   ]
  },
  {
   "cell_type": "code",
   "execution_count": 4,
   "id": "c5fcc17d",
   "metadata": {},
   "outputs": [
    {
     "data": {
      "text/plain": [
       "float"
      ]
     },
     "execution_count": 4,
     "metadata": {},
     "output_type": "execute_result"
    }
   ],
   "source": [
    "type(x)"
   ]
  },
  {
   "cell_type": "markdown",
   "id": "1ae26138",
   "metadata": {},
   "source": [
    "##### Variabelen er den samme, men har et annet objekt tilknyttet seg.\n",
    "Det nye objektet/\"instansen\", er av classen/\"objekttypen\": float"
   ]
  },
  {
   "cell_type": "code",
   "execution_count": 6,
   "id": "8cb425c5",
   "metadata": {},
   "outputs": [],
   "source": [
    "#help(float)"
   ]
  },
  {
   "cell_type": "markdown",
   "id": "88954f97",
   "metadata": {},
   "source": [
    "### Variabelen \"y\" av classen \"string\" peker mot ett objekt som inneholder \"Ola\"."
   ]
  },
  {
   "cell_type": "code",
   "execution_count": 58,
   "id": "829146c9",
   "metadata": {},
   "outputs": [],
   "source": [
    "y = \"Ola\"\n",
    "#help(type(y))"
   ]
  },
  {
   "cell_type": "markdown",
   "id": "6f3c1054",
   "metadata": {},
   "source": [
    "### Bonus: F-strings"
   ]
  },
  {
   "cell_type": "code",
   "execution_count": 62,
   "id": "e6559c0e",
   "metadata": {},
   "outputs": [
    {
     "data": {
      "text/plain": [
       "'Ola er 23 år.'"
      ]
     },
     "execution_count": 62,
     "metadata": {},
     "output_type": "execute_result"
    }
   ],
   "source": [
    "f\"{y} er {int(16 + x)} år.\""
   ]
  },
  {
   "cell_type": "code",
   "execution_count": 64,
   "id": "655d7e60",
   "metadata": {},
   "outputs": [],
   "source": [
    "# Muliggjør innbaking av video i notebooken\n",
    "from IPython.display import IFrame"
   ]
  },
  {
   "cell_type": "markdown",
   "id": "5c88a8e2",
   "metadata": {},
   "source": [
    "### Videohjelp: Datatyper"
   ]
  },
  {
   "cell_type": "code",
   "execution_count": 65,
   "id": "27f99ce3",
   "metadata": {
    "jupyter": {
     "source_hidden": true
    }
   },
   "outputs": [
    {
     "data": {
      "text/html": [
       "\n",
       "        <iframe\n",
       "            width=\"640\"\n",
       "            height=\"360\"\n",
       "            src=\"https://web.microsoftstream.com/embed/video/e6fe71ad-0294-44fc-9317-ce01d57c7f10?autoplay=false&showinfo=true\"\n",
       "            frameborder=\"0\"\n",
       "            allowfullscreen\n",
       "        ></iframe>\n",
       "        "
      ],
      "text/plain": [
       "<IPython.lib.display.IFrame at 0x7f6170362220>"
      ]
     },
     "execution_count": 65,
     "metadata": {},
     "output_type": "execute_result"
    }
   ],
   "source": [
    "IFrame(\"https://web.microsoftstream.com/embed/video/e6fe71ad-0294-44fc-9317-ce01d57c7f10?autoplay=false&showinfo=true\", \n",
    "       width = 640, \n",
    "       height = 360)"
   ]
  },
  {
   "cell_type": "markdown",
   "id": "5238456d",
   "metadata": {},
   "source": [
    "### Videohjelp: Logikk, loops, funksjoner    "
   ]
  },
  {
   "cell_type": "code",
   "execution_count": 63,
   "id": "3d377d3d",
   "metadata": {},
   "outputs": [
    {
     "data": {
      "text/html": [
       "\n",
       "        <iframe\n",
       "            width=\"640\"\n",
       "            height=\"360\"\n",
       "            src=\"https://web.microsoftstream.com/embed/video/bab18ae8-30e2-435a-8be7-b13412f5c4bf?autoplay=false&showinfo=true\"\n",
       "            frameborder=\"0\"\n",
       "            allowfullscreen\n",
       "        ></iframe>\n",
       "        "
      ],
      "text/plain": [
       "<IPython.lib.display.IFrame at 0x7f6170362340>"
      ]
     },
     "execution_count": 63,
     "metadata": {},
     "output_type": "execute_result"
    }
   ],
   "source": [
    "IFrame(\"https://web.microsoftstream.com/embed/video/bab18ae8-30e2-435a-8be7-b13412f5c4bf?autoplay=false&showinfo=true\", \n",
    "       width = 640, \n",
    "       height = 360)"
   ]
  },
  {
   "cell_type": "markdown",
   "id": "268fea39",
   "metadata": {},
   "source": [
    "### Logikk\n",
    "- Operators\n",
    "    - != / is not\n",
    "    - == / is\n",
    "    - < / <= smaller than\n",
    "    - \\> / >= greater than\n",
    "    - & / and\n",
    "    - | / or\n"
   ]
  },
  {
   "cell_type": "code",
   "execution_count": 11,
   "id": "9c07b826",
   "metadata": {},
   "outputs": [
    {
     "data": {
      "text/plain": [
       "True"
      ]
     },
     "execution_count": 11,
     "metadata": {},
     "output_type": "execute_result"
    }
   ],
   "source": [
    "z = 5\n",
    "a = z\n",
    "z == a"
   ]
  },
  {
   "cell_type": "code",
   "execution_count": 12,
   "id": "7af7e32e",
   "metadata": {},
   "outputs": [
    {
     "data": {
      "text/plain": [
       "True"
      ]
     },
     "execution_count": 12,
     "metadata": {},
     "output_type": "execute_result"
    }
   ],
   "source": [
    "z is a"
   ]
  },
  {
   "cell_type": "code",
   "execution_count": 110,
   "id": "1dd6e983",
   "metadata": {},
   "outputs": [
    {
     "data": {
      "text/plain": [
       "True"
      ]
     },
     "execution_count": 110,
     "metadata": {},
     "output_type": "execute_result"
    }
   ],
   "source": [
    "b = []\n",
    "c = b.copy()\n",
    "\n",
    "c == b"
   ]
  },
  {
   "cell_type": "code",
   "execution_count": 111,
   "id": "39b57068",
   "metadata": {},
   "outputs": [
    {
     "data": {
      "text/plain": [
       "False"
      ]
     },
     "execution_count": 111,
     "metadata": {},
     "output_type": "execute_result"
    }
   ],
   "source": [
    "# Her er det en forskjell mellom \"==\" og \"is\"\n",
    "c is b"
   ]
  },
  {
   "cell_type": "code",
   "execution_count": 18,
   "id": "288d0582",
   "metadata": {},
   "outputs": [
    {
     "data": {
      "text/plain": [
       "True"
      ]
     },
     "execution_count": 18,
     "metadata": {},
     "output_type": "execute_result"
    }
   ],
   "source": [
    "c == b and z == a"
   ]
  },
  {
   "cell_type": "code",
   "execution_count": 33,
   "id": "6e9ba3e8",
   "metadata": {},
   "outputs": [
    {
     "data": {
      "text/plain": [
       "False"
      ]
     },
     "execution_count": 33,
     "metadata": {},
     "output_type": "execute_result"
    }
   ],
   "source": [
    "False and True"
   ]
  },
  {
   "cell_type": "code",
   "execution_count": 31,
   "id": "1084f4ca",
   "metadata": {},
   "outputs": [
    {
     "data": {
      "text/plain": [
       "True"
      ]
     },
     "execution_count": 31,
     "metadata": {},
     "output_type": "execute_result"
    }
   ],
   "source": [
    "False or True"
   ]
  },
  {
   "cell_type": "markdown",
   "id": "dc266018",
   "metadata": {},
   "source": [
    "### Loops / tab inn\n",
    "\n",
    "- If/Else\n",
    "- For / While\n",
    "- Try / Except"
   ]
  },
  {
   "cell_type": "code",
   "execution_count": 40,
   "id": "d957c38b",
   "metadata": {},
   "outputs": [
    {
     "name": "stdout",
     "output_type": "stream",
     "text": [
      "0\n",
      "1\n",
      "2\n",
      "3\n",
      "4\n"
     ]
    }
   ],
   "source": [
    "# indentation and whitespace\n",
    "if 1:\n",
    "    if []:\n",
    "        ...\n",
    "    else:\n",
    "        for i in range(5):\n",
    "            print(i)"
   ]
  },
  {
   "cell_type": "code",
   "execution_count": 45,
   "id": "046d5652",
   "metadata": {},
   "outputs": [
    {
     "name": "stdout",
     "output_type": "stream",
     "text": [
      "\n",
      "fåkke til det der ass\n"
     ]
    }
   ],
   "source": [
    "try:\n",
    "    x = 54\n",
    "    x = x.replace(\"5\", \"0\")\n",
    "    print(x)\n",
    "except:\n",
    "    print(\"\\nfåkke til det der ass\")"
   ]
  },
  {
   "cell_type": "markdown",
   "id": "80368b11",
   "metadata": {},
   "source": [
    "# Innhold\n",
    "- Datatypes\n",
    "    - String\n",
    "    - Int\n",
    "    - Float"
   ]
  },
  {
   "cell_type": "code",
   "execution_count": 47,
   "id": "75d6b3ca",
   "metadata": {},
   "outputs": [],
   "source": [
    "d = \"5\"\n",
    "#d = 5\n",
    "#d = 5.0\n",
    "#help(type(d))"
   ]
  },
  {
   "cell_type": "markdown",
   "id": "3cd03a6d",
   "metadata": {},
   "source": [
    "### \"iterables\"\n",
    "    - List\n",
    "        - Comprehensions\n",
    "    - Tuple\n",
    "    - Dict\n",
    "    - Sets"
   ]
  },
  {
   "cell_type": "code",
   "execution_count": 53,
   "id": "092c1ef2",
   "metadata": {},
   "outputs": [
    {
     "name": "stdout",
     "output_type": "stream",
     "text": [
      "5\n",
      "<class 'int'>\n",
      "\n",
      "ok\n",
      "<class 'str'>\n",
      "7.0\n",
      "<class 'float'>\n"
     ]
    }
   ],
   "source": [
    "e = [5, '\\nok', 7.0]\n",
    "for f in e:\n",
    "    print(f)\n",
    "    print(type(f))"
   ]
  },
  {
   "cell_type": "code",
   "execution_count": 59,
   "id": "08ab031e",
   "metadata": {},
   "outputs": [
    {
     "data": {
      "text/plain": [
       "[5, 'ok2', 7.0]"
      ]
     },
     "execution_count": 59,
     "metadata": {},
     "output_type": "execute_result"
    }
   ],
   "source": [
    "# Overskriv en verdi i listen med indexing\n",
    "e[1] = \"ok2\"\n",
    "e"
   ]
  },
  {
   "cell_type": "code",
   "execution_count": 63,
   "id": "7e64bb13",
   "metadata": {},
   "outputs": [
    {
     "ename": "TypeError",
     "evalue": "'tuple' object does not support item assignment",
     "output_type": "error",
     "traceback": [
      "\u001b[0;31m---------------------------------------------------------------------------\u001b[0m",
      "\u001b[0;31mTypeError\u001b[0m                                 Traceback (most recent call last)",
      "\u001b[0;32m<ipython-input-63-8fb77929e3e7>\u001b[0m in \u001b[0;36m<module>\u001b[0;34m\u001b[0m\n\u001b[1;32m      1\u001b[0m \u001b[0mg\u001b[0m \u001b[0;34m=\u001b[0m \u001b[0;34m(\u001b[0m\u001b[0;36m205\u001b[0m\u001b[0;34m,\u001b[0m \u001b[0;34m\"verdi3\"\u001b[0m\u001b[0;34m)\u001b[0m\u001b[0;34m\u001b[0m\u001b[0;34m\u001b[0m\u001b[0m\n\u001b[1;32m      2\u001b[0m \u001b[0;31m# Tuples er \"immutable\", og kan derfor ikke overskrives, eller legges til\u001b[0m\u001b[0;34m\u001b[0m\u001b[0;34m\u001b[0m\u001b[0;34m\u001b[0m\u001b[0m\n\u001b[0;32m----> 3\u001b[0;31m \u001b[0mg\u001b[0m\u001b[0;34m[\u001b[0m\u001b[0;36m2\u001b[0m\u001b[0;34m]\u001b[0m \u001b[0;34m=\u001b[0m \u001b[0;34m\"nyverdi\"\u001b[0m\u001b[0;34m\u001b[0m\u001b[0;34m\u001b[0m\u001b[0m\n\u001b[0m",
      "\u001b[0;31mTypeError\u001b[0m: 'tuple' object does not support item assignment"
     ]
    }
   ],
   "source": [
    "g = (205, \"verdi3\")\n",
    "# Tuples er \"immutable\", og kan derfor ikke overskrives, eller legges til\n",
    "g[2] = \"nyverdi\""
   ]
  },
  {
   "cell_type": "code",
   "execution_count": 64,
   "id": "94d05f8d",
   "metadata": {},
   "outputs": [],
   "source": [
    "h = {1: \"En\",\n",
    "    \"23\": range(2,4)\n",
    "    }"
   ]
  },
  {
   "cell_type": "code",
   "execution_count": 65,
   "id": "ee14c285",
   "metadata": {},
   "outputs": [
    {
     "data": {
      "text/plain": [
       "'En'"
      ]
     },
     "execution_count": 65,
     "metadata": {},
     "output_type": "execute_result"
    }
   ],
   "source": [
    "h[1]"
   ]
  },
  {
   "cell_type": "code",
   "execution_count": 67,
   "id": "ce004f27",
   "metadata": {},
   "outputs": [
    {
     "name": "stdout",
     "output_type": "stream",
     "text": [
      "2\n",
      "3\n"
     ]
    }
   ],
   "source": [
    "for i in h[\"23\"]:\n",
    "    print(i)"
   ]
  },
  {
   "cell_type": "markdown",
   "id": "55ffdd8d",
   "metadata": {},
   "source": [
    "### Dataframe (fra pandas)\n",
    "    - Kolonner (Series): object, int64, category"
   ]
  },
  {
   "cell_type": "code",
   "execution_count": 68,
   "id": "030fc2ab",
   "metadata": {},
   "outputs": [],
   "source": [
    "import pandas as pd"
   ]
  },
  {
   "cell_type": "code",
   "execution_count": 72,
   "id": "6ed2500a",
   "metadata": {},
   "outputs": [
    {
     "data": {
      "text/html": [
       "<div>\n",
       "<style scoped>\n",
       "    .dataframe tbody tr th:only-of-type {\n",
       "        vertical-align: middle;\n",
       "    }\n",
       "\n",
       "    .dataframe tbody tr th {\n",
       "        vertical-align: top;\n",
       "    }\n",
       "\n",
       "    .dataframe thead th {\n",
       "        text-align: right;\n",
       "    }\n",
       "</style>\n",
       "<table border=\"1\" class=\"dataframe\">\n",
       "  <thead>\n",
       "    <tr style=\"text-align: right;\">\n",
       "      <th></th>\n",
       "      <th>col1</th>\n",
       "      <th>2</th>\n",
       "      <th>7.0</th>\n",
       "      <th>floats</th>\n",
       "    </tr>\n",
       "  </thead>\n",
       "  <tbody>\n",
       "    <tr>\n",
       "      <th>0</th>\n",
       "      <td>1</td>\n",
       "      <td>En</td>\n",
       "      <td>One</td>\n",
       "      <td>1.0</td>\n",
       "    </tr>\n",
       "    <tr>\n",
       "      <th>1</th>\n",
       "      <td>2</td>\n",
       "      <td>To</td>\n",
       "      <td>Two</td>\n",
       "      <td>2.0</td>\n",
       "    </tr>\n",
       "    <tr>\n",
       "      <th>2</th>\n",
       "      <td>3</td>\n",
       "      <td>Tre</td>\n",
       "      <td>Three</td>\n",
       "      <td>3.0</td>\n",
       "    </tr>\n",
       "  </tbody>\n",
       "</table>\n",
       "</div>"
      ],
      "text/plain": [
       "   col1    2    7.0  floats\n",
       "0     1   En    One     1.0\n",
       "1     2   To    Two     2.0\n",
       "2     3  Tre  Three     3.0"
      ]
     },
     "execution_count": 72,
     "metadata": {},
     "output_type": "execute_result"
    }
   ],
   "source": [
    "j = pd.DataFrame(\n",
    "    {\n",
    "        \"col1\" : [1, 2, 3],\n",
    "        2 : [\"En\", \"To\", \"Tre\"],\n",
    "        7.0 : [\"One\", \"Two\", \"Three\"],\n",
    "        \"floats\" : [1.0, 2.0, 3.0]\n",
    "    }\n",
    ")\n",
    "j"
   ]
  },
  {
   "cell_type": "code",
   "execution_count": 73,
   "id": "0b7629ed",
   "metadata": {},
   "outputs": [
    {
     "data": {
      "text/plain": [
       "col1        int64\n",
       "2          object\n",
       "7.0        object\n",
       "floats    float64\n",
       "dtype: object"
      ]
     },
     "execution_count": 73,
     "metadata": {},
     "output_type": "execute_result"
    }
   ],
   "source": [
    "j.dtypes"
   ]
  },
  {
   "cell_type": "code",
   "execution_count": 82,
   "id": "87230426",
   "metadata": {},
   "outputs": [
    {
     "name": "stdout",
     "output_type": "stream",
     "text": [
      "<class 'pandas.core.series.Series'>\n",
      "0    En\n",
      "Name: 2, dtype: object\n"
     ]
    }
   ],
   "source": [
    "k = j[j['col1'] == 1][2]\n",
    "print(type(k))\n",
    "print(k)"
   ]
  },
  {
   "cell_type": "markdown",
   "id": "31201590",
   "metadata": {},
   "source": [
    "### Operasjoner\n",
    "- Function / Method\n",
    "- Library / Package\n",
    "- Indexing\n",
    "    - index\n",
    "    - key / values\n",
    "    - slicing"
   ]
  },
  {
   "cell_type": "code",
   "execution_count": 86,
   "id": "1fab97d4",
   "metadata": {},
   "outputs": [],
   "source": [
    "def L(l):\n",
    "    return l.lower()"
   ]
  },
  {
   "cell_type": "code",
   "execution_count": 87,
   "id": "1e29ee7a",
   "metadata": {},
   "outputs": [
    {
     "data": {
      "text/plain": [
       "'carl'"
      ]
     },
     "execution_count": 87,
     "metadata": {},
     "output_type": "execute_result"
    }
   ],
   "source": [
    "L(\"Carl\")"
   ]
  },
  {
   "cell_type": "code",
   "execution_count": 51,
   "id": "45674ea2",
   "metadata": {},
   "outputs": [],
   "source": [
    "class textbehandling():\n",
    "    # Dette er en \"docstring\" som tilhører classen som helhet\n",
    "    \"\"\"Her lager vi vår egen class\"\"\"\n",
    "    # Variabler som tilhører classes kalles gjerne \"attributes\" eller \"class variables\"\n",
    "    default_name = \"Ola\"\n",
    "   \n",
    "    # En \"method\" er bare en funksjon som ligger under en class\n",
    "    # Denne har parameteret sitt satt til en default som er definert inne i classen.\n",
    "    def U(u = default_name):\n",
    "        # Dette er en \"docstring\" som tilhører metoden\n",
    "        \"\"\" Vi stjeler bare funksjonen 'upper' fra classen 'string' \"\"\"\n",
    "        return u.upper()"
   ]
  },
  {
   "cell_type": "code",
   "execution_count": 40,
   "id": "6ddd8ef8",
   "metadata": {},
   "outputs": [
    {
     "data": {
      "text/plain": [
       "'CARL'"
      ]
     },
     "execution_count": 40,
     "metadata": {},
     "output_type": "execute_result"
    }
   ],
   "source": [
    "textbehandling.U(\"Carl\")"
   ]
  },
  {
   "cell_type": "code",
   "execution_count": 41,
   "id": "511f4b92",
   "metadata": {},
   "outputs": [
    {
     "data": {
      "text/plain": [
       "'OLA'"
      ]
     },
     "execution_count": 41,
     "metadata": {},
     "output_type": "execute_result"
    }
   ],
   "source": [
    "textbehandling.U()"
   ]
  },
  {
   "cell_type": "code",
   "execution_count": 42,
   "id": "04aee910",
   "metadata": {},
   "outputs": [
    {
     "data": {
      "text/plain": [
       "'Ola'"
      ]
     },
     "execution_count": 42,
     "metadata": {},
     "output_type": "execute_result"
    }
   ],
   "source": [
    "textbehandling.default_name"
   ]
  },
  {
   "cell_type": "code",
   "execution_count": 52,
   "id": "004ca9c9",
   "metadata": {},
   "outputs": [
    {
     "name": "stdout",
     "output_type": "stream",
     "text": [
      "Help on class textbehandling in module __main__:\n",
      "\n",
      "class textbehandling(builtins.object)\n",
      " |  Her lager vi vår egen class\n",
      " |  \n",
      " |  Methods defined here:\n",
      " |  \n",
      " |  U(u='Ola')\n",
      " |      Vi stjeler bare funksjonen 'upper' fra classen 'string'\n",
      " |  \n",
      " |  ----------------------------------------------------------------------\n",
      " |  Data descriptors defined here:\n",
      " |  \n",
      " |  __dict__\n",
      " |      dictionary for instance variables (if defined)\n",
      " |  \n",
      " |  __weakref__\n",
      " |      list of weak references to the object (if defined)\n",
      " |  \n",
      " |  ----------------------------------------------------------------------\n",
      " |  Data and other attributes defined here:\n",
      " |  \n",
      " |  default_name = 'Ola'\n",
      "\n"
     ]
    }
   ],
   "source": [
    "#help(textbehandling.U)\n",
    "help(textbehandling)\n",
    "# Her dukker \"docstringene\" opp"
   ]
  },
  {
   "cell_type": "code",
   "execution_count": 47,
   "id": "c95310f1",
   "metadata": {},
   "outputs": [],
   "source": [
    "# Alle innstallerte lister\n",
    "#!pip list"
   ]
  },
  {
   "cell_type": "code",
   "execution_count": 48,
   "id": "7b703ee4",
   "metadata": {},
   "outputs": [],
   "source": [
    "# Denne er innstallert på dapla, men kanskje ikke ellers\n",
    "from fuzzywuzzy import fuzz\n",
    "# Med den kan man gjøre \"fuzzy string matching\""
   ]
  },
  {
   "cell_type": "code",
   "execution_count": 49,
   "id": "ad5fd099",
   "metadata": {},
   "outputs": [],
   "source": [
    "#help(fuzz)"
   ]
  },
  {
   "cell_type": "code",
   "execution_count": 50,
   "id": "984051b4",
   "metadata": {},
   "outputs": [
    {
     "data": {
      "text/plain": [
       "87"
      ]
     },
     "execution_count": 50,
     "metadata": {},
     "output_type": "execute_result"
    }
   ],
   "source": [
    "fuzz.ratio(\"Carl er glad\", \"Carl er gal\")"
   ]
  },
  {
   "cell_type": "markdown",
   "id": "cf887b7a",
   "metadata": {},
   "source": [
    "### Filosofi"
   ]
  },
  {
   "cell_type": "code",
   "execution_count": null,
   "id": "fe433b96",
   "metadata": {},
   "outputs": [],
   "source": [
    "import this"
   ]
  },
  {
   "cell_type": "markdown",
   "id": "ee6015b3",
   "metadata": {},
   "source": [
    "#### \"PEP\"-er\n",
    "https://www.python.org/dev/peps/pep-0001/"
   ]
  },
  {
   "cell_type": "code",
   "execution_count": null,
   "id": "171318bc",
   "metadata": {},
   "outputs": [],
   "source": []
  }
 ],
 "metadata": {
  "kernelspec": {
   "display_name": "Python 3",
   "language": "python",
   "name": "python3"
  },
  "language_info": {
   "codemirror_mode": {
    "name": "ipython",
    "version": 3
   },
   "file_extension": ".py",
   "mimetype": "text/x-python",
   "name": "python",
   "nbconvert_exporter": "python",
   "pygments_lexer": "ipython3",
   "version": "3.8.10"
  }
 },
 "nbformat": 4,
 "nbformat_minor": 5
}
