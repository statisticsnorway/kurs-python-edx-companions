{
 "cells": [
  {
   "cell_type": "markdown",
   "id": "c97e2a88",
   "metadata": {},
   "source": [
    "### Begreper fra SAS-verden\n",
    "(Vanskelig å google)\n",
    "- \"Kode\"\n",
    "- \"Variabel\"\n",
    "- \"Koble\"\n",
    "- \"Omkoding\"\n",
    "- \"Grupperingsvariabel\""
   ]
  },
  {
   "cell_type": "markdown",
   "id": "6702b9c4",
   "metadata": {},
   "source": [
    "### Begreper fra \"objekt-orientert\"-python-verden\n",
    "\n",
    "Grunnleggende komponenter\n",
    "- Variable\n",
    "- Object\n",
    "- Class (\"everything is a class\")"
   ]
  },
  {
   "cell_type": "code",
   "execution_count": 3,
   "id": "e54bccfd",
   "metadata": {},
   "outputs": [],
   "source": [
    "x = 6"
   ]
  },
  {
   "cell_type": "code",
   "execution_count": 4,
   "id": "6fb391a0",
   "metadata": {},
   "outputs": [
    {
     "data": {
      "text/plain": [
       "int"
      ]
     },
     "execution_count": 4,
     "metadata": {},
     "output_type": "execute_result"
    }
   ],
   "source": [
    "type(x)"
   ]
  },
  {
   "cell_type": "code",
   "execution_count": 6,
   "id": "6415493f",
   "metadata": {},
   "outputs": [],
   "source": [
    "#help(int)"
   ]
  },
  {
   "cell_type": "markdown",
   "id": "ffc4300b",
   "metadata": {},
   "source": [
    "#### En variabel med navn \"x\" av classen \"int\" er registrert som ett objekt med verdien \"6\"."
   ]
  },
  {
   "cell_type": "code",
   "execution_count": 10,
   "id": "19034d0e",
   "metadata": {},
   "outputs": [],
   "source": [
    "y = \"Ola\"\n",
    "#help(type(y))"
   ]
  },
  {
   "cell_type": "markdown",
   "id": "06b2fcf3",
   "metadata": {},
   "source": [
    "#### Variabelen \"y\" av classen \"string\" peker mot ett objekt som inneholder \"Ola\"."
   ]
  },
  {
   "cell_type": "markdown",
   "id": "9a5c9819",
   "metadata": {},
   "source": [
    "### Logikk\n",
    "- Operators\n",
    "    - != / is not\n",
    "    - == / is\n",
    "    - < / <= smaller than\n",
    "    - \\> / >= greater than\n",
    "    - & / and\n",
    "    - | / or\n"
   ]
  },
  {
   "cell_type": "code",
   "execution_count": 11,
   "id": "187a4199",
   "metadata": {},
   "outputs": [
    {
     "data": {
      "text/plain": [
       "True"
      ]
     },
     "execution_count": 11,
     "metadata": {},
     "output_type": "execute_result"
    }
   ],
   "source": [
    "z = 5\n",
    "a = z\n",
    "z == a"
   ]
  },
  {
   "cell_type": "code",
   "execution_count": 12,
   "id": "f33358c7",
   "metadata": {},
   "outputs": [
    {
     "data": {
      "text/plain": [
       "True"
      ]
     },
     "execution_count": 12,
     "metadata": {},
     "output_type": "execute_result"
    }
   ],
   "source": [
    "z is a"
   ]
  },
  {
   "cell_type": "code",
   "execution_count": 15,
   "id": "9feb4ea4",
   "metadata": {},
   "outputs": [
    {
     "data": {
      "text/plain": [
       "True"
      ]
     },
     "execution_count": 15,
     "metadata": {},
     "output_type": "execute_result"
    }
   ],
   "source": [
    "b = []\n",
    "c = b.copy()\n",
    "c == b"
   ]
  },
  {
   "cell_type": "code",
   "execution_count": 17,
   "id": "2307494f",
   "metadata": {},
   "outputs": [
    {
     "data": {
      "text/plain": [
       "False"
      ]
     },
     "execution_count": 17,
     "metadata": {},
     "output_type": "execute_result"
    }
   ],
   "source": [
    "# Her er det en forskjell mellom \"==\" og \"is\"\n",
    "c is b"
   ]
  },
  {
   "cell_type": "code",
   "execution_count": 18,
   "id": "8b491b55",
   "metadata": {},
   "outputs": [
    {
     "data": {
      "text/plain": [
       "True"
      ]
     },
     "execution_count": 18,
     "metadata": {},
     "output_type": "execute_result"
    }
   ],
   "source": [
    "c == b and z == a"
   ]
  },
  {
   "cell_type": "code",
   "execution_count": 33,
   "id": "ad20f351",
   "metadata": {},
   "outputs": [
    {
     "data": {
      "text/plain": [
       "False"
      ]
     },
     "execution_count": 33,
     "metadata": {},
     "output_type": "execute_result"
    }
   ],
   "source": [
    "False and True"
   ]
  },
  {
   "cell_type": "code",
   "execution_count": 31,
   "id": "b8359989",
   "metadata": {},
   "outputs": [
    {
     "data": {
      "text/plain": [
       "True"
      ]
     },
     "execution_count": 31,
     "metadata": {},
     "output_type": "execute_result"
    }
   ],
   "source": [
    "False or True"
   ]
  },
  {
   "cell_type": "markdown",
   "id": "2d2b461e",
   "metadata": {},
   "source": [
    "### Loops / tab inn\n",
    "\n",
    "- If/Else\n",
    "- For / While\n",
    "- Try / Except"
   ]
  },
  {
   "cell_type": "code",
   "execution_count": 40,
   "id": "2236b133",
   "metadata": {},
   "outputs": [
    {
     "name": "stdout",
     "output_type": "stream",
     "text": [
      "0\n",
      "1\n",
      "2\n",
      "3\n",
      "4\n"
     ]
    }
   ],
   "source": [
    "# indentation and whitespace\n",
    "if 1:\n",
    "    if []:\n",
    "        ...\n",
    "    else:\n",
    "        for i in range(5):\n",
    "            print(i)"
   ]
  },
  {
   "cell_type": "code",
   "execution_count": 45,
   "id": "8505859d",
   "metadata": {},
   "outputs": [
    {
     "name": "stdout",
     "output_type": "stream",
     "text": [
      "\n",
      "fåkke til det der ass\n"
     ]
    }
   ],
   "source": [
    "try:\n",
    "    x = 54\n",
    "    x = x.replace(\"5\", \"0\")\n",
    "    print(x)\n",
    "except:\n",
    "    print(\"\\nfåkke til det der ass\")"
   ]
  },
  {
   "cell_type": "markdown",
   "id": "0b88af3f",
   "metadata": {},
   "source": [
    "# Innhold\n",
    "- Datatypes\n",
    "    - String\n",
    "    - Int\n",
    "    - Float"
   ]
  },
  {
   "cell_type": "code",
   "execution_count": 47,
   "id": "0b9c6176",
   "metadata": {},
   "outputs": [],
   "source": [
    "d = \"5\"\n",
    "#d = 5\n",
    "#d = 5.0\n",
    "#help(type(d))"
   ]
  },
  {
   "cell_type": "markdown",
   "id": "61aa588e",
   "metadata": {},
   "source": [
    "### \"iterables\"\n",
    "    - List\n",
    "        - Comprehensions\n",
    "    - Tuple\n",
    "    - Dict\n",
    "    - Sets"
   ]
  },
  {
   "cell_type": "code",
   "execution_count": 53,
   "id": "a2b03cc8",
   "metadata": {},
   "outputs": [
    {
     "name": "stdout",
     "output_type": "stream",
     "text": [
      "5\n",
      "<class 'int'>\n",
      "\n",
      "ok\n",
      "<class 'str'>\n",
      "7.0\n",
      "<class 'float'>\n"
     ]
    }
   ],
   "source": [
    "e = [5, '\\nok', 7.0]\n",
    "for f in e:\n",
    "    print(f)\n",
    "    print(type(f))"
   ]
  },
  {
   "cell_type": "code",
   "execution_count": 59,
   "id": "f93ba810",
   "metadata": {},
   "outputs": [
    {
     "data": {
      "text/plain": [
       "[5, 'ok2', 7.0]"
      ]
     },
     "execution_count": 59,
     "metadata": {},
     "output_type": "execute_result"
    }
   ],
   "source": [
    "# Overskriv en verdi i listen med indexing\n",
    "e[1] = \"ok2\"\n",
    "e"
   ]
  },
  {
   "cell_type": "code",
   "execution_count": 63,
   "id": "693e68e7",
   "metadata": {},
   "outputs": [
    {
     "ename": "TypeError",
     "evalue": "'tuple' object does not support item assignment",
     "output_type": "error",
     "traceback": [
      "\u001b[0;31m---------------------------------------------------------------------------\u001b[0m",
      "\u001b[0;31mTypeError\u001b[0m                                 Traceback (most recent call last)",
      "\u001b[0;32m<ipython-input-63-8fb77929e3e7>\u001b[0m in \u001b[0;36m<module>\u001b[0;34m\u001b[0m\n\u001b[1;32m      1\u001b[0m \u001b[0mg\u001b[0m \u001b[0;34m=\u001b[0m \u001b[0;34m(\u001b[0m\u001b[0;36m205\u001b[0m\u001b[0;34m,\u001b[0m \u001b[0;34m\"verdi3\"\u001b[0m\u001b[0;34m)\u001b[0m\u001b[0;34m\u001b[0m\u001b[0;34m\u001b[0m\u001b[0m\n\u001b[1;32m      2\u001b[0m \u001b[0;31m# Tuples er \"immutable\", og kan derfor ikke overskrives, eller legges til\u001b[0m\u001b[0;34m\u001b[0m\u001b[0;34m\u001b[0m\u001b[0;34m\u001b[0m\u001b[0m\n\u001b[0;32m----> 3\u001b[0;31m \u001b[0mg\u001b[0m\u001b[0;34m[\u001b[0m\u001b[0;36m2\u001b[0m\u001b[0;34m]\u001b[0m \u001b[0;34m=\u001b[0m \u001b[0;34m\"nyverdi\"\u001b[0m\u001b[0;34m\u001b[0m\u001b[0;34m\u001b[0m\u001b[0m\n\u001b[0m",
      "\u001b[0;31mTypeError\u001b[0m: 'tuple' object does not support item assignment"
     ]
    }
   ],
   "source": [
    "g = (205, \"verdi3\")\n",
    "# Tuples er \"immutable\", og kan derfor ikke overskrives, eller legges til\n",
    "g[2] = \"nyverdi\""
   ]
  },
  {
   "cell_type": "code",
   "execution_count": 64,
   "id": "cec66bf1",
   "metadata": {},
   "outputs": [],
   "source": [
    "h = {1: \"En\",\n",
    "    \"23\": range(2,4)\n",
    "    }"
   ]
  },
  {
   "cell_type": "code",
   "execution_count": 65,
   "id": "d68df2fb",
   "metadata": {},
   "outputs": [
    {
     "data": {
      "text/plain": [
       "'En'"
      ]
     },
     "execution_count": 65,
     "metadata": {},
     "output_type": "execute_result"
    }
   ],
   "source": [
    "h[1]"
   ]
  },
  {
   "cell_type": "code",
   "execution_count": 67,
   "id": "99da7bac",
   "metadata": {},
   "outputs": [
    {
     "name": "stdout",
     "output_type": "stream",
     "text": [
      "2\n",
      "3\n"
     ]
    }
   ],
   "source": [
    "for i in h[\"23\"]:\n",
    "    print(i)"
   ]
  },
  {
   "cell_type": "markdown",
   "id": "7272619b",
   "metadata": {},
   "source": [
    "### Dataframe (fra pandas)\n",
    "    - Kolonner (Series): object, int64, category"
   ]
  },
  {
   "cell_type": "code",
   "execution_count": 68,
   "id": "16f0db6a",
   "metadata": {},
   "outputs": [],
   "source": [
    "import pandas as pd"
   ]
  },
  {
   "cell_type": "code",
   "execution_count": 72,
   "id": "2978e156",
   "metadata": {},
   "outputs": [
    {
     "data": {
      "text/html": [
       "<div>\n",
       "<style scoped>\n",
       "    .dataframe tbody tr th:only-of-type {\n",
       "        vertical-align: middle;\n",
       "    }\n",
       "\n",
       "    .dataframe tbody tr th {\n",
       "        vertical-align: top;\n",
       "    }\n",
       "\n",
       "    .dataframe thead th {\n",
       "        text-align: right;\n",
       "    }\n",
       "</style>\n",
       "<table border=\"1\" class=\"dataframe\">\n",
       "  <thead>\n",
       "    <tr style=\"text-align: right;\">\n",
       "      <th></th>\n",
       "      <th>col1</th>\n",
       "      <th>2</th>\n",
       "      <th>7.0</th>\n",
       "      <th>floats</th>\n",
       "    </tr>\n",
       "  </thead>\n",
       "  <tbody>\n",
       "    <tr>\n",
       "      <th>0</th>\n",
       "      <td>1</td>\n",
       "      <td>En</td>\n",
       "      <td>One</td>\n",
       "      <td>1.0</td>\n",
       "    </tr>\n",
       "    <tr>\n",
       "      <th>1</th>\n",
       "      <td>2</td>\n",
       "      <td>To</td>\n",
       "      <td>Two</td>\n",
       "      <td>2.0</td>\n",
       "    </tr>\n",
       "    <tr>\n",
       "      <th>2</th>\n",
       "      <td>3</td>\n",
       "      <td>Tre</td>\n",
       "      <td>Three</td>\n",
       "      <td>3.0</td>\n",
       "    </tr>\n",
       "  </tbody>\n",
       "</table>\n",
       "</div>"
      ],
      "text/plain": [
       "   col1    2    7.0  floats\n",
       "0     1   En    One     1.0\n",
       "1     2   To    Two     2.0\n",
       "2     3  Tre  Three     3.0"
      ]
     },
     "execution_count": 72,
     "metadata": {},
     "output_type": "execute_result"
    }
   ],
   "source": [
    "j = pd.DataFrame(\n",
    "    {\n",
    "        \"col1\" : [1, 2, 3],\n",
    "        2 : [\"En\", \"To\", \"Tre\"],\n",
    "        7.0 : [\"One\", \"Two\", \"Three\"],\n",
    "        \"floats\" : [1.0, 2.0, 3.0]\n",
    "    }\n",
    ")\n",
    "j"
   ]
  },
  {
   "cell_type": "code",
   "execution_count": 73,
   "id": "ddbd7a99",
   "metadata": {},
   "outputs": [
    {
     "data": {
      "text/plain": [
       "col1        int64\n",
       "2          object\n",
       "7.0        object\n",
       "floats    float64\n",
       "dtype: object"
      ]
     },
     "execution_count": 73,
     "metadata": {},
     "output_type": "execute_result"
    }
   ],
   "source": [
    "j.dtypes"
   ]
  },
  {
   "cell_type": "code",
   "execution_count": 82,
   "id": "8ea39139",
   "metadata": {},
   "outputs": [
    {
     "name": "stdout",
     "output_type": "stream",
     "text": [
      "<class 'pandas.core.series.Series'>\n",
      "0    En\n",
      "Name: 2, dtype: object\n"
     ]
    }
   ],
   "source": [
    "k = j[j['col1'] == 1][2]\n",
    "print(type(k))\n",
    "print(k)"
   ]
  },
  {
   "cell_type": "markdown",
   "id": "9efb49d5",
   "metadata": {},
   "source": [
    "### Operasjoner\n",
    "- Function / Method\n",
    "- Library / Package\n",
    "- Indexing\n",
    "    - index\n",
    "    - key / values\n",
    "    - slicing"
   ]
  },
  {
   "cell_type": "code",
   "execution_count": 86,
   "id": "0086f3a7",
   "metadata": {},
   "outputs": [],
   "source": [
    "def L(l):\n",
    "    return l.lower()"
   ]
  },
  {
   "cell_type": "code",
   "execution_count": 87,
   "id": "efbe8c1e",
   "metadata": {},
   "outputs": [
    {
     "data": {
      "text/plain": [
       "'carl'"
      ]
     },
     "execution_count": 87,
     "metadata": {},
     "output_type": "execute_result"
    }
   ],
   "source": [
    "L(\"Carl\")"
   ]
  },
  {
   "cell_type": "code",
   "execution_count": 89,
   "id": "afd527c2",
   "metadata": {},
   "outputs": [],
   "source": [
    "class textbehandling():\n",
    "    # En \"method\" er bare en funksjon som ligger under en class\n",
    "    def U(u):\n",
    "        return u.upper()"
   ]
  },
  {
   "cell_type": "code",
   "execution_count": 91,
   "id": "902fe501",
   "metadata": {},
   "outputs": [
    {
     "data": {
      "text/plain": [
       "'CARL'"
      ]
     },
     "execution_count": 91,
     "metadata": {},
     "output_type": "execute_result"
    }
   ],
   "source": [
    "textbehandling.U(\"Carl\")"
   ]
  },
  {
   "cell_type": "code",
   "execution_count": 90,
   "id": "2654dde9",
   "metadata": {},
   "outputs": [
    {
     "name": "stdout",
     "output_type": "stream",
     "text": [
      "Help on function U in module __main__:\n",
      "\n",
      "U(u)\n",
      "    # En \"method\" er bare en funksjon som ligger under en class\n",
      "\n"
     ]
    }
   ],
   "source": [
    "help(textbehandling.U)"
   ]
  },
  {
   "cell_type": "code",
   "execution_count": 106,
   "id": "ec62e9a0",
   "metadata": {},
   "outputs": [],
   "source": [
    "# Alle innstallerte lister\n",
    "#pip list"
   ]
  },
  {
   "cell_type": "code",
   "execution_count": 107,
   "id": "cae96a30",
   "metadata": {},
   "outputs": [],
   "source": [
    "# Denne er innstallert på dapla, men kanskje ikke ellers\n",
    "from fuzzywuzzy import fuzz\n",
    "# Med den kan man gjøre \"fuzzy string matching\""
   ]
  },
  {
   "cell_type": "code",
   "execution_count": 108,
   "id": "1ae5a7ba",
   "metadata": {},
   "outputs": [],
   "source": [
    "#help(fuzz)"
   ]
  },
  {
   "cell_type": "code",
   "execution_count": 109,
   "id": "bc446de3",
   "metadata": {},
   "outputs": [
    {
     "data": {
      "text/plain": [
       "87"
      ]
     },
     "execution_count": 109,
     "metadata": {},
     "output_type": "execute_result"
    }
   ],
   "source": [
    "fuzz.ratio(\"Carl er glad\", \"Carl er gal\")"
   ]
  },
  {
   "cell_type": "markdown",
   "id": "146904cf",
   "metadata": {},
   "source": [
    "### Filosofi"
   ]
  },
  {
   "cell_type": "code",
   "execution_count": null,
   "id": "32e510c9",
   "metadata": {},
   "outputs": [],
   "source": [
    "import this"
   ]
  },
  {
   "cell_type": "markdown",
   "id": "0710a5ad",
   "metadata": {},
   "source": [
    "#### \"PEP\"-er\n",
    "https://www.python.org/dev/peps/pep-0001/"
   ]
  },
  {
   "cell_type": "code",
   "execution_count": null,
   "id": "ecbcf6dc",
   "metadata": {},
   "outputs": [],
   "source": []
  }
 ],
 "metadata": {
  "kernelspec": {
   "display_name": "Python 3",
   "language": "python",
   "name": "python3"
  },
  "language_info": {
   "codemirror_mode": {
    "name": "ipython",
    "version": 3
   },
   "file_extension": ".py",
   "mimetype": "text/x-python",
   "name": "python",
   "nbconvert_exporter": "python",
   "pygments_lexer": "ipython3",
   "version": "3.8.10"
  }
 },
 "nbformat": 4,
 "nbformat_minor": 5
}
