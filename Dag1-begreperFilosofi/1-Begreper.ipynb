{
 "cells": [
  {
   "cell_type": "markdown",
   "id": "cfddc0b3",
   "metadata": {},
   "source": [
    "### Begreper fra SAS-verden\n",
    "Vi bruker veldig mange begreper i SSB.\n",
    "noen av disse kommer direkte fra SAS som kodespråk.\n",
    "Andre kommer som en følge av handlinger vi har gjordt lenge,\n",
    "og utviklet våre lokale stamme språk og sleng uttrykk.\n",
    "Noen av disse har veldig tydelige betydninger,\n",
    "mens andre ord kan ha fått forskjellige betydninger i\n",
    "forskjellig seksjoenr. Når personer fra forskjellige stamme språk skal prøve og kommunisere\n",
    "kan dette føre til missforståelser og uklarheter. Av den grunn har vi sammlet noen av de\n",
    "vanligste synderne på dette området, og gjordt ett forsøk på å klarifisere dem.\n",
    "\n",
    "(Vanskelig å google)\\\n",
    "Hvilke analoger har vi?\n",
    "- \"Kode\"\n",
    "- \"Variabel\"\n",
    "- \"PROC\" = Procedure = Function ?\n",
    "- \"Macrovariabel\"\n",
    "- \"Macroer\"\n",
    "- \"Koble\"\n",
    "- \"Omkoding\"\n",
    "- \"Grupperingsvariabel\" - \"Formater\"\n",
    "- \"Datatyper\": Bare \"karakter\" og \"numerisk\"?"
   ]
  },
  {
   "cell_type": "markdown",
   "source": [
    "#### \"kode\"\n",
    "Begrepet er ikke det enkleste og oversette ved googling da det i\n",
    "SSB omfatter både ett verb og ett subjekt. Verbet og kode kan i seg selv deles inn i to\n",
    "det og oversette fra en numerisk verdi som `0`og `1` til ett tekstlig lable som `Mann` og\n",
    "`kvinne`.\n",
    "\n",
    "Det kan imidlertid også omfatte handling av å skrive SAS kode, for ett produksjons løp.\n",
    "Mengden og kompleksiteten av \"koding\" kan variere. Noen har også adre småbegreper for\n",
    "mindre oppgaver som endring av `%LET` makroer. Eller større oppgaver som å lage ett nytt\n",
    "produksjons løp eller en omskriving. men sammle begrepet er `Koding`.\n",
    "\n",
    "Når det kommer til subjektet \"kode\" så splitter dette langs de samme linjene som verbet.\n",
    "i `1= mann` så betegens 1-tellet noen ganger som koden for mann. SAS programmene inneholder\n",
    "kode.\n",
    "\n",
    "For å unngå forvirringer så refererer vi til begrepet \"kode\" som den funksjonelle teksten du skriver\n",
    "som eksekveres, enten i SAS, R, Python eller annet programmeringsspråk.\n",
    "Andre områder som bruker begrepet \"kode\" bør heller gjøres mer spesifikk eller endres,\n",
    "feks. \"svaralternativ\" eller \"tallkode i kategorisk kolonne\" osv."
   ],
   "metadata": {
    "collapsed": false,
    "pycharm": {
     "name": "#%% md\n"
    }
   }
  },
  {
   "cell_type": "markdown",
   "source": [
    "#### \"Variabel\"\n",
    "Variabel er enda ett kjært barn. mange har sterke forhold til hva en variabel er og hvordan den skal oppføre seg.\n",
    "I akkuratt dette tilfelelt så er det meget sannsynlig store behov for oppklaringer da en variabel er noe helt\n",
    "annet når man søker opp på internett for å lære seg Python eller R, en det er når vi snakker om det i SSB.\n",
    "\n",
    "I SSB tenker vi ofte op en variabel som en kolonne i ett datasett. Kjønn er en variabel i ett data sett.\n",
    "Org_nummer er en variabel. Ett alternativ i ett skjema er også blidt omtalt som en variabel.\n",
    "\n",
    "Noen omtaler det som fylles inn ette `%LET` som en variabel. Disse er de som er nærmest bruken av orden Variabel\n",
    "I R og python verden så er en Variabel det som ligger forran likhets tegnet\n",
    "```\n",
    "variabel = 30\n",
    "variabel = \"Hello World\"\n",
    "\n",
    "```"
   ],
   "metadata": {
    "collapsed": false,
    "pycharm": {
     "name": "#%% md\n"
    }
   }
  },
  {
   "cell_type": "markdown",
   "source": [
    "#### \"PROC\"\n",
    "Dette er ett begrep som kommer direkte fra SAS verdenen og på mange måter er veldig tett knyttet til det å jobbe\n",
    "SAS som programerings språk opperer med prosedyrer disse kallet med prefixen `PROC`. I SAS kjøres disse procedyrene\n",
    "i rekkefølge fra første til siste.\n",
    "\n",
    "Dette konseptet med prosedyrer er ikke tilstedet i hverken Python eller R. \n",
    "Begge disse programerings språkene\n"
   ],
   "metadata": {
    "collapsed": false,
    "pycharm": {
     "name": "#%% md\n"
    }
   }
  },
  {
   "cell_type": "markdown",
   "source": [
    "#### \"Macroer\"\n",
    "I dette tilfellet er det som regel snakk om makroer i SAS. Dette er på mange måter ett eget programerings språk\n",
    "innen SAS økosystemet. Makroer er blokker av kode som kan kjøres over prosesser og systemer.\n",
    "\n"
   ],
   "metadata": {
    "collapsed": false,
    "pycharm": {
     "name": "#%% md\n"
    }
   }
  },
  {
   "cell_type": "markdown",
   "source": [
    "#### \"Macrovariabel\"\n",
    "Makro variabler er enda en av de begrepene som deler navn med en ting, men er noe annnet.\n",
    "Makro variabler i SSB er ofte den verdiern du tilskriver til entne `%LET` eller det du mater inn i en SAS macro\n",
    "funksjon.\n",
    "\n",
    "Ett annet bruksområde ordet brukes til tider er i situasjoner der flere variabler (kollonner)\n",
    "i ett data sett er aggregert til en høyere nivåes informasjon."
   ],
   "metadata": {
    "collapsed": false,
    "pycharm": {
     "name": "#%% md\n"
    }
   }
  },
  {
   "cell_type": "markdown",
   "source": [
    "#### \"Koble\"\n",
    "Dette er ett av de mest forvirrende ordet vi har i stattistikk produksjon i SSB.\n",
    "I sitt mest snevre format brukes dette for en `merge` eller `join`.\n",
    "I andre tilfeller refferer det til handlingen og gjøre ett oppslag mot en korrespondanse tabell.\n",
    "Det har også vært brukt for å teste og se hvor mange rader som ineholder ett gitt felt.\n",
    "Vi har til og med hørt det brukt som en betegnesle på  det og lage ett produksjons løp.\n",
    "\n",
    "Dette mangfoldet av bruksområdet har gjordt dette til ett megett forvirrende begrep.\n",
    "Fremmover kommer vi kun til å bruke dette ordet for å beskrive handlingen å `merge` eller `joine`to datasett sammen."
   ],
   "metadata": {
    "collapsed": false,
    "pycharm": {
     "name": "#%% md\n"
    }
   }
  },
  {
   "cell_type": "markdown",
   "source": [
    "#### \"Omkoding\"\n",
    "Omkoding som begrep omfatter en rekke transformasjone av data. mor min (Simen) del så omfatter begrepet det å bytte\n",
    "fra en formalisert kode liste til en annen. I SSB så brukes dette begrepet også om det å endre verdien i\n",
    "en gitt celle i datasettet. Det kan også bety at man lager en ny kolonne med en ny verdi bassert på\n",
    "den første kolonne.\n",
    "\n",
    "Det har også vært brukt for å beskrive overgangen fra nummerisk verdi til en \"label\"\n",
    "som innimellom også betegnes som kobling."
   ],
   "metadata": {
    "collapsed": false,
    "pycharm": {
     "name": "#%% md\n"
    }
   }
  },
  {
   "cell_type": "markdown",
   "source": [
    "#### \"Grupperingsvariabel\" - \"Formater\"\n",
    "I Statistikk produksjon er Grupperings variabler kolonner som inneholder kattegoriske variabler som danner\n",
    "naturlig sorterings elementer. Det vil si at dersom du kjører en `groupBy` på disse variabelene får du\n",
    "et dattasett med en logisk aggrigerings grad.\n",
    "\n",
    "Teoretisk sett så kan nesten alle kolonner brukes som grupperings variabler.\n",
    "Men det er ikke det gir mening og gruppere på.\n",
    "Ett eksempel er at det har lite hensikt og gruppere direkte på en persons årslønn, da variasjonen i lønninger\n",
    "forårsaker store mengder støy i data settet. Det er da mye bedre og lage en kattegorisk kolonne med\n",
    "lønns grupperinger, dette er da grupperings variableen for årslønn."
   ],
   "metadata": {
    "collapsed": false,
    "pycharm": {
     "name": "#%% md\n"
    }
   }
  },
  {
   "cell_type": "markdown",
   "source": [
    "#### \"Datatyper\": Bare \"karakter\" og \"numerisk\"?\n",
    "SAS opperer kun med to data typer. Det er `karakter`og `numerisk`. En numerisk kolonne kan kun inneholde verdiene\n",
    "`0123456789.,` det er disse kolonnene man kan gjennomføre mattematiksk beregninger over.\n",
    "\n",
    "`karakter`kolonner kan inne holde alle mulige tegn, og vil fra SAS sin side bli behandlet som kattegoriske.\n",
    "Det vil si at det ikke gir mening og de gjennomsnitt verdien på navn (`karakter`), men det er fult mulig\n",
    "og ta gjennomsnittet på høyde (`ummerisk`)\n",
    "\n",
    "Mer generiske programerings språk som R og Pyhon oppererer på langt flere data typer, som gjrø det mulig og\n",
    "spessifisere oppførselen til disse på en helt annen måte. men mer om det senere."
   ],
   "metadata": {
    "collapsed": false,
    "pycharm": {
     "name": "#%% md\n"
    }
   }
  },
  {
   "cell_type": "markdown",
   "source": [
    "Det vi forsøker og få frem at det i SSB er mange utrykk som har flere, og ofte forskjellige betydninger.\n",
    "Dette er med på skape en god del forvirringer og usikkerheter blandt brukerne.\n",
    "I tillegg så er flere av disse begrepen brukt i opplærings øyemed, men da ganske ofte ikke med de\n",
    "betydningen vi er blidt vandt til fra hverdagen i SSB."
   ],
   "metadata": {
    "collapsed": false,
    "pycharm": {
     "name": "#%% md\n"
    }
   }
  },
  {
   "cell_type": "markdown",
   "source": [
    "### Begreper fra \"objekt-orientert\"-python-verden\n",
    "\n",
    "Grunnleggende komponenter\n",
    "- Variable\n",
    "- Object (\"everything is an object\")\n",
    "- Class"
   ],
   "metadata": {
    "collapsed": false
   }
  },
  {
   "cell_type": "markdown",
   "id": "a733a5ee",
   "metadata": {},
   "source": [
    "### En variabel med navn \"x\" av classen \"int\" er registrert som ett objekt med verdien \"6\"."
   ]
  },
  {
   "cell_type": "code",
   "execution_count": 3,
   "id": "c4b77a62",
   "metadata": {},
   "outputs": [],
   "source": [
    "x = 6"
   ]
  },
  {
   "cell_type": "code",
   "execution_count": 4,
   "id": "ce0c7f6d",
   "metadata": {},
   "outputs": [
    {
     "data": {
      "text/plain": [
       "int"
      ]
     },
     "execution_count": 4,
     "metadata": {},
     "output_type": "execute_result"
    }
   ],
   "source": [
    "type(x)"
   ]
  },
  {
   "cell_type": "code",
   "execution_count": 6,
   "id": "f6964ffd",
   "metadata": {},
   "outputs": [],
   "source": [
    "#help(int)"
   ]
  },
  {
   "cell_type": "markdown",
   "id": "394665f8",
   "metadata": {},
   "source": [
    "##### Vi overskriver variabelen \"x\" med ett objekt av classen \"float\" med verdi \"7.0\""
   ]
  },
  {
   "cell_type": "code",
   "execution_count": 3,
   "id": "97a2b3c8",
   "metadata": {},
   "outputs": [],
   "source": [
    "x = 7.0"
   ]
  },
  {
   "cell_type": "code",
   "execution_count": 4,
   "id": "d5d640d7",
   "metadata": {},
   "outputs": [
    {
     "data": {
      "text/plain": [
       "float"
      ]
     },
     "execution_count": 4,
     "metadata": {},
     "output_type": "execute_result"
    }
   ],
   "source": [
    "type(x)"
   ]
  },
  {
   "cell_type": "markdown",
   "id": "421a2d1e",
   "metadata": {},
   "source": [
    "##### Variabelen er den samme, men har et annet objekt tilknyttet seg.\n",
    "Det nye objektet/\"instansen\", er av classen/\"objekttypen\": float"
   ]
  },
  {
   "cell_type": "code",
   "execution_count": 6,
   "id": "79cd359f",
   "metadata": {},
   "outputs": [],
   "source": [
    "#help(float)"
   ]
  },
  {
   "cell_type": "markdown",
   "id": "7103ec64",
   "metadata": {},
   "source": [
    "### Variabelen \"y\" av classen \"string\" peker mot ett objekt som inneholder \"Ola\"."
   ]
  },
  {
   "cell_type": "code",
   "execution_count": 58,
   "id": "44f8e180",
   "metadata": {},
   "outputs": [],
   "source": [
    "y = \"Ola\"\n",
    "#help(type(y))"
   ]
  },
  {
   "cell_type": "markdown",
   "id": "eacd4f8d",
   "metadata": {},
   "source": [
    "### Bonus: F-strings"
   ]
  },
  {
   "cell_type": "code",
   "execution_count": 62,
   "id": "2b0af451",
   "metadata": {},
   "outputs": [
    {
     "data": {
      "text/plain": [
       "'Ola er 23 år.'"
      ]
     },
     "execution_count": 62,
     "metadata": {},
     "output_type": "execute_result"
    }
   ],
   "source": [
    "f\"{y} er {int(16 + x)} år.\""
   ]
  },
  {
   "cell_type": "markdown",
   "id": "d23ee2cf",
   "metadata": {},
   "source": [
    "### Logikk\n",
    "- Operators\n",
    "    - != / is not\n",
    "    - == / is\n",
    "    - < / <= smaller than\n",
    "    - \\> / >= greater than\n",
    "    - & / and\n",
    "    - | / or\n"
   ]
  },
  {
   "cell_type": "code",
   "execution_count": 11,
   "id": "adae5ba4",
   "metadata": {},
   "outputs": [
    {
     "data": {
      "text/plain": [
       "True"
      ]
     },
     "execution_count": 11,
     "metadata": {},
     "output_type": "execute_result"
    }
   ],
   "source": [
    "z = 5\n",
    "a = z\n",
    "z == a"
   ]
  },
  {
   "cell_type": "code",
   "execution_count": 12,
   "id": "9e7e0458",
   "metadata": {},
   "outputs": [
    {
     "data": {
      "text/plain": [
       "True"
      ]
     },
     "execution_count": 12,
     "metadata": {},
     "output_type": "execute_result"
    }
   ],
   "source": [
    "z is a"
   ]
  },
  {
   "cell_type": "code",
   "execution_count": 110,
   "id": "2719c508",
   "metadata": {},
   "outputs": [
    {
     "data": {
      "text/plain": [
       "True"
      ]
     },
     "execution_count": 110,
     "metadata": {},
     "output_type": "execute_result"
    }
   ],
   "source": [
    "b = []\n",
    "c = b.copy()\n",
    "\n",
    "c == b"
   ]
  },
  {
   "cell_type": "code",
   "execution_count": 111,
   "id": "a7a2656e",
   "metadata": {},
   "outputs": [
    {
     "data": {
      "text/plain": [
       "False"
      ]
     },
     "execution_count": 111,
     "metadata": {},
     "output_type": "execute_result"
    }
   ],
   "source": [
    "# Her er det en forskjell mellom \"==\" og \"is\"\n",
    "c is b"
   ]
  },
  {
   "cell_type": "code",
   "execution_count": 18,
   "id": "e6df2bbc",
   "metadata": {},
   "outputs": [
    {
     "data": {
      "text/plain": [
       "True"
      ]
     },
     "execution_count": 18,
     "metadata": {},
     "output_type": "execute_result"
    }
   ],
   "source": [
    "c == b and z == a"
   ]
  },
  {
   "cell_type": "code",
   "execution_count": 33,
   "id": "c53c4481",
   "metadata": {},
   "outputs": [
    {
     "data": {
      "text/plain": [
       "False"
      ]
     },
     "execution_count": 33,
     "metadata": {},
     "output_type": "execute_result"
    }
   ],
   "source": [
    "False and True"
   ]
  },
  {
   "cell_type": "code",
   "execution_count": 31,
   "id": "be4bd84d",
   "metadata": {},
   "outputs": [
    {
     "data": {
      "text/plain": [
       "True"
      ]
     },
     "execution_count": 31,
     "metadata": {},
     "output_type": "execute_result"
    }
   ],
   "source": [
    "False or True"
   ]
  },
  {
   "cell_type": "markdown",
   "id": "c42636f6",
   "metadata": {},
   "source": [
    "### Loops / tab inn\n",
    "\n",
    "- If/Else\n",
    "- For / While\n",
    "- Try / Except"
   ]
  },
  {
   "cell_type": "code",
   "execution_count": 40,
   "id": "008ae04a",
   "metadata": {},
   "outputs": [
    {
     "name": "stdout",
     "output_type": "stream",
     "text": [
      "0\n",
      "1\n",
      "2\n",
      "3\n",
      "4\n"
     ]
    }
   ],
   "source": [
    "# indentation and whitespace\n",
    "if 1:\n",
    "    if []:\n",
    "        ...\n",
    "    else:\n",
    "        for i in range(5):\n",
    "            print(i)"
   ]
  },
  {
   "cell_type": "code",
   "execution_count": 45,
   "id": "ef945158",
   "metadata": {},
   "outputs": [
    {
     "name": "stdout",
     "output_type": "stream",
     "text": [
      "\n",
      "fåkke til det der ass\n"
     ]
    }
   ],
   "source": [
    "try:\n",
    "    x = 54\n",
    "    x = x.replace(\"5\", \"0\")\n",
    "    print(x)\n",
    "except:\n",
    "    print(\"\\nfåkke til det der ass\")"
   ]
  },
  {
   "cell_type": "markdown",
   "id": "b29304a4",
   "metadata": {},
   "source": [
    "# Innhold\n",
    "- Datatypes\n",
    "    - String\n",
    "    - Int\n",
    "    - Float"
   ]
  },
  {
   "cell_type": "code",
   "execution_count": 47,
   "id": "51a72959",
   "metadata": {},
   "outputs": [],
   "source": [
    "d = \"5\"\n",
    "#d = 5\n",
    "#d = 5.0\n",
    "#help(type(d))"
   ]
  },
  {
   "cell_type": "markdown",
   "id": "b7c9098b",
   "metadata": {},
   "source": [
    "### \"iterables\"\n",
    "    - List\n",
    "        - Comprehensions\n",
    "    - Tuple\n",
    "    - Dict\n",
    "    - Sets"
   ]
  },
  {
   "cell_type": "code",
   "execution_count": 53,
   "id": "b77399c9",
   "metadata": {},
   "outputs": [
    {
     "name": "stdout",
     "output_type": "stream",
     "text": [
      "5\n",
      "<class 'int'>\n",
      "\n",
      "ok\n",
      "<class 'str'>\n",
      "7.0\n",
      "<class 'float'>\n"
     ]
    }
   ],
   "source": [
    "e = [5, '\\nok', 7.0]\n",
    "for f in e:\n",
    "    print(f)\n",
    "    print(type(f))"
   ]
  },
  {
   "cell_type": "code",
   "execution_count": 59,
   "id": "89aafd9a",
   "metadata": {},
   "outputs": [
    {
     "data": {
      "text/plain": [
       "[5, 'ok2', 7.0]"
      ]
     },
     "execution_count": 59,
     "metadata": {},
     "output_type": "execute_result"
    }
   ],
   "source": [
    "# Overskriv en verdi i listen med indexing\n",
    "e[1] = \"ok2\"\n",
    "e"
   ]
  },
  {
   "cell_type": "code",
   "execution_count": 63,
   "id": "10c8cec4",
   "metadata": {},
   "outputs": [
    {
     "ename": "TypeError",
     "evalue": "'tuple' object does not support item assignment",
     "output_type": "error",
     "traceback": [
      "\u001B[0;31m---------------------------------------------------------------------------\u001B[0m",
      "\u001B[0;31mTypeError\u001B[0m                                 Traceback (most recent call last)",
      "\u001B[0;32m<ipython-input-63-8fb77929e3e7>\u001B[0m in \u001B[0;36m<module>\u001B[0;34m\u001B[0m\n\u001B[1;32m      1\u001B[0m \u001B[0mg\u001B[0m \u001B[0;34m=\u001B[0m \u001B[0;34m(\u001B[0m\u001B[0;36m205\u001B[0m\u001B[0;34m,\u001B[0m \u001B[0;34m\"verdi3\"\u001B[0m\u001B[0;34m)\u001B[0m\u001B[0;34m\u001B[0m\u001B[0;34m\u001B[0m\u001B[0m\n\u001B[1;32m      2\u001B[0m \u001B[0;31m# Tuples er \"immutable\", og kan derfor ikke overskrives, eller legges til\u001B[0m\u001B[0;34m\u001B[0m\u001B[0;34m\u001B[0m\u001B[0;34m\u001B[0m\u001B[0m\n\u001B[0;32m----> 3\u001B[0;31m \u001B[0mg\u001B[0m\u001B[0;34m[\u001B[0m\u001B[0;36m2\u001B[0m\u001B[0;34m]\u001B[0m \u001B[0;34m=\u001B[0m \u001B[0;34m\"nyverdi\"\u001B[0m\u001B[0;34m\u001B[0m\u001B[0;34m\u001B[0m\u001B[0m\n\u001B[0m",
      "\u001B[0;31mTypeError\u001B[0m: 'tuple' object does not support item assignment"
     ]
    }
   ],
   "source": [
    "g = (205, \"verdi3\")\n",
    "# Tuples er \"immutable\", og kan derfor ikke overskrives, eller legges til\n",
    "g[2] = \"nyverdi\""
   ]
  },
  {
   "cell_type": "code",
   "execution_count": 64,
   "id": "4c271a75",
   "metadata": {},
   "outputs": [],
   "source": [
    "h = {1: \"En\",\n",
    "    \"23\": range(2,4)\n",
    "    }"
   ]
  },
  {
   "cell_type": "code",
   "execution_count": 65,
   "id": "e0024008",
   "metadata": {},
   "outputs": [
    {
     "data": {
      "text/plain": [
       "'En'"
      ]
     },
     "execution_count": 65,
     "metadata": {},
     "output_type": "execute_result"
    }
   ],
   "source": [
    "h[1]"
   ]
  },
  {
   "cell_type": "code",
   "execution_count": 67,
   "id": "d9abe8fa",
   "metadata": {},
   "outputs": [
    {
     "name": "stdout",
     "output_type": "stream",
     "text": [
      "2\n",
      "3\n"
     ]
    }
   ],
   "source": [
    "for i in h[\"23\"]:\n",
    "    print(i)"
   ]
  },
  {
   "cell_type": "markdown",
   "id": "821a279e",
   "metadata": {},
   "source": [
    "### Dataframe (fra pandas)\n",
    "    - Kolonner (Series): object, int64, category"
   ]
  },
  {
   "cell_type": "code",
   "execution_count": 68,
   "id": "3bb1230f",
   "metadata": {},
   "outputs": [],
   "source": [
    "import pandas as pd"
   ]
  },
  {
   "cell_type": "code",
   "execution_count": 72,
   "id": "676d1a37",
   "metadata": {},
   "outputs": [
    {
     "data": {
      "text/html": [
       "<div>\n",
       "<style scoped>\n",
       "    .dataframe tbody tr th:only-of-type {\n",
       "        vertical-align: middle;\n",
       "    }\n",
       "\n",
       "    .dataframe tbody tr th {\n",
       "        vertical-align: top;\n",
       "    }\n",
       "\n",
       "    .dataframe thead th {\n",
       "        text-align: right;\n",
       "    }\n",
       "</style>\n",
       "<table border=\"1\" class=\"dataframe\">\n",
       "  <thead>\n",
       "    <tr style=\"text-align: right;\">\n",
       "      <th></th>\n",
       "      <th>col1</th>\n",
       "      <th>2</th>\n",
       "      <th>7.0</th>\n",
       "      <th>floats</th>\n",
       "    </tr>\n",
       "  </thead>\n",
       "  <tbody>\n",
       "    <tr>\n",
       "      <th>0</th>\n",
       "      <td>1</td>\n",
       "      <td>En</td>\n",
       "      <td>One</td>\n",
       "      <td>1.0</td>\n",
       "    </tr>\n",
       "    <tr>\n",
       "      <th>1</th>\n",
       "      <td>2</td>\n",
       "      <td>To</td>\n",
       "      <td>Two</td>\n",
       "      <td>2.0</td>\n",
       "    </tr>\n",
       "    <tr>\n",
       "      <th>2</th>\n",
       "      <td>3</td>\n",
       "      <td>Tre</td>\n",
       "      <td>Three</td>\n",
       "      <td>3.0</td>\n",
       "    </tr>\n",
       "  </tbody>\n",
       "</table>\n",
       "</div>"
      ],
      "text/plain": [
       "   col1    2    7.0  floats\n",
       "0     1   En    One     1.0\n",
       "1     2   To    Two     2.0\n",
       "2     3  Tre  Three     3.0"
      ]
     },
     "execution_count": 72,
     "metadata": {},
     "output_type": "execute_result"
    }
   ],
   "source": [
    "j = pd.DataFrame(\n",
    "    {\n",
    "        \"col1\" : [1, 2, 3],\n",
    "        2 : [\"En\", \"To\", \"Tre\"],\n",
    "        7.0 : [\"One\", \"Two\", \"Three\"],\n",
    "        \"floats\" : [1.0, 2.0, 3.0]\n",
    "    }\n",
    ")\n",
    "j"
   ]
  },
  {
   "cell_type": "code",
   "execution_count": 73,
   "id": "ccde813f",
   "metadata": {},
   "outputs": [
    {
     "data": {
      "text/plain": [
       "col1        int64\n",
       "2          object\n",
       "7.0        object\n",
       "floats    float64\n",
       "dtype: object"
      ]
     },
     "execution_count": 73,
     "metadata": {},
     "output_type": "execute_result"
    }
   ],
   "source": [
    "j.dtypes"
   ]
  },
  {
   "cell_type": "code",
   "execution_count": 82,
   "id": "a13c270b",
   "metadata": {},
   "outputs": [
    {
     "name": "stdout",
     "output_type": "stream",
     "text": [
      "<class 'pandas.core.series.Series'>\n",
      "0    En\n",
      "Name: 2, dtype: object\n"
     ]
    }
   ],
   "source": [
    "k = j[j['col1'] == 1][2]\n",
    "print(type(k))\n",
    "print(k)"
   ]
  },
  {
   "cell_type": "markdown",
   "id": "705a39a7",
   "metadata": {},
   "source": [
    "### Operasjoner\n",
    "- Function / Method\n",
    "- Library / Package\n",
    "- Indexing\n",
    "    - index\n",
    "    - key / values\n",
    "    - slicing"
   ]
  },
  {
   "cell_type": "code",
   "execution_count": 86,
   "id": "4d1f2080",
   "metadata": {},
   "outputs": [],
   "source": [
    "def L(l):\n",
    "    return l.lower()"
   ]
  },
  {
   "cell_type": "code",
   "execution_count": 87,
   "id": "c9fc884c",
   "metadata": {},
   "outputs": [
    {
     "data": {
      "text/plain": [
       "'carl'"
      ]
     },
     "execution_count": 87,
     "metadata": {},
     "output_type": "execute_result"
    }
   ],
   "source": [
    "L(\"Carl\")"
   ]
  },
  {
   "cell_type": "code",
   "execution_count": 51,
   "id": "ea807b36",
   "metadata": {},
   "outputs": [],
   "source": [
    "class textbehandling():\n",
    "    # Dette er en \"docstring\" som tilhører classen som helhet\n",
    "    \"\"\"Her lager vi vår egen class\"\"\"\n",
    "    # Variabler som tilhører classes kalles gjerne \"attributes\" eller \"class variables\"\n",
    "    default_name = \"Ola\"\n",
    "   \n",
    "    # En \"method\" er bare en funksjon som ligger under en class\n",
    "    # Denne har parameteret sitt satt til en default som er definert inne i classen.\n",
    "    def U(u = default_name):\n",
    "        # Dette er en \"docstring\" som tilhører metoden\n",
    "        \"\"\" Vi stjeler bare funksjonen 'upper' fra classen 'string' \"\"\"\n",
    "        return u.upper()"
   ]
  },
  {
   "cell_type": "code",
   "execution_count": 40,
   "id": "2616a9c2",
   "metadata": {},
   "outputs": [
    {
     "data": {
      "text/plain": [
       "'CARL'"
      ]
     },
     "execution_count": 40,
     "metadata": {},
     "output_type": "execute_result"
    }
   ],
   "source": [
    "textbehandling.U(\"Carl\")"
   ]
  },
  {
   "cell_type": "code",
   "execution_count": 41,
   "id": "0b2ebda8",
   "metadata": {},
   "outputs": [
    {
     "data": {
      "text/plain": [
       "'OLA'"
      ]
     },
     "execution_count": 41,
     "metadata": {},
     "output_type": "execute_result"
    }
   ],
   "source": [
    "textbehandling.U()"
   ]
  },
  {
   "cell_type": "code",
   "execution_count": 42,
   "id": "c9b31df4",
   "metadata": {},
   "outputs": [
    {
     "data": {
      "text/plain": [
       "'Ola'"
      ]
     },
     "execution_count": 42,
     "metadata": {},
     "output_type": "execute_result"
    }
   ],
   "source": [
    "textbehandling.default_name"
   ]
  },
  {
   "cell_type": "code",
   "execution_count": 52,
   "id": "6273907f",
   "metadata": {},
   "outputs": [
    {
     "name": "stdout",
     "output_type": "stream",
     "text": [
      "Help on class textbehandling in module __main__:\n",
      "\n",
      "class textbehandling(builtins.object)\n",
      " |  Her lager vi vår egen class\n",
      " |  \n",
      " |  Methods defined here:\n",
      " |  \n",
      " |  U(u='Ola')\n",
      " |      Vi stjeler bare funksjonen 'upper' fra classen 'string'\n",
      " |  \n",
      " |  ----------------------------------------------------------------------\n",
      " |  Data descriptors defined here:\n",
      " |  \n",
      " |  __dict__\n",
      " |      dictionary for instance variables (if defined)\n",
      " |  \n",
      " |  __weakref__\n",
      " |      list of weak references to the object (if defined)\n",
      " |  \n",
      " |  ----------------------------------------------------------------------\n",
      " |  Data and other attributes defined here:\n",
      " |  \n",
      " |  default_name = 'Ola'\n",
      "\n"
     ]
    }
   ],
   "source": [
    "#help(textbehandling.U)\n",
    "help(textbehandling)\n",
    "# Her dukker \"docstringene\" opp"
   ]
  },
  {
   "cell_type": "code",
   "execution_count": 47,
   "id": "95d26e00",
   "metadata": {},
   "outputs": [],
   "source": [
    "# Alle innstallerte lister\n",
    "#!pip list"
   ]
  },
  {
   "cell_type": "code",
   "execution_count": 48,
   "id": "6c67f382",
   "metadata": {},
   "outputs": [],
   "source": [
    "# Denne er innstallert på dapla, men kanskje ikke ellers\n",
    "from fuzzywuzzy import fuzz\n",
    "# Med den kan man gjøre \"fuzzy string matching\""
   ]
  },
  {
   "cell_type": "code",
   "execution_count": 49,
   "id": "578ffd5d",
   "metadata": {},
   "outputs": [],
   "source": [
    "#help(fuzz)"
   ]
  },
  {
   "cell_type": "code",
   "execution_count": 50,
   "id": "686f6443",
   "metadata": {},
   "outputs": [
    {
     "data": {
      "text/plain": [
       "87"
      ]
     },
     "execution_count": 50,
     "metadata": {},
     "output_type": "execute_result"
    }
   ],
   "source": [
    "fuzz.ratio(\"Carl er glad\", \"Carl er gal\")"
   ]
  },
  {
   "cell_type": "markdown",
   "id": "1311c53e",
   "metadata": {},
   "source": [
    "### Filosofi"
   ]
  },
  {
   "cell_type": "code",
   "execution_count": null,
   "id": "6dbb78e2",
   "metadata": {},
   "outputs": [],
   "source": [
    "import this"
   ]
  },
  {
   "cell_type": "markdown",
   "id": "22dc2766",
   "metadata": {},
   "source": [
    "#### \"PEP\"-er\n",
    "https://www.python.org/dev/peps/pep-0001/"
   ]
  },
  {
   "cell_type": "code",
   "execution_count": null,
   "id": "3dcb8ec9",
   "metadata": {},
   "outputs": [],
   "source": []
  }
 ],
 "metadata": {
  "kernelspec": {
   "display_name": "Python 3",
   "language": "python",
   "name": "python3"
  },
  "language_info": {
   "codemirror_mode": {
    "name": "ipython",
    "version": 3
   },
   "file_extension": ".py",
   "mimetype": "text/x-python",
   "name": "python",
   "nbconvert_exporter": "python",
   "pygments_lexer": "ipython3",
   "version": "3.8.10"
  }
 },
 "nbformat": 4,
 "nbformat_minor": 5
}