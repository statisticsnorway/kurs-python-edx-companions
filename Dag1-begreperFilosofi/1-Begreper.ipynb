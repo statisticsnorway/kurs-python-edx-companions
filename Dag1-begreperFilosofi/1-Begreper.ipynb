{
 "cells": [
  {
   "cell_type": "markdown",
   "id": "098003d6",
   "metadata": {},
   "source": [
    "### Begreper fra SAS-verden\n",
    "Vi bruker veldig mange begreper i SSB.\n",
    "noen av disse kommer direkte fra SAS som kodespråk.\n",
    "Andre kommer som en følge av handlinger vi har gjordt lenge,\n",
    "og utviklet våre lokale stamme språk og sleng uttrykk.\n",
    "Noen av disse har veldig tydelige betydninger,\n",
    "mens andre ord kan ha fått forskjellige betydninger i\n",
    "forskjellig seksjoenr. Når personer fra forskjellige stamme språk skal prøve og kommunisere\n",
    "kan dette føre til missforståelser og uklarheter. Av den grunn har vi sammlet noen av de\n",
    "vanligste synderne på dette området, og gjordt ett forsøk på å klarifisere dem.\n",
    "\n",
    "(Vanskelig å google)\\\n",
    "Hvilke analoger har vi?\n",
    "- \"Kode\"\n",
    "- \"Variabel\"\n",
    "- \"PROC\" = Procedure = Function ?\n",
    "- \"Macrovariabel\"\n",
    "- \"Macroer\"\n",
    "- \"Koble\"\n",
    "- \"Omkoding\"\n",
    "- \"Grupperingsvariabel\" - \"Formater\"\n",
    "- \"Datatyper\": Bare \"karakter\" og \"numerisk\"?"
   ]
  },
  {
   "cell_type": "markdown",
   "id": "54837504",
   "metadata": {
    "pycharm": {
     "name": "#%% md\n"
    }
   },
   "source": [
    "#### \"kode\"\n",
    "Begrepet er ikke det enkleste og oversette ved googling da det i\n",
    "SSB omfatter både ett verb og ett subjekt. Verbet og kode kan i seg selv deles inn i to\n",
    "det og oversette fra en numerisk verdi som `0`og `1` til ett tekstlig lable som `Mann` og\n",
    "`kvinne`.\n",
    "\n",
    "Det kan imidlertid også omfatte handling av å skrive SAS kode, for ett produksjons løp.\n",
    "Mengden og kompleksiteten av \"koding\" kan variere. Noen har også adre småbegreper for\n",
    "mindre oppgaver som endring av `%LET` makroer. Eller større oppgaver som å lage ett nytt\n",
    "produksjons løp eller en omskriving. men sammle begrepet er `Koding`.\n",
    "\n",
    "Når det kommer til subjektet \"kode\" så splitter dette langs de samme linjene som verbet.\n",
    "i `1= mann` så betegens 1-tellet noen ganger som koden for mann. SAS programmene inneholder\n",
    "kode.\n",
    "\n",
    "For å unngå forvirringer så refererer vi til begrepet \"kode\" som den funksjonelle teksten du skriver\n",
    "som eksekveres, enten i SAS, R, Python eller annet programmeringsspråk.\n",
    "Andre områder som bruker begrepet \"kode\" bør heller gjøres mer spesifikk eller endres,\n",
    "feks. \"svaralternativ\" eller \"tallkode i kategorisk kolonne\" osv."
   ]
  },
  {
   "cell_type": "markdown",
   "id": "a2a5e7b3",
   "metadata": {
    "pycharm": {
     "name": "#%% md\n"
    }
   },
   "source": [
    "#### \"Variabel\"\n",
    "Variabel er enda ett kjært barn. mange har sterke forhold til hva en variabel er og hvordan den skal oppføre seg.\n",
    "I akkuratt dette tilfelelt så er det meget sannsynlig store behov for oppklaringer da en variabel er noe helt\n",
    "annet når man søker opp på internett for å lære seg Python eller R, en det er når vi snakker om det i SSB.\n",
    "\n",
    "I SSB tenker vi ofte op en variabel som en kolonne i ett datasett. Kjønn er en variabel i ett data sett.\n",
    "Org_nummer er en variabel. Ett alternativ i ett skjema er også blidt omtalt som en variabel.\n",
    "\n",
    "Noen omtaler det som fylles inn ette `%LET` som en variabel. Disse er de som er nærmest bruken av orden Variabel\n",
    "I R og python verden så er en Variabel det som ligger forran likhets tegnet\n",
    "```\n",
    "variabel = 30\n",
    "variabel = \"Hello World\"\n",
    "\n",
    "```"
   ]
  },
  {
   "cell_type": "markdown",
   "id": "a335bcdd",
   "metadata": {
    "pycharm": {
     "name": "#%% md\n"
    }
   },
   "source": [
    "#### \"PROC\"\n",
    "Dette er ett begrep som kommer direkte fra SAS verdenen og på mange måter er veldig tett knyttet til det å jobbe\n",
    "SAS som programerings språk opperer med prosedyrer disse kallet med prefixen `PROC`. I SAS kjøres disse procedyrene\n",
    "i rekkefølge fra første til siste.\n",
    "\n",
    "Dette konseptet med prosedyrer er ikke tilstedet i hverken Python eller R. \n",
    "Begge disse programerings språkene\n"
   ]
  },
  {
   "cell_type": "markdown",
   "id": "a05ad764",
   "metadata": {
    "pycharm": {
     "name": "#%% md\n"
    }
   },
   "source": [
    "#### \"Macroer\"\n",
    "I dette tilfellet er det som regel snakk om makroer i SAS. Dette er på mange måter ett eget programerings språk\n",
    "innen SAS økosystemet. Makroer er blokker av kode som kan kjøres over prosesser og systemer.\n",
    "\n"
   ]
  },
  {
   "cell_type": "markdown",
   "id": "71506b12",
   "metadata": {
    "pycharm": {
     "name": "#%% md\n"
    }
   },
   "source": [
    "#### \"Macrovariabel\"\n",
    "Makro variabler er enda en av de begrepene som deler navn med en ting, men er noe annnet.\n",
    "Makro variabler i SSB er ofte den verdiern du tilskriver til entne `%LET` eller det du mater inn i en SAS macro\n",
    "funksjon.\n",
    "\n",
    "Ett annet bruksområde ordet brukes til tider er i situasjoner der flere variabler (kollonner)\n",
    "i ett data sett er aggregert til en høyere nivåes informasjon."
   ]
  },
  {
   "cell_type": "markdown",
   "id": "b25a71aa",
   "metadata": {
    "pycharm": {
     "name": "#%% md\n"
    }
   },
   "source": [
    "#### \"Koble\"\n",
    "Dette er ett av de mest forvirrende ordet vi har i stattistikk produksjon i SSB.\n",
    "I sitt mest snevre format brukes dette for en `merge` eller `join`.\n",
    "I andre tilfeller refferer det til handlingen og gjøre ett oppslag mot en korrespondanse tabell.\n",
    "Det har også vært brukt for å teste og se hvor mange rader som ineholder ett gitt felt.\n",
    "Vi har til og med hørt det brukt som en betegnesle på  det og lage ett produksjons løp.\n",
    "\n",
    "Dette mangfoldet av bruksområdet har gjordt dette til ett megett forvirrende begrep.\n",
    "Fremmover kommer vi kun til å bruke dette ordet for å beskrive handlingen å `merge` eller `joine`to datasett sammen."
   ]
  },
  {
   "cell_type": "markdown",
   "id": "459c76d0",
   "metadata": {
    "pycharm": {
     "name": "#%% md\n"
    }
   },
   "source": [
    "#### \"Omkoding\"\n",
    "Omkoding som begrep omfatter en rekke transformasjone av data. mor min (Simen) del så omfatter begrepet det å bytte\n",
    "fra en formalisert kode liste til en annen. I SSB så brukes dette begrepet også om det å endre verdien i\n",
    "en gitt celle i datasettet. Det kan også bety at man lager en ny kolonne med en ny verdi bassert på\n",
    "den første kolonne.\n",
    "\n",
    "Det har også vært brukt for å beskrive overgangen fra nummerisk verdi til en \"label\"\n",
    "som innimellom også betegnes som kobling."
   ]
  },
  {
   "cell_type": "markdown",
   "id": "b21cdc62",
   "metadata": {
    "pycharm": {
     "name": "#%% md\n"
    }
   },
   "source": [
    "#### \"Grupperingsvariabel\" - \"Formater\"\n",
    "I Statistikk produksjon er Grupperings variabler kolonner som inneholder kattegoriske variabler som danner\n",
    "naturlig sorterings elementer. Det vil si at dersom du kjører en `groupBy` på disse variabelene får du\n",
    "et dattasett med en logisk aggrigerings grad.\n",
    "\n",
    "Teoretisk sett så kan nesten alle kolonner brukes som grupperings variabler.\n",
    "Men det er ikke det gir mening og gruppere på.\n",
    "Ett eksempel er at det har lite hensikt og gruppere direkte på en persons årslønn, da variasjonen i lønninger\n",
    "forårsaker store mengder støy i data settet. Det er da mye bedre og lage en kattegorisk kolonne med\n",
    "lønns grupperinger, dette er da grupperings variableen for årslønn."
   ]
  },
  {
   "cell_type": "markdown",
   "id": "afb1e984",
   "metadata": {
    "pycharm": {
     "name": "#%% md\n"
    }
   },
   "source": [
    "#### \"Datatyper\": Bare \"karakter\" og \"numerisk\"?\n",
    "SAS opperer kun med to data typer. Det er `karakter`og `numerisk`. En numerisk kolonne kan kun inneholde verdiene\n",
    "`0123456789.,` det er disse kolonnene man kan gjennomføre mattematiksk beregninger over.\n",
    "\n",
    "`karakter`kolonner kan inne holde alle mulige tegn, og vil fra SAS sin side bli behandlet som kattegoriske.\n",
    "Det vil si at det ikke gir mening og de gjennomsnitt verdien på navn (`karakter`), men det er fult mulig\n",
    "og ta gjennomsnittet på høyde (`ummerisk`)\n",
    "\n",
    "Mer generiske programerings språk som R og Pyhon oppererer på langt flere data typer, som gjrø det mulig og\n",
    "spessifisere oppførselen til disse på en helt annen måte. men mer om det senere."
   ]
  },
  {
   "cell_type": "markdown",
   "id": "a8523aae",
   "metadata": {
    "pycharm": {
     "name": "#%% md\n"
    }
   },
   "source": [
    "Det vi forsøker og få frem at det i SSB er mange utrykk som har flere, og ofte forskjellige betydninger.\n",
    "Dette er med på skape en god del forvirringer og usikkerheter blandt brukerne.\n",
    "I tillegg så er flere av disse begrepen brukt i opplærings øyemed, men da ganske ofte ikke med de\n",
    "betydningen vi er blidt vandt til fra hverdagen i SSB."
   ]
  },
  {
   "cell_type": "markdown",
   "id": "87a528d6",
   "metadata": {},
   "source": [
    "### Begreper fra \"objekt-orientert\"-python-verden\n",
    "\n",
    "Grunnleggende komponenter\n",
    "- Variable\n",
    "- Object (\"everything is an object\")\n",
    "- Class"
   ]
  },
  {
   "cell_type": "markdown",
   "id": "d190b006",
   "metadata": {},
   "source": [
    "### En variabel med navn \"x\" av classen \"int\" er registrert som ett objekt med verdien \"6\"."
   ]
  },
  {
   "cell_type": "code",
   "execution_count": 3,
   "id": "195d4c4d",
   "metadata": {},
   "outputs": [],
   "source": [
    "x = 6"
   ]
  },
  {
   "cell_type": "code",
   "execution_count": 4,
   "id": "c3b36b76",
   "metadata": {},
   "outputs": [
    {
     "data": {
      "text/plain": [
       "int"
      ]
     },
     "execution_count": 4,
     "metadata": {},
     "output_type": "execute_result"
    }
   ],
   "source": [
    "type(x)"
   ]
  },
  {
   "cell_type": "code",
   "execution_count": 6,
   "id": "6a932089",
   "metadata": {},
   "outputs": [],
   "source": [
    "#help(int)"
   ]
  },
  {
   "cell_type": "markdown",
   "id": "1194d634",
   "metadata": {},
   "source": [
    "##### Vi overskriver variabelen \"x\" med ett objekt av classen \"float\" med verdi \"7.0\""
   ]
  },
  {
   "cell_type": "code",
   "execution_count": 3,
   "id": "c885f7a6",
   "metadata": {},
   "outputs": [],
   "source": [
    "x = 7.0"
   ]
  },
  {
   "cell_type": "code",
   "execution_count": 4,
   "id": "15e4d58e",
   "metadata": {},
   "outputs": [
    {
     "data": {
      "text/plain": [
       "float"
      ]
     },
     "execution_count": 4,
     "metadata": {},
     "output_type": "execute_result"
    }
   ],
   "source": [
    "type(x)"
   ]
  },
  {
   "cell_type": "markdown",
   "id": "081cd29c",
   "metadata": {},
   "source": [
    "##### Variabelen er den samme, men har et annet objekt tilknyttet seg.\n",
    "Det nye objektet/\"instansen\", er av classen/\"objekttypen\": float"
   ]
  },
  {
   "cell_type": "code",
   "execution_count": 6,
   "id": "f13a8c1f",
   "metadata": {},
   "outputs": [],
   "source": [
    "#help(float)"
   ]
  },
  {
   "cell_type": "markdown",
   "id": "2c9ac5c4",
   "metadata": {},
   "source": [
    "### Variabelen \"y\" av classen \"string\" peker mot ett objekt som inneholder \"Ola\"."
   ]
  },
  {
   "cell_type": "code",
   "execution_count": 58,
   "id": "b386993d",
   "metadata": {},
   "outputs": [],
   "source": [
    "y = \"Ola\"\n",
    "#help(type(y))"
   ]
  },
  {
   "cell_type": "markdown",
   "id": "9842e541",
   "metadata": {},
   "source": [
    "### Bonus: F-strings"
   ]
  },
  {
   "cell_type": "code",
   "execution_count": 62,
   "id": "1bd419b6",
   "metadata": {},
   "outputs": [
    {
     "data": {
      "text/plain": [
       "'Ola er 23 år.'"
      ]
     },
     "execution_count": 62,
     "metadata": {},
     "output_type": "execute_result"
    }
   ],
   "source": [
    "f\"{y} er {int(16 + x)} år.\""
   ]
  },
  {
   "cell_type": "code",
   "execution_count": 2,
   "id": "93af69f2",
   "metadata": {},
   "outputs": [],
   "source": [
    "# Muliggjør innbaking av video i notebooken\n",
    "from IPython.display import IFrame"
   ]
  },
  {
   "cell_type": "markdown",
   "id": "832038e5",
   "metadata": {},
   "source": [
    "### Videohjelp: Datatyper"
   ]
  },
  {
   "cell_type": "code",
   "execution_count": 3,
   "id": "c02af2c4",
   "metadata": {
    "jupyter": {
     "source_hidden": true
    }
   },
   "outputs": [
    {
     "data": {
      "text/html": [
       "\n",
       "        <iframe\n",
       "            width=\"640\"\n",
       "            height=\"360\"\n",
       "            src=\"https://web.microsoftstream.com/embed/video/e6fe71ad-0294-44fc-9317-ce01d57c7f10?autoplay=false&showinfo=true\"\n",
       "            frameborder=\"0\"\n",
       "            allowfullscreen\n",
       "        ></iframe>\n",
       "        "
      ],
      "text/plain": [
       "<IPython.lib.display.IFrame at 0x7fe45c2295e0>"
      ]
     },
     "execution_count": 3,
     "metadata": {},
     "output_type": "execute_result"
    }
   ],
   "source": [
    "IFrame(\"https://web.microsoftstream.com/embed/video/e6fe71ad-0294-44fc-9317-ce01d57c7f10?autoplay=false&showinfo=true\", \n",
    "       width = 640, \n",
    "       height = 360)"
   ]
  },
  {
   "cell_type": "markdown",
   "id": "ba12ec77",
   "metadata": {},
   "source": [
    "### Videohjelp: Logikk, loops, funksjoner    "
   ]
  },
  {
   "cell_type": "code",
   "execution_count": 63,
   "id": "8b4d47f5",
   "metadata": {},
   "outputs": [
    {
     "data": {
      "text/html": [
       "\n",
       "        <iframe\n",
       "            width=\"640\"\n",
       "            height=\"360\"\n",
       "            src=\"https://web.microsoftstream.com/embed/video/bab18ae8-30e2-435a-8be7-b13412f5c4bf?autoplay=false&showinfo=true\"\n",
       "            frameborder=\"0\"\n",
       "            allowfullscreen\n",
       "        ></iframe>\n",
       "        "
      ],
      "text/plain": [
       "<IPython.lib.display.IFrame at 0x7f6170362340>"
      ]
     },
     "execution_count": 63,
     "metadata": {},
     "output_type": "execute_result"
    }
   ],
   "source": [
    "IFrame(\"https://web.microsoftstream.com/embed/video/bab18ae8-30e2-435a-8be7-b13412f5c4bf?autoplay=false&showinfo=true\", \n",
    "       width = 640, \n",
    "       height = 360)"
   ]
  },
  {
   "cell_type": "markdown",
   "id": "07512452",
   "metadata": {},
   "source": [
    "### Logikk\n",
    "- Operators\n",
    "    - != / is not\n",
    "    - == / is\n",
    "    - < / <= smaller than\n",
    "    - \\> / >= greater than\n",
    "    - & / and\n",
    "    - | / or\n"
   ]
  },
  {
   "cell_type": "code",
   "execution_count": 11,
   "id": "c194416e",
   "metadata": {},
   "outputs": [
    {
     "data": {
      "text/plain": [
       "True"
      ]
     },
     "execution_count": 11,
     "metadata": {},
     "output_type": "execute_result"
    }
   ],
   "source": [
    "z = 5\n",
    "a = z\n",
    "z == a"
   ]
  },
  {
   "cell_type": "code",
   "execution_count": 12,
   "id": "eb8f29f9",
   "metadata": {},
   "outputs": [
    {
     "data": {
      "text/plain": [
       "True"
      ]
     },
     "execution_count": 12,
     "metadata": {},
     "output_type": "execute_result"
    }
   ],
   "source": [
    "z is a"
   ]
  },
  {
   "cell_type": "code",
   "execution_count": 110,
   "id": "d7ba4208",
   "metadata": {},
   "outputs": [
    {
     "data": {
      "text/plain": [
       "True"
      ]
     },
     "execution_count": 110,
     "metadata": {},
     "output_type": "execute_result"
    }
   ],
   "source": [
    "b = []\n",
    "c = b.copy()\n",
    "\n",
    "c == b"
   ]
  },
  {
   "cell_type": "code",
   "execution_count": 111,
   "id": "971e22a5",
   "metadata": {},
   "outputs": [
    {
     "data": {
      "text/plain": [
       "False"
      ]
     },
     "execution_count": 111,
     "metadata": {},
     "output_type": "execute_result"
    }
   ],
   "source": [
    "# Her er det en forskjell mellom \"==\" og \"is\"\n",
    "c is b"
   ]
  },
  {
   "cell_type": "code",
   "execution_count": 18,
   "id": "98f7cab8",
   "metadata": {},
   "outputs": [
    {
     "data": {
      "text/plain": [
       "True"
      ]
     },
     "execution_count": 18,
     "metadata": {},
     "output_type": "execute_result"
    }
   ],
   "source": [
    "c == b and z == a"
   ]
  },
  {
   "cell_type": "code",
   "execution_count": 33,
   "id": "fdd98a23",
   "metadata": {},
   "outputs": [
    {
     "data": {
      "text/plain": [
       "False"
      ]
     },
     "execution_count": 33,
     "metadata": {},
     "output_type": "execute_result"
    }
   ],
   "source": [
    "False and True"
   ]
  },
  {
   "cell_type": "code",
   "execution_count": 31,
   "id": "c126c685",
   "metadata": {},
   "outputs": [
    {
     "data": {
      "text/plain": [
       "True"
      ]
     },
     "execution_count": 31,
     "metadata": {},
     "output_type": "execute_result"
    }
   ],
   "source": [
    "False or True"
   ]
  },
  {
   "cell_type": "markdown",
   "id": "599b934f",
   "metadata": {},
   "source": [
    "### Loops / tab inn\n",
    "\n",
    "- If/Else\n",
    "- For / While\n",
    "- Try / Except"
   ]
  },
  {
   "cell_type": "code",
   "execution_count": 40,
   "id": "387f94a3",
   "metadata": {},
   "outputs": [
    {
     "name": "stdout",
     "output_type": "stream",
     "text": [
      "0\n",
      "1\n",
      "2\n",
      "3\n",
      "4\n"
     ]
    }
   ],
   "source": [
    "# indentation and whitespace\n",
    "if 1:\n",
    "    if []:\n",
    "        ...\n",
    "    else:\n",
    "        for i in range(5):\n",
    "            print(i)"
   ]
  },
  {
   "cell_type": "code",
   "execution_count": 45,
   "id": "2708fc3d",
   "metadata": {},
   "outputs": [
    {
     "name": "stdout",
     "output_type": "stream",
     "text": [
      "\n",
      "fåkke til det der ass\n"
     ]
    }
   ],
   "source": [
    "try:\n",
    "    x = 54\n",
    "    x = x.replace(\"5\", \"0\")\n",
    "    print(x)\n",
    "except:\n",
    "    print(\"\\nfåkke til det der ass\")"
   ]
  },
  {
   "cell_type": "markdown",
   "id": "7f22fd7a",
   "metadata": {},
   "source": [
    "# Innhold\n",
    "- Datatypes\n",
    "    - String\n",
    "    - Int\n",
    "    - Float"
   ]
  },
  {
   "cell_type": "code",
   "execution_count": 47,
   "id": "1964d998",
   "metadata": {},
   "outputs": [],
   "source": [
    "d = \"5\"\n",
    "#d = 5\n",
    "#d = 5.0\n",
    "#help(type(d))"
   ]
  },
  {
   "cell_type": "markdown",
   "id": "552bd5a3",
   "metadata": {},
   "source": [
    "### \"iterables\"\n",
    "    - List\n",
    "        - Comprehensions\n",
    "    - Tuple\n",
    "    - Dict\n",
    "    - Sets"
   ]
  },
  {
   "cell_type": "code",
   "execution_count": 53,
   "id": "60ed7330",
   "metadata": {},
   "outputs": [
    {
     "name": "stdout",
     "output_type": "stream",
     "text": [
      "5\n",
      "<class 'int'>\n",
      "\n",
      "ok\n",
      "<class 'str'>\n",
      "7.0\n",
      "<class 'float'>\n"
     ]
    }
   ],
   "source": [
    "e = [5, '\\nok', 7.0]\n",
    "for f in e:\n",
    "    print(f)\n",
    "    print(type(f))"
   ]
  },
  {
   "cell_type": "code",
   "execution_count": 59,
   "id": "8e7bfe0e",
   "metadata": {},
   "outputs": [
    {
     "data": {
      "text/plain": [
       "[5, 'ok2', 7.0]"
      ]
     },
     "execution_count": 59,
     "metadata": {},
     "output_type": "execute_result"
    }
   ],
   "source": [
    "# Overskriv en verdi i listen med indexing\n",
    "e[1] = \"ok2\"\n",
    "e"
   ]
  },
  {
   "cell_type": "code",
   "execution_count": 63,
   "id": "733fa877",
   "metadata": {},
   "outputs": [
    {
     "ename": "TypeError",
     "evalue": "'tuple' object does not support item assignment",
     "output_type": "error",
     "traceback": [
      "\u001b[0;31m---------------------------------------------------------------------------\u001b[0m",
      "\u001b[0;31mTypeError\u001b[0m                                 Traceback (most recent call last)",
      "\u001b[0;32m<ipython-input-63-8fb77929e3e7>\u001b[0m in \u001b[0;36m<module>\u001b[0;34m\u001b[0m\n\u001b[1;32m      1\u001b[0m \u001b[0mg\u001b[0m \u001b[0;34m=\u001b[0m \u001b[0;34m(\u001b[0m\u001b[0;36m205\u001b[0m\u001b[0;34m,\u001b[0m \u001b[0;34m\"verdi3\"\u001b[0m\u001b[0;34m)\u001b[0m\u001b[0;34m\u001b[0m\u001b[0;34m\u001b[0m\u001b[0m\n\u001b[1;32m      2\u001b[0m \u001b[0;31m# Tuples er \"immutable\", og kan derfor ikke overskrives, eller legges til\u001b[0m\u001b[0;34m\u001b[0m\u001b[0;34m\u001b[0m\u001b[0;34m\u001b[0m\u001b[0m\n\u001b[0;32m----> 3\u001b[0;31m \u001b[0mg\u001b[0m\u001b[0;34m[\u001b[0m\u001b[0;36m2\u001b[0m\u001b[0;34m]\u001b[0m \u001b[0;34m=\u001b[0m \u001b[0;34m\"nyverdi\"\u001b[0m\u001b[0;34m\u001b[0m\u001b[0;34m\u001b[0m\u001b[0m\n\u001b[0m",
      "\u001b[0;31mTypeError\u001b[0m: 'tuple' object does not support item assignment"
     ]
    }
   ],
   "source": [
    "g = (205, \"verdi3\")\n",
    "# Tuples er \"immutable\", og kan derfor ikke overskrives, eller legges til\n",
    "g[2] = \"nyverdi\""
   ]
  },
  {
   "cell_type": "code",
   "execution_count": 64,
   "id": "9b3f629b",
   "metadata": {},
   "outputs": [],
   "source": [
    "h = {1: \"En\",\n",
    "    \"23\": range(2,4)\n",
    "    }"
   ]
  },
  {
   "cell_type": "code",
   "execution_count": 65,
   "id": "210a01c2",
   "metadata": {},
   "outputs": [
    {
     "data": {
      "text/plain": [
       "'En'"
      ]
     },
     "execution_count": 65,
     "metadata": {},
     "output_type": "execute_result"
    }
   ],
   "source": [
    "h[1]"
   ]
  },
  {
   "cell_type": "code",
   "execution_count": 67,
   "id": "05e38ea4",
   "metadata": {},
   "outputs": [
    {
     "name": "stdout",
     "output_type": "stream",
     "text": [
      "2\n",
      "3\n"
     ]
    }
   ],
   "source": [
    "for i in h[\"23\"]:\n",
    "    print(i)"
   ]
  },
  {
   "cell_type": "markdown",
   "id": "1f627ac7",
   "metadata": {},
   "source": [
    "### Dataframe (fra pandas)\n",
    "    - Kolonner (Series): object, int64, category"
   ]
  },
  {
   "cell_type": "code",
   "execution_count": 68,
   "id": "385cb83a",
   "metadata": {},
   "outputs": [],
   "source": [
    "import pandas as pd"
   ]
  },
  {
   "cell_type": "code",
   "execution_count": 72,
   "id": "6a6ca228",
   "metadata": {},
   "outputs": [
    {
     "data": {
      "text/html": [
       "<div>\n",
       "<style scoped>\n",
       "    .dataframe tbody tr th:only-of-type {\n",
       "        vertical-align: middle;\n",
       "    }\n",
       "\n",
       "    .dataframe tbody tr th {\n",
       "        vertical-align: top;\n",
       "    }\n",
       "\n",
       "    .dataframe thead th {\n",
       "        text-align: right;\n",
       "    }\n",
       "</style>\n",
       "<table border=\"1\" class=\"dataframe\">\n",
       "  <thead>\n",
       "    <tr style=\"text-align: right;\">\n",
       "      <th></th>\n",
       "      <th>col1</th>\n",
       "      <th>2</th>\n",
       "      <th>7.0</th>\n",
       "      <th>floats</th>\n",
       "    </tr>\n",
       "  </thead>\n",
       "  <tbody>\n",
       "    <tr>\n",
       "      <th>0</th>\n",
       "      <td>1</td>\n",
       "      <td>En</td>\n",
       "      <td>One</td>\n",
       "      <td>1.0</td>\n",
       "    </tr>\n",
       "    <tr>\n",
       "      <th>1</th>\n",
       "      <td>2</td>\n",
       "      <td>To</td>\n",
       "      <td>Two</td>\n",
       "      <td>2.0</td>\n",
       "    </tr>\n",
       "    <tr>\n",
       "      <th>2</th>\n",
       "      <td>3</td>\n",
       "      <td>Tre</td>\n",
       "      <td>Three</td>\n",
       "      <td>3.0</td>\n",
       "    </tr>\n",
       "  </tbody>\n",
       "</table>\n",
       "</div>"
      ],
      "text/plain": [
       "   col1    2    7.0  floats\n",
       "0     1   En    One     1.0\n",
       "1     2   To    Two     2.0\n",
       "2     3  Tre  Three     3.0"
      ]
     },
     "execution_count": 72,
     "metadata": {},
     "output_type": "execute_result"
    }
   ],
   "source": [
    "j = pd.DataFrame(\n",
    "    {\n",
    "        \"col1\" : [1, 2, 3],\n",
    "        2 : [\"En\", \"To\", \"Tre\"],\n",
    "        7.0 : [\"One\", \"Two\", \"Three\"],\n",
    "        \"floats\" : [1.0, 2.0, 3.0]\n",
    "    }\n",
    ")\n",
    "j"
   ]
  },
  {
   "cell_type": "code",
   "execution_count": 73,
   "id": "009e62a8",
   "metadata": {},
   "outputs": [
    {
     "data": {
      "text/plain": [
       "col1        int64\n",
       "2          object\n",
       "7.0        object\n",
       "floats    float64\n",
       "dtype: object"
      ]
     },
     "execution_count": 73,
     "metadata": {},
     "output_type": "execute_result"
    }
   ],
   "source": [
    "j.dtypes"
   ]
  },
  {
   "cell_type": "code",
   "execution_count": 82,
   "id": "eb691800",
   "metadata": {},
   "outputs": [
    {
     "name": "stdout",
     "output_type": "stream",
     "text": [
      "<class 'pandas.core.series.Series'>\n",
      "0    En\n",
      "Name: 2, dtype: object\n"
     ]
    }
   ],
   "source": [
    "k = j[j['col1'] == 1][2]\n",
    "print(type(k))\n",
    "print(k)"
   ]
  },
  {
   "cell_type": "markdown",
   "id": "faf36fbc",
   "metadata": {},
   "source": [
    "### Operasjoner\n",
    "- Function / Method\n",
    "- Library / Package\n",
    "- Indexing\n",
    "    - index\n",
    "    - key / values\n",
    "    - slicing"
   ]
  },
  {
   "cell_type": "code",
   "execution_count": 86,
   "id": "7f8c2ce4",
   "metadata": {},
   "outputs": [],
   "source": [
    "def L(l):\n",
    "    return l.lower()"
   ]
  },
  {
   "cell_type": "code",
   "execution_count": 87,
   "id": "ba23b113",
   "metadata": {},
   "outputs": [
    {
     "data": {
      "text/plain": [
       "'carl'"
      ]
     },
     "execution_count": 87,
     "metadata": {},
     "output_type": "execute_result"
    }
   ],
   "source": [
    "L(\"Carl\")"
   ]
  },
  {
   "cell_type": "code",
   "execution_count": 51,
   "id": "242ff9c9",
   "metadata": {},
   "outputs": [],
   "source": [
    "class textbehandling():\n",
    "    # Dette er en \"docstring\" som tilhører classen som helhet\n",
    "    \"\"\"Her lager vi vår egen class\"\"\"\n",
    "    # Variabler som tilhører classes kalles gjerne \"attributes\" eller \"class variables\"\n",
    "    default_name = \"Ola\"\n",
    "   \n",
    "    # En \"method\" er bare en funksjon som ligger under en class\n",
    "    # Denne har parameteret sitt satt til en default som er definert inne i classen.\n",
    "    def U(u = default_name):\n",
    "        # Dette er en \"docstring\" som tilhører metoden\n",
    "        \"\"\" Vi stjeler bare funksjonen 'upper' fra classen 'string' \"\"\"\n",
    "        return u.upper()"
   ]
  },
  {
   "cell_type": "code",
   "execution_count": 40,
   "id": "b9524bbf",
   "metadata": {},
   "outputs": [
    {
     "data": {
      "text/plain": [
       "'CARL'"
      ]
     },
     "execution_count": 40,
     "metadata": {},
     "output_type": "execute_result"
    }
   ],
   "source": [
    "textbehandling.U(\"Carl\")"
   ]
  },
  {
   "cell_type": "code",
   "execution_count": 41,
   "id": "17639597",
   "metadata": {},
   "outputs": [
    {
     "data": {
      "text/plain": [
       "'OLA'"
      ]
     },
     "execution_count": 41,
     "metadata": {},
     "output_type": "execute_result"
    }
   ],
   "source": [
    "textbehandling.U()"
   ]
  },
  {
   "cell_type": "code",
   "execution_count": 42,
   "id": "b438dd10",
   "metadata": {},
   "outputs": [
    {
     "data": {
      "text/plain": [
       "'Ola'"
      ]
     },
     "execution_count": 42,
     "metadata": {},
     "output_type": "execute_result"
    }
   ],
   "source": [
    "textbehandling.default_name"
   ]
  },
  {
   "cell_type": "code",
   "execution_count": 52,
   "id": "09dc0a67",
   "metadata": {},
   "outputs": [
    {
     "name": "stdout",
     "output_type": "stream",
     "text": [
      "Help on class textbehandling in module __main__:\n",
      "\n",
      "class textbehandling(builtins.object)\n",
      " |  Her lager vi vår egen class\n",
      " |  \n",
      " |  Methods defined here:\n",
      " |  \n",
      " |  U(u='Ola')\n",
      " |      Vi stjeler bare funksjonen 'upper' fra classen 'string'\n",
      " |  \n",
      " |  ----------------------------------------------------------------------\n",
      " |  Data descriptors defined here:\n",
      " |  \n",
      " |  __dict__\n",
      " |      dictionary for instance variables (if defined)\n",
      " |  \n",
      " |  __weakref__\n",
      " |      list of weak references to the object (if defined)\n",
      " |  \n",
      " |  ----------------------------------------------------------------------\n",
      " |  Data and other attributes defined here:\n",
      " |  \n",
      " |  default_name = 'Ola'\n",
      "\n"
     ]
    }
   ],
   "source": [
    "#help(textbehandling.U)\n",
    "help(textbehandling)\n",
    "# Her dukker \"docstringene\" opp"
   ]
  },
  {
   "cell_type": "code",
   "execution_count": 47,
   "id": "3875c0a9",
   "metadata": {},
   "outputs": [],
   "source": [
    "# Alle innstallerte lister\n",
    "#!pip list"
   ]
  },
  {
   "cell_type": "code",
   "execution_count": 48,
   "id": "fd06f571",
   "metadata": {},
   "outputs": [],
   "source": [
    "# Denne er innstallert på dapla, men kanskje ikke ellers\n",
    "from fuzzywuzzy import fuzz\n",
    "# Med den kan man gjøre \"fuzzy string matching\""
   ]
  },
  {
   "cell_type": "code",
   "execution_count": 49,
   "id": "4829bdd1",
   "metadata": {},
   "outputs": [],
   "source": [
    "#help(fuzz)"
   ]
  },
  {
   "cell_type": "code",
   "execution_count": 50,
   "id": "0c26ea94",
   "metadata": {},
   "outputs": [
    {
     "data": {
      "text/plain": [
       "87"
      ]
     },
     "execution_count": 50,
     "metadata": {},
     "output_type": "execute_result"
    }
   ],
   "source": [
    "fuzz.ratio(\"Carl er glad\", \"Carl er gal\")"
   ]
  },
  {
   "cell_type": "markdown",
   "id": "7b696aad",
   "metadata": {},
   "source": [
    "### Filosofi"
   ]
  },
  {
   "cell_type": "code",
   "execution_count": null,
   "id": "b34f97a6",
   "metadata": {},
   "outputs": [],
   "source": [
    "import this"
   ]
  },
  {
   "cell_type": "markdown",
   "id": "dc7ea836",
   "metadata": {},
   "source": [
    "#### \"PEP\"-er\n",
    "https://www.python.org/dev/peps/pep-0001/"
   ]
  },
  {
   "cell_type": "code",
   "execution_count": null,
   "id": "2473d1d0",
   "metadata": {},
   "outputs": [],
   "source": []
  }
 ],
 "metadata": {
  "kernelspec": {
   "display_name": "Python 3",
   "language": "python",
   "name": "python3"
  },
  "language_info": {
   "codemirror_mode": {
    "name": "ipython",
    "version": 3
   },
   "file_extension": ".py",
   "mimetype": "text/x-python",
   "name": "python",
   "nbconvert_exporter": "python",
   "pygments_lexer": "ipython3",
   "version": "3.8.10"
  }
 },
 "nbformat": 4,
 "nbformat_minor": 5
}
