{
 "cells": [
  {
   "cell_type": "markdown",
   "id": "ec08358e",
   "metadata": {},
   "source": [
    "### Hva ønsker dere å se gjort i Python?\n",
    "\n",
    "- Microeditering / Excel?\n",
    "- API Klass og Statbank"
   ]
  },
  {
   "cell_type": "markdown",
   "id": "3175fabc",
   "metadata": {},
   "source": [
    "### Hvilke typer prosjekt og data skal dere jobbe på?\n",
    "Hvor likt / forskjellig er det fra gruppe til gruppe, seksjon til seksjon?\n"
   ]
  },
  {
   "cell_type": "markdown",
   "id": "5ddc781d",
   "metadata": {},
   "source": [
    "### Bruker vi samme begreper om de samme prosessene?\n",
    "Hva gikk vi gjennom nå som bør plukkes opp igjen?"
   ]
  },
  {
   "cell_type": "markdown",
   "id": "550b361f",
   "metadata": {},
   "source": [
    "### Lekser? \n",
    "Se videoer på starten av neste ark?"
   ]
  },
  {
   "cell_type": "code",
   "execution_count": null,
   "id": "bda60473",
   "metadata": {},
   "outputs": [],
   "source": []
  }
 ],
 "metadata": {
  "kernelspec": {
   "display_name": "Python 3",
   "language": "python",
   "name": "python3"
  },
  "language_info": {
   "codemirror_mode": {
    "name": "ipython",
    "version": 3
   },
   "file_extension": ".py",
   "mimetype": "text/x-python",
   "name": "python",
   "nbconvert_exporter": "python",
   "pygments_lexer": "ipython3",
   "version": "3.8.10"
  }
 },
 "nbformat": 4,
 "nbformat_minor": 5
}
