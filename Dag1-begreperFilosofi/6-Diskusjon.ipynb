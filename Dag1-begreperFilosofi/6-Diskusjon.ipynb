{
 "cells": [
  {
   "cell_type": "markdown",
   "id": "c73e6a88",
   "metadata": {},
   "source": [
    "### Hva ønsker dere å se gjort i Python?\n",
    "\n",
    "- Microeditering / Excel?\n",
    "- API Klass og Statbank\n",
    "\n",
    "Vi kommer til å begynne å plassere slik i \"senere\"-mappa i dette repoet."
   ]
  },
  {
   "cell_type": "markdown",
   "id": "a07ec63a",
   "metadata": {},
   "source": [
    "### Hvilke typer prosjekt og data skal dere jobbe på?\n",
    "Hvor likt / forskjellig er det fra gruppe til gruppe, seksjon til seksjon?\n"
   ]
  },
  {
   "cell_type": "markdown",
   "id": "da970465",
   "metadata": {},
   "source": [
    "### Bruker vi samme begreper om de samme prosessene?\n",
    "Hva gikk vi gjennom nå som bør plukkes opp igjen?"
   ]
  },
  {
   "cell_type": "markdown",
   "id": "d108a930",
   "metadata": {},
   "source": [
    "### Lekser? \n",
    "- Få inn dette repoet i din dapla, om du ikke har gjort det enda\n",
    "- Ta quiz (ark 7)\n",
    "- Se videoer på starten av ark1 i dag2-mappa"
   ]
  },
  {
   "cell_type": "code",
   "execution_count": null,
   "id": "6c7f431a",
   "metadata": {},
   "outputs": [],
   "source": []
  }
 ],
 "metadata": {
  "kernelspec": {
   "display_name": "Python 3",
   "language": "python",
   "name": "python3"
  },
  "language_info": {
   "codemirror_mode": {
    "name": "ipython",
    "version": 3
   },
   "file_extension": ".py",
   "mimetype": "text/x-python",
   "name": "python",
   "nbconvert_exporter": "python",
   "pygments_lexer": "ipython3",
   "version": "3.8.10"
  }
 },
 "nbformat": 4,
 "nbformat_minor": 5
}
