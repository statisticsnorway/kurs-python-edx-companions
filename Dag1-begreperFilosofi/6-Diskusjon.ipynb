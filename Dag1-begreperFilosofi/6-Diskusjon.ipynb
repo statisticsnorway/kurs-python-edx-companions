{
 "cells": [
  {
   "cell_type": "markdown",
   "id": "600689ff",
   "metadata": {},
   "source": [
    "## Muligheter for diskusjon:\n",
    "- Alternative IDEer? Arne?\n",
    "    - Testes ut, hvilken kjerne kjøres de på?\n",
    "- Hvorfor jobbe i Dapla versus Prodsonen, eller motsatt?\n",
    "    - Systemer og det som ligger rundt\n",
    "    - Trygghet?\n",
    "    - Dapla \"nærmere overflaten\", lettere tilgang.\n",
    "    - APIer til KLASS og Statbank på Dapla\n",
    "    - Dapla skal mot dapla?\n",
    "    - Utfordringer med å få data til dapla?\n",
    "    - Lite forskjeller rent programmeringsmessig\n",
    "    - Delvis ulik seleksjon av pakker, blir mer samkjørt?\n",
    "    - \"Flere pakker\" i prodsonen?\n",
    "    - Litt vanskeligere i prodsonen med pakker som skal \"snakke med omverdenen\"\n",
    "    - Kundeservice support på prodsonen, mens \"dapla-teamet\" på dapla\n",
    "- Hvilke \"kompetanser\" er det vi bygger?\n",
    "- Ønsker for dag2 / dag3"
   ]
  },
  {
   "cell_type": "markdown",
   "id": "3912fcc3",
   "metadata": {},
   "source": [
    "### Hva ønsker dere å se gjort i Python?\n",
    "Og rekker vi det?\n",
    "\n",
    "- Microeditering / Excel?\n",
    "- API Klass og Statbank?\n",
    "\n",
    "Vi kommer til å begynne å plassere slik i \"senere\"-mappa i dette repoet."
   ]
  },
  {
   "cell_type": "markdown",
   "id": "88f6f958",
   "metadata": {},
   "source": [
    "### Hvilke typer prosjekt og data skal dere jobbe på?\n",
    "Hvor likt / forskjellig er det fra gruppe til gruppe, seksjon til seksjon?\n"
   ]
  },
  {
   "cell_type": "markdown",
   "id": "c2d9d363",
   "metadata": {},
   "source": [
    "### Bruker vi samme begreper om de samme prosessene?\n",
    "Hva gikk vi gjennom nå som bør plukkes opp igjen?"
   ]
  },
  {
   "cell_type": "markdown",
   "id": "f2b8422b",
   "metadata": {},
   "source": [
    "### Lekser? \n",
    "- Få inn dette repoet i din dapla, om du ikke har gjort det enda\n",
    "- Ta quiz (ark 7)\n",
    "- Se videoer på starten av ark1 i dag2-mappa"
   ]
  },
  {
   "cell_type": "code",
   "execution_count": null,
   "id": "540d46a7",
   "metadata": {},
   "outputs": [],
   "source": []
  }
 ],
 "metadata": {
  "kernelspec": {
   "display_name": "Python 3",
   "language": "python",
   "name": "python3"
  },
  "language_info": {
   "codemirror_mode": {
    "name": "ipython",
    "version": 3
   },
   "file_extension": ".py",
   "mimetype": "text/x-python",
   "name": "python",
   "nbconvert_exporter": "python",
   "pygments_lexer": "ipython3",
   "version": "3.8.10"
  }
 },
 "nbformat": 4,
 "nbformat_minor": 5
}
