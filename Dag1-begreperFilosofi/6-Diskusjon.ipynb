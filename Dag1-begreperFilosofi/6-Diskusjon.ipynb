{
 "cells": [
  {
   "cell_type": "markdown",
   "id": "b2423654",
   "metadata": {},
   "source": [
    "### Hva ønsker dere å se gjort i Python?\n",
    "\n",
    "- Microeditering / Excel?\n",
    "- API Klass og Statbank"
   ]
  },
  {
   "cell_type": "markdown",
   "id": "ada45867",
   "metadata": {},
   "source": [
    "### Hvilke typer prosjekt og data skal dere jobbe på?\n",
    "Hvor likt / forskjellig er det fra gruppe til gruppe, seksjon til seksjon?\n"
   ]
  },
  {
   "cell_type": "markdown",
   "id": "c53d5b3f",
   "metadata": {},
   "source": [
    "### Bruker vi samme begreper om de samme prosessene?\n",
    "Hva gikk vi gjennom nå som bør plukkes opp igjen?"
   ]
  },
  {
   "cell_type": "code",
   "execution_count": null,
   "id": "b082320e",
   "metadata": {},
   "outputs": [],
   "source": []
  }
 ],
 "metadata": {
  "kernelspec": {
   "display_name": "Python 3",
   "language": "python",
   "name": "python3"
  },
  "language_info": {
   "codemirror_mode": {
    "name": "ipython",
    "version": 3
   },
   "file_extension": ".py",
   "mimetype": "text/x-python",
   "name": "python",
   "nbconvert_exporter": "python",
   "pygments_lexer": "ipython3",
   "version": "3.8.10"
  }
 },
 "nbformat": 4,
 "nbformat_minor": 5
}
