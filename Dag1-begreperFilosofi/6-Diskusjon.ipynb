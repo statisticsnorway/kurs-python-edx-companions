{
 "cells": [
  {
   "cell_type": "markdown",
   "id": "b26fcb6e",
   "metadata": {},
   "source": [
    "## Muligheter for diskusjon:\n",
    "- Alternative IDEer? Arne?\n",
    "- Hvorfor jobbe i Dapla versus Prodsonen, eller motsatt?\n",
    "- Hvilke \"kompetanser\" er det vi bygger?\n",
    "- Ønsker for dag2 / dag3"
   ]
  },
  {
   "cell_type": "markdown",
   "id": "40d5cdaf",
   "metadata": {},
   "source": [
    "### Hva ønsker dere å se gjort i Python?\n",
    "Og rekker vi det?\n",
    "\n",
    "- Microeditering / Excel?\n",
    "- API Klass og Statbank?\n",
    "\n",
    "Vi kommer til å begynne å plassere slik i \"senere\"-mappa i dette repoet."
   ]
  },
  {
   "cell_type": "markdown",
   "id": "71172e29",
   "metadata": {},
   "source": [
    "### Hvilke typer prosjekt og data skal dere jobbe på?\n",
    "Hvor likt / forskjellig er det fra gruppe til gruppe, seksjon til seksjon?\n"
   ]
  },
  {
   "cell_type": "markdown",
   "id": "dda47f6f",
   "metadata": {},
   "source": [
    "### Bruker vi samme begreper om de samme prosessene?\n",
    "Hva gikk vi gjennom nå som bør plukkes opp igjen?"
   ]
  },
  {
   "cell_type": "markdown",
   "id": "38555cfa",
   "metadata": {},
   "source": [
    "### Lekser? \n",
    "- Få inn dette repoet i din dapla, om du ikke har gjort det enda\n",
    "- Ta quiz (ark 7)\n",
    "- Se videoer på starten av ark1 i dag2-mappa"
   ]
  },
  {
   "cell_type": "code",
   "execution_count": null,
   "id": "1baf0033",
   "metadata": {},
   "outputs": [],
   "source": []
  }
 ],
 "metadata": {
  "kernelspec": {
   "display_name": "Python 3",
   "language": "python",
   "name": "python3"
  },
  "language_info": {
   "codemirror_mode": {
    "name": "ipython",
    "version": 3
   },
   "file_extension": ".py",
   "mimetype": "text/x-python",
   "name": "python",
   "nbconvert_exporter": "python",
   "pygments_lexer": "ipython3",
   "version": "3.8.10"
  }
 },
 "nbformat": 4,
 "nbformat_minor": 5
}
