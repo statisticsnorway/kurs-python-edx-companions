{
 "cells": [
  {
   "cell_type": "markdown",
   "id": "37c25a06",
   "metadata": {},
   "source": [
    "### Kursstruktur\n",
    "https://github.com/statisticsnorway/kurs-python-edx-companion\n",
    "\n",
    "- Dag1 - 2. juni - Begreper og filosofi\n",
    "    - Forelesning med diskusjoner og erfaringer\n",
    "    \n",
    "    \n",
    "- Dag2 - 3. juni - Miljøer\n",
    "    - Demoer med spørsmål taklet underveis\n",
    "    \n",
    "    \n",
    "- Dag3 - 7. juni - Pandas og operasjoner\n",
    "    - Demoer og live-koding etter lanserte behov, om tid"
   ]
  },
  {
   "cell_type": "markdown",
   "id": "0f044ac9",
   "metadata": {},
   "source": [
    "### Praktisk for dagen"
   ]
  },
  {
   "cell_type": "markdown",
   "id": "04a70547",
   "metadata": {},
   "source": [
    "- Se inndeling i file browseren\n",
    "- Hvilke innmeldte ønsker skal vi takle i dag?\n",
    "    - Ta utgangspunkt i SAS-begreper\n",
    "    - Repetisjon av begreper i Python\n",
    "    - Grunnleggende Python\n",
    "    - Grunnleggende objekt-orientert programmering\n",
    "- Vi skal også nevne:\n",
    "    - Noen likhetstrekk med R og andre open-source, moderne programmeringsspråk\n",
    "    - Pythons posisjon i open-source markedet\n",
    "    - Hvordan finne og tolke dokumentasjon\n",
    "- Mulighet for diskusjon på slutten rundt temaene:\n",
    "    - Alternative IDEer\n",
    "    - Hvorfor jobbe i Dapla versus Prodsonen?\n",
    "    - Hvilke \"kompetanser\" er det vi bygger?\n",
    "    - Ønsker for dag2 / dag3"
   ]
  },
  {
   "cell_type": "markdown",
   "id": "17d88388",
   "metadata": {},
   "source": [
    "### Mål før kursdag2: Få dette \"repoet\" med kode-eksempler inn i \"din jupyter\" på Dapla\n",
    "Vi ønsker at dere aktivt tar i bruk denne kodebasen, prøver ut, skriver om, kopierer fra det osv. \\\n",
    "Kom med forslag til kodeendringer oss på <a href=\"https://github.com/statisticsnorway/kurs-python-edx-companion/issues\">github-issues</a>? Eller be om å få skrivetilgang \"commit/merge-access\"."
   ]
  },
  {
   "cell_type": "markdown",
   "id": "6e9dfcd4",
   "metadata": {},
   "source": [
    "- \"Stå i rett mappe\" på dapla\n",
    "- I terminalen: \\\n",
    "git clone https://github.com/statisticsnorway/kurs-python-edx-companion.git\n",
    "- Eller i en notebook på dapla: \\\n",
    "%cd /home/jovyan/ \\\n",
    "!git clone https://github.com/statisticsnorway/kurs-python-edx-companion.git \\\n",
    "(er også en knapp for clone i mappe-utforskeren på dapla)"
   ]
  },
  {
   "cell_type": "markdown",
   "id": "75141500",
   "metadata": {},
   "source": [
    "#### De som ikke får til dette, ta kontakt med oss utenfor kursstid så skal vi hjelpe til med å få det opp.\n",
    "(Lekse til i morgen)"
   ]
  }
 ],
 "metadata": {
  "kernelspec": {
   "display_name": "Python 3",
   "language": "python",
   "name": "python3"
  },
  "language_info": {
   "codemirror_mode": {
    "name": "ipython",
    "version": 3
   },
   "file_extension": ".py",
   "mimetype": "text/x-python",
   "name": "python",
   "nbconvert_exporter": "python",
   "pygments_lexer": "ipython3",
   "version": "3.8.10"
  }
 },
 "nbformat": 4,
 "nbformat_minor": 5
}
