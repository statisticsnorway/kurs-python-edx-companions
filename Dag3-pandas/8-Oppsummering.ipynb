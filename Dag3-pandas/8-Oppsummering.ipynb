{
 "cells": [
  {
   "cell_type": "markdown",
   "id": "1c30e989",
   "metadata": {},
   "source": [
    "### Husk Boller og koding på onsdag\n",
    "https://ssbno.sharepoint.com/sites/byraanettet/_layouts/15/Event.aspx?ListGuid=a0801a90-f230-4501-b2bb-a1182a162a94&ItemId=538 \\\n",
    "Ta gjerne med konkrete problemstillinger"
   ]
  },
  {
   "cell_type": "markdown",
   "id": "bc8460c6",
   "metadata": {},
   "source": [
    "### Noen som har startet med?\n",
    "- Personvernvurdering\n",
    "- Utvelgelse av prosjekt?\n",
    "- Tatt quizzene?"
   ]
  },
  {
   "cell_type": "markdown",
   "id": "047ec837",
   "metadata": {},
   "source": [
    "### Forslag til videre kurstemaer (må avtales med HR):\n",
    "- Prosjektoppstart\n",
    "- APIer, KLASS, Statbank, eksterne\n",
    "- Mikroeditering og logging\n",
    "- Grafingmuligheter\n",
    "- Basic maskinlæring med sckit-learn"
   ]
  },
  {
   "cell_type": "markdown",
   "id": "89c25ee7",
   "metadata": {},
   "source": [
    "### Anbefalt lesning: Medium.com / Towards data science\n",
    "https://medium.com/search?q=pandas%20basics"
   ]
  },
  {
   "cell_type": "markdown",
   "id": "bad28d5e",
   "metadata": {},
   "source": [
    "##### Bonus: Animerte plots i plotly?"
   ]
  },
  {
   "cell_type": "code",
   "execution_count": null,
   "id": "7accfd3e",
   "metadata": {},
   "outputs": [],
   "source": []
  }
 ],
 "metadata": {
  "kernelspec": {
   "display_name": "Python 3",
   "language": "python",
   "name": "python3"
  },
  "language_info": {
   "codemirror_mode": {
    "name": "ipython",
    "version": 3
   },
   "file_extension": ".py",
   "mimetype": "text/x-python",
   "name": "python",
   "nbconvert_exporter": "python",
   "pygments_lexer": "ipython3",
   "version": "3.8.10"
  }
 },
 "nbformat": 4,
 "nbformat_minor": 5
}
