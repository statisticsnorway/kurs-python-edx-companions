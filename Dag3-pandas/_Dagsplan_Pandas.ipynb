{
 "cells": [
  {
   "cell_type": "markdown",
   "id": "777d3f5f",
   "metadata": {},
   "source": [
    "# Pandas og operasjoner"
   ]
  },
  {
   "cell_type": "markdown",
   "id": "54e69b0d",
   "metadata": {},
   "source": [
    "- “kobling”\n",
    "- “omkoding”\n",
    "- “kolonnehåndtering”\n",
    "- “grupperingsvariabler”\n",
    "- “snu datasettet”\n",
    "- “tabulate” / “krysse”"
   ]
  },
  {
   "cell_type": "markdown",
   "id": "960ac59e",
   "metadata": {},
   "source": [
    "### Repetisjon: \"Når bruker vi lists og dicts?\""
   ]
  },
  {
   "cell_type": "code",
   "execution_count": null,
   "id": "51970b18",
   "metadata": {},
   "outputs": [],
   "source": [
    "import pandas as pd\n",
    "# Forskjellen på å indexe på en string og en list av strings i pandas\n",
    "df = pd.read_csv('../data/mock_sysselsatte/companies_2019_30000.csv')\n",
    "df.columns"
   ]
  },
  {
   "cell_type": "code",
   "execution_count": null,
   "id": "1438801e",
   "metadata": {},
   "outputs": [],
   "source": [
    "# Dette gir oss en \"series\", vi indexerer kun på en string\n",
    "df['nace']"
   ]
  },
  {
   "cell_type": "code",
   "execution_count": null,
   "id": "5fd73b17",
   "metadata": {},
   "outputs": [],
   "source": [
    "# Dette gir oss en dataframe med én kolonne, vi indexerer med en list.\n",
    "df[['nace']]"
   ]
  },
  {
   "cell_type": "code",
   "execution_count": null,
   "id": "220dd384",
   "metadata": {},
   "outputs": [],
   "source": [
    "# En nyttig dict, \"key : value\"\n",
    "omkoding = {\n",
    "    'Unnamed: 0' : 'slett', \n",
    "    'work_id' : 'Arbeidssted', \n",
    "    'nace' : 'Næringskode', \n",
    "    'region_code' : 'RegionsKode', \n",
    "    'region' : 'RegionID',\n",
    "    'employee_points' : 'Ansatte'\n",
    "}"
   ]
  },
  {
   "cell_type": "code",
   "execution_count": null,
   "id": "fcc57c7d",
   "metadata": {},
   "outputs": [],
   "source": [
    "# Døp om kolonnene\n",
    "df.rename(columns = omkoding)"
   ]
  },
  {
   "cell_type": "code",
   "execution_count": null,
   "id": "29bf242b",
   "metadata": {},
   "outputs": [],
   "source": [
    "# Skrev vi over nå?\n",
    "df\n",
    "# Nei, rename() er ikke \"inplace\" / \"copy\""
   ]
  }
 ],
 "metadata": {
  "kernelspec": {
   "display_name": "Python 3",
   "language": "python",
   "name": "python3"
  },
  "language_info": {
   "codemirror_mode": {
    "name": "ipython",
    "version": 3
   },
   "file_extension": ".py",
   "mimetype": "text/x-python",
   "name": "python",
   "nbconvert_exporter": "python",
   "pygments_lexer": "ipython3",
   "version": "3.8.10"
  }
 },
 "nbformat": 4,
 "nbformat_minor": 5
}
