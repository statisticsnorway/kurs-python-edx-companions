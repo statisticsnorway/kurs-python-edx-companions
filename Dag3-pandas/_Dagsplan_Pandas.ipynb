{
 "cells": [
  {
   "cell_type": "markdown",
   "id": "06a618b1",
   "metadata": {},
   "source": [
    "- “kobling”\n",
    "- “omkoding”\n",
    "- “kolonnehåndtering”\n",
    "- “grupperingsvariabler”\n",
    "- “snu datasettet”\n",
    "- “tabulate” / “krysse”"
   ]
  },
  {
   "cell_type": "code",
   "execution_count": null,
   "id": "93259057",
   "metadata": {},
   "outputs": [],
   "source": []
  }
 ],
 "metadata": {
  "kernelspec": {
   "display_name": "Python 3",
   "language": "python",
   "name": "python3"
  },
  "language_info": {
   "codemirror_mode": {
    "name": "ipython",
    "version": 3
   },
   "file_extension": ".py",
   "mimetype": "text/x-python",
   "name": "python",
   "nbconvert_exporter": "python",
   "pygments_lexer": "ipython3",
   "version": "3.8.10"
  }
 },
 "nbformat": 4,
 "nbformat_minor": 5
}
