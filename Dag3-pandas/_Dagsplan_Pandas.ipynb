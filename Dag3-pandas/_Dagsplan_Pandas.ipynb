{
 "cells": [
  {
   "cell_type": "markdown",
   "id": "7e6ee4cb",
   "metadata": {},
   "source": [
    "# Pandas og operasjoner"
   ]
  },
  {
   "cell_type": "markdown",
   "id": "ef8a6ee6",
   "metadata": {},
   "source": [
    "- “kobling”\n",
    "- “omkoding”\n",
    "- “kolonnehåndtering”\n",
    "- “grupperingsvariabler”\n",
    "- “snu datasettet”\n",
    "- “tabulate” / “krysse”"
   ]
  },
  {
   "cell_type": "markdown",
   "id": "9703c16c",
   "metadata": {},
   "source": [
    "### Husk Boller og koding på onsdag\n",
    "https://ssbno.sharepoint.com/sites/byraanettet/_layouts/15/Event.aspx?ListGuid=a0801a90-f230-4501-b2bb-a1182a162a94&ItemId=538 \\\n",
    "Ta gjerne med konkrete problemstillinger"
   ]
  },
  {
   "cell_type": "markdown",
   "id": "86e8e680",
   "metadata": {},
   "source": [
    "<hr>"
   ]
  },
  {
   "cell_type": "markdown",
   "id": "aeeb1c70",
   "metadata": {},
   "source": [
    "### Repetisjon: \"Når bruker vi lists og dicts?\""
   ]
  },
  {
   "cell_type": "code",
   "execution_count": 1,
   "id": "6b4ebbe3",
   "metadata": {},
   "outputs": [
    {
     "data": {
      "text/plain": [
       "Index(['Unnamed: 0', 'work_id', 'nace', 'region_code', 'region',\n",
       "       'employee_points'],\n",
       "      dtype='object')"
      ]
     },
     "execution_count": 1,
     "metadata": {},
     "output_type": "execute_result"
    }
   ],
   "source": [
    "import pandas as pd\n",
    "# Forskjellen på å indexe på en string og en list av strings i pandas\n",
    "df = pd.read_csv('../data/mock_sysselsatte/companies_2019_30000.csv')\n",
    "df.columns"
   ]
  },
  {
   "cell_type": "code",
   "execution_count": 4,
   "id": "2ed54890",
   "metadata": {},
   "outputs": [
    {
     "data": {
      "text/plain": [
       "pandas.core.series.Series"
      ]
     },
     "execution_count": 4,
     "metadata": {},
     "output_type": "execute_result"
    }
   ],
   "source": [
    "# Dette gir oss en \"series\", vi indexerer kun på en string\n",
    "type(df['nace'])"
   ]
  },
  {
   "cell_type": "code",
   "execution_count": 5,
   "id": "9e01dd7b",
   "metadata": {},
   "outputs": [
    {
     "data": {
      "text/plain": [
       "pandas.core.frame.DataFrame"
      ]
     },
     "execution_count": 5,
     "metadata": {},
     "output_type": "execute_result"
    }
   ],
   "source": [
    "# Dette gir oss en dataframe med én kolonne, vi indexerer med en list.\n",
    "type(df[['nace']])"
   ]
  },
  {
   "cell_type": "code",
   "execution_count": 6,
   "id": "1ce5ef2b",
   "metadata": {},
   "outputs": [
    {
     "data": {
      "text/plain": [
       "Index(['Unnamed: 0', 'work_id', 'nace', 'region_code', 'region',\n",
       "       'employee_points'],\n",
       "      dtype='object')"
      ]
     },
     "execution_count": 6,
     "metadata": {},
     "output_type": "execute_result"
    }
   ],
   "source": [
    "df.columns"
   ]
  },
  {
   "cell_type": "code",
   "execution_count": 8,
   "id": "b5318bf5",
   "metadata": {},
   "outputs": [],
   "source": [
    "# En nyttig dict, \"key : value\"\n",
    "omkoding = {\n",
    "    'employee_points' : 'Ansatte',\n",
    "    'Unnamed: 0' : 'slett', \n",
    "    'work_id' : 'Arbeidssted', \n",
    "    'nace' : 'Næringskode', \n",
    "    'region_code' : 'RegionsKode', \n",
    "    'region' : 'RegionID'\n",
    "}"
   ]
  },
  {
   "cell_type": "code",
   "execution_count": 13,
   "id": "6d356d86",
   "metadata": {},
   "outputs": [],
   "source": [
    "# Døp om kolonnene\n",
    "df = df.rename(columns = omkoding)"
   ]
  },
  {
   "cell_type": "code",
   "execution_count": 12,
   "id": "6f91d7dc",
   "metadata": {},
   "outputs": [
    {
     "data": {
      "text/html": [
       "<div>\n",
       "<style scoped>\n",
       "    .dataframe tbody tr th:only-of-type {\n",
       "        vertical-align: middle;\n",
       "    }\n",
       "\n",
       "    .dataframe tbody tr th {\n",
       "        vertical-align: top;\n",
       "    }\n",
       "\n",
       "    .dataframe thead th {\n",
       "        text-align: right;\n",
       "    }\n",
       "</style>\n",
       "<table border=\"1\" class=\"dataframe\">\n",
       "  <thead>\n",
       "    <tr style=\"text-align: right;\">\n",
       "      <th></th>\n",
       "      <th>slett</th>\n",
       "      <th>Arbeidssted</th>\n",
       "      <th>Næringskode</th>\n",
       "      <th>RegionsKode</th>\n",
       "      <th>RegionID</th>\n",
       "      <th>Ansatte</th>\n",
       "    </tr>\n",
       "  </thead>\n",
       "  <tbody>\n",
       "    <tr>\n",
       "      <th>0</th>\n",
       "      <td>0</td>\n",
       "      <td>118415099</td>\n",
       "      <td>11.070</td>\n",
       "      <td>3.0</td>\n",
       "      <td>Oslo</td>\n",
       "      <td>60</td>\n",
       "    </tr>\n",
       "    <tr>\n",
       "      <th>1</th>\n",
       "      <td>1</td>\n",
       "      <td>165189001</td>\n",
       "      <td>10.920</td>\n",
       "      <td>3.0</td>\n",
       "      <td>Oslo</td>\n",
       "      <td>54</td>\n",
       "    </tr>\n",
       "    <tr>\n",
       "      <th>2</th>\n",
       "      <td>2</td>\n",
       "      <td>205912967</td>\n",
       "      <td>10.130</td>\n",
       "      <td>2.0</td>\n",
       "      <td>Akershus (-2019)</td>\n",
       "      <td>48</td>\n",
       "    </tr>\n",
       "    <tr>\n",
       "      <th>3</th>\n",
       "      <td>3</td>\n",
       "      <td>959013544</td>\n",
       "      <td>46.693</td>\n",
       "      <td>12.0</td>\n",
       "      <td>Hordaland (-2019)</td>\n",
       "      <td>46</td>\n",
       "    </tr>\n",
       "    <tr>\n",
       "      <th>4</th>\n",
       "      <td>4</td>\n",
       "      <td>405013223</td>\n",
       "      <td>09.900</td>\n",
       "      <td>2.0</td>\n",
       "      <td>Akershus (-2019)</td>\n",
       "      <td>88</td>\n",
       "    </tr>\n",
       "    <tr>\n",
       "      <th>...</th>\n",
       "      <td>...</td>\n",
       "      <td>...</td>\n",
       "      <td>...</td>\n",
       "      <td>...</td>\n",
       "      <td>...</td>\n",
       "      <td>...</td>\n",
       "    </tr>\n",
       "    <tr>\n",
       "      <th>1128</th>\n",
       "      <td>1128</td>\n",
       "      <td>706734220</td>\n",
       "      <td>51.210</td>\n",
       "      <td>50.0</td>\n",
       "      <td>Trøndelag - Trööndelage</td>\n",
       "      <td>15</td>\n",
       "    </tr>\n",
       "    <tr>\n",
       "      <th>1129</th>\n",
       "      <td>1129</td>\n",
       "      <td>156404021</td>\n",
       "      <td>74.200</td>\n",
       "      <td>18.0</td>\n",
       "      <td>Nordland</td>\n",
       "      <td>23</td>\n",
       "    </tr>\n",
       "    <tr>\n",
       "      <th>1130</th>\n",
       "      <td>1130</td>\n",
       "      <td>962214437</td>\n",
       "      <td>74.102</td>\n",
       "      <td>18.0</td>\n",
       "      <td>Nordland</td>\n",
       "      <td>12</td>\n",
       "    </tr>\n",
       "    <tr>\n",
       "      <th>1131</th>\n",
       "      <td>1131</td>\n",
       "      <td>999083400</td>\n",
       "      <td>43.341</td>\n",
       "      <td>10.0</td>\n",
       "      <td>Vest-Agder (-2019)</td>\n",
       "      <td>21</td>\n",
       "    </tr>\n",
       "    <tr>\n",
       "      <th>1132</th>\n",
       "      <td>1132</td>\n",
       "      <td>438579667</td>\n",
       "      <td>27.900</td>\n",
       "      <td>7.0</td>\n",
       "      <td>Vestfold (-2019)</td>\n",
       "      <td>16</td>\n",
       "    </tr>\n",
       "  </tbody>\n",
       "</table>\n",
       "<p>1133 rows × 6 columns</p>\n",
       "</div>"
      ],
      "text/plain": [
       "      slett  Arbeidssted Næringskode  RegionsKode                 RegionID  \\\n",
       "0         0    118415099      11.070          3.0                     Oslo   \n",
       "1         1    165189001      10.920          3.0                     Oslo   \n",
       "2         2    205912967      10.130          2.0         Akershus (-2019)   \n",
       "3         3    959013544      46.693         12.0        Hordaland (-2019)   \n",
       "4         4    405013223      09.900          2.0         Akershus (-2019)   \n",
       "...     ...          ...         ...          ...                      ...   \n",
       "1128   1128    706734220      51.210         50.0  Trøndelag - Trööndelage   \n",
       "1129   1129    156404021      74.200         18.0                 Nordland   \n",
       "1130   1130    962214437      74.102         18.0                 Nordland   \n",
       "1131   1131    999083400      43.341         10.0       Vest-Agder (-2019)   \n",
       "1132   1132    438579667      27.900          7.0         Vestfold (-2019)   \n",
       "\n",
       "      Ansatte  \n",
       "0          60  \n",
       "1          54  \n",
       "2          48  \n",
       "3          46  \n",
       "4          88  \n",
       "...       ...  \n",
       "1128       15  \n",
       "1129       23  \n",
       "1130       12  \n",
       "1131       21  \n",
       "1132       16  \n",
       "\n",
       "[1133 rows x 6 columns]"
      ]
     },
     "execution_count": 12,
     "metadata": {},
     "output_type": "execute_result"
    }
   ],
   "source": [
    "# Skrev vi over nå?\n",
    "df\n",
    "# Nei, rename() er ikke \"inplace\" / \"copy\""
   ]
  },
  {
   "cell_type": "code",
   "execution_count": null,
   "id": "f79890d3",
   "metadata": {},
   "outputs": [],
   "source": []
  }
 ],
 "metadata": {
  "kernelspec": {
   "display_name": "Python 3",
   "language": "python",
   "name": "python3"
  },
  "language_info": {
   "codemirror_mode": {
    "name": "ipython",
    "version": 3
   },
   "file_extension": ".py",
   "mimetype": "text/x-python",
   "name": "python",
   "nbconvert_exporter": "python",
   "pygments_lexer": "ipython3",
   "version": "3.8.10"
  }
 },
 "nbformat": 4,
 "nbformat_minor": 5
}
