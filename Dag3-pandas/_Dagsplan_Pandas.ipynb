{
 "cells": [
  {
   "cell_type": "markdown",
   "id": "c81fa320",
   "metadata": {},
   "source": [
    "# Pandas og operasjoner"
   ]
  },
  {
   "cell_type": "markdown",
   "id": "92c253d6",
   "metadata": {},
   "source": [
    "- “kobling”\n",
    "- “omkoding”\n",
    "- “kolonnehåndtering”\n",
    "- “grupperingsvariabler”\n",
    "- “snu datasettet”\n",
    "- “tabulate” / “krysse”"
   ]
  },
  {
   "cell_type": "markdown",
   "id": "cb8a7f14",
   "metadata": {},
   "source": [
    "### Husk Boller og koding på onsdag\n",
    "https://ssbno.sharepoint.com/sites/byraanettet/_layouts/15/Event.aspx?ListGuid=a0801a90-f230-4501-b2bb-a1182a162a94&ItemId=538 \\\n",
    "Ta gjerne med konkrete problemstillinger"
   ]
  },
  {
   "cell_type": "markdown",
   "id": "ae3354a9",
   "metadata": {},
   "source": [
    "<hr>"
   ]
  },
  {
   "cell_type": "markdown",
   "id": "cc01bb68",
   "metadata": {},
   "source": [
    "### Repetisjon: \"Når bruker vi lists og dicts?\""
   ]
  },
  {
   "cell_type": "code",
   "execution_count": null,
   "id": "97da3a86",
   "metadata": {},
   "outputs": [],
   "source": [
    "import pandas as pd\n",
    "# Forskjellen på å indexe på en string og en list av strings i pandas\n",
    "df = pd.read_csv('../data/mock_sysselsatte/companies_2019_30000.csv')\n",
    "df.columns"
   ]
  },
  {
   "cell_type": "code",
   "execution_count": null,
   "id": "8680e9f6",
   "metadata": {},
   "outputs": [],
   "source": [
    "# Dette gir oss en \"series\", vi indexerer kun på en string\n",
    "df['nace']"
   ]
  },
  {
   "cell_type": "code",
   "execution_count": null,
   "id": "c68e27d5",
   "metadata": {},
   "outputs": [],
   "source": [
    "# Dette gir oss en dataframe med én kolonne, vi indexerer med en list.\n",
    "df[['nace']]"
   ]
  },
  {
   "cell_type": "code",
   "execution_count": null,
   "id": "2d313a84",
   "metadata": {},
   "outputs": [],
   "source": [
    "# En nyttig dict, \"key : value\"\n",
    "omkoding = {\n",
    "    'Unnamed: 0' : 'slett', \n",
    "    'work_id' : 'Arbeidssted', \n",
    "    'nace' : 'Næringskode', \n",
    "    'region_code' : 'RegionsKode', \n",
    "    'region' : 'RegionID',\n",
    "    'employee_points' : 'Ansatte'\n",
    "}"
   ]
  },
  {
   "cell_type": "code",
   "execution_count": null,
   "id": "4186256b",
   "metadata": {},
   "outputs": [],
   "source": [
    "# Døp om kolonnene\n",
    "df.rename(columns = omkoding)"
   ]
  },
  {
   "cell_type": "code",
   "execution_count": null,
   "id": "2f00f7d4",
   "metadata": {},
   "outputs": [],
   "source": [
    "# Skrev vi over nå?\n",
    "df\n",
    "# Nei, rename() er ikke \"inplace\" / \"copy\""
   ]
  }
 ],
 "metadata": {
  "kernelspec": {
   "display_name": "Python 3",
   "language": "python",
   "name": "python3"
  },
  "language_info": {
   "codemirror_mode": {
    "name": "ipython",
    "version": 3
   },
   "file_extension": ".py",
   "mimetype": "text/x-python",
   "name": "python",
   "nbconvert_exporter": "python",
   "pygments_lexer": "ipython3",
   "version": "3.8.10"
  }
 },
 "nbformat": 4,
 "nbformat_minor": 5
}
