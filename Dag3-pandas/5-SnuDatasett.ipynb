{
 "cells": [
  {
   "cell_type": "markdown",
   "id": "9f4289c7",
   "metadata": {},
   "source": [
    "# Snu = \"Putt\" en, eller flere, av kolonnene inn i radene"
   ]
  },
  {
   "cell_type": "markdown",
   "id": "78674472",
   "metadata": {},
   "source": [
    "## Pivot_table()\n",
    "https://pandas.pydata.org/pandas-docs/stable/reference/api/pandas.pivot_table.html"
   ]
  },
  {
   "cell_type": "code",
   "execution_count": null,
   "id": "f80eb053",
   "metadata": {},
   "outputs": [],
   "source": [
    "import pandas as pd\n",
    "import numpy as np\n",
    "pop = pd.read_csv('../data/mock_sysselsatte/population_2019_30000.csv')\n",
    "comp = pd.read_csv('../data/mock_sysselsatte/companies_2019_30000.csv')"
   ]
  },
  {
   "cell_type": "markdown",
   "id": "5faa4170",
   "metadata": {},
   "source": [
    "### Oppgave: snu datasettet på ansatte per ensifrede nacekode per fylke"
   ]
  },
  {
   "cell_type": "code",
   "execution_count": null,
   "id": "0f6e82e1",
   "metadata": {},
   "outputs": [],
   "source": [
    "comp"
   ]
  },
  {
   "cell_type": "code",
   "execution_count": null,
   "id": "340ca115",
   "metadata": {},
   "outputs": [],
   "source": [
    "comp2 = comp.copy()"
   ]
  },
  {
   "cell_type": "code",
   "execution_count": null,
   "id": "a6773a29",
   "metadata": {},
   "outputs": [],
   "source": [
    "# Lag ensiffret nacekode fra 5 sifret, ved å beholde det første tegnet med slicing\n",
    "comp2['nace1'] = comp2['nace'].str[:1]\n",
    "comp2"
   ]
  },
  {
   "cell_type": "code",
   "execution_count": null,
   "id": "0f7a9084",
   "metadata": {},
   "outputs": [],
   "source": [
    "# Pivot table uten å filtrere ned først, siden vi definerer kolonnene vi er interesserte i med parametre\n",
    "# Med \"aggfunc\" definerer vi hva som vil skje når det er flere verdier som overlapper på aksene\n",
    "comp_piv = pd.pivot_table(comp2, \n",
    "               values = 'employee_points', \n",
    "               index = ['nace1'],\n",
    "               columns = ['region'],\n",
    "               aggfunc = np.sum  \n",
    "                # Gjennomsnittlig ansatte per selskap isteden:\n",
    "               # aggfunc = np.mean\n",
    "              )\n",
    "comp_piv"
   ]
  },
  {
   "cell_type": "markdown",
   "id": "139c99e9",
   "metadata": {},
   "source": [
    "## Pivot()\n",
    "Støtter til forskjell fra pivot_table, ikke aggregeringsfunksjoner. \\\n",
    "Men er tilgjengelig under dataframen, ikke pandaspakke i seg selv. \\\n",
    "https://pandas.pydata.org/pandas-docs/stable/reference/api/pandas.DataFrame.pivot.html#pandas.DataFrame.pivot"
   ]
  },
  {
   "cell_type": "code",
   "execution_count": null,
   "id": "aa2219c2",
   "metadata": {},
   "outputs": [],
   "source": [
    "comp_piv_simple = comp2.pivot(index = ['nace1', 'work_id'],\n",
    "                            columns = 'region',\n",
    "                            values = 'employee_points')\n",
    "comp_piv_simple"
   ]
  },
  {
   "cell_type": "code",
   "execution_count": null,
   "id": "01b31415",
   "metadata": {},
   "outputs": [],
   "source": [
    "# Alle selskapene på nace1 = 0\n",
    "comp_piv_simple.loc['0'].head(30)"
   ]
  }
 ],
 "metadata": {
  "kernelspec": {
   "display_name": "Python 3",
   "language": "python",
   "name": "python3"
  },
  "language_info": {
   "codemirror_mode": {
    "name": "ipython",
    "version": 3
   },
   "file_extension": ".py",
   "mimetype": "text/x-python",
   "name": "python",
   "nbconvert_exporter": "python",
   "pygments_lexer": "ipython3",
   "version": "3.8.10"
  }
 },
 "nbformat": 4,
 "nbformat_minor": 5
}
