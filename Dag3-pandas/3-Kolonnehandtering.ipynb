{
 "cells": [
  {
   "cell_type": "code",
   "execution_count": 3,
   "id": "4f86ad5f",
   "metadata": {},
   "outputs": [],
   "source": [
    "import pandas as pd\n",
    "pop = pd.read_csv('../data/mock_sysselsatte/population_2019_30000.csv')\n",
    "comp = pd.read_csv('../data/mock_sysselsatte/companies_2019_30000.csv')"
   ]
  },
  {
   "cell_type": "markdown",
   "id": "6b397142",
   "metadata": {},
   "source": [
    "### Repetisjon: Indexing inn til en enkelt verdi"
   ]
  },
  {
   "cell_type": "code",
   "execution_count": 14,
   "id": "a64defb8",
   "metadata": {},
   "outputs": [
    {
     "data": {
      "text/plain": [
       "0"
      ]
     },
     "execution_count": 14,
     "metadata": {},
     "output_type": "execute_result"
    }
   ],
   "source": [
    "# Kolonnenavn først\n",
    "pop['age'][0]"
   ]
  },
  {
   "cell_type": "code",
   "execution_count": 20,
   "id": "16d32a42",
   "metadata": {},
   "outputs": [
    {
     "data": {
      "text/plain": [
       "'Menn'"
      ]
     },
     "execution_count": 20,
     "metadata": {},
     "output_type": "execute_result"
    }
   ],
   "source": [
    "# Radnavn først\n",
    "pop.loc[0]['sex']"
   ]
  },
  {
   "cell_type": "markdown",
   "id": "1f21f4c5",
   "metadata": {},
   "source": [
    "### \"Keep\""
   ]
  },
  {
   "cell_type": "code",
   "execution_count": 4,
   "id": "983b0bec",
   "metadata": {},
   "outputs": [
    {
     "data": {
      "text/plain": [
       "Index(['Unnamed: 0', 'id', 'work_id', 'sex', 'age', 'year_birth',\n",
       "       'work_percent'],\n",
       "      dtype='object')"
      ]
     },
     "execution_count": 4,
     "metadata": {},
     "output_type": "execute_result"
    }
   ],
   "source": [
    "pop.columns"
   ]
  },
  {
   "cell_type": "code",
   "execution_count": 5,
   "id": "8a442883",
   "metadata": {},
   "outputs": [
    {
     "data": {
      "text/html": [
       "<div>\n",
       "<style scoped>\n",
       "    .dataframe tbody tr th:only-of-type {\n",
       "        vertical-align: middle;\n",
       "    }\n",
       "\n",
       "    .dataframe tbody tr th {\n",
       "        vertical-align: top;\n",
       "    }\n",
       "\n",
       "    .dataframe thead th {\n",
       "        text-align: right;\n",
       "    }\n",
       "</style>\n",
       "<table border=\"1\" class=\"dataframe\">\n",
       "  <thead>\n",
       "    <tr style=\"text-align: right;\">\n",
       "      <th></th>\n",
       "      <th>sex</th>\n",
       "      <th>age</th>\n",
       "      <th>work_percent</th>\n",
       "    </tr>\n",
       "  </thead>\n",
       "  <tbody>\n",
       "    <tr>\n",
       "      <th>0</th>\n",
       "      <td>Menn</td>\n",
       "      <td>0</td>\n",
       "      <td>NaN</td>\n",
       "    </tr>\n",
       "    <tr>\n",
       "      <th>1</th>\n",
       "      <td>Menn</td>\n",
       "      <td>0</td>\n",
       "      <td>NaN</td>\n",
       "    </tr>\n",
       "    <tr>\n",
       "      <th>2</th>\n",
       "      <td>Menn</td>\n",
       "      <td>0</td>\n",
       "      <td>NaN</td>\n",
       "    </tr>\n",
       "    <tr>\n",
       "      <th>3</th>\n",
       "      <td>Menn</td>\n",
       "      <td>0</td>\n",
       "      <td>NaN</td>\n",
       "    </tr>\n",
       "    <tr>\n",
       "      <th>4</th>\n",
       "      <td>Menn</td>\n",
       "      <td>0</td>\n",
       "      <td>NaN</td>\n",
       "    </tr>\n",
       "    <tr>\n",
       "      <th>...</th>\n",
       "      <td>...</td>\n",
       "      <td>...</td>\n",
       "      <td>...</td>\n",
       "    </tr>\n",
       "    <tr>\n",
       "      <th>29995</th>\n",
       "      <td>Kvinner</td>\n",
       "      <td>93</td>\n",
       "      <td>NaN</td>\n",
       "    </tr>\n",
       "    <tr>\n",
       "      <th>29996</th>\n",
       "      <td>Kvinner</td>\n",
       "      <td>93</td>\n",
       "      <td>NaN</td>\n",
       "    </tr>\n",
       "    <tr>\n",
       "      <th>29997</th>\n",
       "      <td>Kvinner</td>\n",
       "      <td>90</td>\n",
       "      <td>NaN</td>\n",
       "    </tr>\n",
       "    <tr>\n",
       "      <th>29998</th>\n",
       "      <td>Kvinner</td>\n",
       "      <td>90</td>\n",
       "      <td>NaN</td>\n",
       "    </tr>\n",
       "    <tr>\n",
       "      <th>29999</th>\n",
       "      <td>Kvinner</td>\n",
       "      <td>90</td>\n",
       "      <td>NaN</td>\n",
       "    </tr>\n",
       "  </tbody>\n",
       "</table>\n",
       "<p>30000 rows × 3 columns</p>\n",
       "</div>"
      ],
      "text/plain": [
       "           sex  age  work_percent\n",
       "0         Menn    0           NaN\n",
       "1         Menn    0           NaN\n",
       "2         Menn    0           NaN\n",
       "3         Menn    0           NaN\n",
       "4         Menn    0           NaN\n",
       "...        ...  ...           ...\n",
       "29995  Kvinner   93           NaN\n",
       "29996  Kvinner   93           NaN\n",
       "29997  Kvinner   90           NaN\n",
       "29998  Kvinner   90           NaN\n",
       "29999  Kvinner   90           NaN\n",
       "\n",
       "[30000 rows x 3 columns]"
      ]
     },
     "execution_count": 5,
     "metadata": {},
     "output_type": "execute_result"
    }
   ],
   "source": [
    "pop[['sex', 'age', 'work_percent']]"
   ]
  },
  {
   "cell_type": "markdown",
   "id": "372eb405",
   "metadata": {},
   "source": [
    "### \"Drop\""
   ]
  },
  {
   "cell_type": "code",
   "execution_count": 6,
   "id": "65dd22ae",
   "metadata": {},
   "outputs": [
    {
     "data": {
      "text/html": [
       "<div>\n",
       "<style scoped>\n",
       "    .dataframe tbody tr th:only-of-type {\n",
       "        vertical-align: middle;\n",
       "    }\n",
       "\n",
       "    .dataframe tbody tr th {\n",
       "        vertical-align: top;\n",
       "    }\n",
       "\n",
       "    .dataframe thead th {\n",
       "        text-align: right;\n",
       "    }\n",
       "</style>\n",
       "<table border=\"1\" class=\"dataframe\">\n",
       "  <thead>\n",
       "    <tr style=\"text-align: right;\">\n",
       "      <th></th>\n",
       "      <th>Unnamed: 0</th>\n",
       "      <th>id</th>\n",
       "      <th>work_id</th>\n",
       "      <th>sex</th>\n",
       "      <th>year_birth</th>\n",
       "      <th>work_percent</th>\n",
       "    </tr>\n",
       "  </thead>\n",
       "  <tbody>\n",
       "    <tr>\n",
       "      <th>0</th>\n",
       "      <td>0</td>\n",
       "      <td>29101946112</td>\n",
       "      <td>NaN</td>\n",
       "      <td>Menn</td>\n",
       "      <td>2019</td>\n",
       "      <td>NaN</td>\n",
       "    </tr>\n",
       "    <tr>\n",
       "      <th>1</th>\n",
       "      <td>1</td>\n",
       "      <td>26101930288</td>\n",
       "      <td>NaN</td>\n",
       "      <td>Menn</td>\n",
       "      <td>2019</td>\n",
       "      <td>NaN</td>\n",
       "    </tr>\n",
       "    <tr>\n",
       "      <th>2</th>\n",
       "      <td>2</td>\n",
       "      <td>22091952214</td>\n",
       "      <td>NaN</td>\n",
       "      <td>Menn</td>\n",
       "      <td>2019</td>\n",
       "      <td>NaN</td>\n",
       "    </tr>\n",
       "    <tr>\n",
       "      <th>3</th>\n",
       "      <td>3</td>\n",
       "      <td>4071997222</td>\n",
       "      <td>NaN</td>\n",
       "      <td>Menn</td>\n",
       "      <td>2019</td>\n",
       "      <td>NaN</td>\n",
       "    </tr>\n",
       "    <tr>\n",
       "      <th>4</th>\n",
       "      <td>4</td>\n",
       "      <td>7101970642</td>\n",
       "      <td>NaN</td>\n",
       "      <td>Menn</td>\n",
       "      <td>2019</td>\n",
       "      <td>NaN</td>\n",
       "    </tr>\n",
       "    <tr>\n",
       "      <th>...</th>\n",
       "      <td>...</td>\n",
       "      <td>...</td>\n",
       "      <td>...</td>\n",
       "      <td>...</td>\n",
       "      <td>...</td>\n",
       "      <td>...</td>\n",
       "    </tr>\n",
       "    <tr>\n",
       "      <th>29995</th>\n",
       "      <td>29995</td>\n",
       "      <td>15072660901</td>\n",
       "      <td>NaN</td>\n",
       "      <td>Kvinner</td>\n",
       "      <td>1926</td>\n",
       "      <td>NaN</td>\n",
       "    </tr>\n",
       "    <tr>\n",
       "      <th>29996</th>\n",
       "      <td>29996</td>\n",
       "      <td>23012604128</td>\n",
       "      <td>NaN</td>\n",
       "      <td>Kvinner</td>\n",
       "      <td>1926</td>\n",
       "      <td>NaN</td>\n",
       "    </tr>\n",
       "    <tr>\n",
       "      <th>29997</th>\n",
       "      <td>29997</td>\n",
       "      <td>14102931680</td>\n",
       "      <td>NaN</td>\n",
       "      <td>Kvinner</td>\n",
       "      <td>1929</td>\n",
       "      <td>NaN</td>\n",
       "    </tr>\n",
       "    <tr>\n",
       "      <th>29998</th>\n",
       "      <td>29998</td>\n",
       "      <td>29062932768</td>\n",
       "      <td>NaN</td>\n",
       "      <td>Kvinner</td>\n",
       "      <td>1929</td>\n",
       "      <td>NaN</td>\n",
       "    </tr>\n",
       "    <tr>\n",
       "      <th>29999</th>\n",
       "      <td>29999</td>\n",
       "      <td>11072931487</td>\n",
       "      <td>NaN</td>\n",
       "      <td>Kvinner</td>\n",
       "      <td>1929</td>\n",
       "      <td>NaN</td>\n",
       "    </tr>\n",
       "  </tbody>\n",
       "</table>\n",
       "<p>30000 rows × 6 columns</p>\n",
       "</div>"
      ],
      "text/plain": [
       "       Unnamed: 0           id  work_id      sex  year_birth  work_percent\n",
       "0               0  29101946112      NaN     Menn        2019           NaN\n",
       "1               1  26101930288      NaN     Menn        2019           NaN\n",
       "2               2  22091952214      NaN     Menn        2019           NaN\n",
       "3               3   4071997222      NaN     Menn        2019           NaN\n",
       "4               4   7101970642      NaN     Menn        2019           NaN\n",
       "...           ...          ...      ...      ...         ...           ...\n",
       "29995       29995  15072660901      NaN  Kvinner        1926           NaN\n",
       "29996       29996  23012604128      NaN  Kvinner        1926           NaN\n",
       "29997       29997  14102931680      NaN  Kvinner        1929           NaN\n",
       "29998       29998  29062932768      NaN  Kvinner        1929           NaN\n",
       "29999       29999  11072931487      NaN  Kvinner        1929           NaN\n",
       "\n",
       "[30000 rows x 6 columns]"
      ]
     },
     "execution_count": 6,
     "metadata": {},
     "output_type": "execute_result"
    }
   ],
   "source": [
    "pop.drop('age', axis = \"columns\")"
   ]
  },
  {
   "cell_type": "markdown",
   "id": "ef1a4803",
   "metadata": {},
   "source": [
    "### .columns / .keys()"
   ]
  },
  {
   "cell_type": "code",
   "execution_count": 7,
   "id": "107e355e",
   "metadata": {},
   "outputs": [
    {
     "data": {
      "text/plain": [
       "Index(['Unnamed: 0', 'id', 'work_id', 'sex', 'age', 'year_birth',\n",
       "       'work_percent'],\n",
       "      dtype='object')"
      ]
     },
     "execution_count": 7,
     "metadata": {},
     "output_type": "execute_result"
    }
   ],
   "source": [
    "pop.columns"
   ]
  },
  {
   "cell_type": "code",
   "execution_count": 8,
   "id": "165274e5",
   "metadata": {},
   "outputs": [
    {
     "data": {
      "text/plain": [
       "Index(['Unnamed: 0', 'id', 'work_id', 'sex', 'age', 'year_birth',\n",
       "       'work_percent'],\n",
       "      dtype='object')"
      ]
     },
     "execution_count": 8,
     "metadata": {},
     "output_type": "execute_result"
    }
   ],
   "source": [
    "pop.keys()"
   ]
  },
  {
   "cell_type": "markdown",
   "id": "ee1c1735",
   "metadata": {},
   "source": [
    "##### Bonus: rename kun med .columns"
   ]
  },
  {
   "cell_type": "code",
   "execution_count": 10,
   "id": "e490b4e0",
   "metadata": {},
   "outputs": [],
   "source": [
    "change_names = list(pop.columns)\n",
    "change_names[0] = 'delete_me' \n",
    "pop.columns = change_names"
   ]
  },
  {
   "cell_type": "code",
   "execution_count": 11,
   "id": "54dee837",
   "metadata": {},
   "outputs": [
    {
     "data": {
      "text/plain": [
       "Index(['delete_me', 'id', 'work_id', 'sex', 'age', 'year_birth',\n",
       "       'work_percent'],\n",
       "      dtype='object')"
      ]
     },
     "execution_count": 11,
     "metadata": {},
     "output_type": "execute_result"
    }
   ],
   "source": [
    "pop.columns"
   ]
  },
  {
   "cell_type": "markdown",
   "id": "ca639f33",
   "metadata": {},
   "source": [
    "### .rename()"
   ]
  },
  {
   "cell_type": "code",
   "execution_count": 13,
   "id": "e9e82ddc",
   "metadata": {},
   "outputs": [
    {
     "data": {
      "text/html": [
       "<div>\n",
       "<style scoped>\n",
       "    .dataframe tbody tr th:only-of-type {\n",
       "        vertical-align: middle;\n",
       "    }\n",
       "\n",
       "    .dataframe tbody tr th {\n",
       "        vertical-align: top;\n",
       "    }\n",
       "\n",
       "    .dataframe thead th {\n",
       "        text-align: right;\n",
       "    }\n",
       "</style>\n",
       "<table border=\"1\" class=\"dataframe\">\n",
       "  <thead>\n",
       "    <tr style=\"text-align: right;\">\n",
       "      <th></th>\n",
       "      <th>delete_me</th>\n",
       "      <th>id</th>\n",
       "      <th>work_id</th>\n",
       "      <th>kjoenn</th>\n",
       "      <th>alder</th>\n",
       "      <th>year_birth</th>\n",
       "      <th>work_percent</th>\n",
       "    </tr>\n",
       "  </thead>\n",
       "  <tbody>\n",
       "    <tr>\n",
       "      <th>0</th>\n",
       "      <td>0</td>\n",
       "      <td>29101946112</td>\n",
       "      <td>NaN</td>\n",
       "      <td>Menn</td>\n",
       "      <td>0</td>\n",
       "      <td>2019</td>\n",
       "      <td>NaN</td>\n",
       "    </tr>\n",
       "    <tr>\n",
       "      <th>1</th>\n",
       "      <td>1</td>\n",
       "      <td>26101930288</td>\n",
       "      <td>NaN</td>\n",
       "      <td>Menn</td>\n",
       "      <td>0</td>\n",
       "      <td>2019</td>\n",
       "      <td>NaN</td>\n",
       "    </tr>\n",
       "    <tr>\n",
       "      <th>2</th>\n",
       "      <td>2</td>\n",
       "      <td>22091952214</td>\n",
       "      <td>NaN</td>\n",
       "      <td>Menn</td>\n",
       "      <td>0</td>\n",
       "      <td>2019</td>\n",
       "      <td>NaN</td>\n",
       "    </tr>\n",
       "    <tr>\n",
       "      <th>3</th>\n",
       "      <td>3</td>\n",
       "      <td>4071997222</td>\n",
       "      <td>NaN</td>\n",
       "      <td>Menn</td>\n",
       "      <td>0</td>\n",
       "      <td>2019</td>\n",
       "      <td>NaN</td>\n",
       "    </tr>\n",
       "    <tr>\n",
       "      <th>4</th>\n",
       "      <td>4</td>\n",
       "      <td>7101970642</td>\n",
       "      <td>NaN</td>\n",
       "      <td>Menn</td>\n",
       "      <td>0</td>\n",
       "      <td>2019</td>\n",
       "      <td>NaN</td>\n",
       "    </tr>\n",
       "    <tr>\n",
       "      <th>...</th>\n",
       "      <td>...</td>\n",
       "      <td>...</td>\n",
       "      <td>...</td>\n",
       "      <td>...</td>\n",
       "      <td>...</td>\n",
       "      <td>...</td>\n",
       "      <td>...</td>\n",
       "    </tr>\n",
       "    <tr>\n",
       "      <th>29995</th>\n",
       "      <td>29995</td>\n",
       "      <td>15072660901</td>\n",
       "      <td>NaN</td>\n",
       "      <td>Kvinner</td>\n",
       "      <td>93</td>\n",
       "      <td>1926</td>\n",
       "      <td>NaN</td>\n",
       "    </tr>\n",
       "    <tr>\n",
       "      <th>29996</th>\n",
       "      <td>29996</td>\n",
       "      <td>23012604128</td>\n",
       "      <td>NaN</td>\n",
       "      <td>Kvinner</td>\n",
       "      <td>93</td>\n",
       "      <td>1926</td>\n",
       "      <td>NaN</td>\n",
       "    </tr>\n",
       "    <tr>\n",
       "      <th>29997</th>\n",
       "      <td>29997</td>\n",
       "      <td>14102931680</td>\n",
       "      <td>NaN</td>\n",
       "      <td>Kvinner</td>\n",
       "      <td>90</td>\n",
       "      <td>1929</td>\n",
       "      <td>NaN</td>\n",
       "    </tr>\n",
       "    <tr>\n",
       "      <th>29998</th>\n",
       "      <td>29998</td>\n",
       "      <td>29062932768</td>\n",
       "      <td>NaN</td>\n",
       "      <td>Kvinner</td>\n",
       "      <td>90</td>\n",
       "      <td>1929</td>\n",
       "      <td>NaN</td>\n",
       "    </tr>\n",
       "    <tr>\n",
       "      <th>29999</th>\n",
       "      <td>29999</td>\n",
       "      <td>11072931487</td>\n",
       "      <td>NaN</td>\n",
       "      <td>Kvinner</td>\n",
       "      <td>90</td>\n",
       "      <td>1929</td>\n",
       "      <td>NaN</td>\n",
       "    </tr>\n",
       "  </tbody>\n",
       "</table>\n",
       "<p>30000 rows × 7 columns</p>\n",
       "</div>"
      ],
      "text/plain": [
       "       delete_me           id  work_id   kjoenn  alder  year_birth  \\\n",
       "0              0  29101946112      NaN     Menn      0        2019   \n",
       "1              1  26101930288      NaN     Menn      0        2019   \n",
       "2              2  22091952214      NaN     Menn      0        2019   \n",
       "3              3   4071997222      NaN     Menn      0        2019   \n",
       "4              4   7101970642      NaN     Menn      0        2019   \n",
       "...          ...          ...      ...      ...    ...         ...   \n",
       "29995      29995  15072660901      NaN  Kvinner     93        1926   \n",
       "29996      29996  23012604128      NaN  Kvinner     93        1926   \n",
       "29997      29997  14102931680      NaN  Kvinner     90        1929   \n",
       "29998      29998  29062932768      NaN  Kvinner     90        1929   \n",
       "29999      29999  11072931487      NaN  Kvinner     90        1929   \n",
       "\n",
       "       work_percent  \n",
       "0               NaN  \n",
       "1               NaN  \n",
       "2               NaN  \n",
       "3               NaN  \n",
       "4               NaN  \n",
       "...             ...  \n",
       "29995           NaN  \n",
       "29996           NaN  \n",
       "29997           NaN  \n",
       "29998           NaN  \n",
       "29999           NaN  \n",
       "\n",
       "[30000 rows x 7 columns]"
      ]
     },
     "execution_count": 13,
     "metadata": {},
     "output_type": "execute_result"
    }
   ],
   "source": [
    "# Rename tar en dict, som er veldig fint\n",
    "renaming = {\n",
    "    'sex' : 'kjoenn',\n",
    "    'age' : 'alder'\n",
    "}\n",
    "pop.rename(renaming, axis = \"columns\")"
   ]
  },
  {
   "cell_type": "code",
   "execution_count": null,
   "id": "e2d37d8e",
   "metadata": {},
   "outputs": [],
   "source": []
  }
 ],
 "metadata": {
  "kernelspec": {
   "display_name": "Python 3",
   "language": "python",
   "name": "python3"
  },
  "language_info": {
   "codemirror_mode": {
    "name": "ipython",
    "version": 3
   },
   "file_extension": ".py",
   "mimetype": "text/x-python",
   "name": "python",
   "nbconvert_exporter": "python",
   "pygments_lexer": "ipython3",
   "version": "3.8.10"
  }
 },
 "nbformat": 4,
 "nbformat_minor": 5
}
