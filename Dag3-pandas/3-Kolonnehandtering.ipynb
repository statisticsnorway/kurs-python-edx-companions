{
 "cells": [
  {
   "cell_type": "code",
   "execution_count": null,
   "id": "5ee292e8",
   "metadata": {},
   "outputs": [],
   "source": [
    "import pandas as pd\n",
    "pop = pd.read_csv('../data/mock_sysselsatte/population_2019_30000.csv')\n",
    "comp = pd.read_csv('../data/mock_sysselsatte/companies_2019_30000.csv')"
   ]
  },
  {
   "cell_type": "markdown",
   "id": "26598991",
   "metadata": {},
   "source": [
    "### Repetisjon: Indexing inn til en enkelt verdi"
   ]
  },
  {
   "cell_type": "code",
   "execution_count": null,
   "id": "caca8035",
   "metadata": {},
   "outputs": [],
   "source": [
    "# Kolonnenavn først\n",
    "pop['age'][0]"
   ]
  },
  {
   "cell_type": "code",
   "execution_count": null,
   "id": "e0abd782",
   "metadata": {},
   "outputs": [],
   "source": [
    "# Radnavn først\n",
    "pop.loc[0]['sex']"
   ]
  },
  {
   "cell_type": "markdown",
   "id": "c31e9e2a",
   "metadata": {},
   "source": [
    "### \"Keep\""
   ]
  },
  {
   "cell_type": "code",
   "execution_count": null,
   "id": "4fe71c82",
   "metadata": {},
   "outputs": [],
   "source": [
    "pop.columns"
   ]
  },
  {
   "cell_type": "code",
   "execution_count": null,
   "id": "6a180ba5",
   "metadata": {},
   "outputs": [],
   "source": [
    "pop[['sex', 'age', 'work_percent']]"
   ]
  },
  {
   "cell_type": "markdown",
   "id": "101988b6",
   "metadata": {},
   "source": [
    "### \"Drop\""
   ]
  },
  {
   "cell_type": "code",
   "execution_count": null,
   "id": "ac264f51",
   "metadata": {},
   "outputs": [],
   "source": [
    "pop.drop('age', axis = \"columns\")"
   ]
  },
  {
   "cell_type": "markdown",
   "id": "9bc992ee",
   "metadata": {},
   "source": [
    "### .columns / .keys()"
   ]
  },
  {
   "cell_type": "code",
   "execution_count": null,
   "id": "1db88c55",
   "metadata": {},
   "outputs": [],
   "source": [
    "pop.columns"
   ]
  },
  {
   "cell_type": "code",
   "execution_count": null,
   "id": "8feab9c4",
   "metadata": {},
   "outputs": [],
   "source": [
    "pop.keys()"
   ]
  },
  {
   "cell_type": "markdown",
   "id": "9555a021",
   "metadata": {},
   "source": [
    "##### Bonus: rename kun med .columns"
   ]
  },
  {
   "cell_type": "code",
   "execution_count": null,
   "id": "3f418acb",
   "metadata": {},
   "outputs": [],
   "source": [
    "change_names = list(pop.columns)\n",
    "change_names[0] = 'delete_me' \n",
    "pop.columns = change_names"
   ]
  },
  {
   "cell_type": "code",
   "execution_count": null,
   "id": "7812147e",
   "metadata": {},
   "outputs": [],
   "source": [
    "pop.columns"
   ]
  },
  {
   "cell_type": "markdown",
   "id": "25ae7435",
   "metadata": {},
   "source": [
    "### .rename()"
   ]
  },
  {
   "cell_type": "code",
   "execution_count": null,
   "id": "59a18e6b",
   "metadata": {},
   "outputs": [],
   "source": [
    "# Rename tar en dict, som er veldig fint\n",
    "renaming = {\n",
    "    'sex' : 'kjoenn',\n",
    "    'age' : 'alder'\n",
    "}\n",
    "pop.rename(renaming, axis = \"columns\")"
   ]
  }
 ],
 "metadata": {
  "kernelspec": {
   "display_name": "Python 3",
   "language": "python",
   "name": "python3"
  },
  "language_info": {
   "codemirror_mode": {
    "name": "ipython",
    "version": 3
   },
   "file_extension": ".py",
   "mimetype": "text/x-python",
   "name": "python",
   "nbconvert_exporter": "python",
   "pygments_lexer": "ipython3",
   "version": "3.8.10"
  }
 },
 "nbformat": 4,
 "nbformat_minor": 5
}
