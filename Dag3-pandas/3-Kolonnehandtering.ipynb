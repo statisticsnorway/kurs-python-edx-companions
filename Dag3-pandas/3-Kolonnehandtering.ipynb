{
 "cells": [
  {
   "cell_type": "code",
   "execution_count": null,
   "id": "c40f6c3c",
   "metadata": {},
   "outputs": [],
   "source": [
    "import pandas as pd\n",
    "import numpy as np\n",
    "pop = pd.read_csv('../data/mock_sysselsatte/population_2019_30000.csv')\n",
    "comp = pd.read_csv('../data/mock_sysselsatte/companies_2019_30000.csv')"
   ]
  },
  {
   "cell_type": "markdown",
   "id": "e478a86c",
   "metadata": {},
   "source": [
    "### Repetisjon: Indexing inn til en enkelt verdi"
   ]
  },
  {
   "cell_type": "code",
   "execution_count": null,
   "id": "c80f3d9f",
   "metadata": {},
   "outputs": [],
   "source": [
    "# Kolonnenavn først\n",
    "pop['age'][0]"
   ]
  },
  {
   "cell_type": "code",
   "execution_count": null,
   "id": "556856be",
   "metadata": {},
   "outputs": [],
   "source": [
    "# Radnavn først\n",
    "pop.loc[0]['sex']"
   ]
  },
  {
   "cell_type": "markdown",
   "id": "4b1f5091",
   "metadata": {},
   "source": [
    "### \"Keep\""
   ]
  },
  {
   "cell_type": "code",
   "execution_count": null,
   "id": "05c192d8",
   "metadata": {},
   "outputs": [],
   "source": [
    "pop.columns"
   ]
  },
  {
   "cell_type": "code",
   "execution_count": null,
   "id": "8cda162b",
   "metadata": {},
   "outputs": [],
   "source": [
    "# Alle kolonnene vi vil beholde, inn i en ny dataframe\n",
    "pop2 = pop[['sex', 'age', 'work_percent']]\n",
    "pop2"
   ]
  },
  {
   "cell_type": "markdown",
   "id": "b3778ec4",
   "metadata": {},
   "source": [
    "### \"Drop\""
   ]
  },
  {
   "cell_type": "code",
   "execution_count": null,
   "id": "9eb40646",
   "metadata": {},
   "outputs": [],
   "source": [
    "# ALle kolonnene vi vil beholde, untatt\n",
    "pop3 = pop.drop('age', axis = \"columns\")"
   ]
  },
  {
   "cell_type": "markdown",
   "id": "a9e472a5",
   "metadata": {},
   "source": [
    "### .columns / .keys()"
   ]
  },
  {
   "cell_type": "code",
   "execution_count": null,
   "id": "55fb4519",
   "metadata": {},
   "outputs": [],
   "source": [
    "pop.columns"
   ]
  },
  {
   "cell_type": "code",
   "execution_count": null,
   "id": "f434ba86",
   "metadata": {},
   "outputs": [],
   "source": [
    "pop.keys()"
   ]
  },
  {
   "cell_type": "markdown",
   "id": "be418dd2",
   "metadata": {},
   "source": [
    "##### Bonus: rename kolonner kun med .columns"
   ]
  },
  {
   "cell_type": "code",
   "execution_count": null,
   "id": "7f53772a",
   "metadata": {},
   "outputs": [],
   "source": [
    "change_names = list(pop.columns)\n",
    "change_names[0] = 'delete_me' \n",
    "pop.columns = change_names"
   ]
  },
  {
   "cell_type": "code",
   "execution_count": null,
   "id": "b2de7f58",
   "metadata": {},
   "outputs": [],
   "source": [
    "pop.columns"
   ]
  },
  {
   "cell_type": "markdown",
   "id": "59c87824",
   "metadata": {},
   "source": [
    "### .rename()"
   ]
  },
  {
   "cell_type": "code",
   "execution_count": null,
   "id": "648cd629",
   "metadata": {},
   "outputs": [],
   "source": [
    "# Rename tar en dict, som er veldig fint\n",
    "renaming = {\n",
    "    'sex' : 'kjoenn',\n",
    "    'age' : 'alder'\n",
    "}\n",
    "pop.rename(renaming, axis = \"columns\")"
   ]
  },
  {
   "cell_type": "markdown",
   "id": "4df82b97",
   "metadata": {},
   "source": [
    "### .replace()\n",
    "Erstatt verdier i en eller flere kolonner"
   ]
  },
  {
   "cell_type": "code",
   "execution_count": null,
   "id": "bc5a68af",
   "metadata": {},
   "outputs": [],
   "source": [
    "# En dict av dicts med kolonnenavn : dict( fra : til )\n",
    "val_rep = {\n",
    "    'sex' : {\n",
    "        'Menn' : 1,\n",
    "        'Kvinner' : 2\n",
    "    },\n",
    "    'age' : {\n",
    "        0 : np.nan\n",
    "    }\n",
    "}"
   ]
  },
  {
   "cell_type": "code",
   "execution_count": null,
   "id": "07f390b5",
   "metadata": {},
   "outputs": [],
   "source": [
    "pop.replace(val_rep)"
   ]
  },
  {
   "cell_type": "code",
   "execution_count": null,
   "id": "42b9cdc6",
   "metadata": {},
   "outputs": [],
   "source": []
  }
 ],
 "metadata": {
  "kernelspec": {
   "display_name": "Python 3",
   "language": "python",
   "name": "python3"
  },
  "language_info": {
   "codemirror_mode": {
    "name": "ipython",
    "version": 3
   },
   "file_extension": ".py",
   "mimetype": "text/x-python",
   "name": "python",
   "nbconvert_exporter": "python",
   "pygments_lexer": "ipython3",
   "version": "3.8.10"
  }
 },
 "nbformat": 4,
 "nbformat_minor": 5
}
