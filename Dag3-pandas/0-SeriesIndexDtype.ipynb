{
 "cells": [
  {
   "cell_type": "markdown",
   "id": "b7e13ee3",
   "metadata": {},
   "source": [
    "# Hva er en \"Series\""
   ]
  },
  {
   "cell_type": "code",
   "execution_count": null,
   "id": "5e16ecbf",
   "metadata": {},
   "outputs": [],
   "source": [
    "import pandas as pd"
   ]
  },
  {
   "cell_type": "code",
   "execution_count": null,
   "id": "9490dd6b",
   "metadata": {},
   "outputs": [],
   "source": [
    "# Dummy data\n",
    "df = pd.DataFrame({\n",
    "    'id' : ['123', '234', '345'],\n",
    "    'alder' : [10, 20, 30],\n",
    "    'kjonn' : ['Mann', 'Kvinne', 'Usikker'],\n",
    "    'prosent' : [51.0, 32.0, 40.0]\n",
    "})"
   ]
  },
  {
   "cell_type": "code",
   "execution_count": null,
   "id": "f27576d4",
   "metadata": {},
   "outputs": [],
   "source": [
    "# Se på en av kolonnene\n",
    "df['prosent']"
   ]
  },
  {
   "cell_type": "code",
   "execution_count": null,
   "id": "8b86804c",
   "metadata": {},
   "outputs": [],
   "source": [
    "type(df['prosent'])"
   ]
  },
  {
   "cell_type": "markdown",
   "id": "f5022cdb",
   "metadata": {},
   "source": [
    "### En kolonne i Pandas kalles en \"Series\", det er ofte disse vi opererer på."
   ]
  },
  {
   "cell_type": "code",
   "execution_count": null,
   "id": "53be5056",
   "metadata": {},
   "outputs": [],
   "source": [
    "# \"Seriene\" har en datatype\n",
    "df.dtypes"
   ]
  },
  {
   "cell_type": "markdown",
   "id": "8276fd98",
   "metadata": {},
   "source": [
    "#### Det vil si at dataene i cellene i hver rad, for seg, bør inneholde uniform data, helst...\n",
    "Men python/pandas er lite, om ikke fleksibel..."
   ]
  },
  {
   "cell_type": "code",
   "execution_count": null,
   "id": "9b4777b0",
   "metadata": {},
   "outputs": [],
   "source": [
    "#df['alder'].iloc[2] = df.copy()\n",
    "#reset:\n",
    "df['alder'].iloc[2] = 30"
   ]
  },
  {
   "cell_type": "code",
   "execution_count": null,
   "id": "acce17b4",
   "metadata": {},
   "outputs": [],
   "source": [
    "df"
   ]
  },
  {
   "cell_type": "markdown",
   "id": "2e08b86c",
   "metadata": {},
   "source": [
    "##### Ja... Vi har faktisk lagt en kopi av dataframeen inni en celle i dataframeen, men er det å anbefale?"
   ]
  },
  {
   "cell_type": "code",
   "execution_count": null,
   "id": "fb4a4d18",
   "metadata": {},
   "outputs": [],
   "source": [
    "print(type(df['alder'].iloc[2]))\n",
    "df['alder'].iloc[2]"
   ]
  },
  {
   "cell_type": "code",
   "execution_count": null,
   "id": "7f87a6ad",
   "metadata": {},
   "outputs": [],
   "source": [
    "# Men hva skjedde med datatypen til kolonnen?\n",
    "df['alder']"
   ]
  },
  {
   "cell_type": "markdown",
   "id": "b0c29426",
   "metadata": {},
   "source": [
    "<hr>"
   ]
  },
  {
   "cell_type": "markdown",
   "id": "b4911305",
   "metadata": {},
   "source": [
    "# \"Indexer\" - navn på kolonner og rader"
   ]
  },
  {
   "cell_type": "code",
   "execution_count": null,
   "id": "897d4ce9",
   "metadata": {},
   "outputs": [],
   "source": [
    "df.index = ['Ola', 'Jørgine', 'Kim']\n",
    "df"
   ]
  },
  {
   "cell_type": "markdown",
   "id": "8d94f4c8",
   "metadata": {},
   "source": [
    "\"Index\" er da ikke en \"sann kolonne\", men \"navnet på raden\". \\\n",
    "Det er ganske likt at man også kan døpe om kolonnenavnene."
   ]
  },
  {
   "cell_type": "code",
   "execution_count": null,
   "id": "350365fc",
   "metadata": {},
   "outputs": [],
   "source": [
    "df.columns = ['fnr', 'age', 'gender', 'percent']\n",
    "df"
   ]
  },
  {
   "cell_type": "code",
   "execution_count": null,
   "id": "4f0168a0",
   "metadata": {},
   "outputs": [],
   "source": [
    "# Doble dataframen\n",
    "pd.concat([df, df])"
   ]
  },
  {
   "cell_type": "code",
   "execution_count": null,
   "id": "3fd2302f",
   "metadata": {},
   "outputs": [],
   "source": [
    "# Når man gjør en fremstilling av en \"groupby\" får man en multi-index på rad-navn\n",
    "df_grp = df.groupby(['fnr', 'gender']).mean()\n",
    "df_grp"
   ]
  },
  {
   "cell_type": "code",
   "execution_count": null,
   "id": "35eda576",
   "metadata": {},
   "outputs": [],
   "source": [
    "df_grp.index"
   ]
  },
  {
   "cell_type": "code",
   "execution_count": null,
   "id": "5363c1f6",
   "metadata": {},
   "outputs": [],
   "source": [
    "# Man kan \"resette indexen\", men legg merke til at vi har mistet navngivingen på radene...\n",
    "df_grp = df_grp.reset_index()\n",
    "df_grp"
   ]
  },
  {
   "cell_type": "markdown",
   "id": "e7cc9280",
   "metadata": {},
   "source": [
    "# Hvilke \"dtypes\" har vi?"
   ]
  },
  {
   "cell_type": "markdown",
   "id": "afdfd25c",
   "metadata": {},
   "source": [
    "https://pbpython.com/pandas_dtypes.html"
   ]
  },
  {
   "cell_type": "markdown",
   "id": "f2d21c7b",
   "metadata": {},
   "source": [
    "<table border=\"1\" class=\"colwidths-given table table-condensed docutils\">\n",
    "<caption>Pandas dtype mapping</caption>\n",
    "<colgroup>\n",
    "<col width=\"13%\">\n",
    "<col width=\"13%\">\n",
    "<col width=\"38%\">\n",
    "<col width=\"38%\">\n",
    "</colgroup>\n",
    "<thead valign=\"bottom\">\n",
    "<tr><th class=\"head\">Pandas dtype</th>\n",
    "<th class=\"head\">Python type</th>\n",
    "<th class=\"head\">NumPy type</th>\n",
    "<th class=\"head\">Usage</th>\n",
    "</tr>\n",
    "</thead>\n",
    "<tbody valign=\"top\">\n",
    "<tr><td>object</td>\n",
    "<td>str or mixed</td>\n",
    "<td>string_, unicode_, mixed types</td>\n",
    "<td>Text or mixed numeric and non-numeric values</td>\n",
    "</tr>\n",
    "<tr><td>int64</td>\n",
    "<td>int</td>\n",
    "<td>int_, int8, int16, int32, int64, uint8, uint16, uint32, uint64</td>\n",
    "<td>Integer numbers</td>\n",
    "</tr>\n",
    "<tr><td>float64</td>\n",
    "<td>float</td>\n",
    "<td>float_, float16, float32, float64</td>\n",
    "<td>Floating point numbers</td>\n",
    "</tr>\n",
    "<tr><td>bool</td>\n",
    "<td>bool</td>\n",
    "<td>bool_</td>\n",
    "<td>True/False values</td>\n",
    "</tr>\n",
    "<tr><td>datetime64</td>\n",
    "<td>datetime</td>\n",
    "<td>datetime64[ns]</td>\n",
    "<td>Date and time values</td>\n",
    "</tr>\n",
    "<tr><td>category</td>\n",
    "<td><span class=\"caps\">NA</span></td>\n",
    "<td><span class=\"caps\">NA</span></td>\n",
    "<td>Finite list of text values</td>\n",
    "</tr>\n",
    "</tbody>\n",
    "</table>"
   ]
  }
 ],
 "metadata": {
  "kernelspec": {
   "display_name": "Python 3",
   "language": "python",
   "name": "python3"
  },
  "language_info": {
   "codemirror_mode": {
    "name": "ipython",
    "version": 3
   },
   "file_extension": ".py",
   "mimetype": "text/x-python",
   "name": "python",
   "nbconvert_exporter": "python",
   "pygments_lexer": "ipython3",
   "version": "3.8.10"
  }
 },
 "nbformat": 4,
 "nbformat_minor": 5
}
