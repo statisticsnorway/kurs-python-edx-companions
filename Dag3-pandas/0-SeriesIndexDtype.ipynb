{
 "cells": [
  {
   "cell_type": "markdown",
   "id": "0b2b9f41",
   "metadata": {},
   "source": [
    "# Hva er en \"Series\""
   ]
  },
  {
   "cell_type": "code",
   "execution_count": 56,
   "id": "89a95d78",
   "metadata": {},
   "outputs": [],
   "source": [
    "import pandas as pd"
   ]
  },
  {
   "cell_type": "code",
   "execution_count": 78,
   "id": "ad8dd1d0",
   "metadata": {},
   "outputs": [],
   "source": [
    "# Dummy data\n",
    "df = pd.DataFrame({\n",
    "    'id' : ['123', 234, 345],\n",
    "    'alder' : [10, 20, 30],\n",
    "    'kjonn' : ['Mann', 'Kvinne', 'Usikker'],\n",
    "    'prosent' : [51.0, 32.0, 40.0]\n",
    "})"
   ]
  },
  {
   "cell_type": "code",
   "execution_count": 58,
   "id": "71a49823",
   "metadata": {},
   "outputs": [
    {
     "data": {
      "text/plain": [
       "int"
      ]
     },
     "execution_count": 58,
     "metadata": {},
     "output_type": "execute_result"
    }
   ],
   "source": [
    "type(df['id'][1])"
   ]
  },
  {
   "cell_type": "code",
   "execution_count": 59,
   "id": "08042471",
   "metadata": {},
   "outputs": [
    {
     "data": {
      "text/plain": [
       "id          object\n",
       "alder        int64\n",
       "kjonn       object\n",
       "prosent    float64\n",
       "dtype: object"
      ]
     },
     "execution_count": 59,
     "metadata": {},
     "output_type": "execute_result"
    }
   ],
   "source": [
    "df.dtypes"
   ]
  },
  {
   "cell_type": "code",
   "execution_count": 60,
   "id": "6ebd2904",
   "metadata": {},
   "outputs": [
    {
     "data": {
      "text/plain": [
       "0    51.0\n",
       "1    32.0\n",
       "2    40.0\n",
       "Name: prosent, dtype: float64"
      ]
     },
     "execution_count": 60,
     "metadata": {},
     "output_type": "execute_result"
    }
   ],
   "source": [
    "# Se på en av kolonnene\n",
    "df['prosent']"
   ]
  },
  {
   "cell_type": "code",
   "execution_count": 61,
   "id": "c4aa4f31",
   "metadata": {},
   "outputs": [
    {
     "data": {
      "text/plain": [
       "pandas.core.series.Series"
      ]
     },
     "execution_count": 61,
     "metadata": {},
     "output_type": "execute_result"
    }
   ],
   "source": [
    "type(df['prosent'])"
   ]
  },
  {
   "cell_type": "markdown",
   "id": "e9f50bab",
   "metadata": {},
   "source": [
    "### En kolonne i Pandas kalles en \"Series\", det er ofte disse vi opererer på."
   ]
  },
  {
   "cell_type": "code",
   "execution_count": 62,
   "id": "d6274b78",
   "metadata": {},
   "outputs": [
    {
     "data": {
      "text/plain": [
       "id          object\n",
       "alder        int64\n",
       "kjonn       object\n",
       "prosent    float64\n",
       "dtype: object"
      ]
     },
     "execution_count": 62,
     "metadata": {},
     "output_type": "execute_result"
    }
   ],
   "source": [
    "# \"Seriene\" har en datatype\n",
    "df.dtypes"
   ]
  },
  {
   "cell_type": "markdown",
   "id": "b4fb3d88",
   "metadata": {},
   "source": [
    "#### Det vil si at dataene i cellene i hver rad, for seg, bør inneholde uniform data, helst...\n",
    "Men python/pandas er lite, om ikke fleksibel..."
   ]
  },
  {
   "cell_type": "code",
   "execution_count": 63,
   "id": "4daccda5",
   "metadata": {},
   "outputs": [
    {
     "name": "stderr",
     "output_type": "stream",
     "text": [
      "/opt/conda/lib/python3.8/site-packages/pandas/core/indexing.py:1637: SettingWithCopyWarning: \n",
      "A value is trying to be set on a copy of a slice from a DataFrame\n",
      "\n",
      "See the caveats in the documentation: https://pandas.pydata.org/pandas-docs/stable/user_guide/indexing.html#returning-a-view-versus-a-copy\n",
      "  self._setitem_single_block(indexer, value, name)\n"
     ]
    }
   ],
   "source": [
    "df['alder'].iloc[2] = df.copy()"
   ]
  },
  {
   "cell_type": "code",
   "execution_count": 64,
   "id": "50b37f20",
   "metadata": {},
   "outputs": [
    {
     "data": {
      "text/html": [
       "<div>\n",
       "<style scoped>\n",
       "    .dataframe tbody tr th:only-of-type {\n",
       "        vertical-align: middle;\n",
       "    }\n",
       "\n",
       "    .dataframe tbody tr th {\n",
       "        vertical-align: top;\n",
       "    }\n",
       "\n",
       "    .dataframe thead th {\n",
       "        text-align: right;\n",
       "    }\n",
       "</style>\n",
       "<table border=\"1\" class=\"dataframe\">\n",
       "  <thead>\n",
       "    <tr style=\"text-align: right;\">\n",
       "      <th></th>\n",
       "      <th>id</th>\n",
       "      <th>alder</th>\n",
       "      <th>kjonn</th>\n",
       "      <th>prosent</th>\n",
       "    </tr>\n",
       "  </thead>\n",
       "  <tbody>\n",
       "    <tr>\n",
       "      <th>0</th>\n",
       "      <td>123</td>\n",
       "      <td>10</td>\n",
       "      <td>Mann</td>\n",
       "      <td>51.0</td>\n",
       "    </tr>\n",
       "    <tr>\n",
       "      <th>1</th>\n",
       "      <td>234</td>\n",
       "      <td>20</td>\n",
       "      <td>Kvinne</td>\n",
       "      <td>32.0</td>\n",
       "    </tr>\n",
       "    <tr>\n",
       "      <th>2</th>\n",
       "      <td>345</td>\n",
       "      <td>id  alder    kjonn  prosent\n",
       "0  123     10 ...</td>\n",
       "      <td>Usikker</td>\n",
       "      <td>40.0</td>\n",
       "    </tr>\n",
       "  </tbody>\n",
       "</table>\n",
       "</div>"
      ],
      "text/plain": [
       "    id                                              alder    kjonn  prosent\n",
       "0  123                                                 10     Mann     51.0\n",
       "1  234                                                 20   Kvinne     32.0\n",
       "2  345      id  alder    kjonn  prosent\n",
       "0  123     10 ...  Usikker     40.0"
      ]
     },
     "execution_count": 64,
     "metadata": {},
     "output_type": "execute_result"
    }
   ],
   "source": [
    "df"
   ]
  },
  {
   "cell_type": "markdown",
   "id": "77777b57",
   "metadata": {},
   "source": [
    "##### Ja... Vi har faktisk lagt en kopi av dataframeen inni en celle i dataframeen, men er det å anbefale?"
   ]
  },
  {
   "cell_type": "code",
   "execution_count": 65,
   "id": "73d79ed7",
   "metadata": {},
   "outputs": [
    {
     "name": "stdout",
     "output_type": "stream",
     "text": [
      "<class 'pandas.core.frame.DataFrame'>\n"
     ]
    },
    {
     "data": {
      "text/html": [
       "<div>\n",
       "<style scoped>\n",
       "    .dataframe tbody tr th:only-of-type {\n",
       "        vertical-align: middle;\n",
       "    }\n",
       "\n",
       "    .dataframe tbody tr th {\n",
       "        vertical-align: top;\n",
       "    }\n",
       "\n",
       "    .dataframe thead th {\n",
       "        text-align: right;\n",
       "    }\n",
       "</style>\n",
       "<table border=\"1\" class=\"dataframe\">\n",
       "  <thead>\n",
       "    <tr style=\"text-align: right;\">\n",
       "      <th></th>\n",
       "      <th>id</th>\n",
       "      <th>alder</th>\n",
       "      <th>kjonn</th>\n",
       "      <th>prosent</th>\n",
       "    </tr>\n",
       "  </thead>\n",
       "  <tbody>\n",
       "    <tr>\n",
       "      <th>0</th>\n",
       "      <td>123</td>\n",
       "      <td>10</td>\n",
       "      <td>Mann</td>\n",
       "      <td>51.0</td>\n",
       "    </tr>\n",
       "    <tr>\n",
       "      <th>1</th>\n",
       "      <td>234</td>\n",
       "      <td>20</td>\n",
       "      <td>Kvinne</td>\n",
       "      <td>32.0</td>\n",
       "    </tr>\n",
       "    <tr>\n",
       "      <th>2</th>\n",
       "      <td>345</td>\n",
       "      <td>30</td>\n",
       "      <td>Usikker</td>\n",
       "      <td>40.0</td>\n",
       "    </tr>\n",
       "  </tbody>\n",
       "</table>\n",
       "</div>"
      ],
      "text/plain": [
       "    id  alder    kjonn  prosent\n",
       "0  123     10     Mann     51.0\n",
       "1  234     20   Kvinne     32.0\n",
       "2  345     30  Usikker     40.0"
      ]
     },
     "execution_count": 65,
     "metadata": {},
     "output_type": "execute_result"
    }
   ],
   "source": [
    "# Så da kan vi bla inn til cellen, og se på typen og innholdet i den cellen...\n",
    "print(type(df['alder'].iloc[2]))\n",
    "df['alder'].iloc[2]"
   ]
  },
  {
   "cell_type": "code",
   "execution_count": 66,
   "id": "cb5e3fc6",
   "metadata": {},
   "outputs": [],
   "source": [
    "# Nei, det vil nok ikke kunne skrive korrekt tilbake til lagringen feks, så vi resetter denne:\n",
    "df.at[2, 'alder'] = 40\n",
    "# Men, det er jo ganske sykt å kunne skrive en dataframe inn i en dataframe... \n",
    "# Og det sier noe om hvor mye Python og Pandas egentlig tillater av fleksibilitet."
   ]
  },
  {
   "cell_type": "code",
   "execution_count": 67,
   "id": "c68916ec",
   "metadata": {},
   "outputs": [
    {
     "data": {
      "text/plain": [
       "0    10\n",
       "1    20\n",
       "2    40\n",
       "Name: alder, dtype: object"
      ]
     },
     "execution_count": 67,
     "metadata": {},
     "output_type": "execute_result"
    }
   ],
   "source": [
    "# Men hva skjedde med datatypen til kolonnen?\n",
    "df['alder']\n",
    "# Den består jo bare av ints nå?"
   ]
  },
  {
   "cell_type": "code",
   "execution_count": 69,
   "id": "ab69e77b",
   "metadata": {},
   "outputs": [
    {
     "data": {
      "text/plain": [
       "dtype('int64')"
      ]
     },
     "execution_count": 69,
     "metadata": {},
     "output_type": "execute_result"
    }
   ],
   "source": [
    "# Få pandas til å gjette på datatypene igjen\n",
    "df['alder'] = df['alder'].infer_objects()\n",
    "df.dtypes['alder']"
   ]
  },
  {
   "cell_type": "markdown",
   "id": "6e81e836",
   "metadata": {},
   "source": [
    "<hr>"
   ]
  },
  {
   "cell_type": "markdown",
   "id": "9fb177d5",
   "metadata": {},
   "source": [
    "# \"Indexer\" - navn på kolonner og rader"
   ]
  },
  {
   "cell_type": "code",
   "execution_count": 23,
   "id": "b3a6085b",
   "metadata": {},
   "outputs": [
    {
     "data": {
      "text/html": [
       "<div>\n",
       "<style scoped>\n",
       "    .dataframe tbody tr th:only-of-type {\n",
       "        vertical-align: middle;\n",
       "    }\n",
       "\n",
       "    .dataframe tbody tr th {\n",
       "        vertical-align: top;\n",
       "    }\n",
       "\n",
       "    .dataframe thead th {\n",
       "        text-align: right;\n",
       "    }\n",
       "</style>\n",
       "<table border=\"1\" class=\"dataframe\">\n",
       "  <thead>\n",
       "    <tr style=\"text-align: right;\">\n",
       "      <th></th>\n",
       "      <th>id</th>\n",
       "      <th>alder</th>\n",
       "      <th>kjonn</th>\n",
       "      <th>prosent</th>\n",
       "    </tr>\n",
       "  </thead>\n",
       "  <tbody>\n",
       "    <tr>\n",
       "      <th>0</th>\n",
       "      <td>123</td>\n",
       "      <td>10</td>\n",
       "      <td>Mann</td>\n",
       "      <td>51.0</td>\n",
       "    </tr>\n",
       "    <tr>\n",
       "      <th>1</th>\n",
       "      <td>234</td>\n",
       "      <td>20</td>\n",
       "      <td>Kvinne</td>\n",
       "      <td>32.0</td>\n",
       "    </tr>\n",
       "    <tr>\n",
       "      <th>2</th>\n",
       "      <td>345</td>\n",
       "      <td>id  alder    kjonn  prosent\n",
       "0  123     10 ...</td>\n",
       "      <td>Usikker</td>\n",
       "      <td>40.0</td>\n",
       "    </tr>\n",
       "  </tbody>\n",
       "</table>\n",
       "</div>"
      ],
      "text/plain": [
       "    id                                              alder    kjonn  prosent\n",
       "0  123                                                 10     Mann     51.0\n",
       "1  234                                                 20   Kvinne     32.0\n",
       "2  345      id  alder    kjonn  prosent\n",
       "0  123     10 ...  Usikker     40.0"
      ]
     },
     "execution_count": 23,
     "metadata": {},
     "output_type": "execute_result"
    }
   ],
   "source": [
    "df"
   ]
  },
  {
   "cell_type": "code",
   "execution_count": 26,
   "id": "95f9c342",
   "metadata": {},
   "outputs": [
    {
     "data": {
      "text/plain": [
       "Index(['Ola', 'Jørgine', 'Kim'], dtype='object')"
      ]
     },
     "execution_count": 26,
     "metadata": {},
     "output_type": "execute_result"
    }
   ],
   "source": [
    "df.index"
   ]
  },
  {
   "cell_type": "code",
   "execution_count": 27,
   "id": "c251ae12",
   "metadata": {},
   "outputs": [
    {
     "data": {
      "text/plain": [
       "Index(['id', 'alder', 'kjonn', 'prosent'], dtype='object')"
      ]
     },
     "execution_count": 27,
     "metadata": {},
     "output_type": "execute_result"
    }
   ],
   "source": [
    "df.columns"
   ]
  },
  {
   "cell_type": "code",
   "execution_count": 25,
   "id": "59bc4dde",
   "metadata": {},
   "outputs": [
    {
     "data": {
      "text/plain": [
       "id          123\n",
       "alder        10\n",
       "kjonn      Mann\n",
       "prosent    51.0\n",
       "Name: Ola, dtype: object"
      ]
     },
     "execution_count": 25,
     "metadata": {},
     "output_type": "execute_result"
    }
   ],
   "source": [
    "df.index = ['Ola', 'Jørgine', 'Kim']\n",
    "df.loc['Ola']"
   ]
  },
  {
   "cell_type": "markdown",
   "id": "22e66556",
   "metadata": {},
   "source": [
    "\"Index\" er da ikke en \"sann kolonne\", men \"navnet på raden\". \\\n",
    "Det er ganske likt at man også kan døpe om kolonnenavnene."
   ]
  },
  {
   "cell_type": "code",
   "execution_count": 31,
   "id": "a8a18a05",
   "metadata": {},
   "outputs": [
    {
     "data": {
      "text/html": [
       "<div>\n",
       "<style scoped>\n",
       "    .dataframe tbody tr th:only-of-type {\n",
       "        vertical-align: middle;\n",
       "    }\n",
       "\n",
       "    .dataframe tbody tr th {\n",
       "        vertical-align: top;\n",
       "    }\n",
       "\n",
       "    .dataframe thead th {\n",
       "        text-align: right;\n",
       "    }\n",
       "</style>\n",
       "<table border=\"1\" class=\"dataframe\">\n",
       "  <thead>\n",
       "    <tr style=\"text-align: right;\">\n",
       "      <th></th>\n",
       "      <th>fnr</th>\n",
       "      <th>age</th>\n",
       "      <th>gender</th>\n",
       "      <th>work_percent</th>\n",
       "    </tr>\n",
       "  </thead>\n",
       "  <tbody>\n",
       "    <tr>\n",
       "      <th>Ola</th>\n",
       "      <td>123</td>\n",
       "      <td>10</td>\n",
       "      <td>Mann</td>\n",
       "      <td>51.0</td>\n",
       "    </tr>\n",
       "    <tr>\n",
       "      <th>Jørgine</th>\n",
       "      <td>234</td>\n",
       "      <td>20</td>\n",
       "      <td>Kvinne</td>\n",
       "      <td>32.0</td>\n",
       "    </tr>\n",
       "    <tr>\n",
       "      <th>Kim</th>\n",
       "      <td>345</td>\n",
       "      <td>id  alder    kjonn  prosent\n",
       "0  123     10 ...</td>\n",
       "      <td>Usikker</td>\n",
       "      <td>40.0</td>\n",
       "    </tr>\n",
       "  </tbody>\n",
       "</table>\n",
       "</div>"
      ],
      "text/plain": [
       "         fnr                                                age   gender  \\\n",
       "Ola      123                                                 10     Mann   \n",
       "Jørgine  234                                                 20   Kvinne   \n",
       "Kim      345      id  alder    kjonn  prosent\n",
       "0  123     10 ...  Usikker   \n",
       "\n",
       "         work_percent  \n",
       "Ola              51.0  \n",
       "Jørgine          32.0  \n",
       "Kim              40.0  "
      ]
     },
     "execution_count": 31,
     "metadata": {},
     "output_type": "execute_result"
    }
   ],
   "source": [
    "df.columns = ['fnr', 'age', 'gender', 'work_percent']\n",
    "df"
   ]
  },
  {
   "cell_type": "code",
   "execution_count": 32,
   "id": "98cec439",
   "metadata": {},
   "outputs": [
    {
     "data": {
      "text/html": [
       "<div>\n",
       "<style scoped>\n",
       "    .dataframe tbody tr th:only-of-type {\n",
       "        vertical-align: middle;\n",
       "    }\n",
       "\n",
       "    .dataframe tbody tr th {\n",
       "        vertical-align: top;\n",
       "    }\n",
       "\n",
       "    .dataframe thead th {\n",
       "        text-align: right;\n",
       "    }\n",
       "</style>\n",
       "<table border=\"1\" class=\"dataframe\">\n",
       "  <thead>\n",
       "    <tr style=\"text-align: right;\">\n",
       "      <th></th>\n",
       "      <th>fnr</th>\n",
       "      <th>age</th>\n",
       "      <th>gender</th>\n",
       "      <th>work_percent</th>\n",
       "    </tr>\n",
       "  </thead>\n",
       "  <tbody>\n",
       "    <tr>\n",
       "      <th>Ola</th>\n",
       "      <td>123</td>\n",
       "      <td>10</td>\n",
       "      <td>Mann</td>\n",
       "      <td>51.0</td>\n",
       "    </tr>\n",
       "    <tr>\n",
       "      <th>Jørgine</th>\n",
       "      <td>234</td>\n",
       "      <td>20</td>\n",
       "      <td>Kvinne</td>\n",
       "      <td>32.0</td>\n",
       "    </tr>\n",
       "    <tr>\n",
       "      <th>Kim</th>\n",
       "      <td>345</td>\n",
       "      <td>id  alder    kjonn  prosent\n",
       "0  123     10 ...</td>\n",
       "      <td>Usikker</td>\n",
       "      <td>40.0</td>\n",
       "    </tr>\n",
       "    <tr>\n",
       "      <th>Ola</th>\n",
       "      <td>123</td>\n",
       "      <td>10</td>\n",
       "      <td>Mann</td>\n",
       "      <td>51.0</td>\n",
       "    </tr>\n",
       "    <tr>\n",
       "      <th>Jørgine</th>\n",
       "      <td>234</td>\n",
       "      <td>20</td>\n",
       "      <td>Kvinne</td>\n",
       "      <td>32.0</td>\n",
       "    </tr>\n",
       "    <tr>\n",
       "      <th>Kim</th>\n",
       "      <td>345</td>\n",
       "      <td>id  alder    kjonn  prosent\n",
       "0  123     10 ...</td>\n",
       "      <td>Usikker</td>\n",
       "      <td>40.0</td>\n",
       "    </tr>\n",
       "  </tbody>\n",
       "</table>\n",
       "</div>"
      ],
      "text/plain": [
       "         fnr                                                age   gender  \\\n",
       "Ola      123                                                 10     Mann   \n",
       "Jørgine  234                                                 20   Kvinne   \n",
       "Kim      345      id  alder    kjonn  prosent\n",
       "0  123     10 ...  Usikker   \n",
       "Ola      123                                                 10     Mann   \n",
       "Jørgine  234                                                 20   Kvinne   \n",
       "Kim      345      id  alder    kjonn  prosent\n",
       "0  123     10 ...  Usikker   \n",
       "\n",
       "         work_percent  \n",
       "Ola              51.0  \n",
       "Jørgine          32.0  \n",
       "Kim              40.0  \n",
       "Ola              51.0  \n",
       "Jørgine          32.0  \n",
       "Kim              40.0  "
      ]
     },
     "execution_count": 32,
     "metadata": {},
     "output_type": "execute_result"
    }
   ],
   "source": [
    "# Doble dataframen\n",
    "df_grp = pd.concat([df, df])"
   ]
  },
  {
   "cell_type": "code",
   "execution_count": 34,
   "id": "f5346cf2",
   "metadata": {},
   "outputs": [
    {
     "data": {
      "text/html": [
       "<div>\n",
       "<style scoped>\n",
       "    .dataframe tbody tr th:only-of-type {\n",
       "        vertical-align: middle;\n",
       "    }\n",
       "\n",
       "    .dataframe tbody tr th {\n",
       "        vertical-align: top;\n",
       "    }\n",
       "\n",
       "    .dataframe thead th {\n",
       "        text-align: right;\n",
       "    }\n",
       "</style>\n",
       "<table border=\"1\" class=\"dataframe\">\n",
       "  <thead>\n",
       "    <tr style=\"text-align: right;\">\n",
       "      <th></th>\n",
       "      <th></th>\n",
       "      <th>work_percent</th>\n",
       "    </tr>\n",
       "    <tr>\n",
       "      <th>fnr</th>\n",
       "      <th>gender</th>\n",
       "      <th></th>\n",
       "    </tr>\n",
       "  </thead>\n",
       "  <tbody>\n",
       "    <tr>\n",
       "      <th>234</th>\n",
       "      <th>Kvinne</th>\n",
       "      <td>32.0</td>\n",
       "    </tr>\n",
       "    <tr>\n",
       "      <th>345</th>\n",
       "      <th>Usikker</th>\n",
       "      <td>40.0</td>\n",
       "    </tr>\n",
       "    <tr>\n",
       "      <th>123</th>\n",
       "      <th>Mann</th>\n",
       "      <td>51.0</td>\n",
       "    </tr>\n",
       "  </tbody>\n",
       "</table>\n",
       "</div>"
      ],
      "text/plain": [
       "             work_percent\n",
       "fnr gender               \n",
       "234 Kvinne           32.0\n",
       "345 Usikker          40.0\n",
       "123 Mann             51.0"
      ]
     },
     "execution_count": 34,
     "metadata": {},
     "output_type": "execute_result"
    }
   ],
   "source": [
    "# Når man gjør en fremstilling av en \"groupby\" får man en multi-index på rad-navn\n",
    "df_grp = df_grp.groupby(['fnr', 'gender']).mean()\n",
    "df_grp"
   ]
  },
  {
   "cell_type": "code",
   "execution_count": 35,
   "id": "0177d07a",
   "metadata": {},
   "outputs": [
    {
     "data": {
      "text/plain": [
       "MultiIndex([(  234,  'Kvinne'),\n",
       "            (  345, 'Usikker'),\n",
       "            ('123',    'Mann')],\n",
       "           names=['fnr', 'gender'])"
      ]
     },
     "execution_count": 35,
     "metadata": {},
     "output_type": "execute_result"
    }
   ],
   "source": [
    "df_grp.index"
   ]
  },
  {
   "cell_type": "code",
   "execution_count": 36,
   "id": "028ca6ed",
   "metadata": {},
   "outputs": [
    {
     "data": {
      "text/html": [
       "<div>\n",
       "<style scoped>\n",
       "    .dataframe tbody tr th:only-of-type {\n",
       "        vertical-align: middle;\n",
       "    }\n",
       "\n",
       "    .dataframe tbody tr th {\n",
       "        vertical-align: top;\n",
       "    }\n",
       "\n",
       "    .dataframe thead th {\n",
       "        text-align: right;\n",
       "    }\n",
       "</style>\n",
       "<table border=\"1\" class=\"dataframe\">\n",
       "  <thead>\n",
       "    <tr style=\"text-align: right;\">\n",
       "      <th></th>\n",
       "      <th>fnr</th>\n",
       "      <th>gender</th>\n",
       "      <th>work_percent</th>\n",
       "    </tr>\n",
       "  </thead>\n",
       "  <tbody>\n",
       "    <tr>\n",
       "      <th>0</th>\n",
       "      <td>234</td>\n",
       "      <td>Kvinne</td>\n",
       "      <td>32.0</td>\n",
       "    </tr>\n",
       "    <tr>\n",
       "      <th>1</th>\n",
       "      <td>345</td>\n",
       "      <td>Usikker</td>\n",
       "      <td>40.0</td>\n",
       "    </tr>\n",
       "    <tr>\n",
       "      <th>2</th>\n",
       "      <td>123</td>\n",
       "      <td>Mann</td>\n",
       "      <td>51.0</td>\n",
       "    </tr>\n",
       "  </tbody>\n",
       "</table>\n",
       "</div>"
      ],
      "text/plain": [
       "   fnr   gender  work_percent\n",
       "0  234   Kvinne          32.0\n",
       "1  345  Usikker          40.0\n",
       "2  123     Mann          51.0"
      ]
     },
     "execution_count": 36,
     "metadata": {},
     "output_type": "execute_result"
    }
   ],
   "source": [
    "# Man kan \"resette indexen\", men legg merke til at vi har mistet navngivingen på radene...\n",
    "df_grp = df_grp.reset_index()\n",
    "df_grp"
   ]
  },
  {
   "cell_type": "markdown",
   "id": "2f057e26",
   "metadata": {},
   "source": [
    "# Hvilke \"dtypes\" har vi?"
   ]
  },
  {
   "cell_type": "markdown",
   "id": "e2f18c91",
   "metadata": {},
   "source": [
    "https://pbpython.com/pandas_dtypes.html"
   ]
  },
  {
   "cell_type": "markdown",
   "id": "765807f4",
   "metadata": {},
   "source": [
    "<table border=\"1\" class=\"colwidths-given table table-condensed docutils\">\n",
    "<caption>Pandas dtype mapping</caption>\n",
    "<colgroup>\n",
    "<col width=\"13%\">\n",
    "<col width=\"13%\">\n",
    "<col width=\"38%\">\n",
    "<col width=\"38%\">\n",
    "</colgroup>\n",
    "<thead valign=\"bottom\">\n",
    "<tr><th class=\"head\">Pandas dtype</th>\n",
    "<th class=\"head\">Python type</th>\n",
    "<th class=\"head\">NumPy type</th>\n",
    "<th class=\"head\">Usage</th>\n",
    "</tr>\n",
    "</thead>\n",
    "<tbody valign=\"top\">\n",
    "<tr><td>object</td>\n",
    "<td>str or mixed</td>\n",
    "<td>string_, unicode_, mixed types</td>\n",
    "<td>Text or mixed numeric and non-numeric values</td>\n",
    "</tr>\n",
    "<tr><td>int64</td>\n",
    "<td>int</td>\n",
    "<td>int_, int8, int16, int32, int64, uint8, uint16, uint32, uint64</td>\n",
    "<td>Integer numbers</td>\n",
    "</tr>\n",
    "<tr><td>float64</td>\n",
    "<td>float</td>\n",
    "<td>float_, float16, float32, float64</td>\n",
    "<td>Floating point numbers</td>\n",
    "</tr>\n",
    "<tr><td>bool</td>\n",
    "<td>bool</td>\n",
    "<td>bool_</td>\n",
    "<td>True/False values</td>\n",
    "</tr>\n",
    "<tr><td>datetime64</td>\n",
    "<td>datetime</td>\n",
    "<td>datetime64[ns]</td>\n",
    "<td>Date and time values</td>\n",
    "</tr>\n",
    "<tr><td>category</td>\n",
    "<td><span class=\"caps\">NA</span></td>\n",
    "<td><span class=\"caps\">NA</span></td>\n",
    "<td>Finite list of text values</td>\n",
    "</tr>\n",
    "</tbody>\n",
    "</table>"
   ]
  },
  {
   "cell_type": "markdown",
   "id": "622e30bd",
   "metadata": {},
   "source": [
    "### Bonus: \"Category\" er noe vi bør se på\n",
    "Den sparer masse plass og prosesseringskraft om det er mange rader i datasettet, og kolonner med et lavt antall \"streng-muligheter\". \\\n",
    "Men man risikerer at den lettere går i stykker, og blir \"typecastet\" tilbake til string. \\\n",
    "https://towardsdatascience.com/staying-sane-while-adopting-pandas-categorical-datatypes-78dbd19dcd8a"
   ]
  },
  {
   "cell_type": "code",
   "execution_count": 79,
   "id": "c18bf6ac",
   "metadata": {},
   "outputs": [],
   "source": [
    "# Konverter kolonnen til \"category\" dtype\n",
    "df['kjonn'] = df['kjonn'].astype('category')"
   ]
  },
  {
   "cell_type": "code",
   "execution_count": 80,
   "id": "24dc315f",
   "metadata": {},
   "outputs": [
    {
     "data": {
      "text/plain": [
       "<pandas.core.arrays.categorical.CategoricalAccessor object at 0x7f4059b8a940>"
      ]
     },
     "execution_count": 80,
     "metadata": {},
     "output_type": "execute_result"
    }
   ],
   "source": [
    "df['kjonn'].cat"
   ]
  },
  {
   "cell_type": "code",
   "execution_count": 81,
   "id": "49ecacf7",
   "metadata": {},
   "outputs": [
    {
     "data": {
      "text/plain": [
       "Index(['Kvinne', 'Mann', 'Usikker'], dtype='object')"
      ]
     },
     "execution_count": 81,
     "metadata": {},
     "output_type": "execute_result"
    }
   ],
   "source": [
    "# Print ut kategorinavnene\n",
    "df['kjonn'].cat.categories"
   ]
  },
  {
   "cell_type": "code",
   "execution_count": 92,
   "id": "b55490cc",
   "metadata": {},
   "outputs": [
    {
     "name": "stdout",
     "output_type": "stream",
     "text": [
      "0      Trans\n",
      "1     Kvinne\n",
      "2    Usikker\n",
      "Name: kjonn, dtype: category\n",
      "Categories (4, object): ['Kvinne', 'Mann', 'Usikker', 'Trans']\n",
      "0    3\n",
      "1    0\n",
      "2    2\n",
      "dtype: int8\n"
     ]
    }
   ],
   "source": [
    "# Hver rad i kolonnen har en tallkode, som er knyttet til en string\n",
    "print(df['kjonn'].cat.codes)\n",
    "print(df['kjonn'])"
   ]
  },
  {
   "cell_type": "code",
   "execution_count": 93,
   "id": "eb45c6ac",
   "metadata": {},
   "outputs": [
    {
     "data": {
      "text/plain": [
       "CategoricalDtype(categories=['Kvinne', 'Mann', 'Usikker', 'Trans'], ordered=False)"
      ]
     },
     "execution_count": 93,
     "metadata": {},
     "output_type": "execute_result"
    }
   ],
   "source": [
    "df.dtypes['kjonn']"
   ]
  },
  {
   "cell_type": "code",
   "execution_count": 94,
   "id": "4256fdf1",
   "metadata": {},
   "outputs": [],
   "source": [
    "# I utgangspunktet går ikke dette, fordi \"Trans\"-kategorien ikke finnes enda\n",
    "df.at[0, 'kjonn'] = 'Trans'"
   ]
  },
  {
   "cell_type": "code",
   "execution_count": 87,
   "id": "2714c9ce",
   "metadata": {},
   "outputs": [
    {
     "data": {
      "text/plain": [
       "Index(['Kvinne', 'Mann', 'Usikker', 'Trans'], dtype='object')"
      ]
     },
     "execution_count": 87,
     "metadata": {},
     "output_type": "execute_result"
    }
   ],
   "source": [
    "# Men vi kan legge den til med en egen funksjon\n",
    "df['kjonn'].cat.add_categories('Trans', inplace = True)\n",
    "df['kjonn'].cat.categories"
   ]
  },
  {
   "cell_type": "code",
   "execution_count": 90,
   "id": "bd5e0db8",
   "metadata": {},
   "outputs": [],
   "source": [
    "# Da er det greit\n",
    "df.at[0, 'kjonn'] = 'Trans'"
   ]
  },
  {
   "cell_type": "code",
   "execution_count": 91,
   "id": "f6d67279",
   "metadata": {},
   "outputs": [
    {
     "data": {
      "text/html": [
       "<div>\n",
       "<style scoped>\n",
       "    .dataframe tbody tr th:only-of-type {\n",
       "        vertical-align: middle;\n",
       "    }\n",
       "\n",
       "    .dataframe tbody tr th {\n",
       "        vertical-align: top;\n",
       "    }\n",
       "\n",
       "    .dataframe thead th {\n",
       "        text-align: right;\n",
       "    }\n",
       "</style>\n",
       "<table border=\"1\" class=\"dataframe\">\n",
       "  <thead>\n",
       "    <tr style=\"text-align: right;\">\n",
       "      <th></th>\n",
       "      <th>id</th>\n",
       "      <th>alder</th>\n",
       "      <th>kjonn</th>\n",
       "      <th>prosent</th>\n",
       "    </tr>\n",
       "  </thead>\n",
       "  <tbody>\n",
       "    <tr>\n",
       "      <th>0</th>\n",
       "      <td>123</td>\n",
       "      <td>10</td>\n",
       "      <td>Trans</td>\n",
       "      <td>51.0</td>\n",
       "    </tr>\n",
       "    <tr>\n",
       "      <th>1</th>\n",
       "      <td>234</td>\n",
       "      <td>20</td>\n",
       "      <td>Kvinne</td>\n",
       "      <td>32.0</td>\n",
       "    </tr>\n",
       "    <tr>\n",
       "      <th>2</th>\n",
       "      <td>345</td>\n",
       "      <td>30</td>\n",
       "      <td>Usikker</td>\n",
       "      <td>40.0</td>\n",
       "    </tr>\n",
       "  </tbody>\n",
       "</table>\n",
       "</div>"
      ],
      "text/plain": [
       "    id  alder    kjonn  prosent\n",
       "0  123     10    Trans     51.0\n",
       "1  234     20   Kvinne     32.0\n",
       "2  345     30  Usikker     40.0"
      ]
     },
     "execution_count": 91,
     "metadata": {},
     "output_type": "execute_result"
    }
   ],
   "source": [
    "df"
   ]
  },
  {
   "cell_type": "code",
   "execution_count": null,
   "id": "5d116523",
   "metadata": {},
   "outputs": [],
   "source": []
  }
 ],
 "metadata": {
  "kernelspec": {
   "display_name": "Python 3",
   "language": "python",
   "name": "python3"
  },
  "language_info": {
   "codemirror_mode": {
    "name": "ipython",
    "version": 3
   },
   "file_extension": ".py",
   "mimetype": "text/x-python",
   "name": "python",
   "nbconvert_exporter": "python",
   "pygments_lexer": "ipython3",
   "version": "3.8.10"
  }
 },
 "nbformat": 4,
 "nbformat_minor": 5
}
