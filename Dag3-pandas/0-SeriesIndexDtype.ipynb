{
 "cells": [
  {
   "cell_type": "markdown",
   "id": "604b604a",
   "metadata": {},
   "source": [
    "# Hva er en \"Series\""
   ]
  },
  {
   "cell_type": "code",
   "execution_count": 39,
   "id": "dbf29e0a",
   "metadata": {},
   "outputs": [],
   "source": [
    "import pandas as pd"
   ]
  },
  {
   "cell_type": "code",
   "execution_count": 40,
   "id": "9587a386",
   "metadata": {},
   "outputs": [],
   "source": [
    "# Dummy data\n",
    "df = pd.DataFrame({\n",
    "    'id' : ['123', '234', '345'],\n",
    "    'alder' : [10, 20, 30],\n",
    "    'kjonn' : ['Mann', 'Kvinne', 'Usikker'],\n",
    "    'prosent' : [51.0, 32.0, 40.0]\n",
    "})"
   ]
  },
  {
   "cell_type": "code",
   "execution_count": 41,
   "id": "53852b87",
   "metadata": {},
   "outputs": [
    {
     "data": {
      "text/plain": [
       "0    51.0\n",
       "1    32.0\n",
       "2    40.0\n",
       "Name: prosent, dtype: float64"
      ]
     },
     "execution_count": 41,
     "metadata": {},
     "output_type": "execute_result"
    }
   ],
   "source": [
    "# Se på en av kolonnene\n",
    "df['prosent']"
   ]
  },
  {
   "cell_type": "code",
   "execution_count": 42,
   "id": "35559a98",
   "metadata": {},
   "outputs": [
    {
     "data": {
      "text/plain": [
       "pandas.core.series.Series"
      ]
     },
     "execution_count": 42,
     "metadata": {},
     "output_type": "execute_result"
    }
   ],
   "source": [
    "type(df['prosent'])"
   ]
  },
  {
   "cell_type": "markdown",
   "id": "6cb177dc",
   "metadata": {},
   "source": [
    "### En kolonne i Pandas kalles en \"Series\", det er ofte disse vi opererer på."
   ]
  },
  {
   "cell_type": "code",
   "execution_count": 43,
   "id": "3680632f",
   "metadata": {},
   "outputs": [
    {
     "data": {
      "text/plain": [
       "id          object\n",
       "alder        int64\n",
       "kjonn       object\n",
       "prosent    float64\n",
       "dtype: object"
      ]
     },
     "execution_count": 43,
     "metadata": {},
     "output_type": "execute_result"
    }
   ],
   "source": [
    "# \"Seriene\" har en datatype\n",
    "df.dtypes"
   ]
  },
  {
   "cell_type": "markdown",
   "id": "aa07d803",
   "metadata": {},
   "source": [
    "#### Det vil si at dataene i cellene i hver rad, for seg, bør inneholde uniform data, helst...\n",
    "Men python/pandas er lite, om ikke fleksibel..."
   ]
  },
  {
   "cell_type": "code",
   "execution_count": 44,
   "id": "e15398d7",
   "metadata": {},
   "outputs": [
    {
     "name": "stderr",
     "output_type": "stream",
     "text": [
      "/opt/conda/lib/python3.8/site-packages/pandas/core/indexing.py:1637: SettingWithCopyWarning: \n",
      "A value is trying to be set on a copy of a slice from a DataFrame\n",
      "\n",
      "See the caveats in the documentation: https://pandas.pydata.org/pandas-docs/stable/user_guide/indexing.html#returning-a-view-versus-a-copy\n",
      "  self._setitem_single_block(indexer, value, name)\n"
     ]
    }
   ],
   "source": [
    "#df['alder'].iloc[2] = df.copy()\n",
    "#reset:\n",
    "df['alder'].iloc[2] = 30"
   ]
  },
  {
   "cell_type": "code",
   "execution_count": 45,
   "id": "3a337c26",
   "metadata": {},
   "outputs": [
    {
     "data": {
      "text/html": [
       "<div>\n",
       "<style scoped>\n",
       "    .dataframe tbody tr th:only-of-type {\n",
       "        vertical-align: middle;\n",
       "    }\n",
       "\n",
       "    .dataframe tbody tr th {\n",
       "        vertical-align: top;\n",
       "    }\n",
       "\n",
       "    .dataframe thead th {\n",
       "        text-align: right;\n",
       "    }\n",
       "</style>\n",
       "<table border=\"1\" class=\"dataframe\">\n",
       "  <thead>\n",
       "    <tr style=\"text-align: right;\">\n",
       "      <th></th>\n",
       "      <th>id</th>\n",
       "      <th>alder</th>\n",
       "      <th>kjonn</th>\n",
       "      <th>prosent</th>\n",
       "    </tr>\n",
       "  </thead>\n",
       "  <tbody>\n",
       "    <tr>\n",
       "      <th>0</th>\n",
       "      <td>123</td>\n",
       "      <td>10</td>\n",
       "      <td>Mann</td>\n",
       "      <td>51.0</td>\n",
       "    </tr>\n",
       "    <tr>\n",
       "      <th>1</th>\n",
       "      <td>234</td>\n",
       "      <td>20</td>\n",
       "      <td>Kvinne</td>\n",
       "      <td>32.0</td>\n",
       "    </tr>\n",
       "    <tr>\n",
       "      <th>2</th>\n",
       "      <td>345</td>\n",
       "      <td>30</td>\n",
       "      <td>Usikker</td>\n",
       "      <td>40.0</td>\n",
       "    </tr>\n",
       "  </tbody>\n",
       "</table>\n",
       "</div>"
      ],
      "text/plain": [
       "    id  alder    kjonn  prosent\n",
       "0  123     10     Mann     51.0\n",
       "1  234     20   Kvinne     32.0\n",
       "2  345     30  Usikker     40.0"
      ]
     },
     "execution_count": 45,
     "metadata": {},
     "output_type": "execute_result"
    }
   ],
   "source": [
    "df"
   ]
  },
  {
   "cell_type": "markdown",
   "id": "b6777c7a",
   "metadata": {},
   "source": [
    "##### Ja... Vi har faktisk lagt en kopi av dataframeen inni en celle i dataframeen, men er det å anbefale?"
   ]
  },
  {
   "cell_type": "code",
   "execution_count": 46,
   "id": "4177128e",
   "metadata": {},
   "outputs": [
    {
     "name": "stdout",
     "output_type": "stream",
     "text": [
      "<class 'numpy.int64'>\n"
     ]
    },
    {
     "data": {
      "text/plain": [
       "30"
      ]
     },
     "execution_count": 46,
     "metadata": {},
     "output_type": "execute_result"
    }
   ],
   "source": [
    "print(type(df['alder'].iloc[2]))\n",
    "df['alder'].iloc[2]"
   ]
  },
  {
   "cell_type": "code",
   "execution_count": 47,
   "id": "07c700ed",
   "metadata": {},
   "outputs": [
    {
     "data": {
      "text/plain": [
       "0    10\n",
       "1    20\n",
       "2    30\n",
       "Name: alder, dtype: int64"
      ]
     },
     "execution_count": 47,
     "metadata": {},
     "output_type": "execute_result"
    }
   ],
   "source": [
    "# Men hva skjedde med datatypen til kolonnen?\n",
    "df['alder']"
   ]
  },
  {
   "cell_type": "markdown",
   "id": "21285712",
   "metadata": {},
   "source": [
    "<hr>"
   ]
  },
  {
   "cell_type": "markdown",
   "id": "669984b2",
   "metadata": {},
   "source": [
    "# \"Indexer\" - navn på kolonner og rader"
   ]
  },
  {
   "cell_type": "code",
   "execution_count": 48,
   "id": "1b362810",
   "metadata": {},
   "outputs": [
    {
     "data": {
      "text/html": [
       "<div>\n",
       "<style scoped>\n",
       "    .dataframe tbody tr th:only-of-type {\n",
       "        vertical-align: middle;\n",
       "    }\n",
       "\n",
       "    .dataframe tbody tr th {\n",
       "        vertical-align: top;\n",
       "    }\n",
       "\n",
       "    .dataframe thead th {\n",
       "        text-align: right;\n",
       "    }\n",
       "</style>\n",
       "<table border=\"1\" class=\"dataframe\">\n",
       "  <thead>\n",
       "    <tr style=\"text-align: right;\">\n",
       "      <th></th>\n",
       "      <th>id</th>\n",
       "      <th>alder</th>\n",
       "      <th>kjonn</th>\n",
       "      <th>prosent</th>\n",
       "    </tr>\n",
       "  </thead>\n",
       "  <tbody>\n",
       "    <tr>\n",
       "      <th>Ola</th>\n",
       "      <td>123</td>\n",
       "      <td>10</td>\n",
       "      <td>Mann</td>\n",
       "      <td>51.0</td>\n",
       "    </tr>\n",
       "    <tr>\n",
       "      <th>Jørgine</th>\n",
       "      <td>234</td>\n",
       "      <td>20</td>\n",
       "      <td>Kvinne</td>\n",
       "      <td>32.0</td>\n",
       "    </tr>\n",
       "    <tr>\n",
       "      <th>Kim</th>\n",
       "      <td>345</td>\n",
       "      <td>30</td>\n",
       "      <td>Usikker</td>\n",
       "      <td>40.0</td>\n",
       "    </tr>\n",
       "  </tbody>\n",
       "</table>\n",
       "</div>"
      ],
      "text/plain": [
       "          id  alder    kjonn  prosent\n",
       "Ola      123     10     Mann     51.0\n",
       "Jørgine  234     20   Kvinne     32.0\n",
       "Kim      345     30  Usikker     40.0"
      ]
     },
     "execution_count": 48,
     "metadata": {},
     "output_type": "execute_result"
    }
   ],
   "source": [
    "df.index = ['Ola', 'Jørgine', 'Kim']\n",
    "df"
   ]
  },
  {
   "cell_type": "markdown",
   "id": "91c353b1",
   "metadata": {},
   "source": [
    "\"Index\" er da ikke en \"sann kolonne\", men \"navnet på raden\". \\\n",
    "Det er ganske likt at man også kan døpe om kolonnenavnene."
   ]
  },
  {
   "cell_type": "code",
   "execution_count": 49,
   "id": "da926157",
   "metadata": {},
   "outputs": [
    {
     "data": {
      "text/html": [
       "<div>\n",
       "<style scoped>\n",
       "    .dataframe tbody tr th:only-of-type {\n",
       "        vertical-align: middle;\n",
       "    }\n",
       "\n",
       "    .dataframe tbody tr th {\n",
       "        vertical-align: top;\n",
       "    }\n",
       "\n",
       "    .dataframe thead th {\n",
       "        text-align: right;\n",
       "    }\n",
       "</style>\n",
       "<table border=\"1\" class=\"dataframe\">\n",
       "  <thead>\n",
       "    <tr style=\"text-align: right;\">\n",
       "      <th></th>\n",
       "      <th>fnr</th>\n",
       "      <th>age</th>\n",
       "      <th>gender</th>\n",
       "      <th>percent</th>\n",
       "    </tr>\n",
       "  </thead>\n",
       "  <tbody>\n",
       "    <tr>\n",
       "      <th>Ola</th>\n",
       "      <td>123</td>\n",
       "      <td>10</td>\n",
       "      <td>Mann</td>\n",
       "      <td>51.0</td>\n",
       "    </tr>\n",
       "    <tr>\n",
       "      <th>Jørgine</th>\n",
       "      <td>234</td>\n",
       "      <td>20</td>\n",
       "      <td>Kvinne</td>\n",
       "      <td>32.0</td>\n",
       "    </tr>\n",
       "    <tr>\n",
       "      <th>Kim</th>\n",
       "      <td>345</td>\n",
       "      <td>30</td>\n",
       "      <td>Usikker</td>\n",
       "      <td>40.0</td>\n",
       "    </tr>\n",
       "  </tbody>\n",
       "</table>\n",
       "</div>"
      ],
      "text/plain": [
       "         fnr  age   gender  percent\n",
       "Ola      123   10     Mann     51.0\n",
       "Jørgine  234   20   Kvinne     32.0\n",
       "Kim      345   30  Usikker     40.0"
      ]
     },
     "execution_count": 49,
     "metadata": {},
     "output_type": "execute_result"
    }
   ],
   "source": [
    "df.columns = ['fnr', 'age', 'gender', 'percent']\n",
    "df"
   ]
  },
  {
   "cell_type": "code",
   "execution_count": 50,
   "id": "8c701154",
   "metadata": {},
   "outputs": [
    {
     "data": {
      "text/html": [
       "<div>\n",
       "<style scoped>\n",
       "    .dataframe tbody tr th:only-of-type {\n",
       "        vertical-align: middle;\n",
       "    }\n",
       "\n",
       "    .dataframe tbody tr th {\n",
       "        vertical-align: top;\n",
       "    }\n",
       "\n",
       "    .dataframe thead th {\n",
       "        text-align: right;\n",
       "    }\n",
       "</style>\n",
       "<table border=\"1\" class=\"dataframe\">\n",
       "  <thead>\n",
       "    <tr style=\"text-align: right;\">\n",
       "      <th></th>\n",
       "      <th>fnr</th>\n",
       "      <th>age</th>\n",
       "      <th>gender</th>\n",
       "      <th>percent</th>\n",
       "    </tr>\n",
       "  </thead>\n",
       "  <tbody>\n",
       "    <tr>\n",
       "      <th>Ola</th>\n",
       "      <td>123</td>\n",
       "      <td>10</td>\n",
       "      <td>Mann</td>\n",
       "      <td>51.0</td>\n",
       "    </tr>\n",
       "    <tr>\n",
       "      <th>Jørgine</th>\n",
       "      <td>234</td>\n",
       "      <td>20</td>\n",
       "      <td>Kvinne</td>\n",
       "      <td>32.0</td>\n",
       "    </tr>\n",
       "    <tr>\n",
       "      <th>Kim</th>\n",
       "      <td>345</td>\n",
       "      <td>30</td>\n",
       "      <td>Usikker</td>\n",
       "      <td>40.0</td>\n",
       "    </tr>\n",
       "    <tr>\n",
       "      <th>Ola</th>\n",
       "      <td>123</td>\n",
       "      <td>10</td>\n",
       "      <td>Mann</td>\n",
       "      <td>51.0</td>\n",
       "    </tr>\n",
       "    <tr>\n",
       "      <th>Jørgine</th>\n",
       "      <td>234</td>\n",
       "      <td>20</td>\n",
       "      <td>Kvinne</td>\n",
       "      <td>32.0</td>\n",
       "    </tr>\n",
       "    <tr>\n",
       "      <th>Kim</th>\n",
       "      <td>345</td>\n",
       "      <td>30</td>\n",
       "      <td>Usikker</td>\n",
       "      <td>40.0</td>\n",
       "    </tr>\n",
       "  </tbody>\n",
       "</table>\n",
       "</div>"
      ],
      "text/plain": [
       "         fnr  age   gender  percent\n",
       "Ola      123   10     Mann     51.0\n",
       "Jørgine  234   20   Kvinne     32.0\n",
       "Kim      345   30  Usikker     40.0\n",
       "Ola      123   10     Mann     51.0\n",
       "Jørgine  234   20   Kvinne     32.0\n",
       "Kim      345   30  Usikker     40.0"
      ]
     },
     "execution_count": 50,
     "metadata": {},
     "output_type": "execute_result"
    }
   ],
   "source": [
    "# Doble dataframen\n",
    "pd.concat([df, df])"
   ]
  },
  {
   "cell_type": "code",
   "execution_count": 54,
   "id": "e773e09f",
   "metadata": {},
   "outputs": [
    {
     "data": {
      "text/html": [
       "<div>\n",
       "<style scoped>\n",
       "    .dataframe tbody tr th:only-of-type {\n",
       "        vertical-align: middle;\n",
       "    }\n",
       "\n",
       "    .dataframe tbody tr th {\n",
       "        vertical-align: top;\n",
       "    }\n",
       "\n",
       "    .dataframe thead th {\n",
       "        text-align: right;\n",
       "    }\n",
       "</style>\n",
       "<table border=\"1\" class=\"dataframe\">\n",
       "  <thead>\n",
       "    <tr style=\"text-align: right;\">\n",
       "      <th></th>\n",
       "      <th></th>\n",
       "      <th>age</th>\n",
       "      <th>percent</th>\n",
       "    </tr>\n",
       "    <tr>\n",
       "      <th>fnr</th>\n",
       "      <th>gender</th>\n",
       "      <th></th>\n",
       "      <th></th>\n",
       "    </tr>\n",
       "  </thead>\n",
       "  <tbody>\n",
       "    <tr>\n",
       "      <th>123</th>\n",
       "      <th>Mann</th>\n",
       "      <td>10</td>\n",
       "      <td>51.0</td>\n",
       "    </tr>\n",
       "    <tr>\n",
       "      <th>234</th>\n",
       "      <th>Kvinne</th>\n",
       "      <td>20</td>\n",
       "      <td>32.0</td>\n",
       "    </tr>\n",
       "    <tr>\n",
       "      <th>345</th>\n",
       "      <th>Usikker</th>\n",
       "      <td>30</td>\n",
       "      <td>40.0</td>\n",
       "    </tr>\n",
       "  </tbody>\n",
       "</table>\n",
       "</div>"
      ],
      "text/plain": [
       "             age  percent\n",
       "fnr gender               \n",
       "123 Mann      10     51.0\n",
       "234 Kvinne    20     32.0\n",
       "345 Usikker   30     40.0"
      ]
     },
     "execution_count": 54,
     "metadata": {},
     "output_type": "execute_result"
    }
   ],
   "source": [
    "# Når man gjør en fremstilling av en \"groupby\" får man en multi-index på rad-navn\n",
    "df_grp = df.groupby(['fnr', 'gender']).mean()\n",
    "df_grp"
   ]
  },
  {
   "cell_type": "code",
   "execution_count": 56,
   "id": "3d9690e8",
   "metadata": {},
   "outputs": [
    {
     "data": {
      "text/plain": [
       "MultiIndex([('123',    'Mann'),\n",
       "            ('234',  'Kvinne'),\n",
       "            ('345', 'Usikker')],\n",
       "           names=['fnr', 'gender'])"
      ]
     },
     "execution_count": 56,
     "metadata": {},
     "output_type": "execute_result"
    }
   ],
   "source": [
    "df_grp.index"
   ]
  },
  {
   "cell_type": "code",
   "execution_count": 57,
   "id": "8809184f",
   "metadata": {},
   "outputs": [
    {
     "data": {
      "text/html": [
       "<div>\n",
       "<style scoped>\n",
       "    .dataframe tbody tr th:only-of-type {\n",
       "        vertical-align: middle;\n",
       "    }\n",
       "\n",
       "    .dataframe tbody tr th {\n",
       "        vertical-align: top;\n",
       "    }\n",
       "\n",
       "    .dataframe thead th {\n",
       "        text-align: right;\n",
       "    }\n",
       "</style>\n",
       "<table border=\"1\" class=\"dataframe\">\n",
       "  <thead>\n",
       "    <tr style=\"text-align: right;\">\n",
       "      <th></th>\n",
       "      <th>fnr</th>\n",
       "      <th>gender</th>\n",
       "      <th>age</th>\n",
       "      <th>percent</th>\n",
       "    </tr>\n",
       "  </thead>\n",
       "  <tbody>\n",
       "    <tr>\n",
       "      <th>0</th>\n",
       "      <td>123</td>\n",
       "      <td>Mann</td>\n",
       "      <td>10</td>\n",
       "      <td>51.0</td>\n",
       "    </tr>\n",
       "    <tr>\n",
       "      <th>1</th>\n",
       "      <td>234</td>\n",
       "      <td>Kvinne</td>\n",
       "      <td>20</td>\n",
       "      <td>32.0</td>\n",
       "    </tr>\n",
       "    <tr>\n",
       "      <th>2</th>\n",
       "      <td>345</td>\n",
       "      <td>Usikker</td>\n",
       "      <td>30</td>\n",
       "      <td>40.0</td>\n",
       "    </tr>\n",
       "  </tbody>\n",
       "</table>\n",
       "</div>"
      ],
      "text/plain": [
       "   fnr   gender  age  percent\n",
       "0  123     Mann   10     51.0\n",
       "1  234   Kvinne   20     32.0\n",
       "2  345  Usikker   30     40.0"
      ]
     },
     "execution_count": 57,
     "metadata": {},
     "output_type": "execute_result"
    }
   ],
   "source": [
    "# Man kan \"resette indexen\", men legg merke til at vi har mistet navngivingen på radene...\n",
    "df_grp = df_grp.reset_index()\n",
    "df_grp"
   ]
  },
  {
   "cell_type": "markdown",
   "id": "36a36f4e",
   "metadata": {},
   "source": [
    "# Hvilke \"dtypes\" har vi?"
   ]
  },
  {
   "cell_type": "markdown",
   "id": "80ed86f1",
   "metadata": {},
   "source": [
    "https://pbpython.com/pandas_dtypes.html"
   ]
  },
  {
   "cell_type": "markdown",
   "id": "6435415c",
   "metadata": {},
   "source": [
    "<table border=\"1\" class=\"colwidths-given table table-condensed docutils\">\n",
    "<caption>Pandas dtype mapping</caption>\n",
    "<colgroup>\n",
    "<col width=\"13%\">\n",
    "<col width=\"13%\">\n",
    "<col width=\"38%\">\n",
    "<col width=\"38%\">\n",
    "</colgroup>\n",
    "<thead valign=\"bottom\">\n",
    "<tr><th class=\"head\">Pandas dtype</th>\n",
    "<th class=\"head\">Python type</th>\n",
    "<th class=\"head\">NumPy type</th>\n",
    "<th class=\"head\">Usage</th>\n",
    "</tr>\n",
    "</thead>\n",
    "<tbody valign=\"top\">\n",
    "<tr><td>object</td>\n",
    "<td>str or mixed</td>\n",
    "<td>string_, unicode_, mixed types</td>\n",
    "<td>Text or mixed numeric and non-numeric values</td>\n",
    "</tr>\n",
    "<tr><td>int64</td>\n",
    "<td>int</td>\n",
    "<td>int_, int8, int16, int32, int64, uint8, uint16, uint32, uint64</td>\n",
    "<td>Integer numbers</td>\n",
    "</tr>\n",
    "<tr><td>float64</td>\n",
    "<td>float</td>\n",
    "<td>float_, float16, float32, float64</td>\n",
    "<td>Floating point numbers</td>\n",
    "</tr>\n",
    "<tr><td>bool</td>\n",
    "<td>bool</td>\n",
    "<td>bool_</td>\n",
    "<td>True/False values</td>\n",
    "</tr>\n",
    "<tr><td>datetime64</td>\n",
    "<td>datetime</td>\n",
    "<td>datetime64[ns]</td>\n",
    "<td>Date and time values</td>\n",
    "</tr>\n",
    "<tr><td>category</td>\n",
    "<td><span class=\"caps\">NA</span></td>\n",
    "<td><span class=\"caps\">NA</span></td>\n",
    "<td>Finite list of text values</td>\n",
    "</tr>\n",
    "</tbody>\n",
    "</table>"
   ]
  },
  {
   "cell_type": "code",
   "execution_count": null,
   "id": "49e4ec5e",
   "metadata": {},
   "outputs": [],
   "source": []
  }
 ],
 "metadata": {
  "kernelspec": {
   "display_name": "Python 3",
   "language": "python",
   "name": "python3"
  },
  "language_info": {
   "codemirror_mode": {
    "name": "ipython",
    "version": 3
   },
   "file_extension": ".py",
   "mimetype": "text/x-python",
   "name": "python",
   "nbconvert_exporter": "python",
   "pygments_lexer": "ipython3",
   "version": "3.8.10"
  }
 },
 "nbformat": 4,
 "nbformat_minor": 5
}
