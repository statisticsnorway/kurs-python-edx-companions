{
 "cells": [
  {
   "cell_type": "markdown",
   "id": "35a014cb",
   "metadata": {},
   "source": [
    "# Kjør hele arket, så besvar spørsmålene med alternativene."
   ]
  },
  {
   "cell_type": "code",
   "execution_count": 1,
   "id": "fa23aba8",
   "metadata": {},
   "outputs": [
    {
     "name": "stdout",
     "output_type": "stream",
     "text": [
      "/home/jovyan/kurs-python-edx-companions/src/elaering\n"
     ]
    }
   ],
   "source": [
    "%cd /home/jovyan/kurs-python-edx-companions/src/elaering\n",
    "from multchoice import multchoice\n",
    "import codecs"
   ]
  },
  {
   "cell_type": "code",
   "execution_count": 2,
   "id": "c1b58c63",
   "metadata": {
    "jupyter": {
     "source_hidden": true
    }
   },
   "outputs": [
    {
     "data": {
      "application/vnd.jupyter.widget-view+json": {
       "model_id": "91488fb4ea904d3191fe007de422f77f",
       "version_major": 2,
       "version_minor": 0
      },
      "text/plain": [
       "VBox(children=(Output(), RadioButtons(options=(('En kolonne i pandas', 0), ('Det tilsvarer en array', 1), ('En…"
      ]
     },
     "metadata": {},
     "output_type": "display_data"
    }
   ],
   "source": [
    "Q1 = multchoice('Hva er Series?',\n",
    "                    ['En kolonne i pandas',\n",
    "                     'Det tilsvarer en array',\n",
    "                     'En indeksbar liste fra Pythons grunnpakke'], \n",
    "                codecs.decode('Ra xbybaar v cnaqnf', 'rot13'))\n",
    "Q1"
   ]
  },
  {
   "cell_type": "code",
   "execution_count": 3,
   "id": "43c3cbb2",
   "metadata": {
    "jupyter": {
     "source_hidden": true
    }
   },
   "outputs": [
    {
     "data": {
      "application/vnd.jupyter.widget-view+json": {
       "model_id": "56a67bbbbcf7478c8478de044356591d",
       "version_major": 2,
       "version_minor": 0
      },
      "text/plain": [
       "VBox(children=(Output(), RadioButtons(options=(('.joins()', 0), ('.merge()', 1), ('.concat()', 2), ('.append()…"
      ]
     },
     "metadata": {},
     "output_type": "display_data"
    }
   ],
   "source": [
    "Q2 = multchoice('Hvilken metode brukes oftest for å slå sammen to ulike dataframes?',\n",
    "                    ['.joins()',\n",
    "                     '.merge()',\n",
    "                     '.concat()',\n",
    "                    '.append()'], \n",
    "                codecs.decode('.zretr()', 'rot13'))\n",
    "Q2"
   ]
  },
  {
   "cell_type": "code",
   "execution_count": 4,
   "id": "da9899ac",
   "metadata": {
    "jupyter": {
     "source_hidden": true
    }
   },
   "outputs": [
    {
     "data": {
      "application/vnd.jupyter.widget-view+json": {
       "model_id": "076d5de87abb4ae0b2fd3089b73d8ed9",
       "version_major": 2,
       "version_minor": 0
      },
      "text/plain": [
       "VBox(children=(Output(), RadioButtons(options=(('df[\"col1\"].iloc[0] = \"kode\"', 0), ('df.loc[df[\"col1\"] == x, \"…"
      ]
     },
     "metadata": {},
     "output_type": "display_data"
    }
   ],
   "source": [
    "Q3 = multchoice('Hvilken av disse mønstrene ville du brukt for å sette en verdi i en annen kolonne?',\n",
    "                    ['df[\"col1\"].iloc[0] = \"kode\"',\n",
    "                    'df.loc[df[\"col1\"] == x, \"col2\"] = \"kode\"',\n",
    "                     'df.replace()',\n",
    "                     'df.iterrows()'\n",
    "                    ], \n",
    "                codecs.decode('qs.ybp[qs[\"pby1\"] == k, \"pby2\"] = \"xbqr\"', 'rot13'))\n",
    "Q3"
   ]
  },
  {
   "cell_type": "code",
   "execution_count": 5,
   "id": "389b1a7f",
   "metadata": {
    "jupyter": {
     "source_hidden": true
    }
   },
   "outputs": [
    {
     "data": {
      "application/vnd.jupyter.widget-view+json": {
       "model_id": "36a3bea8899845e18930d50c300432be",
       "version_major": 2,
       "version_minor": 0
      },
      "text/plain": [
       "VBox(children=(Output(), RadioButtons(options=(('df.pivot()', 0), ('df.append()', 1), ('pd.pivot_table()', 2),…"
      ]
     },
     "metadata": {},
     "output_type": "display_data"
    }
   ],
   "source": [
    "Q4 = multchoice('Hvilken av disse ville du brukt for å snu ett datasett og aggregert verdiene?',\n",
    "                    ['df.pivot()',\n",
    "                    'df.append()',\n",
    "                     'pd.pivot_table()',\n",
    "                     'df.iterrows()'\n",
    "                    ], \n",
    "                codecs.decode('cq.cvibg_gnoyr()', 'rot13'))\n",
    "Q4"
   ]
  }
 ],
 "metadata": {
  "kernelspec": {
   "display_name": "Python 3",
   "language": "python",
   "name": "python3"
  },
  "language_info": {
   "codemirror_mode": {
    "name": "ipython",
    "version": 3
   },
   "file_extension": ".py",
   "mimetype": "text/x-python",
   "name": "python",
   "nbconvert_exporter": "python",
   "pygments_lexer": "ipython3",
   "version": "3.8.10"
  }
 },
 "nbformat": 4,
 "nbformat_minor": 5
}
