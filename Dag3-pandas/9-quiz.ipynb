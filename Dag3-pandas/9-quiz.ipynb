{
 "cells": [
  {
   "cell_type": "markdown",
   "id": "f2368f16",
   "metadata": {},
   "source": [
    "# Kjør hele arket, så besvar spørsmålene med alternativene."
   ]
  },
  {
   "cell_type": "code",
   "execution_count": 1,
   "id": "a51501cb",
   "metadata": {},
   "outputs": [
    {
     "name": "stdout",
     "output_type": "stream",
     "text": [
      "/home/jovyan/kurs-python-edx-companions/src/elaering\n"
     ]
    }
   ],
   "source": [
    "%cd /home/jovyan/kurs-python-edx-companions/src/elaering\n",
    "from multchoice import multchoice\n",
    "import codecs"
   ]
  },
  {
   "cell_type": "code",
   "execution_count": 2,
   "id": "2396708c",
   "metadata": {
    "jupyter": {
     "source_hidden": true
    }
   },
   "outputs": [
    {
     "data": {
      "application/vnd.jupyter.widget-view+json": {
       "model_id": "5c6ab1e82dcd433f92cf886f0fdedbdc",
       "version_major": 2,
       "version_minor": 0
      },
      "text/plain": [
       "VBox(children=(Output(), RadioButtons(options=(('En kolonne i pandas', 0), ('Det tilsvarer en array', 1), ('En…"
      ]
     },
     "metadata": {},
     "output_type": "display_data"
    }
   ],
   "source": [
    "Q1 = multchoice('Hva er Series?',\n",
    "                    ['En kolonne i pandas',\n",
    "                     'Det tilsvarer en array',\n",
    "                     'En indeksbar liste fra Pythons grunnpakke'], \n",
    "                codecs.decode('Ra xbybaar v cnaqnf', 'rot13'))\n",
    "Q1"
   ]
  },
  {
   "cell_type": "code",
   "execution_count": 3,
   "id": "2867409b",
   "metadata": {
    "jupyter": {
     "source_hidden": true
    }
   },
   "outputs": [
    {
     "data": {
      "application/vnd.jupyter.widget-view+json": {
       "model_id": "3d3ac2ad3fef43099e59279e1b4f7639",
       "version_major": 2,
       "version_minor": 0
      },
      "text/plain": [
       "VBox(children=(Output(), RadioButtons(options=(('.joins()', 0), ('.merge()', 1), ('.concat()', 2), ('.append()…"
      ]
     },
     "metadata": {},
     "output_type": "display_data"
    }
   ],
   "source": [
    "Q2 = multchoice('Hvilken metode brukes oftest for å slå sammen to ulike dataframes?',\n",
    "                    ['.joins()',\n",
    "                     '.merge()',\n",
    "                     '.concat()',\n",
    "                    '.append()'], \n",
    "                codecs.decode('.zretr()', 'rot13'))\n",
    "Q2"
   ]
  },
  {
   "cell_type": "code",
   "execution_count": 4,
   "id": "84c5a53b",
   "metadata": {
    "jupyter": {
     "source_hidden": true
    }
   },
   "outputs": [
    {
     "data": {
      "application/vnd.jupyter.widget-view+json": {
       "model_id": "3b3867ac99a744488cb8f95c505deb2d",
       "version_major": 2,
       "version_minor": 0
      },
      "text/plain": [
       "VBox(children=(Output(), RadioButtons(options=(('df[\"col1\"].iloc[0] = \"kode\"', 0), ('df.loc[df[\"col1\"] == x, \"…"
      ]
     },
     "metadata": {},
     "output_type": "display_data"
    }
   ],
   "source": [
    "Q3 = multchoice('Hvilken av disse mønstrene ville du brukt for å sette en verdi i en annen kolonne?',\n",
    "                    ['df[\"col1\"].iloc[0] = \"kode\"',\n",
    "                    'df.loc[df[\"col1\"] == x, \"col2\"] = \"kode\"',\n",
    "                     'df.replace()',\n",
    "                     'df.iterrows()'\n",
    "                    ], \n",
    "                codecs.decode('qs.ybp[qs[\"pby1\"] == k, \"pby2\"] = \"xbqr\"', 'rot13'))\n",
    "Q3"
   ]
  },
  {
   "cell_type": "code",
   "execution_count": 5,
   "id": "e67833c4",
   "metadata": {
    "jupyter": {
     "source_hidden": true
    }
   },
   "outputs": [
    {
     "data": {
      "application/vnd.jupyter.widget-view+json": {
       "model_id": "7d5b1051be744140b177f75504427245",
       "version_major": 2,
       "version_minor": 0
      },
      "text/plain": [
       "VBox(children=(Output(), RadioButtons(options=(('df.pivot()', 0), ('df.append()', 1), ('pd.pivot_table()', 2),…"
      ]
     },
     "metadata": {},
     "output_type": "display_data"
    }
   ],
   "source": [
    "Q4 = multchoice('Hvilken av disse ville du brukt for å snu ett datasett og aggregert verdiene?',\n",
    "                    ['df.pivot()',\n",
    "                    'df.append()',\n",
    "                     'pd.pivot_table()',\n",
    "                     'df.iterrows()'\n",
    "                    ], \n",
    "                codecs.decode('cq.cvibg_gnoyr()', 'rot13'))\n",
    "Q4"
   ]
  }
 ],
 "metadata": {
  "kernelspec": {
   "display_name": "Python 3",
   "language": "python",
   "name": "python3"
  },
  "language_info": {
   "codemirror_mode": {
    "name": "ipython",
    "version": 3
   },
   "file_extension": ".py",
   "mimetype": "text/x-python",
   "name": "python",
   "nbconvert_exporter": "python",
   "pygments_lexer": "ipython3",
   "version": "3.8.10"
  }
 },
 "nbformat": 4,
 "nbformat_minor": 5
}
