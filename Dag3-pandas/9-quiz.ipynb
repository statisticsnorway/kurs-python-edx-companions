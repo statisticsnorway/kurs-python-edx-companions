{
 "cells": [
  {
   "cell_type": "markdown",
   "id": "94bf02cd",
   "metadata": {},
   "source": [
    "# Kjør hele arket, så besvar spørsmålene med alternativene."
   ]
  },
  {
   "cell_type": "code",
   "execution_count": null,
   "id": "c932b187",
   "metadata": {},
   "outputs": [],
   "source": [
    "%cd /home/jovyan/kurs-python-edx-companion/src/elaering\n",
    "from multchoice import multchoice\n",
    "import codecs"
   ]
  },
  {
   "cell_type": "code",
   "execution_count": null,
   "id": "cbf7fc51",
   "metadata": {},
   "outputs": [],
   "source": [
    "codecs.encode('En funksjon som tilhører en class','rot13')"
   ]
  },
  {
   "cell_type": "code",
   "execution_count": null,
   "id": "60d3c064",
   "metadata": {},
   "outputs": [],
   "source": [
    "Q1 = multchoice('Hva er en variabel?',\n",
    "                    ['En kolonne',\n",
    "                     'Navnet på ett objekt',\n",
    "                     'Ett svaralternativ'], \n",
    "                codecs.decode('Aniarg cå rgg bowrxg', 'rot13'))\n",
    "Q1"
   ]
  }
 ],
 "metadata": {
  "kernelspec": {
   "display_name": "Python 3",
   "language": "python",
   "name": "python3"
  },
  "language_info": {
   "codemirror_mode": {
    "name": "ipython",
    "version": 3
   },
   "file_extension": ".py",
   "mimetype": "text/x-python",
   "name": "python",
   "nbconvert_exporter": "python",
   "pygments_lexer": "ipython3",
   "version": "3.8.10"
  }
 },
 "nbformat": 4,
 "nbformat_minor": 5
}
