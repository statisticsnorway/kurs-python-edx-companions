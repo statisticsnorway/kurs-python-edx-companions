{
 "cells": [
  {
   "cell_type": "markdown",
   "id": "ca8cef89",
   "metadata": {},
   "source": [
    "### Hent data"
   ]
  },
  {
   "cell_type": "code",
   "execution_count": null,
   "id": "8dc922a5",
   "metadata": {},
   "outputs": [],
   "source": [
    "import pandas as pd\n",
    "import os"
   ]
  },
  {
   "cell_type": "code",
   "execution_count": null,
   "id": "a78efcc4",
   "metadata": {},
   "outputs": [],
   "source": [
    "# Se alle \"mock\"-datasettene i datamappa\n",
    "os.listdir('../data/mock_sysselsatte')"
   ]
  },
  {
   "cell_type": "code",
   "execution_count": null,
   "id": "3d74b017",
   "metadata": {},
   "outputs": [],
   "source": [
    "# Stapp datasettene som \"objekter\" inn i ett \"variabelnavn\"\n",
    "comp = pd.read_csv('../data/mock_sysselsatte/companies_2019_30000.csv')\n",
    "pop = pd.read_csv('../data/mock_sysselsatte/population_2019_30000.csv')"
   ]
  },
  {
   "cell_type": "code",
   "execution_count": null,
   "id": "2afc0e4f",
   "metadata": {},
   "outputs": [],
   "source": [
    "#Print preview av ett datasett\n",
    "comp"
   ]
  },
  {
   "cell_type": "code",
   "execution_count": null,
   "id": "8da07677",
   "metadata": {},
   "outputs": [],
   "source": [
    "# Og det andre\n",
    "pop"
   ]
  },
  {
   "cell_type": "markdown",
   "id": "8d0c9f30",
   "metadata": {},
   "source": [
    "### Fjern \"Unnamed 0-kolonnen\""
   ]
  },
  {
   "cell_type": "code",
   "execution_count": null,
   "id": "afd2a84d",
   "metadata": {},
   "outputs": [],
   "source": [
    "pop = pop.drop(columns=['Unnamed: 0'])"
   ]
  },
  {
   "cell_type": "code",
   "execution_count": null,
   "id": "65f9ad00",
   "metadata": {},
   "outputs": [],
   "source": [
    "comp = comp.drop(columns=['Unnamed: 0'])"
   ]
  },
  {
   "cell_type": "markdown",
   "id": "1a36b338",
   "metadata": {},
   "source": [
    "### Datatyper på kolonner fra CSV"
   ]
  },
  {
   "cell_type": "code",
   "execution_count": null,
   "id": "5ec7ac0c",
   "metadata": {},
   "outputs": [],
   "source": [
    "print(pop.dtypes)\n",
    "pop.head(3)"
   ]
  },
  {
   "cell_type": "code",
   "execution_count": null,
   "id": "efdcc5b5",
   "metadata": {},
   "outputs": [],
   "source": [
    "print(comp.dtypes)\n",
    "comp.head(3)"
   ]
  },
  {
   "cell_type": "code",
   "execution_count": null,
   "id": "7d625211",
   "metadata": {},
   "outputs": [],
   "source": [
    "# Regionkode burde kanskje ikke være en float? Men man kan ikke ha nan-verdier i en int..."
   ]
  },
  {
   "cell_type": "markdown",
   "id": "cff0afce",
   "metadata": {},
   "source": [
    "<hr>"
   ]
  },
  {
   "cell_type": "markdown",
   "id": "3bcaa74b",
   "metadata": {},
   "source": [
    "## Antall \"OM MAN KOBLER\"\n",
    "<br>"
   ]
  },
  {
   "cell_type": "code",
   "execution_count": null,
   "id": "38352c15",
   "metadata": {},
   "outputs": [],
   "source": [
    "# Hvor mange av personene vil få påført arbeidsplass OM vi merger\n",
    "# \"Antall som vil koble\"\n",
    "\n",
    "len( # lengden (rader) av...\n",
    "    pop[ # dataframen hvor populasjonen...\n",
    "        pop['work_id'].isin( # på radene hvor \"work_id\" i populasjonen finnes i...\n",
    "            comp['work_id'] # \"work_id\"-kolonnen i selskaps-dataframen.\n",
    "        )\n",
    "    ]\n",
    ")\n",
    "\n",
    "#På en linje:\n",
    "len(pop[ pop['work_id'].isin(comp['work_id'])])"
   ]
  },
  {
   "cell_type": "code",
   "execution_count": null,
   "id": "6d8b4cb8",
   "metadata": {},
   "outputs": [],
   "source": [
    "# Vi tar altså bare len() av en nedfiltrert dataframe\n",
    "pop[pop['work_id'].isin(comp['work_id'])]"
   ]
  },
  {
   "cell_type": "code",
   "execution_count": null,
   "id": "5523484a",
   "metadata": {},
   "outputs": [],
   "source": [
    "# Denne nedfiltrerte versjonen kan fint assignes til ett nytt variabelnavn å jobbes videre, om man vil...\n",
    "pop_arbeidere = pop[pop['work_id'].isin(comp['work_id'])]\n",
    "# F.eks. plott ett histogram av aldersfordelingen i antall som jobber\n",
    "pop_arbeidere['age'].hist()"
   ]
  },
  {
   "cell_type": "markdown",
   "id": "9e3a934b",
   "metadata": {},
   "source": [
    "<hr>"
   ]
  },
  {
   "cell_type": "markdown",
   "id": "5a335f71",
   "metadata": {},
   "source": [
    "## Faktisk \"kobling\" - merge / join\n",
    "<br>"
   ]
  },
  {
   "cell_type": "markdown",
   "id": "e7e7eec9",
   "metadata": {},
   "source": [
    "https://pandas.pydata.org/pandas-docs/stable/reference/api/pandas.DataFrame.merge.html"
   ]
  },
  {
   "cell_type": "code",
   "execution_count": null,
   "id": "9b9481cb",
   "metadata": {},
   "outputs": [],
   "source": [
    "# Fest selskaper på personer\n",
    "pop_comp = pop.merge(comp, on = 'work_id', how = 'left') "
   ]
  },
  {
   "cell_type": "code",
   "execution_count": null,
   "id": "b065c2df",
   "metadata": {},
   "outputs": [],
   "source": [
    "pop_comp.iloc[10000:10010]"
   ]
  },
  {
   "cell_type": "code",
   "execution_count": null,
   "id": "87b8e0ce",
   "metadata": {},
   "outputs": [],
   "source": [
    "if len(pop) != len(pop_comp):\n",
    "    raise ValueError(f\"pop: {len(pop)} - pop_comp: {len(pop_comp)} Det har skjedd noe med lengden på antall personer... \")"
   ]
  },
  {
   "cell_type": "markdown",
   "id": "e56876d1",
   "metadata": {},
   "source": [
    "### Join er ett alternativ til merge, men bør egentlig ikke brukes?\n",
    "Man beholder i utgangspunktet kopier av den raden man joiner på.\\\n",
    "Det viktige med en \"join\" er at den merger på \"indexen\" til radene, og man er dermed avhengig av å sette denne til nøkkelen...\\\n",
    "Det kan være mer nyttig å bare holde seg til merge()."
   ]
  },
  {
   "cell_type": "code",
   "execution_count": null,
   "id": "4eaf85f1",
   "metadata": {},
   "outputs": [],
   "source": [
    "# Legg spesielt merke til .set_index()\n",
    "pop_comp2 = pop.join(comp.set_index('work_id'), on ='work_id')\n",
    "pop_comp2.iloc[10000:10010]"
   ]
  },
  {
   "cell_type": "code",
   "execution_count": null,
   "id": "bc36cfbc",
   "metadata": {},
   "outputs": [],
   "source": []
  }
 ],
 "metadata": {
  "kernelspec": {
   "display_name": "Python 3",
   "language": "python",
   "name": "python3"
  },
  "language_info": {
   "codemirror_mode": {
    "name": "ipython",
    "version": 3
   },
   "file_extension": ".py",
   "mimetype": "text/x-python",
   "name": "python",
   "nbconvert_exporter": "python",
   "pygments_lexer": "ipython3",
   "version": "3.8.10"
  }
 },
 "nbformat": 4,
 "nbformat_minor": 5
}
