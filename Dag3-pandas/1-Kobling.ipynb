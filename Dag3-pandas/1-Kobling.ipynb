{
 "cells": [
  {
   "cell_type": "markdown",
   "id": "0357bcae",
   "metadata": {},
   "source": [
    "### Hent data"
   ]
  },
  {
   "cell_type": "code",
   "execution_count": 1,
   "id": "795545c6",
   "metadata": {},
   "outputs": [],
   "source": [
    "import pandas as pd\n",
    "import os"
   ]
  },
  {
   "cell_type": "code",
   "execution_count": 2,
   "id": "ebb06393",
   "metadata": {},
   "outputs": [
    {
     "data": {
      "text/plain": [
       "['population_2023_10000.csv',\n",
       " 'population_2020_30000.csv',\n",
       " 'companies_2019_30000.csv',\n",
       " 'companies_2022_30000.csv',\n",
       " 'population_2019_10000.csv',\n",
       " 'companies_2023_30000.csv',\n",
       " 'population_2022_10000.csv',\n",
       " 'companies_2024_30000.csv',\n",
       " 'population_2024_30000.csv',\n",
       " 'companies_2021_30000.csv',\n",
       " 'companies_2022_10000.csv',\n",
       " 'companies_2019_10000.csv',\n",
       " 'population_2023_30000.csv',\n",
       " 'population_2021_30000.csv',\n",
       " 'population_2019_30000.csv',\n",
       " 'population_2022_30000.csv',\n",
       " 'population_2021_10000.csv',\n",
       " 'companies_2020_10000.csv',\n",
       " 'population_2020_10000.csv',\n",
       " 'companies_2021_10000.csv',\n",
       " 'companies_2023_10000.csv',\n",
       " 'companies_2020_30000.csv']"
      ]
     },
     "execution_count": 2,
     "metadata": {},
     "output_type": "execute_result"
    }
   ],
   "source": [
    "# Se alle \"mock\"-datasettene i datamappa\n",
    "os.listdir('../data/mock_sysselsatte')"
   ]
  },
  {
   "cell_type": "code",
   "execution_count": 3,
   "id": "acd09421",
   "metadata": {},
   "outputs": [],
   "source": [
    "# Stapp datasettene som \"objekter\" inn i ett \"variabelnavn\"\n",
    "comp = pd.read_csv('../data/mock_sysselsatte/companies_2019_30000.csv')\n",
    "pop = pd.read_csv('../data/mock_sysselsatte/population_2019_30000.csv')"
   ]
  },
  {
   "cell_type": "code",
   "execution_count": 4,
   "id": "0e3a571b",
   "metadata": {},
   "outputs": [
    {
     "data": {
      "text/html": [
       "<div>\n",
       "<style scoped>\n",
       "    .dataframe tbody tr th:only-of-type {\n",
       "        vertical-align: middle;\n",
       "    }\n",
       "\n",
       "    .dataframe tbody tr th {\n",
       "        vertical-align: top;\n",
       "    }\n",
       "\n",
       "    .dataframe thead th {\n",
       "        text-align: right;\n",
       "    }\n",
       "</style>\n",
       "<table border=\"1\" class=\"dataframe\">\n",
       "  <thead>\n",
       "    <tr style=\"text-align: right;\">\n",
       "      <th></th>\n",
       "      <th>Unnamed: 0</th>\n",
       "      <th>work_id</th>\n",
       "      <th>nace</th>\n",
       "      <th>region_code</th>\n",
       "      <th>region</th>\n",
       "      <th>employee_points</th>\n",
       "    </tr>\n",
       "  </thead>\n",
       "  <tbody>\n",
       "    <tr>\n",
       "      <th>0</th>\n",
       "      <td>0</td>\n",
       "      <td>118415099</td>\n",
       "      <td>11.070</td>\n",
       "      <td>3.0</td>\n",
       "      <td>Oslo</td>\n",
       "      <td>60</td>\n",
       "    </tr>\n",
       "    <tr>\n",
       "      <th>1</th>\n",
       "      <td>1</td>\n",
       "      <td>165189001</td>\n",
       "      <td>10.920</td>\n",
       "      <td>3.0</td>\n",
       "      <td>Oslo</td>\n",
       "      <td>54</td>\n",
       "    </tr>\n",
       "    <tr>\n",
       "      <th>2</th>\n",
       "      <td>2</td>\n",
       "      <td>205912967</td>\n",
       "      <td>10.130</td>\n",
       "      <td>2.0</td>\n",
       "      <td>Akershus (-2019)</td>\n",
       "      <td>48</td>\n",
       "    </tr>\n",
       "    <tr>\n",
       "      <th>3</th>\n",
       "      <td>3</td>\n",
       "      <td>959013544</td>\n",
       "      <td>46.693</td>\n",
       "      <td>12.0</td>\n",
       "      <td>Hordaland (-2019)</td>\n",
       "      <td>46</td>\n",
       "    </tr>\n",
       "    <tr>\n",
       "      <th>4</th>\n",
       "      <td>4</td>\n",
       "      <td>405013223</td>\n",
       "      <td>09.900</td>\n",
       "      <td>2.0</td>\n",
       "      <td>Akershus (-2019)</td>\n",
       "      <td>88</td>\n",
       "    </tr>\n",
       "    <tr>\n",
       "      <th>...</th>\n",
       "      <td>...</td>\n",
       "      <td>...</td>\n",
       "      <td>...</td>\n",
       "      <td>...</td>\n",
       "      <td>...</td>\n",
       "      <td>...</td>\n",
       "    </tr>\n",
       "    <tr>\n",
       "      <th>1128</th>\n",
       "      <td>1128</td>\n",
       "      <td>706734220</td>\n",
       "      <td>51.210</td>\n",
       "      <td>50.0</td>\n",
       "      <td>Trøndelag - Trööndelage</td>\n",
       "      <td>15</td>\n",
       "    </tr>\n",
       "    <tr>\n",
       "      <th>1129</th>\n",
       "      <td>1129</td>\n",
       "      <td>156404021</td>\n",
       "      <td>74.200</td>\n",
       "      <td>18.0</td>\n",
       "      <td>Nordland</td>\n",
       "      <td>23</td>\n",
       "    </tr>\n",
       "    <tr>\n",
       "      <th>1130</th>\n",
       "      <td>1130</td>\n",
       "      <td>962214437</td>\n",
       "      <td>74.102</td>\n",
       "      <td>18.0</td>\n",
       "      <td>Nordland</td>\n",
       "      <td>12</td>\n",
       "    </tr>\n",
       "    <tr>\n",
       "      <th>1131</th>\n",
       "      <td>1131</td>\n",
       "      <td>999083400</td>\n",
       "      <td>43.341</td>\n",
       "      <td>10.0</td>\n",
       "      <td>Vest-Agder (-2019)</td>\n",
       "      <td>21</td>\n",
       "    </tr>\n",
       "    <tr>\n",
       "      <th>1132</th>\n",
       "      <td>1132</td>\n",
       "      <td>438579667</td>\n",
       "      <td>27.900</td>\n",
       "      <td>7.0</td>\n",
       "      <td>Vestfold (-2019)</td>\n",
       "      <td>16</td>\n",
       "    </tr>\n",
       "  </tbody>\n",
       "</table>\n",
       "<p>1133 rows × 6 columns</p>\n",
       "</div>"
      ],
      "text/plain": [
       "      Unnamed: 0    work_id    nace  region_code                   region  \\\n",
       "0              0  118415099  11.070          3.0                     Oslo   \n",
       "1              1  165189001  10.920          3.0                     Oslo   \n",
       "2              2  205912967  10.130          2.0         Akershus (-2019)   \n",
       "3              3  959013544  46.693         12.0        Hordaland (-2019)   \n",
       "4              4  405013223  09.900          2.0         Akershus (-2019)   \n",
       "...          ...        ...     ...          ...                      ...   \n",
       "1128        1128  706734220  51.210         50.0  Trøndelag - Trööndelage   \n",
       "1129        1129  156404021  74.200         18.0                 Nordland   \n",
       "1130        1130  962214437  74.102         18.0                 Nordland   \n",
       "1131        1131  999083400  43.341         10.0       Vest-Agder (-2019)   \n",
       "1132        1132  438579667  27.900          7.0         Vestfold (-2019)   \n",
       "\n",
       "      employee_points  \n",
       "0                  60  \n",
       "1                  54  \n",
       "2                  48  \n",
       "3                  46  \n",
       "4                  88  \n",
       "...               ...  \n",
       "1128               15  \n",
       "1129               23  \n",
       "1130               12  \n",
       "1131               21  \n",
       "1132               16  \n",
       "\n",
       "[1133 rows x 6 columns]"
      ]
     },
     "execution_count": 4,
     "metadata": {},
     "output_type": "execute_result"
    }
   ],
   "source": [
    "#Print preview av ett datasett\n",
    "comp"
   ]
  },
  {
   "cell_type": "code",
   "execution_count": 18,
   "id": "7047b517",
   "metadata": {},
   "outputs": [
    {
     "data": {
      "text/plain": [
       "<AxesSubplot:>"
      ]
     },
     "execution_count": 18,
     "metadata": {},
     "output_type": "execute_result"
    },
    {
     "data": {
      "image/png": "[encoded data removed]",
      "text/plain": [
       "<Figure size 432x288 with 1 Axes>"
      ]
     },
     "metadata": {
      "needs_background": "light"
     },
     "output_type": "display_data"
    }
   ],
   "source": [
    "# Og det andre\n",
    "pop['age'].hist()"
   ]
  },
  {
   "cell_type": "markdown",
   "id": "6553733b",
   "metadata": {},
   "source": [
    "### Fjern \"Unnamed 0-kolonnen\""
   ]
  },
  {
   "cell_type": "code",
   "execution_count": 6,
   "id": "34e48968",
   "metadata": {},
   "outputs": [],
   "source": [
    "pop = pop.drop(columns=['Unnamed: 0'])"
   ]
  },
  {
   "cell_type": "code",
   "execution_count": 7,
   "id": "bb0e09ac",
   "metadata": {},
   "outputs": [],
   "source": [
    "comp = comp.drop(columns=['Unnamed: 0'])"
   ]
  },
  {
   "cell_type": "markdown",
   "id": "af8fd6a9",
   "metadata": {},
   "source": [
    "### Datatyper på kolonner fra CSV"
   ]
  },
  {
   "cell_type": "code",
   "execution_count": 8,
   "id": "92c361bf",
   "metadata": {},
   "outputs": [
    {
     "name": "stdout",
     "output_type": "stream",
     "text": [
      "id                int64\n",
      "work_id         float64\n",
      "sex              object\n",
      "age               int64\n",
      "year_birth        int64\n",
      "work_percent    float64\n",
      "dtype: object\n"
     ]
    },
    {
     "data": {
      "text/html": [
       "<div>\n",
       "<style scoped>\n",
       "    .dataframe tbody tr th:only-of-type {\n",
       "        vertical-align: middle;\n",
       "    }\n",
       "\n",
       "    .dataframe tbody tr th {\n",
       "        vertical-align: top;\n",
       "    }\n",
       "\n",
       "    .dataframe thead th {\n",
       "        text-align: right;\n",
       "    }\n",
       "</style>\n",
       "<table border=\"1\" class=\"dataframe\">\n",
       "  <thead>\n",
       "    <tr style=\"text-align: right;\">\n",
       "      <th></th>\n",
       "      <th>id</th>\n",
       "      <th>work_id</th>\n",
       "      <th>sex</th>\n",
       "      <th>age</th>\n",
       "      <th>year_birth</th>\n",
       "      <th>work_percent</th>\n",
       "    </tr>\n",
       "  </thead>\n",
       "  <tbody>\n",
       "    <tr>\n",
       "      <th>0</th>\n",
       "      <td>29101946112</td>\n",
       "      <td>NaN</td>\n",
       "      <td>Menn</td>\n",
       "      <td>0</td>\n",
       "      <td>2019</td>\n",
       "      <td>NaN</td>\n",
       "    </tr>\n",
       "    <tr>\n",
       "      <th>1</th>\n",
       "      <td>26101930288</td>\n",
       "      <td>NaN</td>\n",
       "      <td>Menn</td>\n",
       "      <td>0</td>\n",
       "      <td>2019</td>\n",
       "      <td>NaN</td>\n",
       "    </tr>\n",
       "    <tr>\n",
       "      <th>2</th>\n",
       "      <td>22091952214</td>\n",
       "      <td>NaN</td>\n",
       "      <td>Menn</td>\n",
       "      <td>0</td>\n",
       "      <td>2019</td>\n",
       "      <td>NaN</td>\n",
       "    </tr>\n",
       "  </tbody>\n",
       "</table>\n",
       "</div>"
      ],
      "text/plain": [
       "            id  work_id   sex  age  year_birth  work_percent\n",
       "0  29101946112      NaN  Menn    0        2019           NaN\n",
       "1  26101930288      NaN  Menn    0        2019           NaN\n",
       "2  22091952214      NaN  Menn    0        2019           NaN"
      ]
     },
     "execution_count": 8,
     "metadata": {},
     "output_type": "execute_result"
    }
   ],
   "source": [
    "print(pop.dtypes)\n",
    "pop.head(3)"
   ]
  },
  {
   "cell_type": "code",
   "execution_count": 9,
   "id": "5a7bc266",
   "metadata": {},
   "outputs": [
    {
     "name": "stdout",
     "output_type": "stream",
     "text": [
      "work_id              int64\n",
      "nace                object\n",
      "region_code        float64\n",
      "region              object\n",
      "employee_points      int64\n",
      "dtype: object\n"
     ]
    },
    {
     "data": {
      "text/html": [
       "<div>\n",
       "<style scoped>\n",
       "    .dataframe tbody tr th:only-of-type {\n",
       "        vertical-align: middle;\n",
       "    }\n",
       "\n",
       "    .dataframe tbody tr th {\n",
       "        vertical-align: top;\n",
       "    }\n",
       "\n",
       "    .dataframe thead th {\n",
       "        text-align: right;\n",
       "    }\n",
       "</style>\n",
       "<table border=\"1\" class=\"dataframe\">\n",
       "  <thead>\n",
       "    <tr style=\"text-align: right;\">\n",
       "      <th></th>\n",
       "      <th>work_id</th>\n",
       "      <th>nace</th>\n",
       "      <th>region_code</th>\n",
       "      <th>region</th>\n",
       "      <th>employee_points</th>\n",
       "    </tr>\n",
       "  </thead>\n",
       "  <tbody>\n",
       "    <tr>\n",
       "      <th>0</th>\n",
       "      <td>118415099</td>\n",
       "      <td>11.070</td>\n",
       "      <td>3.0</td>\n",
       "      <td>Oslo</td>\n",
       "      <td>60</td>\n",
       "    </tr>\n",
       "    <tr>\n",
       "      <th>1</th>\n",
       "      <td>165189001</td>\n",
       "      <td>10.920</td>\n",
       "      <td>3.0</td>\n",
       "      <td>Oslo</td>\n",
       "      <td>54</td>\n",
       "    </tr>\n",
       "    <tr>\n",
       "      <th>2</th>\n",
       "      <td>205912967</td>\n",
       "      <td>10.130</td>\n",
       "      <td>2.0</td>\n",
       "      <td>Akershus (-2019)</td>\n",
       "      <td>48</td>\n",
       "    </tr>\n",
       "  </tbody>\n",
       "</table>\n",
       "</div>"
      ],
      "text/plain": [
       "     work_id    nace  region_code            region  employee_points\n",
       "0  118415099  11.070          3.0              Oslo               60\n",
       "1  165189001  10.920          3.0              Oslo               54\n",
       "2  205912967  10.130          2.0  Akershus (-2019)               48"
      ]
     },
     "execution_count": 9,
     "metadata": {},
     "output_type": "execute_result"
    }
   ],
   "source": [
    "print(comp.dtypes)\n",
    "comp.head(3)"
   ]
  },
  {
   "cell_type": "code",
   "execution_count": null,
   "id": "0904ea34",
   "metadata": {},
   "outputs": [],
   "source": [
    "# Regionkode burde kanskje ikke være en float? Men man kan ikke ha nan-verdier i en int..."
   ]
  },
  {
   "cell_type": "markdown",
   "id": "9eeb7ad4",
   "metadata": {},
   "source": [
    "<hr>"
   ]
  },
  {
   "cell_type": "markdown",
   "id": "526b7d8c",
   "metadata": {},
   "source": [
    "## Antall \"OM MAN KOBLER\"\n",
    "<br>"
   ]
  },
  {
   "cell_type": "code",
   "execution_count": 16,
   "id": "5046119e",
   "metadata": {},
   "outputs": [
    {
     "data": {
      "text/plain": [
       "15261"
      ]
     },
     "execution_count": 16,
     "metadata": {},
     "output_type": "execute_result"
    }
   ],
   "source": [
    "len(pop[pop['work_id'].isin( # på radene hvor \"work_id\" i populasjonen finnes i...\n",
    "            comp['work_id'] # \"work_id\"-kolonnen i selskaps-dataframen.\n",
    ")])"
   ]
  },
  {
   "cell_type": "code",
   "execution_count": 14,
   "id": "e95ec31d",
   "metadata": {},
   "outputs": [
    {
     "data": {
      "text/plain": [
       "15261"
      ]
     },
     "execution_count": 14,
     "metadata": {},
     "output_type": "execute_result"
    }
   ],
   "source": [
    "# Hvor mange av personene vil få påført arbeidsplass OM vi merger\n",
    "# \"Antall som vil koble\"\n",
    "\n",
    "len( # lengden (rader) av...\n",
    "    pop[ # dataframen hvor populasjonen...\n",
    "        pop['work_id'].isin( # på radene hvor \"work_id\" i populasjonen finnes i...\n",
    "            comp['work_id'] # \"work_id\"-kolonnen i selskaps-dataframen.\n",
    "        )\n",
    "    ]\n",
    ")\n",
    "\n",
    "#På en linje:\n",
    "len(pop[ pop['work_id'].isin(comp['work_id'])])"
   ]
  },
  {
   "cell_type": "code",
   "execution_count": null,
   "id": "ce8ac175",
   "metadata": {},
   "outputs": [],
   "source": [
    "# Vi tar altså bare len() av en nedfiltrert dataframe\n",
    "pop[pop['work_id'].isin(comp['work_id'])]"
   ]
  },
  {
   "cell_type": "code",
   "execution_count": 17,
   "id": "b1b05f08",
   "metadata": {},
   "outputs": [
    {
     "data": {
      "text/plain": [
       "<AxesSubplot:>"
      ]
     },
     "execution_count": 17,
     "metadata": {},
     "output_type": "execute_result"
    },
    {
     "data": {
      "image/png": "[encoded data removed]",
      "text/plain": [
       "<Figure size 432x288 with 1 Axes>"
      ]
     },
     "metadata": {
      "needs_background": "light"
     },
     "output_type": "display_data"
    }
   ],
   "source": [
    "# Denne nedfiltrerte versjonen kan fint assignes til ett nytt variabelnavn å jobbes videre, om man vil...\n",
    "pop_arbeidere = pop[pop['work_id'].isin(comp['work_id'])]\n",
    "# F.eks. plott ett histogram av aldersfordelingen i antall som jobber\n",
    "pop_arbeidere['age'].hist()"
   ]
  },
  {
   "cell_type": "markdown",
   "id": "b5b8055b",
   "metadata": {},
   "source": [
    "<hr>"
   ]
  },
  {
   "cell_type": "markdown",
   "id": "49db993a",
   "metadata": {},
   "source": [
    "## Faktisk \"kobling\" - merge / join\n",
    "<br>"
   ]
  },
  {
   "cell_type": "markdown",
   "id": "ba1d1606",
   "metadata": {},
   "source": [
    "https://pandas.pydata.org/pandas-docs/stable/reference/api/pandas.DataFrame.merge.html"
   ]
  },
  {
   "cell_type": "code",
   "execution_count": 24,
   "id": "b3ca6347",
   "metadata": {},
   "outputs": [],
   "source": [
    "#comp.columns = ['work_id', 'sex', 'region_code', 'region', 'employee_points']"
   ]
  },
  {
   "cell_type": "code",
   "execution_count": 26,
   "id": "2844573b",
   "metadata": {},
   "outputs": [],
   "source": [
    "# Fest selskaper på personer\n",
    "pop_comp = pop.merge(comp, \n",
    "                     left_on = 'work_id', \n",
    "                     right_left = 'work_id', \n",
    "                     how = 'left') "
   ]
  },
  {
   "cell_type": "code",
   "execution_count": 28,
   "id": "38a0552e",
   "metadata": {},
   "outputs": [
    {
     "data": {
      "text/plain": [
       "30000"
      ]
     },
     "execution_count": 28,
     "metadata": {},
     "output_type": "execute_result"
    }
   ],
   "source": [
    "len(pop_comp)"
   ]
  },
  {
   "cell_type": "code",
   "execution_count": 27,
   "id": "94cc0f63",
   "metadata": {},
   "outputs": [
    {
     "data": {
      "text/html": [
       "<div>\n",
       "<style scoped>\n",
       "    .dataframe tbody tr th:only-of-type {\n",
       "        vertical-align: middle;\n",
       "    }\n",
       "\n",
       "    .dataframe tbody tr th {\n",
       "        vertical-align: top;\n",
       "    }\n",
       "\n",
       "    .dataframe thead th {\n",
       "        text-align: right;\n",
       "    }\n",
       "</style>\n",
       "<table border=\"1\" class=\"dataframe\">\n",
       "  <thead>\n",
       "    <tr style=\"text-align: right;\">\n",
       "      <th></th>\n",
       "      <th>id</th>\n",
       "      <th>work_id</th>\n",
       "      <th>sex_x</th>\n",
       "      <th>age</th>\n",
       "      <th>year_birth</th>\n",
       "      <th>work_percent</th>\n",
       "      <th>sex_y</th>\n",
       "      <th>region_code</th>\n",
       "      <th>region</th>\n",
       "      <th>employee_points</th>\n",
       "    </tr>\n",
       "  </thead>\n",
       "  <tbody>\n",
       "    <tr>\n",
       "      <th>10000</th>\n",
       "      <td>30096929030</td>\n",
       "      <td>114875448.0</td>\n",
       "      <td>Menn</td>\n",
       "      <td>50</td>\n",
       "      <td>1969</td>\n",
       "      <td>100.0</td>\n",
       "      <td>10.920</td>\n",
       "      <td>3.0</td>\n",
       "      <td>Oslo</td>\n",
       "      <td>53.0</td>\n",
       "    </tr>\n",
       "    <tr>\n",
       "      <th>10001</th>\n",
       "      <td>26036377544</td>\n",
       "      <td>307752350.0</td>\n",
       "      <td>Menn</td>\n",
       "      <td>56</td>\n",
       "      <td>1963</td>\n",
       "      <td>100.0</td>\n",
       "      <td>11.060</td>\n",
       "      <td>3.0</td>\n",
       "      <td>Oslo</td>\n",
       "      <td>90.0</td>\n",
       "    </tr>\n",
       "    <tr>\n",
       "      <th>10002</th>\n",
       "      <td>27056393268</td>\n",
       "      <td>387278555.0</td>\n",
       "      <td>Menn</td>\n",
       "      <td>56</td>\n",
       "      <td>1963</td>\n",
       "      <td>100.0</td>\n",
       "      <td>24.410</td>\n",
       "      <td>6.0</td>\n",
       "      <td>Buskerud (-2019)</td>\n",
       "      <td>6.0</td>\n",
       "    </tr>\n",
       "    <tr>\n",
       "      <th>10003</th>\n",
       "      <td>25095943666</td>\n",
       "      <td>NaN</td>\n",
       "      <td>Menn</td>\n",
       "      <td>60</td>\n",
       "      <td>1959</td>\n",
       "      <td>NaN</td>\n",
       "      <td>NaN</td>\n",
       "      <td>NaN</td>\n",
       "      <td>NaN</td>\n",
       "      <td>NaN</td>\n",
       "    </tr>\n",
       "    <tr>\n",
       "      <th>10004</th>\n",
       "      <td>29105529970</td>\n",
       "      <td>NaN</td>\n",
       "      <td>Menn</td>\n",
       "      <td>64</td>\n",
       "      <td>1955</td>\n",
       "      <td>NaN</td>\n",
       "      <td>NaN</td>\n",
       "      <td>NaN</td>\n",
       "      <td>NaN</td>\n",
       "      <td>NaN</td>\n",
       "    </tr>\n",
       "    <tr>\n",
       "      <th>10005</th>\n",
       "      <td>4106142208</td>\n",
       "      <td>NaN</td>\n",
       "      <td>Menn</td>\n",
       "      <td>58</td>\n",
       "      <td>1961</td>\n",
       "      <td>NaN</td>\n",
       "      <td>NaN</td>\n",
       "      <td>NaN</td>\n",
       "      <td>NaN</td>\n",
       "      <td>NaN</td>\n",
       "    </tr>\n",
       "    <tr>\n",
       "      <th>10006</th>\n",
       "      <td>14116883264</td>\n",
       "      <td>963058147.0</td>\n",
       "      <td>Menn</td>\n",
       "      <td>51</td>\n",
       "      <td>1968</td>\n",
       "      <td>100.0</td>\n",
       "      <td>50.202</td>\n",
       "      <td>50.0</td>\n",
       "      <td>Trøndelag - Trööndelage</td>\n",
       "      <td>10.0</td>\n",
       "    </tr>\n",
       "    <tr>\n",
       "      <th>10007</th>\n",
       "      <td>9035845356</td>\n",
       "      <td>960385978.0</td>\n",
       "      <td>Menn</td>\n",
       "      <td>61</td>\n",
       "      <td>1958</td>\n",
       "      <td>100.0</td>\n",
       "      <td>46.433</td>\n",
       "      <td>12.0</td>\n",
       "      <td>Hordaland (-2019)</td>\n",
       "      <td>24.0</td>\n",
       "    </tr>\n",
       "    <tr>\n",
       "      <th>10008</th>\n",
       "      <td>25076606874</td>\n",
       "      <td>205912967.0</td>\n",
       "      <td>Menn</td>\n",
       "      <td>53</td>\n",
       "      <td>1966</td>\n",
       "      <td>100.0</td>\n",
       "      <td>10.130</td>\n",
       "      <td>2.0</td>\n",
       "      <td>Akershus (-2019)</td>\n",
       "      <td>48.0</td>\n",
       "    </tr>\n",
       "    <tr>\n",
       "      <th>10009</th>\n",
       "      <td>8115798764</td>\n",
       "      <td>NaN</td>\n",
       "      <td>Menn</td>\n",
       "      <td>62</td>\n",
       "      <td>1957</td>\n",
       "      <td>NaN</td>\n",
       "      <td>NaN</td>\n",
       "      <td>NaN</td>\n",
       "      <td>NaN</td>\n",
       "      <td>NaN</td>\n",
       "    </tr>\n",
       "  </tbody>\n",
       "</table>\n",
       "</div>"
      ],
      "text/plain": [
       "                id      work_id sex_x  age  year_birth  work_percent   sex_y  \\\n",
       "10000  30096929030  114875448.0  Menn   50        1969         100.0  10.920   \n",
       "10001  26036377544  307752350.0  Menn   56        1963         100.0  11.060   \n",
       "10002  27056393268  387278555.0  Menn   56        1963         100.0  24.410   \n",
       "10003  25095943666          NaN  Menn   60        1959           NaN     NaN   \n",
       "10004  29105529970          NaN  Menn   64        1955           NaN     NaN   \n",
       "10005   4106142208          NaN  Menn   58        1961           NaN     NaN   \n",
       "10006  14116883264  963058147.0  Menn   51        1968         100.0  50.202   \n",
       "10007   9035845356  960385978.0  Menn   61        1958         100.0  46.433   \n",
       "10008  25076606874  205912967.0  Menn   53        1966         100.0  10.130   \n",
       "10009   8115798764          NaN  Menn   62        1957           NaN     NaN   \n",
       "\n",
       "       region_code                   region  employee_points  \n",
       "10000          3.0                     Oslo             53.0  \n",
       "10001          3.0                     Oslo             90.0  \n",
       "10002          6.0         Buskerud (-2019)              6.0  \n",
       "10003          NaN                      NaN              NaN  \n",
       "10004          NaN                      NaN              NaN  \n",
       "10005          NaN                      NaN              NaN  \n",
       "10006         50.0  Trøndelag - Trööndelage             10.0  \n",
       "10007         12.0        Hordaland (-2019)             24.0  \n",
       "10008          2.0         Akershus (-2019)             48.0  \n",
       "10009          NaN                      NaN              NaN  "
      ]
     },
     "execution_count": 27,
     "metadata": {},
     "output_type": "execute_result"
    }
   ],
   "source": [
    "pop_comp.iloc[10000:10010]"
   ]
  },
  {
   "cell_type": "code",
   "execution_count": 21,
   "id": "ca173e33",
   "metadata": {},
   "outputs": [],
   "source": [
    "if len(pop) != len(pop_comp):\n",
    "    raise ValueError(f\"pop: {len(pop)} - pop_comp: {len(pop_comp)} Det har skjedd noe med lengden på antall personer... \")"
   ]
  },
  {
   "cell_type": "markdown",
   "id": "1e551b18",
   "metadata": {},
   "source": [
    "### Join er ett alternativ til merge, men bør egentlig ikke brukes?\n",
    "Man beholder i utgangspunktet kopier av den raden man joiner på.\\\n",
    "Det viktige med en \"join\" er at den merger på \"indexen\" til radene, og man er dermed avhengig av å sette denne til nøkkelen...\\\n",
    "Det kan være mer nyttig å bare holde seg til merge()."
   ]
  },
  {
   "cell_type": "code",
   "execution_count": null,
   "id": "caac3100",
   "metadata": {},
   "outputs": [],
   "source": [
    "# Legg spesielt merke til .set_index()\n",
    "pop_comp2 = pop.join(comp.set_index('work_id'), on ='work_id')\n",
    "pop_comp2.iloc[10000:10010]"
   ]
  },
  {
   "cell_type": "code",
   "execution_count": null,
   "id": "4ff380e0",
   "metadata": {},
   "outputs": [],
   "source": []
  }
 ],
 "metadata": {
  "kernelspec": {
   "display_name": "Python 3",
   "language": "python",
   "name": "python3"
  },
  "language_info": {
   "codemirror_mode": {
    "name": "ipython",
    "version": 3
   },
   "file_extension": ".py",
   "mimetype": "text/x-python",
   "name": "python",
   "nbconvert_exporter": "python",
   "pygments_lexer": "ipython3",
   "version": "3.8.10"
  }
 },
 "nbformat": 4,
 "nbformat_minor": 5
}
