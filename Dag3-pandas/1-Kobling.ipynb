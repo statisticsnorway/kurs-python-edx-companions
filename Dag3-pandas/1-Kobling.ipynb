{
 "cells": [
  {
   "cell_type": "markdown",
   "id": "7ecac7ef",
   "metadata": {},
   "source": [
    "### Hent data"
   ]
  },
  {
   "cell_type": "code",
   "execution_count": null,
   "id": "901e86bd",
   "metadata": {},
   "outputs": [],
   "source": [
    "import pandas as pd\n",
    "import os"
   ]
  },
  {
   "cell_type": "code",
   "execution_count": null,
   "id": "bf3c9257",
   "metadata": {},
   "outputs": [],
   "source": [
    "# Se alle \"mock\"-datasettene i datamappa\n",
    "os.listdir('../data/mock_sysselsatte')"
   ]
  },
  {
   "cell_type": "code",
   "execution_count": null,
   "id": "b75977fd",
   "metadata": {},
   "outputs": [],
   "source": [
    "# Stapp datasettene som \"objekter\" inn i ett \"variabelnavn\"\n",
    "comp = pd.read_csv('../data/mock_sysselsatte/companies_2019_30000.csv')\n",
    "pop = pd.read_csv('../data/mock_sysselsatte/population_2019_30000.csv')"
   ]
  },
  {
   "cell_type": "code",
   "execution_count": null,
   "id": "1f7951f3",
   "metadata": {},
   "outputs": [],
   "source": [
    "#Print preview av ett datasett\n",
    "comp"
   ]
  },
  {
   "cell_type": "code",
   "execution_count": null,
   "id": "8cd04754",
   "metadata": {},
   "outputs": [],
   "source": [
    "# Og det andre\n",
    "pop"
   ]
  },
  {
   "cell_type": "markdown",
   "id": "0d5562f3",
   "metadata": {},
   "source": [
    "### Fjern \"Unnamed 0-kolonnen\""
   ]
  },
  {
   "cell_type": "code",
   "execution_count": null,
   "id": "881ae683",
   "metadata": {},
   "outputs": [],
   "source": [
    "pop = pop.drop(columns=['Unnamed: 0'])"
   ]
  },
  {
   "cell_type": "code",
   "execution_count": null,
   "id": "9872ea9f",
   "metadata": {},
   "outputs": [],
   "source": [
    "comp = comp.drop(columns=['Unnamed: 0'])"
   ]
  },
  {
   "cell_type": "markdown",
   "id": "6cc8a1c5",
   "metadata": {},
   "source": [
    "### Datatyper på kolonner fra CSV"
   ]
  },
  {
   "cell_type": "code",
   "execution_count": null,
   "id": "7491913f",
   "metadata": {},
   "outputs": [],
   "source": [
    "print(pop.dtypes)\n",
    "pop.head(3)"
   ]
  },
  {
   "cell_type": "code",
   "execution_count": null,
   "id": "e8ab1065",
   "metadata": {},
   "outputs": [],
   "source": [
    "print(comp.dtypes)\n",
    "comp.head(3)"
   ]
  },
  {
   "cell_type": "code",
   "execution_count": null,
   "id": "3ad709c6",
   "metadata": {},
   "outputs": [],
   "source": [
    "# Regionkode burde kanskje ikke være en float? Men man kan ikke ha nan-verdier i en int..."
   ]
  },
  {
   "cell_type": "markdown",
   "id": "d23494f9",
   "metadata": {},
   "source": [
    "<hr>"
   ]
  },
  {
   "cell_type": "markdown",
   "id": "18746441",
   "metadata": {},
   "source": [
    "## Antall \"OM MAN KOBLER\"\n",
    "<br>"
   ]
  },
  {
   "cell_type": "code",
   "execution_count": null,
   "id": "03bee1b7",
   "metadata": {},
   "outputs": [],
   "source": [
    "# Hvor mange av personene vil få påført arbeidsplass OM vi merger\n",
    "# \"Antall som vil koble\"\n",
    "\n",
    "len( # lengden (rader) av...\n",
    "    pop[ # dataframen hvor populasjonen...\n",
    "        pop['work_id'].isin( # på radene hvor \"work_id\" i populasjonen finnes i...\n",
    "            comp['work_id'] # \"work_id\"-kolonnen i selskaps-dataframen.\n",
    "        )\n",
    "    ]\n",
    ")\n",
    "\n",
    "#På en linje:\n",
    "len(pop[ pop['work_id'].isin(comp['work_id'])])"
   ]
  },
  {
   "cell_type": "code",
   "execution_count": null,
   "id": "f36701b6",
   "metadata": {},
   "outputs": [],
   "source": [
    "# Vi tar altså bare len() av en nedfiltrert dataframe\n",
    "pop[pop['work_id'].isin(comp['work_id'])]"
   ]
  },
  {
   "cell_type": "code",
   "execution_count": null,
   "id": "54f6aeb5",
   "metadata": {},
   "outputs": [],
   "source": [
    "# Denne nedfiltrerte versjonen kan fint assignes til ett nytt variabelnavn å jobbes videre, om man vil...\n",
    "pop_arbeidere = pop[pop['work_id'].isin(comp['work_id'])]\n",
    "# F.eks. plott ett histogram av aldersfordelingen i antall som jobber\n",
    "pop_arbeidere['age'].hist()"
   ]
  },
  {
   "cell_type": "markdown",
   "id": "ab0e196a",
   "metadata": {},
   "source": [
    "<hr>"
   ]
  },
  {
   "cell_type": "markdown",
   "id": "c0ae7517",
   "metadata": {},
   "source": [
    "## Faktisk \"kobling\" - merge / join\n",
    "<br>"
   ]
  },
  {
   "cell_type": "markdown",
   "id": "f90fe205",
   "metadata": {},
   "source": [
    "https://pandas.pydata.org/pandas-docs/stable/reference/api/pandas.DataFrame.merge.html"
   ]
  },
  {
   "cell_type": "code",
   "execution_count": null,
   "id": "19fe8a95",
   "metadata": {},
   "outputs": [],
   "source": [
    "# Fest selskaper på personer\n",
    "pop_comp = pop.merge(comp, on = 'work_id', how = 'left') "
   ]
  },
  {
   "cell_type": "code",
   "execution_count": null,
   "id": "8ceba46d",
   "metadata": {},
   "outputs": [],
   "source": [
    "pop_comp.iloc[10000:10010]"
   ]
  },
  {
   "cell_type": "code",
   "execution_count": null,
   "id": "32139fab",
   "metadata": {},
   "outputs": [],
   "source": [
    "if len(pop) != len(pop_comp):\n",
    "    raise ValueError(f\"pop: {len(pop)} - pop_comp: {len(pop_comp)} Det har skjedd noe med lengden på antall personer... \")"
   ]
  },
  {
   "cell_type": "markdown",
   "id": "761952c3",
   "metadata": {},
   "source": [
    "### Join er ett alternativ til merge, men bør egentlig ikke brukes?\n",
    "Man beholder i utgangspunktet kopier av den raden man joiner på.\\\n",
    "Det viktige med en \"join\" er at den merger på \"indexen\" til radene, og man er dermed avhengig av å sette denne til nøkkelen...\\\n",
    "Det kan være mer nyttig å bare holde seg til merge()."
   ]
  },
  {
   "cell_type": "code",
   "execution_count": null,
   "id": "47141d93",
   "metadata": {},
   "outputs": [],
   "source": [
    "# Legg spesielt merke til .set_index()\n",
    "pop_comp2 = pop.join(comp.set_index('work_id'), on ='work_id')\n",
    "pop_comp2.iloc[10000:10010]"
   ]
  },
  {
   "cell_type": "code",
   "execution_count": null,
   "id": "f8e220fd",
   "metadata": {},
   "outputs": [],
   "source": []
  }
 ],
 "metadata": {
  "kernelspec": {
   "display_name": "Python 3",
   "language": "python",
   "name": "python3"
  },
  "language_info": {
   "codemirror_mode": {
    "name": "ipython",
    "version": 3
   },
   "file_extension": ".py",
   "mimetype": "text/x-python",
   "name": "python",
   "nbconvert_exporter": "python",
   "pygments_lexer": "ipython3",
   "version": "3.8.10"
  }
 },
 "nbformat": 4,
 "nbformat_minor": 5
}
