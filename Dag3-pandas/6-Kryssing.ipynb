{
 "cells": [
  {
   "cell_type": "code",
   "execution_count": null,
   "id": "8d63f58e",
   "metadata": {},
   "outputs": [],
   "source": [
    "import pandas as pd\n",
    "import numpy as np\n",
    "pop = pd.read_csv('../data/mock_sysselsatte/population_2019_30000.csv')\n",
    "comp = pd.read_csv('../data/mock_sysselsatte/companies_2019_30000.csv')"
   ]
  },
  {
   "cell_type": "markdown",
   "id": "f3266521",
   "metadata": {},
   "source": [
    "### Crosstab"
   ]
  },
  {
   "cell_type": "markdown",
   "id": "576301b3",
   "metadata": {},
   "source": [
    "https://pandas.pydata.org/pandas-docs/stable/reference/api/pandas.crosstab.html"
   ]
  },
  {
   "cell_type": "code",
   "execution_count": null,
   "id": "cc8460fe",
   "metadata": {},
   "outputs": [],
   "source": [
    "pop"
   ]
  },
  {
   "cell_type": "code",
   "execution_count": null,
   "id": "e61f30a8",
   "metadata": {},
   "outputs": [],
   "source": [
    "# Antall kvinner og menn per alder\n",
    "pd.crosstab(pop['age'], pop['sex'])"
   ]
  },
  {
   "cell_type": "code",
   "execution_count": null,
   "id": "6350e153",
   "metadata": {},
   "outputs": [],
   "source": [
    "# Gjennomsnittlig arbeidsprosent per kjønn og tiår\n",
    "arbprc_ald_kjonn = pd.crosstab(pop['age'].astype(str).str[:1].replace('', '0'), \n",
    "            pop['sex'], \n",
    "            values = pop['work_percent'].astype(float), \n",
    "            aggfunc = np.mean)\n",
    "# Dataframes har en \"round funksjon\"...\n",
    "arbprc_ald_kjonn.round()"
   ]
  },
  {
   "cell_type": "code",
   "execution_count": null,
   "id": "91f3fd89",
   "metadata": {},
   "outputs": [],
   "source": [
    "# Eller man kan bare konvertere til int?\n",
    "arbprc_ald_kjonn.astype(int)"
   ]
  },
  {
   "cell_type": "markdown",
   "id": "c38ec4a2",
   "metadata": {},
   "source": [
    "### Bonus: \"En påbegynt versjon av Proc Freq\"\n",
    "\n",
    "https://statisticsnorway.github.io/ssb_fellesfunksjoner_360/proc.html \\\n",
    "https://github.com/statisticsnorway/ssb_fellesfunksjoner_360/blob/Merge-nbdev-template/04_proc.ipynb\n",
    "\n",
    "Lignende prosjekt er meldt inn av Kristian Lønø til Hack, for \"proc tabulate\" \\\n",
    "Denne pakken \"fellesfunksjoner_360\" er dokumentert og pakket ned til en \"package\" med \"nbdev\" - \"Notebook development\"."
   ]
  }
 ],
 "metadata": {
  "kernelspec": {
   "display_name": "Python 3",
   "language": "python",
   "name": "python3"
  },
  "language_info": {
   "codemirror_mode": {
    "name": "ipython",
    "version": 3
   },
   "file_extension": ".py",
   "mimetype": "text/x-python",
   "name": "python",
   "nbconvert_exporter": "python",
   "pygments_lexer": "ipython3",
   "version": "3.8.10"
  }
 },
 "nbformat": 4,
 "nbformat_minor": 5
}
