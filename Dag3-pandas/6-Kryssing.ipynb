{
 "cells": [
  {
   "cell_type": "markdown",
   "id": "88a79e28",
   "metadata": {},
   "source": [
    "### Crosstab"
   ]
  },
  {
   "cell_type": "markdown",
   "id": "c0a07752",
   "metadata": {},
   "source": [
    "https://pandas.pydata.org/pandas-docs/stable/reference/api/pandas.crosstab.html"
   ]
  },
  {
   "cell_type": "markdown",
   "id": "cbe976d5",
   "metadata": {},
   "source": [
    "### Oppstart av Carl på en \"PROC FREQ\"-analog\n",
    "https://statisticsnorway.github.io/ssb_fellesfunksjoner_360/proc.html \\\n",
    "https://github.com/statisticsnorway/ssb_fellesfunksjoner_360/blob/Merge-nbdev-template/04_proc.ipynb"
   ]
  },
  {
   "cell_type": "code",
   "execution_count": null,
   "id": "b345edb0",
   "metadata": {},
   "outputs": [],
   "source": []
  }
 ],
 "metadata": {
  "kernelspec": {
   "display_name": "Python 3",
   "language": "python",
   "name": "python3"
  },
  "language_info": {
   "codemirror_mode": {
    "name": "ipython",
    "version": 3
   },
   "file_extension": ".py",
   "mimetype": "text/x-python",
   "name": "python",
   "nbconvert_exporter": "python",
   "pygments_lexer": "ipython3",
   "version": "3.8.10"
  }
 },
 "nbformat": 4,
 "nbformat_minor": 5
}
