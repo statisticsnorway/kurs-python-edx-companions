{
 "cells": [
  {
   "cell_type": "code",
   "execution_count": null,
   "id": "ca5f94d8",
   "metadata": {},
   "outputs": [],
   "source": [
    "import dapla as dp\n",
    "import pandas as pd"
   ]
  },
  {
   "cell_type": "code",
   "execution_count": null,
   "id": "ca726fdc",
   "metadata": {},
   "outputs": [],
   "source": [
    "# Se alle \"mock\"-datasettene i /felles/ på dapla\n",
    "dp.show('/felles/mock')"
   ]
  },
  {
   "cell_type": "code",
   "execution_count": null,
   "id": "dd855846",
   "metadata": {},
   "outputs": [],
   "source": [
    "# Stapp datasettene som \"objekter\" inn i ett \"variabelnavn\"\n",
    "comp = dp.read_pandas('/felles/mock_sysselsatte/companies_2019_30000')\n",
    "pop = dp.read_pandas('/felles/mock_sysselsatte/population_2019_30000')"
   ]
  },
  {
   "cell_type": "code",
   "execution_count": null,
   "id": "2b455162",
   "metadata": {},
   "outputs": [],
   "source": [
    "#Print preview av ett datasett\n",
    "comp"
   ]
  },
  {
   "cell_type": "code",
   "execution_count": null,
   "id": "916878e5",
   "metadata": {},
   "outputs": [],
   "source": [
    "# Og det andre\n",
    "pop"
   ]
  },
  {
   "cell_type": "markdown",
   "id": "1e9723b0",
   "metadata": {},
   "source": [
    "### Døp om variabler innad i kolonner, er dette \"omkoding\"?"
   ]
  },
  {
   "cell_type": "code",
   "execution_count": null,
   "id": "bef789a4",
   "metadata": {},
   "outputs": [],
   "source": [
    "# En dict av dicts, kolonnenavn: verdi - fra:til\n",
    "omkodingskatalog = {\n",
    "    'sex' : {\n",
    "        'Menn' : 1,\n",
    "        'Kvinner' : 2\n",
    "    },\n",
    "    'region' : {\n",
    "        'Akershus (-2019)' : 'Akershus',\n",
    "        'Hordaland (-2019)' : 'Hordaland',\n",
    "        'Trøndelag - Trööndelage' : 'Trøndelag'\n",
    "    }\n",
    "}\n",
    "\n",
    "# En av dictene i dicten\n",
    "print(omkodingskatalog['sex'])\n",
    "print(type(omkodingskatalog['sex']))"
   ]
  },
  {
   "cell_type": "code",
   "execution_count": null,
   "id": "e7f6d1d6",
   "metadata": {},
   "outputs": [],
   "source": [
    "pop.replace(omkodingskatalog)"
   ]
  },
  {
   "cell_type": "code",
   "execution_count": null,
   "id": "d70ca994",
   "metadata": {},
   "outputs": [],
   "source": [
    "# Sjekk om det faktisk er omkodet, om replace() er \"inplace\"\n",
    "pop"
   ]
  },
  {
   "cell_type": "code",
   "execution_count": null,
   "id": "b7cbfde9",
   "metadata": {},
   "outputs": [],
   "source": [
    "comp.replace(omkodingskatalog)"
   ]
  },
  {
   "cell_type": "markdown",
   "id": "787affaf",
   "metadata": {},
   "source": [
    "### Opprett en ny kolonne med \"grupperingsvariabler\", avhengig av en \"katalog\" fra KLASS"
   ]
  },
  {
   "cell_type": "markdown",
   "id": "9676bbb0",
   "metadata": {},
   "source": [
    "Landsinndeling\n",
    "https://www.ssb.no/klass/klassifikasjoner/106\n",
    "\n",
    "KLASS-API\n",
    "https://data.ssb.no/api/klass/v1/api-guide.html"
   ]
  },
  {
   "cell_type": "code",
   "execution_count": null,
   "id": "c92c34a0",
   "metadata": {},
   "outputs": [],
   "source": [
    "import json\n",
    "import requests\n",
    "\n",
    "# KLASS-query\n",
    "url = 'http://data.ssb.no/api/klass/v1/correspondencetables/468'\n",
    "headers = {'Accept': 'application/json'}\n",
    "# Gjoer etterspoersel\n",
    "r = requests.get(url, headers = headers)\n",
    "# Av en eller annen grunn returnerer KLASS APIen json som bytestring...\n",
    "# La oss decode...\n",
    "cont = r.content.decode('utf8').replace(\"'\", '\"')\n",
    "# Konverter til en liste vi kan bruke\n",
    "cont = json.loads(cont)\n",
    "cont = cont['correspondenceMaps']"
   ]
  },
  {
   "cell_type": "code",
   "execution_count": null,
   "id": "72c1a143",
   "metadata": {},
   "outputs": [],
   "source": [
    "# Det vi har fått fra KLASS er nå en liste med dicts\n",
    "cont"
   ]
  },
  {
   "cell_type": "code",
   "execution_count": null,
   "id": "2a2c6e81",
   "metadata": {},
   "outputs": [],
   "source": [
    "# Loop over katalogen (så vi har tilgang på hver dict i listen)\n",
    "for corr in cont:\n",
    "    # En slags progress-rapport?\n",
    "    print(corr['targetCode'], corr['sourceCode'])\n",
    "    # Lag en ny kolonne for å holde på landsdel_koden, sett denne til sourceCode i katalogen, \n",
    "    # der region-koden matcher på targetCode.\n",
    "    comp.loc[comp['region_code'] == corr['targetCode'], 'landsdel_kode' ] = corr['sourceCode']\n",
    "    # Samme, bare for navnet på landsdelen\n",
    "    comp.loc[comp['region_code'] == corr['targetCode'], 'landsdel_navn' ] = corr['sourceName']"
   ]
  },
  {
   "cell_type": "code",
   "execution_count": null,
   "id": "87e94a2b",
   "metadata": {},
   "outputs": [],
   "source": [
    "# Vi ti tilfeldige rader \n",
    "comp[['region', 'landsdel_navn']].sample(10)"
   ]
  },
  {
   "cell_type": "code",
   "execution_count": null,
   "id": "364873ad",
   "metadata": {},
   "outputs": [],
   "source": [
    "# Unike fylker som fortsatt mangler landsinndeling\n",
    "pd.unique(comp[comp['landsdel_kode'].isna()]['region'])"
   ]
  },
  {
   "cell_type": "code",
   "execution_count": null,
   "id": "a10857e0",
   "metadata": {},
   "outputs": [],
   "source": [
    "# Da må man enten gå gjennom å knytte disse gamle fylkene til landsdeler, eller finne flere korrespondansetabeller\n",
    "fylk_kod = pd.unique(comp[comp['landsdel_kode'].isna()]['region_code'])\n",
    "fylk_kod"
   ]
  },
  {
   "cell_type": "markdown",
   "id": "c7d2cc26",
   "metadata": {},
   "source": [
    "<hr>"
   ]
  },
  {
   "cell_type": "markdown",
   "id": "22c95af0",
   "metadata": {},
   "source": [
    "### Bonus, mer avansert kode: tildel de resterende fylkene landsdeler med \"Excelredigering\" i ipysheet"
   ]
  },
  {
   "cell_type": "code",
   "execution_count": null,
   "id": "2ff70021",
   "metadata": {},
   "outputs": [],
   "source": [
    "import ipysheet as sheet\n",
    "import numpy as np"
   ]
  },
  {
   "cell_type": "code",
   "execution_count": null,
   "id": "a40f4b4e",
   "metadata": {},
   "outputs": [],
   "source": [
    "# Lag en ny \"Omkodingskatalog\"\n",
    "df_landsd = pd.DataFrame(fylk_kod)\n",
    "df_landsd.columns = ['region_code']\n",
    "df_landsd['region'] = ''\n",
    "df_landsd['landsdel_kode'] = ''"
   ]
  },
  {
   "cell_type": "code",
   "execution_count": null,
   "id": "86f89958",
   "metadata": {},
   "outputs": [],
   "source": [
    "# Kom frem til en enkelt verdi, eksempel\n",
    "comp[comp['region_code'] == '02']['region'].iloc[0]"
   ]
  },
  {
   "cell_type": "code",
   "execution_count": null,
   "id": "56a0e519",
   "metadata": {},
   "outputs": [],
   "source": [
    "# Loop over omkodingskatalogen, tildel regionnavn\n",
    "for i, r in df_landsd.iterrows():\n",
    "    print(r['region_code'])\n",
    "    if r['region_code']:\n",
    "        print(comp[comp['region_code'] == r['region_code']]['region'].iloc[0])\n",
    "        r['region'] = comp[comp['region_code'] == r['region_code']]['region'].iloc[0]"
   ]
  },
  {
   "cell_type": "code",
   "execution_count": null,
   "id": "47f92ce5",
   "metadata": {},
   "outputs": [],
   "source": [
    "df_landsd"
   ]
  },
  {
   "cell_type": "code",
   "execution_count": null,
   "id": "b4c35dbc",
   "metadata": {},
   "outputs": [],
   "source": [
    "# En liste over alle landsdelene, med kodene deres\n",
    "last = ''\n",
    "for corr in cont:\n",
    "    kod = corr['sourceCode']\n",
    "    nam = corr['sourceName']\n",
    "    if last != kod:\n",
    "        print(kod, ' : ', nam)\n",
    "    last = kod"
   ]
  },
  {
   "cell_type": "code",
   "execution_count": null,
   "id": "9274b557",
   "metadata": {},
   "outputs": [],
   "source": [
    "# VIser ett sheet, hvor man skal fylle inn landsdel-koden.\n",
    "landsdel_sheet = sheet.from_dataframe(df_landsd[['landsdel_kode', 'region_code', 'region']])\n",
    "landsdel_sheet "
   ]
  },
  {
   "cell_type": "code",
   "execution_count": null,
   "id": "83a44418",
   "metadata": {},
   "outputs": [],
   "source": [
    "df_edit = sheet.to_dataframe(landsdel_sheet)\n",
    "df_edit"
   ]
  },
  {
   "cell_type": "code",
   "execution_count": null,
   "id": "f09e376a",
   "metadata": {},
   "outputs": [],
   "source": [
    "for i, r in df_edit.iterrows():\n",
    "    reg = r['region_code']\n",
    "    lands = r['landsdel_kode']\n",
    "    \n",
    "    if lands:\n",
    "        comp.loc[comp['region_code'] == reg, 'landsdel_kode' ] = lands\n",
    "        \n",
    "        # Finn landsdelnavn utifra landsdelkode\n",
    "        for corr in cont:\n",
    "            kod = corr['sourceCode']\n",
    "            nam = corr['sourceName']\n",
    "            if lands == kod:\n",
    "                break\n",
    "        else:\n",
    "            raise KeyError(f'Finner ikke landsdel: {lands}')\n",
    "                        \n",
    "            \n",
    "        \n",
    "        comp.loc[comp['region_code'] == reg, 'landsdel_navn' ] = nam"
   ]
  },
  {
   "cell_type": "code",
   "execution_count": null,
   "id": "f2f7a4e9",
   "metadata": {},
   "outputs": [],
   "source": [
    "comp"
   ]
  },
  {
   "cell_type": "markdown",
   "id": "0814e96e",
   "metadata": {},
   "source": [
    "# MEN HVA MED LOGGING???\n",
    "Og bør man lagre omkodingskatalogen som sin egen persistente datakilde?"
   ]
  },
  {
   "cell_type": "code",
   "execution_count": null,
   "id": "bebe8591",
   "metadata": {},
   "outputs": [],
   "source": []
  }
 ],
 "metadata": {
  "kernelspec": {
   "display_name": "Python 3",
   "language": "python",
   "name": "python3"
  },
  "language_info": {
   "codemirror_mode": {
    "name": "ipython",
    "version": 3
   },
   "file_extension": ".py",
   "mimetype": "text/x-python",
   "name": "python",
   "nbconvert_exporter": "python",
   "pygments_lexer": "ipython3",
   "version": "3.8.10"
  }
 },
 "nbformat": 4,
 "nbformat_minor": 5
}
