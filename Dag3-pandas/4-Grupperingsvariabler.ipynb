{
 "cells": [
  {
   "cell_type": "code",
   "execution_count": null,
   "id": "0ba761b2",
   "metadata": {},
   "outputs": [],
   "source": [
    "import pandas as pd\n",
    "pop = pd.read_csv('../data/mock_sysselsatte/population_2019_30000.csv')\n",
    "comp = pd.read_csv('../data/mock_sysselsatte/companies_2019_30000.csv')"
   ]
  },
  {
   "cell_type": "markdown",
   "id": "38988c29",
   "metadata": {},
   "source": [
    "### Nedfiltrering, en essensiell kompetanse"
   ]
  },
  {
   "cell_type": "code",
   "execution_count": null,
   "id": "e6c0b196",
   "metadata": {},
   "outputs": [],
   "source": [
    "# De fra 20 tom. 30 år i datasettet\n",
    "pop_20_30 = pop[    (pop['age'] >= 20)  &  (pop['age'] <= 30)    ]\n",
    "# Se på aldrene som nå eksisterer i datasettet, sortert\n",
    "sorted(  pd.unique( pop_20_30['age'] )  )"
   ]
  },
  {
   "cell_type": "markdown",
   "id": "a84273cf",
   "metadata": {},
   "source": [
    "### Lag grupperingsvariabler etter en inndeling av alder"
   ]
  },
  {
   "cell_type": "code",
   "execution_count": null,
   "id": "b978d6ea",
   "metadata": {},
   "outputs": [],
   "source": [
    "pop2 = pop.copy()\n",
    "# Litt juks, ta bort siste tegnet i alderen\n",
    "pop2['age_group'] = pop2['age'].astype(str).str[:-1]\n",
    "# De som er tomme på alder nå, får gruppen \"0\"\n",
    "pop2['age_group'] = pop2['age_group'].replace('', '0')\n",
    "# Concatenate en 0 på slutten\n",
    "pop2['age_group'] = pop2['age_group'] + '0' \n",
    "# Se på alder og aldersgruppe\n",
    "pop2[['age', 'age_group']].sample(10)"
   ]
  },
  {
   "cell_type": "markdown",
   "id": "e4807c10",
   "metadata": {},
   "source": [
    "### Litt mer sofistikert eller \"generell\""
   ]
  },
  {
   "cell_type": "code",
   "execution_count": null,
   "id": "35e97d32",
   "metadata": {},
   "outputs": [],
   "source": [
    "# Ta en ny kopi av datasettet\n",
    "pop3 = pop.copy()"
   ]
  },
  {
   "cell_type": "code",
   "execution_count": null,
   "id": "7d52fc84",
   "metadata": {},
   "outputs": [],
   "source": [
    "# Se på datatypene til datasettet\n",
    "pop3.dtypes"
   ]
  },
  {
   "cell_type": "code",
   "execution_count": null,
   "id": "e08ccd3e",
   "metadata": {},
   "outputs": [],
   "source": [
    "last = ''\n",
    "# Alle tall fra 0 til, men ikke med 120, med ett \"step\" på 10\n",
    "for ar in range(0, 120, 10):\n",
    "    print(ar)\n",
    "    # Hopp over første loopen, men gå inn her om forrige var 0\n",
    "    if last or last == 0:\n",
    "        # Om forrige var 0 prøver vi å få med de som var 0 år\n",
    "        if last == 0:\n",
    "            pop3.loc[ ( pop3['age'] >= last) & ( pop3['age'] <= ar ), 'age_group'] = f'{last} - {ar}' \n",
    "            print(last, ar)\n",
    "            print(f\"Forrige år var {last}, og vi har da spesielle regler for å få med de som er 0 år\")\n",
    "        # Dette er da for de gruppene, hvor første år ikke er 0\n",
    "        else:\n",
    "            # Legg merke til at likhetstegnet er borte fra den første parantesen\n",
    "            pop3.loc[ ( pop3['age'] > last) & ( pop3['age'] <= ar ), 'age_group'] = f'{last + 1} - {ar}' \n",
    "            print(last + 1, ar)\n",
    "            print(f\"Forrige år var ikke 0, da starter vi 1 over {last}\")\n",
    "    last = ar"
   ]
  },
  {
   "cell_type": "code",
   "execution_count": null,
   "id": "2b14508a",
   "metadata": {},
   "outputs": [],
   "source": [
    "pop3[['age', 'age_group']].sample(10)"
   ]
  },
  {
   "cell_type": "markdown",
   "id": "f5d4fe3f",
   "metadata": {},
   "source": [
    "### Sett en verdi i en kolonne basert på en verdi i en annen kolonne, med ett .loc-søk"
   ]
  },
  {
   "cell_type": "code",
   "execution_count": null,
   "id": "51d950b5",
   "metadata": {},
   "outputs": [],
   "source": [
    "pop3.loc[pop3['age'] == 0, 'status'] = \"nyfodt\""
   ]
  },
  {
   "cell_type": "markdown",
   "id": "fb169980",
   "metadata": {},
   "source": [
    "### Det samme, bare at vi looper over en dict med \"nivåer\""
   ]
  },
  {
   "cell_type": "code",
   "execution_count": null,
   "id": "05345c16",
   "metadata": {},
   "outputs": [],
   "source": [
    "statuser = {\n",
    "    13 : 'tenaring',\n",
    "    18 : 'voksen',\n",
    "    30 : 'middelaldrende',\n",
    "    60 : 'eldre'\n",
    "}"
   ]
  },
  {
   "cell_type": "markdown",
   "id": "c10c1f9e",
   "metadata": {},
   "source": [
    "De senere vil skrive over de første, noe som kan være ett problem om vi ikke kan garantere at keysene kommer i rekkefølgen..."
   ]
  },
  {
   "cell_type": "code",
   "execution_count": null,
   "id": "3f2146dd",
   "metadata": {},
   "outputs": [],
   "source": [
    "for k, i in statuser.items():\n",
    "    print(k, i)\n",
    "    pop3.loc[pop3['age'] >= k, 'status'] = i"
   ]
  },
  {
   "cell_type": "code",
   "execution_count": null,
   "id": "7f51da2e",
   "metadata": {},
   "outputs": [],
   "source": [
    "pop3[['age','status']].sample(10)"
   ]
  },
  {
   "cell_type": "code",
   "execution_count": null,
   "id": "f8c4d7ed",
   "metadata": {},
   "outputs": [],
   "source": [
    "# Kan vi stole på rekkefølgen i en dict? Eller er det en annen datatype vi heller bør satse på da?\n",
    "from collections import OrderedDict\n",
    "help(OrderedDict)"
   ]
  }
 ],
 "metadata": {
  "kernelspec": {
   "display_name": "Python 3",
   "language": "python",
   "name": "python3"
  },
  "language_info": {
   "codemirror_mode": {
    "name": "ipython",
    "version": 3
   },
   "file_extension": ".py",
   "mimetype": "text/x-python",
   "name": "python",
   "nbconvert_exporter": "python",
   "pygments_lexer": "ipython3",
   "version": "3.8.10"
  }
 },
 "nbformat": 4,
 "nbformat_minor": 5
}
