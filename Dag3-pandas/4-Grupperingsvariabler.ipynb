{
 "cells": [
  {
   "cell_type": "code",
   "execution_count": null,
   "id": "19ebd120",
   "metadata": {},
   "outputs": [],
   "source": [
    "import pandas as pd\n",
    "pop = pd.read_csv('../data/mock_sysselsatte/population_2019_30000.csv')\n",
    "comp = pd.read_csv('../data/mock_sysselsatte/companies_2019_30000.csv')"
   ]
  },
  {
   "cell_type": "markdown",
   "id": "576f140e",
   "metadata": {},
   "source": [
    "### Nedfiltrering, en essensiell kompetanse"
   ]
  },
  {
   "cell_type": "code",
   "execution_count": null,
   "id": "8c62aa22",
   "metadata": {},
   "outputs": [],
   "source": [
    "# De fra 20 tom. 30 år i datasettet\n",
    "pop_20_30 = pop[    (pop['age'] >= 20)  &  (pop['age'] <= 30)    ]\n",
    "# Se på aldrene som nå eksisterer i datasettet, sortert\n",
    "sorted(  pd.unique( pop_20_30['age'] )  )"
   ]
  },
  {
   "cell_type": "markdown",
   "id": "3e9a9446",
   "metadata": {},
   "source": [
    "### Lag grupperingsvariabler etter en inndeling av alder"
   ]
  },
  {
   "cell_type": "code",
   "execution_count": null,
   "id": "72fc5d26",
   "metadata": {},
   "outputs": [],
   "source": [
    "pop2 = pop.copy()\n",
    "# Litt juks, ta bort siste tegnet i alderen\n",
    "pop2['age_group'] = pop2['age'].astype(str).str[:-1]\n",
    "# De som er tomme på alder nå, får gruppen \"0\"\n",
    "pop2['age_group'] = pop2['age_group'].replace('', '0')\n",
    "# Concatenate en 0 på slutten\n",
    "pop2['age_group'] = pop2['age_group'] + '0' \n",
    "# Se på alder og aldersgruppe\n",
    "pop2[['age', 'age_group']].sample(10)"
   ]
  },
  {
   "cell_type": "markdown",
   "id": "132d22bb",
   "metadata": {},
   "source": [
    "### Litt mer sofistikert eller \"generell\""
   ]
  },
  {
   "cell_type": "code",
   "execution_count": null,
   "id": "ebf7bc5a",
   "metadata": {},
   "outputs": [],
   "source": [
    "pop3 = pop.copy()"
   ]
  },
  {
   "cell_type": "code",
   "execution_count": null,
   "id": "3a1d5640",
   "metadata": {},
   "outputs": [],
   "source": [
    "pop3.dtypes"
   ]
  },
  {
   "cell_type": "code",
   "execution_count": null,
   "id": "37219202",
   "metadata": {},
   "outputs": [],
   "source": [
    "last = ''\n",
    "# Alle tall fra 0 til, men ikke med 120, med ett \"step\" på 10\n",
    "for ar in range(0, 120, 10):\n",
    "    print(ar)\n",
    "    # Hopp over første loopen, men gå inn her om forrige var 0\n",
    "    if last or last == 0:\n",
    "        # Om forrige var 0 prøver vi å få med de som var 0 år\n",
    "        if last == 0:\n",
    "            pop3.loc[ ( pop3['age'] >= last) & ( pop3['age'] <= ar ), 'age_group'] = f'{last} - {ar}' \n",
    "            print(last, ar)\n",
    "            print(f\"Forrige år var {last}, og vi har da spesielle regler for å få med de som er 0 år\")\n",
    "        # Dette er da for de gruppene, hvor første år ikke er 0\n",
    "        else:\n",
    "            # Legg merke til at likhetstegnet er borte fra den første parantesen\n",
    "            pop3.loc[ ( pop3['age'] > last) & ( pop3['age'] <= ar ), 'age_group'] = f'{last + 1} - {ar}' \n",
    "            print(last + 1, ar)\n",
    "            print(f\"Forrige år var ikke 0, da starter vi 1 over {last}\")\n",
    "    last = ar"
   ]
  },
  {
   "cell_type": "code",
   "execution_count": null,
   "id": "b7f5e964",
   "metadata": {},
   "outputs": [],
   "source": [
    "pop3[['age', 'age_group']].sample(10)"
   ]
  },
  {
   "cell_type": "markdown",
   "id": "d2f90c3b",
   "metadata": {},
   "source": [
    "### Sett en verdi i en kolonne basert på en verdi i en annen kolonne, med ett .loc-søk"
   ]
  },
  {
   "cell_type": "code",
   "execution_count": null,
   "id": "daead230",
   "metadata": {},
   "outputs": [],
   "source": [
    "pop3.loc[pop3['age'] == 0, 'status'] = \"nyfodt\""
   ]
  },
  {
   "cell_type": "markdown",
   "id": "38d862ed",
   "metadata": {},
   "source": [
    "### Det samme, bare at vi looper over en dict med \"nivåer\""
   ]
  },
  {
   "cell_type": "code",
   "execution_count": null,
   "id": "d4206fbd",
   "metadata": {},
   "outputs": [],
   "source": [
    "statuser = {\n",
    "    13 : 'tenaring',\n",
    "    18 : 'voksen',\n",
    "    30 : 'middelaldrende',\n",
    "    60 : 'eldre'\n",
    "}"
   ]
  },
  {
   "cell_type": "code",
   "execution_count": null,
   "id": "8d49299f",
   "metadata": {},
   "outputs": [],
   "source": [
    "for k, i in statuser.items():\n",
    "    print(k, i)\n",
    "    pop3.loc[pop3['age'] >= k, 'status'] = i"
   ]
  },
  {
   "cell_type": "code",
   "execution_count": null,
   "id": "6640b769",
   "metadata": {},
   "outputs": [],
   "source": [
    "pop3[['age','status']].sample(10)"
   ]
  },
  {
   "cell_type": "code",
   "execution_count": null,
   "id": "8fd7362c",
   "metadata": {},
   "outputs": [],
   "source": [
    "# Kan vi stole på rekkefølgen i en dict? Eller er det en annen datatype vi heller bør satse på da?\n",
    "from collections import OrderedDict\n",
    "help(OrderedDict)"
   ]
  }
 ],
 "metadata": {
  "kernelspec": {
   "display_name": "Python 3",
   "language": "python",
   "name": "python3"
  },
  "language_info": {
   "codemirror_mode": {
    "name": "ipython",
    "version": 3
   },
   "file_extension": ".py",
   "mimetype": "text/x-python",
   "name": "python",
   "nbconvert_exporter": "python",
   "pygments_lexer": "ipython3",
   "version": "3.8.10"
  }
 },
 "nbformat": 4,
 "nbformat_minor": 5
}
