{
 "cells": [
  {
   "cell_type": "markdown",
   "metadata": {
    "pycharm": {
     "name": "#%% md\n"
    }
   },
   "source": [
    "# Git terminal kommandoer\n",
    "\n",
    "Selv om vi har ett GUI for de mest grunnlegende funksjonalitetene i Git så er det\n",
    "mange ting dette gui'et ikke klarer og gjøre.\n",
    "For disse tingene må du benytte terminalen. Det er litt preferanser forskjeller ute og går.\n",
    "du kan gjøre alle ting du kan med gui'et og mer med terminalen. I tillegg er terminalen for mange ett\n",
    "kjent verktøy da dette pottentielt mye brukt i dagens produksjons løp.\n",
    "\n",
    "For di som ønsker og forholde seg mere til terminalet i produksjonene er dette en oversikt over\n",
    "de mest grunnleggende git kommandoene og hva de gjør. En utfyldende liste finner du her\n",
    "https://statistics-norway.atlassian.net/wiki/spaces/BEST/pages/1605271553/Git+-+Cheatsheet+for+git+kommandoer\n",
    "\n",
    "For å jobbe med git i prodsonen, så må du ved dags dato bruke terminalen.\n",
    "\n",
    "## git `clone`"
   ]
  },
  {
   "cell_type": "code",
   "execution_count": null,
   "metadata": {
    "collapsed": false,
    "jupyter": {
     "outputs_hidden": false
    },
    "pycharm": {
     "name": "#%%\n"
    }
   },
   "outputs": [],
   "source": [
    "git clone <http fra github>"
   ]
  },
  {
   "cell_type": "markdown",
   "metadata": {
    "pycharm": {
     "name": "#%% md\n"
    }
   },
   "source": [
    "Dette er komandoen som brukes for å laste ned copier av code repositories fra Github.\n",
    "\n",
    "## git `status`"
   ]
  },
  {
   "cell_type": "code",
   "execution_count": null,
   "metadata": {
    "collapsed": false,
    "jupyter": {
     "outputs_hidden": false
    },
    "pycharm": {
     "name": "#%%\n"
    }
   },
   "outputs": [],
   "source": [
    "git status"
   ]
  },
  {
   "cell_type": "markdown",
   "metadata": {
    "pycharm": {
     "name": "#%% md\n"
    }
   },
   "source": [
    "Se en oversikt over status på depoet ditt. hva er endret men ikke commitet, hva er staget for comit\n",
    "\n",
    "## git `add`\n",
    "\n",
    "git add <filsti>"
   ]
  },
  {
   "cell_type": "markdown",
   "metadata": {
    "pycharm": {
     "name": "#%% md\n"
    }
   },
   "source": [
    "Legg til denne spesifikke filstien (til kode filen) til Staging, klar til commit"
   ]
  },
  {
   "cell_type": "code",
   "execution_count": null,
   "metadata": {
    "collapsed": false,
    "jupyter": {
     "outputs_hidden": false
    },
    "pycharm": {
     "name": "#%%\n"
    }
   },
   "outputs": [],
   "source": [
    "git add ."
   ]
  },
  {
   "cell_type": "markdown",
   "metadata": {
    "pycharm": {
     "name": "#%% md\n"
    }
   },
   "source": [
    "Legg alle endringer til staging for å comittes\n",
    "\n",
    "## git `commit`"
   ]
  },
  {
   "cell_type": "code",
   "execution_count": null,
   "metadata": {
    "collapsed": false,
    "jupyter": {
     "outputs_hidden": false
    },
    "pycharm": {
     "name": "#%%\n"
    }
   },
   "outputs": [],
   "source": [
    "git commit -m ”<commit melding>”"
   ]
  },
  {
   "cell_type": "markdown",
   "metadata": {
    "pycharm": {
     "name": "#%% md\n"
    }
   },
   "source": [
    "Commit endringer som er staget med denne meldingen knyttet til endringen.\n",
    "\n",
    "dersom du utelater `-m <melding>` så får du opp det som er text edditoren for terminal med\n",
    "mulighet til å skrive en litt lengre og utfyllende commit melding.\n",
    "\n",
    "## git `checkout`"
   ]
  },
  {
   "cell_type": "code",
   "execution_count": null,
   "metadata": {
    "collapsed": false,
    "jupyter": {
     "outputs_hidden": false
    },
    "pycharm": {
     "name": "#%%\n"
    }
   },
   "outputs": [],
   "source": [
    "git checkout -b <new_branch>"
   ]
  },
  {
   "cell_type": "markdown",
   "metadata": {
    "pycharm": {
     "name": "#%% md\n"
    }
   },
   "source": [
    "Dette er komandoen du bruker dersom du skal lage en ny branch.\n",
    "navnet på banchen må hange sammen.\n",
    "\n",
    "når du har laget branchen og/eller vil bytte mellom eksisterende brancher holder det å skrive:\n",
    "`git checkout <branch_name>`\n",
    "\n",
    "## git `push`"
   ]
  },
  {
   "cell_type": "code",
   "execution_count": null,
   "metadata": {
    "collapsed": false,
    "jupyter": {
     "outputs_hidden": false
    },
    "pycharm": {
     "name": "#%%\n"
    }
   },
   "outputs": [],
   "source": [
    "git push origin"
   ]
  },
  {
   "cell_type": "markdown",
   "metadata": {
    "pycharm": {
     "name": "#%% md\n"
    }
   },
   "source": [
    "Når du har gjordt endringene dine og er klar til å dele koden din med andre er dette komandoen og bruke.\n",
    "Det sender innholdet i branchen din opp til Github, der den lagres og gjøres tilgjenglig for deling.\n",
    "\n",
    "Dersom dette er en helt ny branch du jobber på som ikke eksisterer på github så må du istedet bruke:\n",
    "`git push --set-upstream origin <branch navn>`\n",
    "\n",
    "## git `pull`"
   ]
  },
  {
   "cell_type": "code",
   "execution_count": null,
   "metadata": {
    "collapsed": false,
    "jupyter": {
     "outputs_hidden": false
    },
    "pycharm": {
     "name": "#%%\n"
    }
   },
   "outputs": [],
   "source": [
    "git pull origin"
   ]
  },
  {
   "cell_type": "markdown",
   "metadata": {
    "pycharm": {
     "name": "#%% md\n"
    }
   },
   "source": [
    "Dette er motparten til `git push`. dersom andre har jobbet på koden eller kodebasen har endret seg på github\n",
    "så er det nødvendig og laste ned disse endringen. Og dette gjøres med `git pull origin`"
   ]
  }
 ],
 "metadata": {
  "kernelspec": {
   "display_name": "Python 3",
   "language": "python",
   "name": "python3"
  },
  "language_info": {
   "codemirror_mode": {
    "name": "ipython",
    "version": 3
   },
   "file_extension": ".py",
   "mimetype": "text/x-python",
   "name": "python",
   "nbconvert_exporter": "python",
   "pygments_lexer": "ipython3",
   "version": "3.8.10"
  }
 },
 "nbformat": 4,
 "nbformat_minor": 4
}
