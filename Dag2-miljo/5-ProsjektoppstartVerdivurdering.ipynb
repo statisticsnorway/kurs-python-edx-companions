{
 "cells": [
  {
   "cell_type": "markdown",
   "id": "e5006268",
   "metadata": {},
   "source": [
    "## Før data kan lastes inn i Dapla, må prosjektet verdivurderes."
   ]
  },
  {
   "cell_type": "markdown",
   "id": "653ab246",
   "metadata": {},
   "source": [
    "### Wiki:\n",
    "https://statistics-norway.atlassian.net/wiki/spaces/MS/pages/1586204629/Sikkerhet+tilgangstyring+og+verdivurdering"
   ]
  },
  {
   "cell_type": "markdown",
   "id": "dff2dd75",
   "metadata": {},
   "source": [
    "### Søknadsskjema:\n",
    "https://statistics-norway.atlassian.net/wiki/spaces/MS/pages/1586204634/Detaljert+verdivurderingsskjema \\\n",
    "https://forms.office.com/Pages/ResponsePage.aspx?id=knAhx0CyHU69YfqXupdcvPjLR5CvmVJPkv_6VrpLQiVUQzNLUFZIWVRJTFpWUERaN1NGNFNCRkJKMi4u"
   ]
  },
  {
   "cell_type": "markdown",
   "id": "7e137d08",
   "metadata": {},
   "source": [
    "## Etter verdivurdering må det gjennom \"ingest\"\n",
    "Spør om hjelp i slack-kanalen: \\\n",
    "https://ssb-norge.slack.com/archives/C0151FGR10X \\\n",
    "Prosessen har en tendens til å endre seg..."
   ]
  },
  {
   "cell_type": "markdown",
   "id": "c9d98324",
   "metadata": {},
   "source": [
    "Her er det siste, Fenglin om hvordan han ønsker behov innmeldt: \\\n",
    "https://ssb-norge.slack.com/archives/C0151FGR10X/p1622538309010100"
   ]
  },
  {
   "cell_type": "markdown",
   "id": "88a70a88",
   "metadata": {},
   "source": [
    "## Ved skriving til dapla-lagringen\n",
    "Så skal verdivurderingen inn i koden."
   ]
  },
  {
   "attachments": {
    "09a2aa30-7872-48d3-afd6-f97676d517c1.png": {
     "image/png": "[encoded data removed]"
    }
   },
   "cell_type": "markdown",
   "id": "e08c6e52",
   "metadata": {},
   "source": [
    "![image.png](attachment:09a2aa30-7872-48d3-afd6-f97676d517c1.png)"
   ]
  },
  {
   "cell_type": "markdown",
   "id": "6a4d7651",
   "metadata": {},
   "source": [
    "### Konvertering fra spark-dataframe til pandas dataframe\n",
    "Råformatet det lastes inn i, er ikke nødvendigvis klart for pandas. \\\n",
    "Når koden under kjøres, så må \"kernelen\" være satt til pyspark. \\\n",
    "Det er ikke sikkert du trenger å forstå hele denne koden, men den bør inn som en del av produksjonsløpet."
   ]
  },
  {
   "cell_type": "code",
   "execution_count": 4,
   "id": "9435884e",
   "metadata": {},
   "outputs": [
    {
     "data": {
      "text/html": [
       "<b>Warning:</b> The path /kilde/ssb/kag/AVS_GRSK_G2019_FNR/rådata/202105030941 has not been declared. To suppress this warning add the following to a cell in your notebook: <pre><code style='background: hsl(220, 80%, 90%)'>%%input\n",
       "/kilde/ssb/kag/AVS_GRSK_G2019_FNR/rådata/202105030941</code></pre>"
      ],
      "text/plain": [
       "<IPython.core.display.HTML object>"
      ]
     },
     "metadata": {},
     "output_type": "display_data"
    },
    {
     "data": {
      "text/plain": [
       "{'manifest_collector_metadata': DataFrame[manifest_id: string, collector_id: string, metadata_id: string, charset: string, contentLength: string, contentKey: string, topic: string, description: string, resourceType: string, contentType: string, position: string, source: string, tag: string, dataset: string, createdDate: string],\n",
       " 'manifest_collector': DataFrame[manifest_id: string, collector_id: string, ulid: string, position: string, timestamp: string],\n",
       " 'manifest': DataFrame[manifest_id: string],\n",
       " 'data': DataFrame[data_id: string, Filid: string, Radid: string, Radnr: string, KontrollertFødselsnr: string, Skoleår: string, Skolenummer: string, FylketsKurskode: string, ElevensNavn: string, Skolenavn: string, StartdatoÅåååmmdd: string, SluttdatoÅåååmmdd: string, Fullførtkode: string, Rettstype: string, Elevstatus: string, RealkompetansevurdertDatoÅåååmmdd: string, Karakterpoeng: string, Kursprosent: string, Fraværsdager: string, Fraværstimer: string, AntallFagPåBeviset: string, AntallStryk: string, Bevistype: string, ForrigeElevstatus: string, MålformNorskHovedmål: string, Vekslingsmodell: string, Påbyggingsrett: string, InnFnr: string, OrgnummerUtsendelse: string, Kilde: string, Utfall: string, OmkodetUtfall: string, Nus2000Kode: string, Klassetrinn: string, HelDeltid: string, ElevensStartdato: string, ElevensSluttdato: string, GrupperingAvSkoleslag: string, Ualder: string, OpprinneligFnr: string, Snr: string, NyKjonn: string, NyFodtaar: string, NyAlder: string, Loepenr: string]}"
      ]
     },
     "execution_count": 4,
     "metadata": {},
     "output_type": "execute_result"
    }
   ],
   "source": [
    "# Eksempel på konvertering fra KAG (koden vil kun funke om du har tilgang til dataene du skal se på)\n",
    "from ssb_sparktools.processing import processing as stproc\n",
    "\n",
    "in_path = '/kilde/ssb/kag/AVS_GRSK_G2019_FNR/rådata/202105030941'\n",
    "out_path = '/produkt/kag/klargjort/20192020/utpakket/resultat'\n",
    "\n",
    "spark_path = spark.read.path(in_path)\n",
    "spark_dict = stproc.unpack_parquet(spark_path, rootdf=False)\n",
    "\n",
    "# Se på datasettet\n",
    "#spark_dict"
   ]
  },
  {
   "cell_type": "markdown",
   "id": "b4282a65",
   "metadata": {},
   "source": [
    "#### Det er ikke sikkert koden under vil funke på nåværende datastruktur, men test først, debug etterpå"
   ]
  },
  {
   "cell_type": "code",
   "execution_count": 5,
   "id": "ec27facf",
   "metadata": {},
   "outputs": [
    {
     "name": "stdout",
     "output_type": "stream",
     "text": [
      "manifest_collector_metadata\n",
      "manifest_collector\n",
      "manifest\n",
      "data\n",
      "Will use schema-struct \"data\"\n"
     ]
    }
   ],
   "source": [
    "# Let etter en struct i spark-dicten, som vi går utifra er \"hoveddelen\"\n",
    "count = 0\n",
    "for k in spark_dict:\n",
    "    # Print keyen vi nå ser på\n",
    "    print(k)\n",
    "    \n",
    "    # Målet for if-statementen er å finne det som står mellom underscore 1 og 2 (eller slutten av linjen)\n",
    "    # På element 2. Dvs, om element to er \"manifest_collector\", så vil elem ende med å hete \"collector\"\n",
    "    if count == 1:\n",
    "        elements = k\n",
    "        # Om den finner underscore\n",
    "        if k.find('_') != -1:\n",
    "            # Ta det andre elementet, adskilt av underscore, eller slutten av stringen\n",
    "            elem = k.split('_')[1]\n",
    "        # Om den ikke finner underscore\n",
    "        else:\n",
    "            # Tar vi bare hele greia\n",
    "            elem = elements\n",
    "            \n",
    "    # Siden denne resettes i hver iterasjon av loopen, så vil den inneholde det siste elementet, etter loopen.\n",
    "    # For tiden oftest kalt \"data\"\n",
    "    main_storage = k\n",
    "    count += 1\n",
    "\n",
    "print(f'Will use schema-struct \"{main_storage}\"')\n",
    "# For testing error:\n",
    "#main_storage = 'yes'\n",
    "if not main_storage == 'data':\n",
    "    print(f'\\n{\"*\"*85}\\n{\"last column not named data, please double-check that we are using correct one: \".upper()}{main_storage}\\n{\"*\"*85}\\n')"
   ]
  },
  {
   "cell_type": "code",
   "execution_count": 6,
   "id": "4868bba5",
   "metadata": {},
   "outputs": [
    {
     "data": {
      "text/html": [
       "<b>Warning:</b> The path /produkt/kag/klargjort/20192020/utpakket/resultat has not been declared. To suppress this warning add the following to a cell in your notebook: <pre><code style='background: hsl(220, 80%, 90%)'>%%output\n",
       "/produkt/kag/klargjort/20192020/utpakket/resultat</code></pre>"
      ],
      "text/plain": [
       "<IPython.core.display.HTML object>"
      ]
     },
     "metadata": {},
     "output_type": "display_data"
    }
   ],
   "source": [
    "# Skriv tilbake til datalageret på stedet du vil lese fra\n",
    "spark_dict[f'{main_storage}'].drop(f'{main_storage}_id', f'{elem}_id').write\\\n",
    "        .option(\"auto-repartition\", \"true\")\\\n",
    "        .option(\"valuation\", \"INTERNAL\")\\\n",
    "        .option(\"state\", \"INPUT\")\\\n",
    "        .path(out_path)"
   ]
  },
  {
   "cell_type": "code",
   "execution_count": 9,
   "id": "6c2208ec",
   "metadata": {},
   "outputs": [
    {
     "data": {
      "text/html": [
       "<div>\n",
       "<style scoped>\n",
       "    .dataframe tbody tr th:only-of-type {\n",
       "        vertical-align: middle;\n",
       "    }\n",
       "\n",
       "    .dataframe tbody tr th {\n",
       "        vertical-align: top;\n",
       "    }\n",
       "\n",
       "    .dataframe thead th {\n",
       "        text-align: right;\n",
       "    }\n",
       "</style>\n",
       "<table border=\"1\" class=\"dataframe\">\n",
       "  <thead>\n",
       "    <tr style=\"text-align: right;\">\n",
       "      <th></th>\n",
       "      <th>KontrollertFødselsnr</th>\n",
       "      <th>ElevensNavn</th>\n",
       "    </tr>\n",
       "  </thead>\n",
       "  <tbody>\n",
       "    <tr>\n",
       "      <th>0</th>\n",
       "      <td>Bv·Z 5Z0^½J</td>\n",
       "      <td>/(Vïa8LSWiKA&lt;\\&lt;õF½z</td>\n",
       "    </tr>\n",
       "    <tr>\n",
       "      <th>1</th>\n",
       "      <td>ÈÑî6åýGqßìv</td>\n",
       "      <td>ºÞü~½~¨@¯dIhÓÙðß8¢|Fd</td>\n",
       "    </tr>\n",
       "    <tr>\n",
       "      <th>2</th>\n",
       "      <td>1ãvIEuüòÄtú</td>\n",
       "      <td>q.Ò¶¼BôbuÒkZàk0ã°ÔÒ</td>\n",
       "    </tr>\n",
       "    <tr>\n",
       "      <th>3</th>\n",
       "      <td>Ù3îôs¹l¡ \\!</td>\n",
       "      <td>nÿÚ)¹ÍhL¾¨våòê´i´¨Õ×+</td>\n",
       "    </tr>\n",
       "    <tr>\n",
       "      <th>4</th>\n",
       "      <td>Ó*PXì¶RbkÛR</td>\n",
       "      <td>}ÒJ*çPÛÿüÃkn²WVbÀ÷ÜhÑ[¸9Å¹W</td>\n",
       "    </tr>\n",
       "    <tr>\n",
       "      <th>...</th>\n",
       "      <td>...</td>\n",
       "      <td>...</td>\n",
       "    </tr>\n",
       "    <tr>\n",
       "      <th>68847</th>\n",
       "      <td>W¹W9Ê.?+ô0l</td>\n",
       "      <td>¬ÜãÛSÝf\"'ÄNújÁî\"/Ål</td>\n",
       "    </tr>\n",
       "    <tr>\n",
       "      <th>68848</th>\n",
       "      <td>º#3VH_­4Ùäê</td>\n",
       "      <td>'Õe\\øHÃ8´õ±TTÍr,|Û</td>\n",
       "    </tr>\n",
       "    <tr>\n",
       "      <th>68849</th>\n",
       "      <td>`Öx~Iû½ì½2/</td>\n",
       "      <td>gø»n¹|yØÒÏÐF`-­°K</td>\n",
       "    </tr>\n",
       "    <tr>\n",
       "      <th>68850</th>\n",
       "      <td>ÒÆvDÈ²Dù2&lt;M</td>\n",
       "      <td>IËFÉ­³Ì*#êç_</td>\n",
       "    </tr>\n",
       "    <tr>\n",
       "      <th>68851</th>\n",
       "      <td>¦Ì¹@FeG21ùM</td>\n",
       "      <td>\"\\2Ð¢³ÄÛHq1V¦,AáñµsðØümèg£</td>\n",
       "    </tr>\n",
       "  </tbody>\n",
       "</table>\n",
       "<p>68852 rows × 2 columns</p>\n",
       "</div>"
      ],
      "text/plain": [
       "      KontrollertFødselsnr                  ElevensNavn\n",
       "0              Bv·Z 5Z0^½J          /(Vïa8LSWiKA<\\<õF½z\n",
       "1              ÈÑî6åýGqßìv        ºÞü~½~¨@¯dIhÓÙðß8¢|Fd\n",
       "2              1ãvIEuüòÄtú          q.Ò¶¼BôbuÒkZàk0ã°ÔÒ\n",
       "3              Ù3îôs¹l¡ \\!        nÿÚ)¹ÍhL¾¨våòê´i´¨Õ×+\n",
       "4              Ó*PXì¶RbkÛR  }ÒJ*çPÛÿüÃkn²WVbÀ÷ÜhÑ[¸9Å¹W\n",
       "...                    ...                          ...\n",
       "68847          W¹W9Ê.?+ô0l          ¬ÜãÛSÝf\"'ÄNújÁî\"/Ål\n",
       "68848          º#3VH_­4Ùäê           'Õe\\øHÃ8´õ±TTÍr,|Û\n",
       "68849          `Öx~Iû½ì½2/            gø»n¹|yØÒÏÐF`-­°K\n",
       "68850          ÒÆvDÈ²Dù2<M                 IËFÉ­³Ì*#êç_\n",
       "68851          ¦Ì¹@FeG21ùM   \"\\2Ð¢³ÄÛHq1V¦,AáñµsðØümèg£\n",
       "\n",
       "[68852 rows x 2 columns]"
      ]
     },
     "execution_count": 9,
     "metadata": {},
     "output_type": "execute_result"
    }
   ],
   "source": [
    "import dapla as dp\n",
    "# Bør være pseudonymisert av Dapla-ingesten, viktig å sjekke ny pseudonymisering, i starten av produksjonsløpene\n",
    "dp.read_pandas(out_path)[['KontrollertFødselsnr', 'ElevensNavn']]"
   ]
  },
  {
   "cell_type": "code",
   "execution_count": null,
   "id": "0fe5dc2e",
   "metadata": {},
   "outputs": [],
   "source": []
  }
 ],
 "metadata": {
  "kernelspec": {
   "display_name": "Pyspark (local)",
   "language": "python",
   "name": "pyspark_local"
  },
  "language_info": {
   "codemirror_mode": {
    "name": "ipython",
    "version": 3
   },
   "file_extension": ".py",
   "mimetype": "text/x-python",
   "name": "python",
   "nbconvert_exporter": "python",
   "pygments_lexer": "ipython3",
   "version": "3.8.10"
  }
 },
 "nbformat": 4,
 "nbformat_minor": 5
}
