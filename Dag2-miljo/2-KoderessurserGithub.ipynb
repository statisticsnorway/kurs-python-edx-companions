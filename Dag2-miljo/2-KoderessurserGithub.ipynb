{
 "cells": [
  {
   "cell_type": "markdown",
   "id": "f76ae997",
   "metadata": {},
   "source": [
    "# Viktig å finne \"rett kode\" å lese for å lære\n",
    "\"Hvordan gjør denne pakken dette?\""
   ]
  },
  {
   "cell_type": "markdown",
   "id": "4e8e7d8b",
   "metadata": {},
   "source": [
    "### Helt-python"
   ]
  },
  {
   "cell_type": "code",
   "execution_count": 7,
   "id": "c69b2fed",
   "metadata": {},
   "outputs": [
    {
     "name": "stdout",
     "output_type": "stream",
     "text": [
      "/home/jovyan\n",
      "Cloning into 'kurs-helt-python'...\n",
      "remote: Enumerating objects: 69, done.\u001b[K\n",
      "remote: Counting objects: 100% (69/69), done.\u001b[K\n",
      "remote: Compressing objects: 100% (41/41), done.\u001b[K\n",
      "remote: Total 69 (delta 29), reused 66 (delta 26), pack-reused 0\u001b[K\n",
      "Unpacking objects: 100% (69/69), 1.27 MiB | 3.44 MiB/s, done.\n"
     ]
    }
   ],
   "source": [
    "# Naviger til bunnmappa\n",
    "%cd /home/jovyan\n",
    "# Clon inn kursmaterialet\n",
    "!git clone https://github.com/statisticsnorway/kurs-helt-python.git"
   ]
  },
  {
   "cell_type": "markdown",
   "id": "d458688e",
   "metadata": {},
   "source": [
    "### Idea-repository"
   ]
  },
  {
   "cell_type": "code",
   "execution_count": null,
   "id": "ec1d9374",
   "metadata": {},
   "outputs": [],
   "source": [
    "%cd /home/jovyan\n",
    "!git clone https://github.com/statisticsnorway/SSB-Idea-repository.git"
   ]
  },
  {
   "cell_type": "markdown",
   "id": "1667583d",
   "metadata": {},
   "source": [
    "### Dapla-veileder "
   ]
  },
  {
   "cell_type": "code",
   "execution_count": null,
   "id": "8ea40b42",
   "metadata": {},
   "outputs": [],
   "source": [
    "%cd /home/jovyan\n",
    "!git clone https://github.com/statisticsnorway/kurs-ssb-dapla-veileder.git"
   ]
  }
 ],
 "metadata": {
  "kernelspec": {
   "display_name": "Python 3",
   "language": "python",
   "name": "python3"
  },
  "language_info": {
   "codemirror_mode": {
    "name": "ipython",
    "version": 3
   },
   "file_extension": ".py",
   "mimetype": "text/x-python",
   "name": "python",
   "nbconvert_exporter": "python",
   "pygments_lexer": "ipython3",
   "version": "3.8.10"
  }
 },
 "nbformat": 4,
 "nbformat_minor": 5
}
