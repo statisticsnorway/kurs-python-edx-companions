{
 "cells": [
  {
   "cell_type": "markdown",
   "id": "230fe3da",
   "metadata": {},
   "source": [
    "# Kjør hele arket, så besvar spørsmålene med alternativene."
   ]
  },
  {
   "cell_type": "code",
   "execution_count": 1,
   "id": "e56e71e5",
   "metadata": {
    "jupyter": {
     "source_hidden": true
    }
   },
   "outputs": [
    {
     "name": "stdout",
     "output_type": "stream",
     "text": [
      "/home/jovyan/kurs-python-edx-companion/src/elaering\n"
     ]
    }
   ],
   "source": [
    "%cd /home/jovyan/kurs-python-edx-companion/src/elaering\n",
    "from multchoice import multchoice\n",
    "import codecs"
   ]
  },
  {
   "cell_type": "code",
   "execution_count": 2,
   "id": "253dc439",
   "metadata": {
    "jupyter": {
     "source_hidden": true
    }
   },
   "outputs": [
    {
     "data": {
      "application/vnd.jupyter.widget-view+json": {
       "model_id": "074789b3eb7a47fea155b014bc91debb",
       "version_major": 2,
       "version_minor": 0
      },
      "text/plain": [
       "VBox(children=(Output(), RadioButtons(options=(('Din server i Jupyter', 0), ('Maskinkjernen bak ett notebook',…"
      ]
     },
     "metadata": {},
     "output_type": "display_data"
    }
   ],
   "source": [
    "Q1 = multchoice('Hva er en Kernel?',\n",
    "                    ['Din server i Jupyter',\n",
    "                     'Maskinkjernen bak ett notebook',\n",
    "                     'Midten av ett popcorn',\n",
    "                    'En posisjon i millitæret'], \n",
    "                codecs.decode('Znfxvaxwreara onx rgg abgrobbx', 'rot13'))\n",
    "Q1"
   ]
  },
  {
   "cell_type": "code",
   "execution_count": 3,
   "id": "026d332b",
   "metadata": {
    "jupyter": {
     "source_hidden": true
    }
   },
   "outputs": [
    {
     "data": {
      "application/vnd.jupyter.widget-view+json": {
       "model_id": "fe1ff53c85dd46c19fbc23f1671f9d4d",
       "version_major": 2,
       "version_minor": 0
      },
      "text/plain": [
       "VBox(children=(Output(), RadioButtons(options=(('shift-enter', 0), ('dd, i command-modus', 1), ('tab, når du e…"
      ]
     },
     "metadata": {},
     "output_type": "display_data"
    }
   ],
   "source": [
    "Q2 = multchoice('Hva er shortcuten for auto-complete?',\n",
    "                    ['shift-enter',\n",
    "                     'dd, i command-modus',\n",
    "                     'tab, når du er inne i en kodeblokk',\n",
    "                    'a eller b i command-modus'], \n",
    "                codecs.decode('gno, aåe qh re vaar v ra xbqroybxx', 'rot13'))\n",
    "Q2"
   ]
  },
  {
   "cell_type": "code",
   "execution_count": 4,
   "id": "7bd266ee",
   "metadata": {
    "jupyter": {
     "source_hidden": true
    }
   },
   "outputs": [
    {
     "data": {
      "application/vnd.jupyter.widget-view+json": {
       "model_id": "b80b4563fcfb40a4b156754b007e3f6b",
       "version_major": 2,
       "version_minor": 0
      },
      "text/plain": [
       "VBox(children=(Output(), RadioButtons(options=(('pga. classes', 0), ('fordi plotly er bevisst på pandas', 1), …"
      ]
     },
     "metadata": {},
     "output_type": "display_data"
    }
   ],
   "source": [
    "Q3 = multchoice('Hvorfor kan du plotte med df.plot()?',\n",
    "                    ['pga. classes',\n",
    "                     'fordi plotly er bevisst på pandas',\n",
    "                     'fordi pandas også er en pakke med plots',\n",
    "                    'matplotlib er tilgjengelig under dataframes'], \n",
    "                codecs.decode('zngcybgyvo re gvytwratryvt haqre qngnsenzrf', 'rot13'))\n",
    "Q3"
   ]
  },
  {
   "cell_type": "code",
   "execution_count": 5,
   "id": "a6562128",
   "metadata": {
    "jupyter": {
     "source_hidden": true
    }
   },
   "outputs": [
    {
     "data": {
      "application/vnd.jupyter.widget-view+json": {
       "model_id": "0674dfd723b2421091fcb5ebd7830703",
       "version_major": 2,
       "version_minor": 0
      },
      "text/plain": [
       "VBox(children=(Output(), RadioButtons(options=(('github.com', 0), ('hente fra X-disken', 1), ('lese inn sas-da…"
      ]
     },
     "metadata": {},
     "output_type": "display_data"
    }
   ],
   "source": [
    "Q4 = multchoice('Hva har du tilgang til i Prodsonen?',\n",
    "                    ['github.com',\n",
    "                     'hente fra X-disken',\n",
    "                     'lese inn sas-datasett fra stammer',\n",
    "                    'snakke med statbankens API'], \n",
    "                codecs.decode('yrfr vaa fnf-qngnfrgg sen fgnzzre', 'rot13'))\n",
    "Q4"
   ]
  },
  {
   "cell_type": "code",
   "execution_count": 6,
   "id": "8eb8f2f6",
   "metadata": {
    "jupyter": {
     "source_hidden": true
    }
   },
   "outputs": [
    {
     "data": {
      "application/vnd.jupyter.widget-view+json": {
       "model_id": "0f577f1f6b984b4bb1701f6b7f75c50e",
       "version_major": 2,
       "version_minor": 0
      },
      "text/plain": [
       "VBox(children=(Output(), RadioButtons(options=(('KLASS sin API', 0), ('arkivdata (uten at det er overført)', 1…"
      ]
     },
     "metadata": {},
     "output_type": "display_data"
    }
   ],
   "source": [
    "Q5 = multchoice('Hva har du ikke tilgang til på Dapla?',\n",
    "                    ['KLASS sin API',\n",
    "                     'arkivdata (uten at det er overført)',\n",
    "                     'github.com',\n",
    "                    'Statbankens API'], \n",
    "                codecs.decode('nexviqngn (hgra ng qrg re biresøeg)', 'rot13'))\n",
    "Q5"
   ]
  },
  {
   "cell_type": "code",
   "execution_count": null,
   "id": "c6450f4e",
   "metadata": {},
   "outputs": [],
   "source": []
  }
 ],
 "metadata": {
  "kernelspec": {
   "display_name": "Python 3",
   "language": "python",
   "name": "python3"
  },
  "language_info": {
   "codemirror_mode": {
    "name": "ipython",
    "version": 3
   },
   "file_extension": ".py",
   "mimetype": "text/x-python",
   "name": "python",
   "nbconvert_exporter": "python",
   "pygments_lexer": "ipython3",
   "version": "3.8.10"
  }
 },
 "nbformat": 4,
 "nbformat_minor": 5
}
