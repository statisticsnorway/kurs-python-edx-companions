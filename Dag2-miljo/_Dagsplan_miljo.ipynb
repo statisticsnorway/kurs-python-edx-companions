{
 "cells": [
  {
   "cell_type": "markdown",
   "id": "3167da88",
   "metadata": {},
   "source": [
    "- Orientering i Jupyter notebooks, kernels, code & markdown, shortcuts & autocomplete\n",
    "- Hente kode-eksempler fra github (clone) (helt-python, dapla-veileder, idea-repository, annet?)\n",
    "- “Time to first plot” - demo fra datasett til plot\n",
    "- Datainnlasting i prodsonen versus dapla\n",
    "- Hvordan komme igang med eget produksjonsløp? Sette i gang med verdivurdering av utvalgte statistikker for å komme på dapla?"
   ]
  },
  {
   "cell_type": "code",
   "execution_count": null,
   "id": "332919f7",
   "metadata": {},
   "outputs": [],
   "source": []
  }
 ],
 "metadata": {
  "kernelspec": {
   "display_name": "Python 3",
   "language": "python",
   "name": "python3"
  },
  "language_info": {
   "codemirror_mode": {
    "name": "ipython",
    "version": 3
   },
   "file_extension": ".py",
   "mimetype": "text/x-python",
   "name": "python",
   "nbconvert_exporter": "python",
   "pygments_lexer": "ipython3",
   "version": "3.8.10"
  }
 },
 "nbformat": 4,
 "nbformat_minor": 5
}
