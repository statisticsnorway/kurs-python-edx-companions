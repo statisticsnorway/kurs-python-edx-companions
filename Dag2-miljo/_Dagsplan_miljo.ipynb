{
 "cells": [
  {
   "cell_type": "markdown",
   "id": "f285e8fb",
   "metadata": {},
   "source": [
    "# Dag2 - \"Miljø\""
   ]
  },
  {
   "cell_type": "markdown",
   "id": "6468513a",
   "metadata": {},
   "source": [
    "1. Orientering i Jupyter notebooks, kernels, code & markdown, shortcuts & autocomplete\n",
    "1. Hente kode-eksempler fra github (clone) (helt-python, dapla-veileder, idea-repository, annet?)\n",
    "1. “Time to first plot” - demo fra datasett til plot\n",
    "1. Datainnlasting i prodsonen versus dapla\n",
    "1. Hvordan komme igang med eget produksjonsløp? Sette i gang med verdivurdering av utvalgte statistikker for å komme på dapla?\n",
    "1. Grunnleggende Git-kommandoer"
   ]
  },
  {
   "cell_type": "code",
   "execution_count": null,
   "id": "1ec8807d",
   "metadata": {},
   "outputs": [],
   "source": []
  }
 ],
 "metadata": {
  "kernelspec": {
   "display_name": "Python 3",
   "language": "python",
   "name": "python3"
  },
  "language_info": {
   "codemirror_mode": {
    "name": "ipython",
    "version": 3
   },
   "file_extension": ".py",
   "mimetype": "text/x-python",
   "name": "python",
   "nbconvert_exporter": "python",
   "pygments_lexer": "ipython3",
   "version": "3.8.10"
  }
 },
 "nbformat": 4,
 "nbformat_minor": 5
}
