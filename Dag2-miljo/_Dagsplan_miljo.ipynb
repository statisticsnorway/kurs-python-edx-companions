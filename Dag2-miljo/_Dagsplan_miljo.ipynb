{
 "cells": [
  {
   "cell_type": "markdown",
   "id": "9c9f3fcb",
   "metadata": {},
   "source": [
    "# Dag2 - \"Miljø\""
   ]
  },
  {
   "cell_type": "markdown",
   "id": "cba94e13",
   "metadata": {},
   "source": [
    "1. Orientering i Jupyter notebooks, kernels, code & markdown, shortcuts & autocomplete\n",
    "1. Hente kode-eksempler fra github (clone) (helt-python, dapla-veileder, idea-repository, annet?)\n",
    "1. “Time to first plot” - demo fra datasett til plot\n",
    "1. Datainnlasting i prodsonen versus dapla\n",
    "1. Hvordan komme igang med eget produksjonsløp? Sette i gang med verdivurdering av utvalgte statistikker for å komme på dapla?\n",
    "1. Grunnleggende Git-kommandoer"
   ]
  },
  {
   "cell_type": "markdown",
   "id": "ac3fc106",
   "metadata": {},
   "source": [
    "### Forventer litt mer tilbakemeldinger fra kursdeltagere i dag.\n",
    "Vi trenger dette for å vite at vi ikke går for tregt / raskt frem. \\\n",
    "Kurset er ment for å hjelpe dere med EDX-kurset, og det blir enklere for oss om vi vet hva dere trenger, eller hvor dere sitter fast.\n",
    "\n",
    "Er det greit at vi spør folk direkte? Si fra om du ikke har mikrofon. \\\n",
    "Om det er ubehagelig å ta spørsmålene dine foran folk, vil vi gjerne ha det på chat eller mail før dag3 (tirsdag)."
   ]
  }
 ],
 "metadata": {
  "kernelspec": {
   "display_name": "Python 3",
   "language": "python",
   "name": "python3"
  },
  "language_info": {
   "codemirror_mode": {
    "name": "ipython",
    "version": 3
   },
   "file_extension": ".py",
   "mimetype": "text/x-python",
   "name": "python",
   "nbconvert_exporter": "python",
   "pygments_lexer": "ipython3",
   "version": "3.8.10"
  }
 },
 "nbformat": 4,
 "nbformat_minor": 5
}
