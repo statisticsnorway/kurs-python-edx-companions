{
 "cells": [
  {
   "cell_type": "markdown",
   "id": "3c8dd9d7",
   "metadata": {},
   "source": [
    "## Muligheter for diskusjon:\n",
    "- Dokumentasjon \"nært\" koden?\n",
    "- Penere plots?\n",
    "- Hvordan gå frem for å velge produksjonsløpskandidater for verdivurdering og dapla-ingest?\n",
    "- Hvorfor er Github så \"async\"?\n",
    "- Taktikker når errors i Git først oppstår?\n",
    "- Konkrete ønsker for dag3 ?"
   ]
  },
  {
   "cell_type": "markdown",
   "id": "97fd7b08",
   "metadata": {},
   "source": [
    "### Lekser? \n",
    "- Ta quiz (ark 8)\n",
    "- Finn ting i EDX-kursene dere setter dere fast på og rapporter dem til oss\n",
    "- Meld inn ønsker om videoer om spesifikke behov, til Carl + Christine også etter dag3 "
   ]
  },
  {
   "cell_type": "code",
   "execution_count": null,
   "id": "2aaed641",
   "metadata": {},
   "outputs": [],
   "source": []
  }
 ],
 "metadata": {
  "kernelspec": {
   "display_name": "Python 3",
   "language": "python",
   "name": "python3"
  },
  "language_info": {
   "codemirror_mode": {
    "name": "ipython",
    "version": 3
   },
   "file_extension": ".py",
   "mimetype": "text/x-python",
   "name": "python",
   "nbconvert_exporter": "python",
   "pygments_lexer": "ipython3",
   "version": "3.8.10"
  }
 },
 "nbformat": 4,
 "nbformat_minor": 5
}
