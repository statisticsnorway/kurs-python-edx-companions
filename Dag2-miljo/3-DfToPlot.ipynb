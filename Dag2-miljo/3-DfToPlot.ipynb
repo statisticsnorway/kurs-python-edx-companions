{
 "cells": [
  {
   "cell_type": "code",
   "execution_count": null,
   "id": "9c2f1dfd",
   "metadata": {},
   "outputs": [],
   "source": [
    "# Last bibliotek\n",
    "import pandas as pd"
   ]
  },
  {
   "cell_type": "code",
   "execution_count": null,
   "id": "89a26edf",
   "metadata": {},
   "outputs": [],
   "source": [
    "# Last inn data\n",
    "df = pd.read_csv('../data/mock_sysselsatte/population_2019_30000.csv')"
   ]
  },
  {
   "cell_type": "markdown",
   "id": "e15b18ea",
   "metadata": {},
   "source": [
    "### Første plot, tre linjer senere. Histogram over aldersfordeling"
   ]
  },
  {
   "cell_type": "code",
   "execution_count": null,
   "id": "fb9b5563",
   "metadata": {},
   "outputs": [],
   "source": [
    "df['age'].hist()"
   ]
  },
  {
   "cell_type": "markdown",
   "id": "cc912f75",
   "metadata": {},
   "source": [
    "### Linjeplot av gjennomsnittlig arbeidsprosent blant arbeidstakere etter alder"
   ]
  },
  {
   "cell_type": "code",
   "execution_count": null,
   "id": "f570bb9c",
   "metadata": {},
   "outputs": [],
   "source": [
    "# Ta radene hvor det er ansatte\n",
    "df2 = df[df['work_id'].notna()]\n",
    "df2.sample(10)"
   ]
  },
  {
   "cell_type": "code",
   "execution_count": null,
   "id": "507ccc73",
   "metadata": {},
   "outputs": [],
   "source": [
    "# Grupper etter alder, ta gjennomsnitt, reset alder tilbake fra \"index\"\n",
    "df2 = df2.groupby('age').mean().reset_index()\n",
    "df2.head()"
   ]
  },
  {
   "cell_type": "code",
   "execution_count": null,
   "id": "8e6e487e",
   "metadata": {},
   "outputs": [],
   "source": [
    "# Behold bare disse to kolonnene, for enkel tolkning\n",
    "df2 = df2[['age', 'work_percent']]\n",
    "df2.head()"
   ]
  },
  {
   "cell_type": "code",
   "execution_count": null,
   "id": "38e5dd4d",
   "metadata": {},
   "outputs": [],
   "source": [
    "# Lag ett linjeplot, hvor hver alder har sitt eget datapunkt\n",
    "df2.plot('age', 'work_percent')"
   ]
  },
  {
   "cell_type": "markdown",
   "id": "da547992",
   "metadata": {},
   "source": [
    "### Bonus: Påfør gjennomsnittlig arbeidsprosent på alder tilbake på hoveddatasett"
   ]
  },
  {
   "cell_type": "code",
   "execution_count": null,
   "id": "4ef94a63",
   "metadata": {},
   "outputs": [],
   "source": [
    "# For hver rad i \"omkodingskatalogen\"\n",
    "for r, i in df2.iterrows():\n",
    "    # Finn de radene som matcher på alder\n",
    "    df.loc[ (df['age'] == i['age']) \n",
    "        # Og work_id ikke er tom\n",
    "       & (df['work_id'].notna())\n",
    "           # i denne nye kolonnen \"AlderGjennom...\" = påfør en avrundet arbeidsprosent fra katalogen\n",
    "        , 'AlderGjennomsnittArbeidsprosent'] = round(i['work_percent'])\n",
    "    \n",
    "    #One-liner:\n",
    "    #df.loc[ (df['age'] == i['age']) & (df['work_id'].notna()), 'AlderGjennomsnittArbeidsprosent'] = round(i['work_percent'])"
   ]
  },
  {
   "cell_type": "code",
   "execution_count": null,
   "id": "3a2f0b6f",
   "metadata": {},
   "outputs": [],
   "source": [
    "# Se på et par av radene, som inneholder data om dette\n",
    "df[df['work_id'].notna()][['age', 'AlderGjennomsnittArbeidsprosent', 'work_percent']].sample(10)"
   ]
  }
 ],
 "metadata": {
  "kernelspec": {
   "display_name": "Python 3",
   "language": "python",
   "name": "python3"
  },
  "language_info": {
   "codemirror_mode": {
    "name": "ipython",
    "version": 3
   },
   "file_extension": ".py",
   "mimetype": "text/x-python",
   "name": "python",
   "nbconvert_exporter": "python",
   "pygments_lexer": "ipython3",
   "version": "3.8.10"
  }
 },
 "nbformat": 4,
 "nbformat_minor": 5
}
