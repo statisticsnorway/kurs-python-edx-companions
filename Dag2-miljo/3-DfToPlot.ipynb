{
 "cells": [
  {
   "cell_type": "code",
   "execution_count": 31,
   "id": "c9c3fd63",
   "metadata": {},
   "outputs": [],
   "source": [
    "# Last bibliotek\n",
    "import pandas as pd"
   ]
  },
  {
   "cell_type": "code",
   "execution_count": 34,
   "id": "5b34645c",
   "metadata": {},
   "outputs": [],
   "source": [
    "# Last inn data\n",
    "df = pd.read_csv('../data/mock_sysselsatte/population_2019_30000.csv')"
   ]
  },
  {
   "cell_type": "markdown",
   "id": "063f17c4",
   "metadata": {},
   "source": [
    "### Histogram over aldersfordeling"
   ]
  },
  {
   "cell_type": "code",
   "execution_count": 36,
   "id": "c1c65805",
   "metadata": {},
   "outputs": [
    {
     "data": {
      "text/plain": [
       "<AxesSubplot:>"
      ]
     },
     "execution_count": 36,
     "metadata": {},
     "output_type": "execute_result"
    },
    {
     "data": {
      "image/png": "[encoded data removed]",
      "text/plain": [
       "<Figure size 432x288 with 1 Axes>"
      ]
     },
     "metadata": {
      "needs_background": "light"
     },
     "output_type": "display_data"
    }
   ],
   "source": [
    "df['age'].hist()"
   ]
  },
  {
   "cell_type": "markdown",
   "id": "baf9eb70",
   "metadata": {},
   "source": [
    "### Linjeplot av gjennomsnittlig arbeidsprosent blant arbeidstakere etter alder"
   ]
  },
  {
   "cell_type": "code",
   "execution_count": 58,
   "id": "56366487",
   "metadata": {},
   "outputs": [
    {
     "data": {
      "text/html": [
       "<div>\n",
       "<style scoped>\n",
       "    .dataframe tbody tr th:only-of-type {\n",
       "        vertical-align: middle;\n",
       "    }\n",
       "\n",
       "    .dataframe tbody tr th {\n",
       "        vertical-align: top;\n",
       "    }\n",
       "\n",
       "    .dataframe thead th {\n",
       "        text-align: right;\n",
       "    }\n",
       "</style>\n",
       "<table border=\"1\" class=\"dataframe\">\n",
       "  <thead>\n",
       "    <tr style=\"text-align: right;\">\n",
       "      <th></th>\n",
       "      <th>Unnamed: 0</th>\n",
       "      <th>id</th>\n",
       "      <th>work_id</th>\n",
       "      <th>sex</th>\n",
       "      <th>age</th>\n",
       "      <th>year_birth</th>\n",
       "      <th>work_percent</th>\n",
       "      <th>AlderGjennomsnittArbeidsprosent</th>\n",
       "    </tr>\n",
       "  </thead>\n",
       "  <tbody>\n",
       "    <tr>\n",
       "      <th>3919</th>\n",
       "      <td>3919</td>\n",
       "      <td>7057851840</td>\n",
       "      <td>383902895.0</td>\n",
       "      <td>Menn</td>\n",
       "      <td>41</td>\n",
       "      <td>1978</td>\n",
       "      <td>100.0</td>\n",
       "      <td>92.860248</td>\n",
       "    </tr>\n",
       "    <tr>\n",
       "      <th>25310</th>\n",
       "      <td>25310</td>\n",
       "      <td>5126391433</td>\n",
       "      <td>908527378.0</td>\n",
       "      <td>Kvinner</td>\n",
       "      <td>56</td>\n",
       "      <td>1963</td>\n",
       "      <td>100.0</td>\n",
       "      <td>87.818966</td>\n",
       "    </tr>\n",
       "    <tr>\n",
       "      <th>24763</th>\n",
       "      <td>24763</td>\n",
       "      <td>7097240337</td>\n",
       "      <td>884806924.0</td>\n",
       "      <td>Kvinner</td>\n",
       "      <td>47</td>\n",
       "      <td>1972</td>\n",
       "      <td>100.0</td>\n",
       "      <td>92.949045</td>\n",
       "    </tr>\n",
       "    <tr>\n",
       "      <th>26275</th>\n",
       "      <td>26275</td>\n",
       "      <td>26027483723</td>\n",
       "      <td>316336661.0</td>\n",
       "      <td>Kvinner</td>\n",
       "      <td>45</td>\n",
       "      <td>1974</td>\n",
       "      <td>100.0</td>\n",
       "      <td>92.704180</td>\n",
       "    </tr>\n",
       "    <tr>\n",
       "      <th>20866</th>\n",
       "      <td>20866</td>\n",
       "      <td>14117590143</td>\n",
       "      <td>427362198.0</td>\n",
       "      <td>Kvinner</td>\n",
       "      <td>44</td>\n",
       "      <td>1975</td>\n",
       "      <td>100.0</td>\n",
       "      <td>93.739938</td>\n",
       "    </tr>\n",
       "    <tr>\n",
       "      <th>28663</th>\n",
       "      <td>28663</td>\n",
       "      <td>18084891218</td>\n",
       "      <td>738118183.0</td>\n",
       "      <td>Kvinner</td>\n",
       "      <td>71</td>\n",
       "      <td>1948</td>\n",
       "      <td>NaN</td>\n",
       "      <td>64.250000</td>\n",
       "    </tr>\n",
       "    <tr>\n",
       "      <th>8880</th>\n",
       "      <td>8880</td>\n",
       "      <td>25096377632</td>\n",
       "      <td>433459525.0</td>\n",
       "      <td>Menn</td>\n",
       "      <td>56</td>\n",
       "      <td>1963</td>\n",
       "      <td>100.0</td>\n",
       "      <td>87.818966</td>\n",
       "    </tr>\n",
       "    <tr>\n",
       "      <th>12349</th>\n",
       "      <td>12349</td>\n",
       "      <td>17017447328</td>\n",
       "      <td>858004792.0</td>\n",
       "      <td>Menn</td>\n",
       "      <td>45</td>\n",
       "      <td>1974</td>\n",
       "      <td>100.0</td>\n",
       "      <td>92.704180</td>\n",
       "    </tr>\n",
       "    <tr>\n",
       "      <th>7630</th>\n",
       "      <td>7630</td>\n",
       "      <td>6099080908</td>\n",
       "      <td>958992622.0</td>\n",
       "      <td>Menn</td>\n",
       "      <td>29</td>\n",
       "      <td>1990</td>\n",
       "      <td>100.0</td>\n",
       "      <td>90.825658</td>\n",
       "    </tr>\n",
       "    <tr>\n",
       "      <th>7906</th>\n",
       "      <td>7906</td>\n",
       "      <td>9057695998</td>\n",
       "      <td>14114264.0</td>\n",
       "      <td>Menn</td>\n",
       "      <td>43</td>\n",
       "      <td>1976</td>\n",
       "      <td>100.0</td>\n",
       "      <td>93.614085</td>\n",
       "    </tr>\n",
       "  </tbody>\n",
       "</table>\n",
       "</div>"
      ],
      "text/plain": [
       "       Unnamed: 0           id      work_id      sex  age  year_birth  \\\n",
       "3919         3919   7057851840  383902895.0     Menn   41        1978   \n",
       "25310       25310   5126391433  908527378.0  Kvinner   56        1963   \n",
       "24763       24763   7097240337  884806924.0  Kvinner   47        1972   \n",
       "26275       26275  26027483723  316336661.0  Kvinner   45        1974   \n",
       "20866       20866  14117590143  427362198.0  Kvinner   44        1975   \n",
       "28663       28663  18084891218  738118183.0  Kvinner   71        1948   \n",
       "8880         8880  25096377632  433459525.0     Menn   56        1963   \n",
       "12349       12349  17017447328  858004792.0     Menn   45        1974   \n",
       "7630         7630   6099080908  958992622.0     Menn   29        1990   \n",
       "7906         7906   9057695998   14114264.0     Menn   43        1976   \n",
       "\n",
       "       work_percent  AlderGjennomsnittArbeidsprosent  \n",
       "3919          100.0                        92.860248  \n",
       "25310         100.0                        87.818966  \n",
       "24763         100.0                        92.949045  \n",
       "26275         100.0                        92.704180  \n",
       "20866         100.0                        93.739938  \n",
       "28663           NaN                        64.250000  \n",
       "8880          100.0                        87.818966  \n",
       "12349         100.0                        92.704180  \n",
       "7630          100.0                        90.825658  \n",
       "7906          100.0                        93.614085  "
      ]
     },
     "execution_count": 58,
     "metadata": {},
     "output_type": "execute_result"
    }
   ],
   "source": [
    "# Ta radene hvor det er ansatte\n",
    "df2 = df[df['work_id'].notna()]\n",
    "df2.sample(10)"
   ]
  },
  {
   "cell_type": "code",
   "execution_count": 59,
   "id": "5a7f46ed",
   "metadata": {},
   "outputs": [
    {
     "data": {
      "text/html": [
       "<div>\n",
       "<style scoped>\n",
       "    .dataframe tbody tr th:only-of-type {\n",
       "        vertical-align: middle;\n",
       "    }\n",
       "\n",
       "    .dataframe tbody tr th {\n",
       "        vertical-align: top;\n",
       "    }\n",
       "\n",
       "    .dataframe thead th {\n",
       "        text-align: right;\n",
       "    }\n",
       "</style>\n",
       "<table border=\"1\" class=\"dataframe\">\n",
       "  <thead>\n",
       "    <tr style=\"text-align: right;\">\n",
       "      <th></th>\n",
       "      <th>age</th>\n",
       "      <th>Unnamed: 0</th>\n",
       "      <th>id</th>\n",
       "      <th>work_id</th>\n",
       "      <th>year_birth</th>\n",
       "      <th>work_percent</th>\n",
       "      <th>AlderGjennomsnittArbeidsprosent</th>\n",
       "    </tr>\n",
       "  </thead>\n",
       "  <tbody>\n",
       "    <tr>\n",
       "      <th>0</th>\n",
       "      <td>15</td>\n",
       "      <td>10109.169355</td>\n",
       "      <td>1.603198e+10</td>\n",
       "      <td>5.121606e+08</td>\n",
       "      <td>2004.0</td>\n",
       "      <td>59.645161</td>\n",
       "      <td>59.645161</td>\n",
       "    </tr>\n",
       "    <tr>\n",
       "      <th>1</th>\n",
       "      <td>16</td>\n",
       "      <td>11870.316667</td>\n",
       "      <td>1.644285e+10</td>\n",
       "      <td>4.484204e+08</td>\n",
       "      <td>2003.0</td>\n",
       "      <td>51.375000</td>\n",
       "      <td>51.375000</td>\n",
       "    </tr>\n",
       "    <tr>\n",
       "      <th>2</th>\n",
       "      <td>17</td>\n",
       "      <td>10534.468750</td>\n",
       "      <td>1.641650e+10</td>\n",
       "      <td>5.005850e+08</td>\n",
       "      <td>2002.0</td>\n",
       "      <td>52.984615</td>\n",
       "      <td>52.984615</td>\n",
       "    </tr>\n",
       "    <tr>\n",
       "      <th>3</th>\n",
       "      <td>18</td>\n",
       "      <td>10333.155405</td>\n",
       "      <td>1.540231e+10</td>\n",
       "      <td>4.370536e+08</td>\n",
       "      <td>2001.0</td>\n",
       "      <td>54.824427</td>\n",
       "      <td>54.824427</td>\n",
       "    </tr>\n",
       "    <tr>\n",
       "      <th>4</th>\n",
       "      <td>19</td>\n",
       "      <td>10682.515337</td>\n",
       "      <td>1.600152e+10</td>\n",
       "      <td>5.056541e+08</td>\n",
       "      <td>2000.0</td>\n",
       "      <td>55.954198</td>\n",
       "      <td>55.954198</td>\n",
       "    </tr>\n",
       "  </tbody>\n",
       "</table>\n",
       "</div>"
      ],
      "text/plain": [
       "   age    Unnamed: 0            id       work_id  year_birth  work_percent  \\\n",
       "0   15  10109.169355  1.603198e+10  5.121606e+08      2004.0     59.645161   \n",
       "1   16  11870.316667  1.644285e+10  4.484204e+08      2003.0     51.375000   \n",
       "2   17  10534.468750  1.641650e+10  5.005850e+08      2002.0     52.984615   \n",
       "3   18  10333.155405  1.540231e+10  4.370536e+08      2001.0     54.824427   \n",
       "4   19  10682.515337  1.600152e+10  5.056541e+08      2000.0     55.954198   \n",
       "\n",
       "   AlderGjennomsnittArbeidsprosent  \n",
       "0                        59.645161  \n",
       "1                        51.375000  \n",
       "2                        52.984615  \n",
       "3                        54.824427  \n",
       "4                        55.954198  "
      ]
     },
     "execution_count": 59,
     "metadata": {},
     "output_type": "execute_result"
    }
   ],
   "source": [
    "# Grupper etter alder, ta gjennomsnitt, reset alder tilbake fra \"index\"\n",
    "df2 = df2.groupby('age').mean().reset_index()\n",
    "df2.head()"
   ]
  },
  {
   "cell_type": "code",
   "execution_count": 60,
   "id": "dee6203d",
   "metadata": {},
   "outputs": [
    {
     "data": {
      "text/html": [
       "<div>\n",
       "<style scoped>\n",
       "    .dataframe tbody tr th:only-of-type {\n",
       "        vertical-align: middle;\n",
       "    }\n",
       "\n",
       "    .dataframe tbody tr th {\n",
       "        vertical-align: top;\n",
       "    }\n",
       "\n",
       "    .dataframe thead th {\n",
       "        text-align: right;\n",
       "    }\n",
       "</style>\n",
       "<table border=\"1\" class=\"dataframe\">\n",
       "  <thead>\n",
       "    <tr style=\"text-align: right;\">\n",
       "      <th></th>\n",
       "      <th>age</th>\n",
       "      <th>work_percent</th>\n",
       "    </tr>\n",
       "  </thead>\n",
       "  <tbody>\n",
       "    <tr>\n",
       "      <th>0</th>\n",
       "      <td>15</td>\n",
       "      <td>59.645161</td>\n",
       "    </tr>\n",
       "    <tr>\n",
       "      <th>1</th>\n",
       "      <td>16</td>\n",
       "      <td>51.375000</td>\n",
       "    </tr>\n",
       "    <tr>\n",
       "      <th>2</th>\n",
       "      <td>17</td>\n",
       "      <td>52.984615</td>\n",
       "    </tr>\n",
       "    <tr>\n",
       "      <th>3</th>\n",
       "      <td>18</td>\n",
       "      <td>54.824427</td>\n",
       "    </tr>\n",
       "    <tr>\n",
       "      <th>4</th>\n",
       "      <td>19</td>\n",
       "      <td>55.954198</td>\n",
       "    </tr>\n",
       "  </tbody>\n",
       "</table>\n",
       "</div>"
      ],
      "text/plain": [
       "   age  work_percent\n",
       "0   15     59.645161\n",
       "1   16     51.375000\n",
       "2   17     52.984615\n",
       "3   18     54.824427\n",
       "4   19     55.954198"
      ]
     },
     "execution_count": 60,
     "metadata": {},
     "output_type": "execute_result"
    }
   ],
   "source": [
    "# Behold bare disse radene\n",
    "df2 = df2[['age', 'work_percent']]\n",
    "df2.head()"
   ]
  },
  {
   "cell_type": "code",
   "execution_count": 61,
   "id": "27216d1e",
   "metadata": {},
   "outputs": [
    {
     "data": {
      "text/plain": [
       "<AxesSubplot:xlabel='age'>"
      ]
     },
     "execution_count": 61,
     "metadata": {},
     "output_type": "execute_result"
    },
    {
     "data": {
      "image/png": "[encoded data removed]",
      "text/plain": [
       "<Figure size 432x288 with 1 Axes>"
      ]
     },
     "metadata": {
      "needs_background": "light"
     },
     "output_type": "display_data"
    }
   ],
   "source": [
    "df2.plot('age', 'work_percent')"
   ]
  },
  {
   "cell_type": "markdown",
   "id": "bf11adf9",
   "metadata": {},
   "source": [
    "### Bonus: Påfør gjennomsnittlig arbeidsprosent på alder tilbake på hoveddatasett"
   ]
  },
  {
   "cell_type": "code",
   "execution_count": 66,
   "id": "ee61bca2",
   "metadata": {},
   "outputs": [],
   "source": [
    "# For hver rad i \"omkodingskatalogen\"\n",
    "for r, i in df2.iterrows():\n",
    "    # Finn de radene som matcher på alder\n",
    "    df.loc[ (df['age'] == i['age']) \n",
    "        # Og work_id ikke er tom\n",
    "       & (df['work_id'].notna())\n",
    "           # i denne nye kolonnen = påfør en avrundet arbeidsprosent fra katalogen\n",
    "        , 'AlderGjennomsnittArbeidsprosent'] = round(i['work_percent'])\n",
    "    \n",
    "    #One-liner:\n",
    "    #df.loc[ (df['age'] == i['age']) & (df['work_id'].notna()), 'AlderGjennomsnittArbeidsprosent'] = round(i['work_percent'])"
   ]
  },
  {
   "cell_type": "code",
   "execution_count": 67,
   "id": "dc4a6ffc",
   "metadata": {},
   "outputs": [
    {
     "data": {
      "text/html": [
       "<div>\n",
       "<style scoped>\n",
       "    .dataframe tbody tr th:only-of-type {\n",
       "        vertical-align: middle;\n",
       "    }\n",
       "\n",
       "    .dataframe tbody tr th {\n",
       "        vertical-align: top;\n",
       "    }\n",
       "\n",
       "    .dataframe thead th {\n",
       "        text-align: right;\n",
       "    }\n",
       "</style>\n",
       "<table border=\"1\" class=\"dataframe\">\n",
       "  <thead>\n",
       "    <tr style=\"text-align: right;\">\n",
       "      <th></th>\n",
       "      <th>age</th>\n",
       "      <th>AlderGjennomsnittArbeidsprosent</th>\n",
       "      <th>work_percent</th>\n",
       "    </tr>\n",
       "  </thead>\n",
       "  <tbody>\n",
       "    <tr>\n",
       "      <th>20291</th>\n",
       "      <td>29</td>\n",
       "      <td>91.0</td>\n",
       "      <td>61.0</td>\n",
       "    </tr>\n",
       "    <tr>\n",
       "      <th>22651</th>\n",
       "      <td>30</td>\n",
       "      <td>90.0</td>\n",
       "      <td>100.0</td>\n",
       "    </tr>\n",
       "    <tr>\n",
       "      <th>28517</th>\n",
       "      <td>71</td>\n",
       "      <td>64.0</td>\n",
       "      <td>11.0</td>\n",
       "    </tr>\n",
       "    <tr>\n",
       "      <th>18602</th>\n",
       "      <td>44</td>\n",
       "      <td>94.0</td>\n",
       "      <td>100.0</td>\n",
       "    </tr>\n",
       "    <tr>\n",
       "      <th>25658</th>\n",
       "      <td>60</td>\n",
       "      <td>91.0</td>\n",
       "      <td>100.0</td>\n",
       "    </tr>\n",
       "    <tr>\n",
       "      <th>7402</th>\n",
       "      <td>42</td>\n",
       "      <td>92.0</td>\n",
       "      <td>100.0</td>\n",
       "    </tr>\n",
       "    <tr>\n",
       "      <th>4143</th>\n",
       "      <td>33</td>\n",
       "      <td>91.0</td>\n",
       "      <td>100.0</td>\n",
       "    </tr>\n",
       "    <tr>\n",
       "      <th>12422</th>\n",
       "      <td>52</td>\n",
       "      <td>93.0</td>\n",
       "      <td>100.0</td>\n",
       "    </tr>\n",
       "    <tr>\n",
       "      <th>20972</th>\n",
       "      <td>35</td>\n",
       "      <td>90.0</td>\n",
       "      <td>100.0</td>\n",
       "    </tr>\n",
       "    <tr>\n",
       "      <th>26025</th>\n",
       "      <td>52</td>\n",
       "      <td>93.0</td>\n",
       "      <td>55.0</td>\n",
       "    </tr>\n",
       "  </tbody>\n",
       "</table>\n",
       "</div>"
      ],
      "text/plain": [
       "       age  AlderGjennomsnittArbeidsprosent  work_percent\n",
       "20291   29                             91.0          61.0\n",
       "22651   30                             90.0         100.0\n",
       "28517   71                             64.0          11.0\n",
       "18602   44                             94.0         100.0\n",
       "25658   60                             91.0         100.0\n",
       "7402    42                             92.0         100.0\n",
       "4143    33                             91.0         100.0\n",
       "12422   52                             93.0         100.0\n",
       "20972   35                             90.0         100.0\n",
       "26025   52                             93.0          55.0"
      ]
     },
     "execution_count": 67,
     "metadata": {},
     "output_type": "execute_result"
    }
   ],
   "source": [
    "# Se på et par av radene, som inneholder data om dette\n",
    "df[df['work_id'].notna()][['age', 'AlderGjennomsnittArbeidsprosent', 'work_percent']].sample(10)"
   ]
  },
  {
   "cell_type": "code",
   "execution_count": null,
   "id": "c3a8bfac",
   "metadata": {},
   "outputs": [],
   "source": []
  }
 ],
 "metadata": {
  "kernelspec": {
   "display_name": "Python 3",
   "language": "python",
   "name": "python3"
  },
  "language_info": {
   "codemirror_mode": {
    "name": "ipython",
    "version": 3
   },
   "file_extension": ".py",
   "mimetype": "text/x-python",
   "name": "python",
   "nbconvert_exporter": "python",
   "pygments_lexer": "ipython3",
   "version": "3.8.10"
  }
 },
 "nbformat": 4,
 "nbformat_minor": 5
}
