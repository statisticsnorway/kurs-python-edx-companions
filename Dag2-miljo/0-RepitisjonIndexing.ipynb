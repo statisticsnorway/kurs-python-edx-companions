{
 "cells": [
  {
   "cell_type": "markdown",
   "id": "f1402037",
   "metadata": {},
   "source": [
    "### Ønske om repetisjon fra Kristian: \"Indexing\""
   ]
  },
  {
   "cell_type": "markdown",
   "id": "11cf44e6",
   "metadata": {},
   "source": [
    "Det følgende er kopiert ut av \"Begreper-arket\" fra Dag1, med noen endringer"
   ]
  },
  {
   "cell_type": "code",
   "execution_count": 3,
   "id": "b6f3b6cc",
   "metadata": {},
   "outputs": [
    {
     "data": {
      "text/plain": [
       "[5, '\\nok', 7.0]"
      ]
     },
     "execution_count": 3,
     "metadata": {},
     "output_type": "execute_result"
    }
   ],
   "source": [
    "#Lag en liste\n",
    "e = [5, '\\nok', 7.0]\n",
    "e"
   ]
  },
  {
   "cell_type": "code",
   "execution_count": 4,
   "id": "252acece",
   "metadata": {},
   "outputs": [
    {
     "name": "stdout",
     "output_type": "stream",
     "text": [
      "5\n",
      "<class 'int'>\n",
      "\n",
      "ok\n",
      "<class 'str'>\n",
      "7.0\n",
      "<class 'float'>\n"
     ]
    }
   ],
   "source": [
    "# Loop gjennom listen og print både verdien av variabelen, og typen til verdien.\n",
    "for f in e:\n",
    "    print(f)\n",
    "    print(type(f))"
   ]
  },
  {
   "cell_type": "code",
   "execution_count": 59,
   "id": "ed8c11ad",
   "metadata": {},
   "outputs": [
    {
     "data": {
      "text/plain": [
       "[5, 'ok2', 7.0]"
      ]
     },
     "execution_count": 59,
     "metadata": {},
     "output_type": "execute_result"
    }
   ],
   "source": [
    "# Overskriv en verdi i listen med indexing\n",
    "e[1] = \"ok2\"\n",
    "e"
   ]
  },
  {
   "cell_type": "markdown",
   "id": "42cc9348",
   "metadata": {},
   "source": [
    "##### Indexing i lister med tall - \"indecies\"\n",
    "Lister har ikke \"keys\" og man kan derfor kun slå opp med \"nummeret\" til elementet."
   ]
  },
  {
   "cell_type": "code",
   "execution_count": 33,
   "id": "feabe648",
   "metadata": {},
   "outputs": [],
   "source": [
    "f = [\"En\", \"To\", \"Tre\", \"Fire\", \"Fem\", \"Seks\", \"Sju\"]"
   ]
  },
  {
   "cell_type": "code",
   "execution_count": 34,
   "id": "52f24b05",
   "metadata": {},
   "outputs": [
    {
     "data": {
      "text/plain": [
       "'En'"
      ]
     },
     "execution_count": 34,
     "metadata": {},
     "output_type": "execute_result"
    }
   ],
   "source": [
    "# Indexing starter på 0 i Python (ulikt R?)\n",
    "f[0]"
   ]
  },
  {
   "cell_type": "code",
   "execution_count": 35,
   "id": "076d053f",
   "metadata": {},
   "outputs": [
    {
     "data": {
      "text/plain": [
       "'Sju'"
      ]
     },
     "execution_count": 35,
     "metadata": {},
     "output_type": "execute_result"
    }
   ],
   "source": [
    "# Man kan bruke negative tall for å plukke fra slutten\n",
    "f[-1]"
   ]
  },
  {
   "cell_type": "markdown",
   "id": "7817fc67",
   "metadata": {},
   "source": [
    "### \"Slicing\"\n",
    "Man kan \"indexe\" med mer enn ett tall, om man er ute etter en range.\n"
   ]
  },
  {
   "cell_type": "code",
   "execution_count": 36,
   "id": "2865f55e",
   "metadata": {},
   "outputs": [
    {
     "data": {
      "text/plain": [
       "['To', 'Tre', 'Fire']"
      ]
     },
     "execution_count": 36,
     "metadata": {},
     "output_type": "execute_result"
    }
   ],
   "source": [
    "# Fra andre element til, men ikke inkludert, femte\n",
    "f[1:4]\n",
    "# 1+1 = 2, 4+1 = 5"
   ]
  },
  {
   "cell_type": "code",
   "execution_count": 37,
   "id": "fa88741e",
   "metadata": {},
   "outputs": [
    {
     "data": {
      "text/plain": [
       "['To', 'Tre', 'Fire', 'Fem', 'Seks', 'Sju']"
      ]
     },
     "execution_count": 37,
     "metadata": {},
     "output_type": "execute_result"
    }
   ],
   "source": [
    "# Fra andre element, helt til slutten\n",
    "f[1:]"
   ]
  },
  {
   "cell_type": "code",
   "execution_count": 38,
   "id": "0efa1ff5",
   "metadata": {},
   "outputs": [
    {
     "data": {
      "text/plain": [
       "['En', 'To', 'Tre', 'Fire', 'Fem', 'Seks']"
      ]
     },
     "execution_count": 38,
     "metadata": {},
     "output_type": "execute_result"
    }
   ],
   "source": [
    "# ALle untatt siste element\n",
    "f[:-1]"
   ]
  },
  {
   "cell_type": "markdown",
   "id": "a5ab221e",
   "metadata": {},
   "source": [
    "##### \"Step\"\n",
    "Dette kan man bruke med feks .iloc i pandas, for å få rader med ett visst opphold mellom seg."
   ]
  },
  {
   "cell_type": "code",
   "execution_count": 39,
   "id": "d1ac1645",
   "metadata": {},
   "outputs": [
    {
     "data": {
      "text/plain": [
       "['En', 'Tre', 'Fem', 'Sju']"
      ]
     },
     "execution_count": 39,
     "metadata": {},
     "output_type": "execute_result"
    }
   ],
   "source": [
    "# Det tredje tallet er \"step\", så dette blir \"annenhvert\" element\n",
    "f[::2]"
   ]
  },
  {
   "cell_type": "code",
   "execution_count": 40,
   "id": "a1cab8f1",
   "metadata": {},
   "outputs": [
    {
     "data": {
      "text/plain": [
       "['To', 'Fire', 'Seks']"
      ]
     },
     "execution_count": 40,
     "metadata": {},
     "output_type": "execute_result"
    }
   ],
   "source": [
    "# For å få partallene, kan man starte på det andre elementet\n",
    "f[1::2]"
   ]
  },
  {
   "cell_type": "markdown",
   "id": "4f014ae7",
   "metadata": {},
   "source": [
    "### Index innover i \"nested\" iterables"
   ]
  },
  {
   "cell_type": "code",
   "execution_count": 43,
   "id": "e2524a27",
   "metadata": {},
   "outputs": [
    {
     "data": {
      "text/plain": [
       "[[5, '\\nok', 7.0], ['En', 'To', 'Tre', 'Fire', 'Fem', 'Seks', 'Sju']]"
      ]
     },
     "execution_count": 43,
     "metadata": {},
     "output_type": "execute_result"
    }
   ],
   "source": [
    "# Kombiner listene våre inn i en ny liste\n",
    "g = [e, f]\n",
    "g"
   ]
  },
  {
   "cell_type": "code",
   "execution_count": 44,
   "id": "f1327ae1",
   "metadata": {},
   "outputs": [
    {
     "data": {
      "text/plain": [
       "[5, '\\nok', 7.0]"
      ]
     },
     "execution_count": 44,
     "metadata": {},
     "output_type": "execute_result"
    }
   ],
   "source": [
    "# Dette er da en liste med to lister, vi kan hente den første listen i listen med å indexe inn:\n",
    "g[0]"
   ]
  },
  {
   "cell_type": "code",
   "execution_count": 46,
   "id": "01f5c6f6",
   "metadata": {},
   "outputs": [
    {
     "data": {
      "text/plain": [
       "'\\nok'"
      ]
     },
     "execution_count": 46,
     "metadata": {},
     "output_type": "execute_result"
    }
   ],
   "source": [
    "# Og indexe inn i denne listen igjen, til dens elementer\n",
    "g[0][1]"
   ]
  },
  {
   "cell_type": "code",
   "execution_count": 48,
   "id": "cd95bcb2",
   "metadata": {},
   "outputs": [
    {
     "data": {
      "text/plain": [
       "'k'"
      ]
     },
     "execution_count": 48,
     "metadata": {},
     "output_type": "execute_result"
    }
   ],
   "source": [
    "# Bonus: Strings kan også indexes i... \n",
    "# Her siste bokstaven i andre element av den første listen:\n",
    "g[0][1][-1]"
   ]
  },
  {
   "cell_type": "markdown",
   "id": "8aecf1e8",
   "metadata": {},
   "source": [
    "### Dicts har \"keys\""
   ]
  },
  {
   "cell_type": "code",
   "execution_count": 49,
   "id": "a66a5907",
   "metadata": {},
   "outputs": [],
   "source": [
    "h = {\n",
    "    \"En\" : 1,\n",
    "    \"To\" : 2,\n",
    "    \"Tre\" : 3\n",
    "    }"
   ]
  },
  {
   "cell_type": "code",
   "execution_count": 50,
   "id": "8fdeebba",
   "metadata": {},
   "outputs": [
    {
     "ename": "KeyError",
     "evalue": "0",
     "output_type": "error",
     "traceback": [
      "\u001b[0;31m---------------------------------------------------------------------------\u001b[0m",
      "\u001b[0;31mKeyError\u001b[0m                                  Traceback (most recent call last)",
      "\u001b[0;32m<ipython-input-50-cde7201ad4b2>\u001b[0m in \u001b[0;36m<module>\u001b[0;34m\u001b[0m\n\u001b[0;32m----> 1\u001b[0;31m \u001b[0mh\u001b[0m\u001b[0;34m[\u001b[0m\u001b[0;36m0\u001b[0m\u001b[0;34m]\u001b[0m\u001b[0;34m\u001b[0m\u001b[0;34m\u001b[0m\u001b[0m\n\u001b[0m",
      "\u001b[0;31mKeyError\u001b[0m: 0"
     ]
    }
   ],
   "source": [
    "# Hva skjer når vi prøver å indexe som i lists?\n",
    "h[0]"
   ]
  },
  {
   "cell_type": "code",
   "execution_count": 18,
   "id": "a1334495",
   "metadata": {},
   "outputs": [
    {
     "data": {
      "text/plain": [
       "dict_keys(['En', 'To', 'Tre'])"
      ]
     },
     "execution_count": 18,
     "metadata": {},
     "output_type": "execute_result"
    }
   ],
   "source": [
    "h.keys()"
   ]
  },
  {
   "cell_type": "code",
   "execution_count": 20,
   "id": "86347094",
   "metadata": {},
   "outputs": [
    {
     "data": {
      "text/plain": [
       "1"
      ]
     },
     "execution_count": 20,
     "metadata": {},
     "output_type": "execute_result"
    }
   ],
   "source": [
    "h[\"En\"]"
   ]
  },
  {
   "cell_type": "code",
   "execution_count": 23,
   "id": "10a92cff",
   "metadata": {},
   "outputs": [
    {
     "name": "stdout",
     "output_type": "stream",
     "text": [
      "En\n",
      "To\n",
      "Tre\n"
     ]
    }
   ],
   "source": [
    "# om man looper over en dict, får man i utgangspunktet bare keysene\n",
    "for k in h:\n",
    "    print(k)"
   ]
  },
  {
   "cell_type": "code",
   "execution_count": 24,
   "id": "ba893477",
   "metadata": {},
   "outputs": [
    {
     "name": "stdout",
     "output_type": "stream",
     "text": [
      "1\n",
      "2\n",
      "3\n"
     ]
    }
   ],
   "source": [
    "# Men de kan man jo bruke til å slå opp i dicten...\n",
    "for k in h:\n",
    "    print(h[k])"
   ]
  },
  {
   "cell_type": "code",
   "execution_count": 21,
   "id": "853fa7e4",
   "metadata": {},
   "outputs": [
    {
     "name": "stdout",
     "output_type": "stream",
     "text": [
      "1\n",
      "2\n",
      "3\n"
     ]
    }
   ],
   "source": [
    "# Ett alternativ er å hente bare verdiene med \"values()\"\n",
    "for i in h.values():\n",
    "    print(i)"
   ]
  },
  {
   "cell_type": "code",
   "execution_count": 16,
   "id": "ea162b22",
   "metadata": {},
   "outputs": [
    {
     "name": "stdout",
     "output_type": "stream",
     "text": [
      "1 : En\n",
      "2 : To\n",
      "3 : Tre\n"
     ]
    }
   ],
   "source": [
    "# Eller både keys og values med \"items()\".\n",
    "for k, i in h.items():\n",
    "    print(k, \":\", i)"
   ]
  },
  {
   "cell_type": "markdown",
   "id": "939d1f2e",
   "metadata": {},
   "source": [
    "##### Bonus: implisitt tuple-unpacking"
   ]
  },
  {
   "cell_type": "code",
   "execution_count": 26,
   "id": "06bf90c8",
   "metadata": {},
   "outputs": [
    {
     "data": {
      "text/plain": [
       "dict_items([('En', 1), ('To', 2), ('Tre', 3)])"
      ]
     },
     "execution_count": 26,
     "metadata": {},
     "output_type": "execute_result"
    }
   ],
   "source": [
    "# Koden over bruker implisitt tuple-unpacking\n",
    "# Denne returnerer en liste av tuples:\n",
    "h.items()\n",
    "# Når man sier \"for k, i in\", så forventer Python at det er \"to verdier\" for hver ting den looper over\n",
    "# Den finner en tuple med to verdier der det skal være to verdier, og skjønner at vi vil ekstrahere dem ut i \"k\" og \"i\" for hver iterasjon av loopen."
   ]
  },
  {
   "cell_type": "code",
   "execution_count": null,
   "id": "edd58b28",
   "metadata": {},
   "outputs": [],
   "source": []
  }
 ],
 "metadata": {
  "kernelspec": {
   "display_name": "Python 3",
   "language": "python",
   "name": "python3"
  },
  "language_info": {
   "codemirror_mode": {
    "name": "ipython",
    "version": 3
   },
   "file_extension": ".py",
   "mimetype": "text/x-python",
   "name": "python",
   "nbconvert_exporter": "python",
   "pygments_lexer": "ipython3",
   "version": "3.8.10"
  }
 },
 "nbformat": 4,
 "nbformat_minor": 5
}
