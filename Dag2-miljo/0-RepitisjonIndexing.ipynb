{
 "cells": [
  {
   "cell_type": "markdown",
<<<<<<< HEAD
   "id": "8379bd29",
=======
   "id": "f1402037",
>>>>>>> ee1ed545843bd2f6f4d4d4ea295c22fce501ea1e
   "metadata": {},
   "source": [
    "### Ønske om repetisjon fra Kristian: \"Indexing\""
   ]
  },
  {
   "cell_type": "markdown",
<<<<<<< HEAD
   "id": "529cec8b",
=======
   "id": "11cf44e6",
>>>>>>> ee1ed545843bd2f6f4d4d4ea295c22fce501ea1e
   "metadata": {},
   "source": [
    "Det følgende er kopiert ut av \"Begreper-arket\" fra Dag1, med noen endringer"
   ]
  },
  {
   "cell_type": "code",
<<<<<<< HEAD
   "execution_count": 53,
   "id": "95482650",
=======
   "execution_count": 3,
   "id": "b6f3b6cc",
>>>>>>> ee1ed545843bd2f6f4d4d4ea295c22fce501ea1e
   "metadata": {},
   "outputs": [
    {
     "data": {
      "text/plain": [
       "[5, '\\nok', 7.0]"
      ]
     },
<<<<<<< HEAD
     "execution_count": 53,
=======
     "execution_count": 3,
>>>>>>> ee1ed545843bd2f6f4d4d4ea295c22fce501ea1e
     "metadata": {},
     "output_type": "execute_result"
    }
   ],
   "source": [
    "#Lag en liste\n",
    "e = [5, '\\nok', 7.0]\n",
    "e"
   ]
  },
  {
   "cell_type": "code",
<<<<<<< HEAD
   "execution_count": 54,
   "id": "e8f260a1",
=======
   "execution_count": 4,
   "id": "252acece",
>>>>>>> ee1ed545843bd2f6f4d4d4ea295c22fce501ea1e
   "metadata": {},
   "outputs": [
    {
     "name": "stdout",
     "output_type": "stream",
     "text": [
      "5\n",
      "<class 'int'>\n",
      "\n",
      "ok\n",
      "<class 'str'>\n",
      "7.0\n",
      "<class 'float'>\n"
     ]
    }
   ],
   "source": [
    "# Loop gjennom listen og print både verdien av variabelen, og typen til verdien.\n",
    "for f in e:\n",
    "    print(f)\n",
    "    print(type(f))"
   ]
  },
  {
   "cell_type": "code",
<<<<<<< HEAD
   "execution_count": 58,
   "id": "e8310625",
   "metadata": {},
   "outputs": [
    {
     "name": "stdout",
     "output_type": "stream",
     "text": [
      "\n",
      "ok\n"
     ]
    }
   ],
   "source": [
    "print(e[1])"
   ]
  },
  {
   "cell_type": "code",
   "execution_count": 60,
   "id": "75743b5c",
=======
   "execution_count": 59,
   "id": "ed8c11ad",
>>>>>>> ee1ed545843bd2f6f4d4d4ea295c22fce501ea1e
   "metadata": {},
   "outputs": [
    {
     "data": {
      "text/plain": [
       "[5, 'ok2', 7.0]"
      ]
     },
<<<<<<< HEAD
     "execution_count": 60,
=======
     "execution_count": 59,
>>>>>>> ee1ed545843bd2f6f4d4d4ea295c22fce501ea1e
     "metadata": {},
     "output_type": "execute_result"
    }
   ],
   "source": [
    "# Overskriv en verdi i listen med indexing\n",
    "e[1] = \"ok2\"\n",
    "e"
   ]
  },
  {
   "cell_type": "markdown",
<<<<<<< HEAD
   "id": "d7cccce4",
=======
   "id": "42cc9348",
>>>>>>> ee1ed545843bd2f6f4d4d4ea295c22fce501ea1e
   "metadata": {},
   "source": [
    "##### Indexing i lister med tall - \"indecies\"\n",
    "Lister har ikke \"keys\" og man kan derfor kun slå opp med \"nummeret\" til elementet."
   ]
  },
  {
   "cell_type": "code",
<<<<<<< HEAD
   "execution_count": 61,
   "id": "5444fb5c",
=======
   "execution_count": 33,
   "id": "feabe648",
>>>>>>> ee1ed545843bd2f6f4d4d4ea295c22fce501ea1e
   "metadata": {},
   "outputs": [],
   "source": [
    "f = [\"En\", \"To\", \"Tre\", \"Fire\", \"Fem\", \"Seks\", \"Sju\"]"
   ]
  },
  {
   "cell_type": "code",
<<<<<<< HEAD
   "execution_count": 62,
   "id": "11afc749",
=======
   "execution_count": 34,
   "id": "52f24b05",
>>>>>>> ee1ed545843bd2f6f4d4d4ea295c22fce501ea1e
   "metadata": {},
   "outputs": [
    {
     "data": {
      "text/plain": [
       "'En'"
      ]
     },
<<<<<<< HEAD
     "execution_count": 62,
=======
     "execution_count": 34,
>>>>>>> ee1ed545843bd2f6f4d4d4ea295c22fce501ea1e
     "metadata": {},
     "output_type": "execute_result"
    }
   ],
   "source": [
    "# Indexing starter på 0 i Python (ulikt R?)\n",
    "f[0]"
   ]
  },
  {
   "cell_type": "code",
<<<<<<< HEAD
   "execution_count": 64,
   "id": "eca2a087",
=======
   "execution_count": 35,
   "id": "076d053f",
>>>>>>> ee1ed545843bd2f6f4d4d4ea295c22fce501ea1e
   "metadata": {},
   "outputs": [
    {
     "data": {
      "text/plain": [
<<<<<<< HEAD
       "'Seks'"
      ]
     },
     "execution_count": 64,
=======
       "'Sju'"
      ]
     },
     "execution_count": 35,
>>>>>>> ee1ed545843bd2f6f4d4d4ea295c22fce501ea1e
     "metadata": {},
     "output_type": "execute_result"
    }
   ],
   "source": [
    "# Man kan bruke negative tall for å plukke fra slutten\n",
<<<<<<< HEAD
    "f[-2]"
=======
    "f[-1]"
>>>>>>> ee1ed545843bd2f6f4d4d4ea295c22fce501ea1e
   ]
  },
  {
   "cell_type": "markdown",
<<<<<<< HEAD
   "id": "24fd53f5",
=======
   "id": "7817fc67",
>>>>>>> ee1ed545843bd2f6f4d4d4ea295c22fce501ea1e
   "metadata": {},
   "source": [
    "### \"Slicing\"\n",
    "Man kan \"indexe\" med mer enn ett tall, om man er ute etter en range.\n"
   ]
  },
  {
   "cell_type": "code",
<<<<<<< HEAD
   "execution_count": 66,
   "id": "d1fb00cd",
=======
   "execution_count": 36,
   "id": "2865f55e",
>>>>>>> ee1ed545843bd2f6f4d4d4ea295c22fce501ea1e
   "metadata": {},
   "outputs": [
    {
     "data": {
      "text/plain": [
<<<<<<< HEAD
       "['En', 'To', 'Tre']"
      ]
     },
     "execution_count": 66,
=======
       "['To', 'Tre', 'Fire']"
      ]
     },
     "execution_count": 36,
>>>>>>> ee1ed545843bd2f6f4d4d4ea295c22fce501ea1e
     "metadata": {},
     "output_type": "execute_result"
    }
   ],
   "source": [
    "# Fra andre element til, men ikke inkludert, femte\n",
<<<<<<< HEAD
    "f[0:3]\n",
    "# 1+1 = andre, 4+1 = femte"
=======
    "f[1:4]\n",
    "# 1+1 = 2, 4+1 = 5"
>>>>>>> ee1ed545843bd2f6f4d4d4ea295c22fce501ea1e
   ]
  },
  {
   "cell_type": "code",
<<<<<<< HEAD
   "execution_count": 67,
   "id": "f3e3ab7d",
=======
   "execution_count": 37,
   "id": "fa88741e",
>>>>>>> ee1ed545843bd2f6f4d4d4ea295c22fce501ea1e
   "metadata": {},
   "outputs": [
    {
     "data": {
      "text/plain": [
       "['To', 'Tre', 'Fire', 'Fem', 'Seks', 'Sju']"
      ]
     },
<<<<<<< HEAD
     "execution_count": 67,
=======
     "execution_count": 37,
>>>>>>> ee1ed545843bd2f6f4d4d4ea295c22fce501ea1e
     "metadata": {},
     "output_type": "execute_result"
    }
   ],
   "source": [
    "# Fra andre element, helt til slutten\n",
    "f[1:]"
   ]
  },
  {
   "cell_type": "code",
<<<<<<< HEAD
   "execution_count": 68,
   "id": "82aab447",
=======
   "execution_count": 38,
   "id": "0efa1ff5",
>>>>>>> ee1ed545843bd2f6f4d4d4ea295c22fce501ea1e
   "metadata": {},
   "outputs": [
    {
     "data": {
      "text/plain": [
       "['En', 'To', 'Tre', 'Fire', 'Fem', 'Seks']"
      ]
     },
<<<<<<< HEAD
     "execution_count": 68,
=======
     "execution_count": 38,
>>>>>>> ee1ed545843bd2f6f4d4d4ea295c22fce501ea1e
     "metadata": {},
     "output_type": "execute_result"
    }
   ],
   "source": [
    "# ALle untatt siste element\n",
    "f[:-1]"
   ]
  },
  {
   "cell_type": "markdown",
<<<<<<< HEAD
   "id": "24295baa",
=======
   "id": "a5ab221e",
>>>>>>> ee1ed545843bd2f6f4d4d4ea295c22fce501ea1e
   "metadata": {},
   "source": [
    "##### \"Step\"\n",
    "Dette kan man bruke med feks .iloc i pandas, for å få rader med ett visst opphold mellom seg."
   ]
  },
  {
   "cell_type": "code",
<<<<<<< HEAD
   "execution_count": 70,
   "id": "735b1c27",
=======
   "execution_count": 39,
   "id": "d1ac1645",
>>>>>>> ee1ed545843bd2f6f4d4d4ea295c22fce501ea1e
   "metadata": {},
   "outputs": [
    {
     "data": {
      "text/plain": [
       "['En', 'Tre', 'Fem', 'Sju']"
      ]
     },
<<<<<<< HEAD
     "execution_count": 70,
=======
     "execution_count": 39,
>>>>>>> ee1ed545843bd2f6f4d4d4ea295c22fce501ea1e
     "metadata": {},
     "output_type": "execute_result"
    }
   ],
   "source": [
    "# Det tredje tallet er \"step\", så dette blir \"annenhvert\" element\n",
    "f[::2]"
   ]
  },
  {
   "cell_type": "code",
<<<<<<< HEAD
   "execution_count": 71,
   "id": "ac25bf93",
=======
   "execution_count": 40,
   "id": "a1cab8f1",
>>>>>>> ee1ed545843bd2f6f4d4d4ea295c22fce501ea1e
   "metadata": {},
   "outputs": [
    {
     "data": {
      "text/plain": [
       "['To', 'Fire', 'Seks']"
      ]
     },
<<<<<<< HEAD
     "execution_count": 71,
=======
     "execution_count": 40,
>>>>>>> ee1ed545843bd2f6f4d4d4ea295c22fce501ea1e
     "metadata": {},
     "output_type": "execute_result"
    }
   ],
   "source": [
    "# For å få partallene, kan man starte på det andre elementet\n",
    "f[1::2]"
   ]
  },
  {
   "cell_type": "markdown",
<<<<<<< HEAD
   "id": "265a0af5",
=======
   "id": "4f014ae7",
>>>>>>> ee1ed545843bd2f6f4d4d4ea295c22fce501ea1e
   "metadata": {},
   "source": [
    "### Index innover i \"nested\" iterables"
   ]
  },
  {
   "cell_type": "code",
<<<<<<< HEAD
   "execution_count": 85,
   "id": "5fcfcfef",
   "metadata": {},
   "outputs": [],
   "source": [
    "x = 2\n",
    "def ok():\n",
    "    return x"
   ]
  },
  {
   "cell_type": "code",
   "execution_count": 86,
   "id": "329a526c",
   "metadata": {},
   "outputs": [
    {
     "data": {
      "text/plain": [
       "2"
      ]
     },
     "execution_count": 86,
     "metadata": {},
     "output_type": "execute_result"
    }
   ],
   "source": [
    "ok()"
   ]
  },
  {
   "cell_type": "code",
   "execution_count": 87,
   "id": "d3fa9532",
=======
   "execution_count": 43,
   "id": "e2524a27",
>>>>>>> ee1ed545843bd2f6f4d4d4ea295c22fce501ea1e
   "metadata": {},
   "outputs": [
    {
     "data": {
      "text/plain": [
<<<<<<< HEAD
       "2"
      ]
     },
     "execution_count": 87,
     "metadata": {},
     "output_type": "execute_result"
    }
   ],
   "source": [
    "x"
   ]
  },
  {
   "cell_type": "code",
   "execution_count": 79,
   "id": "0d618415",
   "metadata": {},
   "outputs": [
    {
     "data": {
      "text/plain": [
       "[[5, 'ok2', 6], ['En', 'To', 'Tre', 'Fire', 'Fem', 'Seks', 'Sju']]"
      ]
     },
     "execution_count": 79,
=======
       "[[5, '\\nok', 7.0], ['En', 'To', 'Tre', 'Fire', 'Fem', 'Seks', 'Sju']]"
      ]
     },
     "execution_count": 43,
>>>>>>> ee1ed545843bd2f6f4d4d4ea295c22fce501ea1e
     "metadata": {},
     "output_type": "execute_result"
    }
   ],
   "source": [
    "# Kombiner listene våre inn i en ny liste\n",
    "g = [e, f]\n",
    "g"
   ]
  },
  {
   "cell_type": "code",
<<<<<<< HEAD
   "execution_count": 76,
   "id": "a470db9a",
   "metadata": {},
   "outputs": [],
   "source": [
    "e[2] = 6"
   ]
  },
  {
   "cell_type": "code",
   "execution_count": 77,
   "id": "f0d71a53",
   "metadata": {},
   "outputs": [
    {
     "data": {
      "text/plain": [
       "[5, 'ok2', 6]"
      ]
     },
     "execution_count": 77,
     "metadata": {},
     "output_type": "execute_result"
    }
   ],
   "source": [
    "e"
   ]
  },
  {
   "cell_type": "code",
   "execution_count": 78,
   "id": "931f0c28",
   "metadata": {},
   "outputs": [
    {
     "data": {
      "text/plain": [
       "[[5, 'ok2', 6], ['En', 'To', 'Tre', 'Fire', 'Fem', 'Seks', 'Sju']]"
      ]
     },
     "execution_count": 78,
     "metadata": {},
     "output_type": "execute_result"
    }
   ],
   "source": [
    "g"
   ]
  },
  {
   "cell_type": "code",
   "execution_count": 73,
   "id": "02b0cd9c",
=======
   "execution_count": 44,
   "id": "f1327ae1",
>>>>>>> ee1ed545843bd2f6f4d4d4ea295c22fce501ea1e
   "metadata": {},
   "outputs": [
    {
     "data": {
      "text/plain": [
<<<<<<< HEAD
       "[5, 'ok2', 7.0]"
      ]
     },
     "execution_count": 73,
=======
       "[5, '\\nok', 7.0]"
      ]
     },
     "execution_count": 44,
>>>>>>> ee1ed545843bd2f6f4d4d4ea295c22fce501ea1e
     "metadata": {},
     "output_type": "execute_result"
    }
   ],
   "source": [
    "# Dette er da en liste med to lister, vi kan hente den første listen i listen med å indexe inn:\n",
    "g[0]"
   ]
  },
  {
   "cell_type": "code",
<<<<<<< HEAD
   "execution_count": 74,
   "id": "1538fefc",
=======
   "execution_count": 46,
   "id": "01f5c6f6",
>>>>>>> ee1ed545843bd2f6f4d4d4ea295c22fce501ea1e
   "metadata": {},
   "outputs": [
    {
     "data": {
      "text/plain": [
<<<<<<< HEAD
       "'ok2'"
      ]
     },
     "execution_count": 74,
=======
       "'\\nok'"
      ]
     },
     "execution_count": 46,
>>>>>>> ee1ed545843bd2f6f4d4d4ea295c22fce501ea1e
     "metadata": {},
     "output_type": "execute_result"
    }
   ],
   "source": [
    "# Og indexe inn i denne listen igjen, til dens elementer\n",
    "g[0][1]"
   ]
  },
  {
   "cell_type": "code",
<<<<<<< HEAD
   "execution_count": 75,
   "id": "8ab41b26",
=======
   "execution_count": 48,
   "id": "cd95bcb2",
>>>>>>> ee1ed545843bd2f6f4d4d4ea295c22fce501ea1e
   "metadata": {},
   "outputs": [
    {
     "data": {
      "text/plain": [
<<<<<<< HEAD
       "'2'"
      ]
     },
     "execution_count": 75,
=======
       "'k'"
      ]
     },
     "execution_count": 48,
>>>>>>> ee1ed545843bd2f6f4d4d4ea295c22fce501ea1e
     "metadata": {},
     "output_type": "execute_result"
    }
   ],
   "source": [
    "# Bonus: Strings kan også indexes i... \n",
    "# Her siste bokstaven i andre element av den første listen:\n",
    "g[0][1][-1]"
   ]
  },
  {
   "cell_type": "markdown",
<<<<<<< HEAD
   "id": "87d9f0ab",
=======
   "id": "8aecf1e8",
>>>>>>> ee1ed545843bd2f6f4d4d4ea295c22fce501ea1e
   "metadata": {},
   "source": [
    "### Dicts har \"keys\""
   ]
  },
  {
   "cell_type": "code",
<<<<<<< HEAD
   "execution_count": null,
   "id": "33231b84",
   "metadata": {},
   "outputs": [],
   "source": [
    "dict() = {}\n",
    "list() = []\n",
    "set() = ()\n"
   ]
  },
  {
   "cell_type": "code",
   "execution_count": 103,
   "id": "c16f8f94",
   "metadata": {},
   "outputs": [],
   "source": []
  },
  {
   "cell_type": "code",
   "execution_count": 104,
   "id": "5b0eea96",
   "metadata": {},
   "outputs": [
    {
     "data": {
      "text/plain": [
       "list"
      ]
     },
     "execution_count": 104,
     "metadata": {},
     "output_type": "execute_result"
    }
   ],
   "source": [
    "type(x)"
   ]
  },
  {
   "cell_type": "code",
   "execution_count": 101,
   "id": "42d51cb1",
   "metadata": {},
   "outputs": [],
   "source": [
    "x = {}"
   ]
  },
  {
   "cell_type": "code",
   "execution_count": null,
   "id": "7a2c9a1f",
   "metadata": {},
   "outputs": [],
   "source": []
  },
  {
   "cell_type": "code",
   "execution_count": 105,
   "id": "589b4e4b",
=======
   "execution_count": 49,
   "id": "a66a5907",
>>>>>>> ee1ed545843bd2f6f4d4d4ea295c22fce501ea1e
   "metadata": {},
   "outputs": [],
   "source": [
    "h = {\n",
    "    \"En\" : 1,\n",
    "    \"To\" : 2,\n",
<<<<<<< HEAD
    "    \"Tre\" : 3,\n",
=======
    "    \"Tre\" : 3\n",
>>>>>>> ee1ed545843bd2f6f4d4d4ea295c22fce501ea1e
    "    }"
   ]
  },
  {
   "cell_type": "code",
<<<<<<< HEAD
   "execution_count": 97,
   "id": "4f469ea9",
=======
   "execution_count": 50,
   "id": "8fdeebba",
>>>>>>> ee1ed545843bd2f6f4d4d4ea295c22fce501ea1e
   "metadata": {},
   "outputs": [
    {
     "ename": "KeyError",
     "evalue": "0",
     "output_type": "error",
     "traceback": [
      "\u001b[0;31m---------------------------------------------------------------------------\u001b[0m",
      "\u001b[0;31mKeyError\u001b[0m                                  Traceback (most recent call last)",
<<<<<<< HEAD
      "\u001b[0;32m<ipython-input-97-4fff7554f0ae>\u001b[0m in \u001b[0;36m<module>\u001b[0;34m\u001b[0m\n\u001b[1;32m      1\u001b[0m \u001b[0;31m# Hva skjer når vi prøver å indexe som i lists?\u001b[0m\u001b[0;34m\u001b[0m\u001b[0;34m\u001b[0m\u001b[0;34m\u001b[0m\u001b[0m\n\u001b[0;32m----> 2\u001b[0;31m \u001b[0mh\u001b[0m\u001b[0;34m[\u001b[0m\u001b[0;36m0\u001b[0m\u001b[0;34m]\u001b[0m\u001b[0;34m\u001b[0m\u001b[0;34m\u001b[0m\u001b[0m\n\u001b[0m",
=======
      "\u001b[0;32m<ipython-input-50-cde7201ad4b2>\u001b[0m in \u001b[0;36m<module>\u001b[0;34m\u001b[0m\n\u001b[0;32m----> 1\u001b[0;31m \u001b[0mh\u001b[0m\u001b[0;34m[\u001b[0m\u001b[0;36m0\u001b[0m\u001b[0;34m]\u001b[0m\u001b[0;34m\u001b[0m\u001b[0;34m\u001b[0m\u001b[0m\n\u001b[0m",
>>>>>>> ee1ed545843bd2f6f4d4d4ea295c22fce501ea1e
      "\u001b[0;31mKeyError\u001b[0m: 0"
     ]
    }
   ],
   "source": [
    "# Hva skjer når vi prøver å indexe som i lists?\n",
    "h[0]"
   ]
  },
  {
   "cell_type": "code",
<<<<<<< HEAD
   "execution_count": 98,
   "id": "26e1335b",
=======
   "execution_count": 18,
   "id": "a1334495",
>>>>>>> ee1ed545843bd2f6f4d4d4ea295c22fce501ea1e
   "metadata": {},
   "outputs": [
    {
     "data": {
      "text/plain": [
       "dict_keys(['En', 'To', 'Tre'])"
      ]
     },
<<<<<<< HEAD
     "execution_count": 98,
=======
     "execution_count": 18,
>>>>>>> ee1ed545843bd2f6f4d4d4ea295c22fce501ea1e
     "metadata": {},
     "output_type": "execute_result"
    }
   ],
   "source": [
    "h.keys()"
   ]
  },
  {
   "cell_type": "code",
<<<<<<< HEAD
   "execution_count": 106,
   "id": "52e510aa",
=======
   "execution_count": 20,
   "id": "86347094",
>>>>>>> ee1ed545843bd2f6f4d4d4ea295c22fce501ea1e
   "metadata": {},
   "outputs": [
    {
     "data": {
      "text/plain": [
       "1"
      ]
     },
<<<<<<< HEAD
     "execution_count": 106,
=======
     "execution_count": 20,
>>>>>>> ee1ed545843bd2f6f4d4d4ea295c22fce501ea1e
     "metadata": {},
     "output_type": "execute_result"
    }
   ],
   "source": [
    "h[\"En\"]"
   ]
  },
  {
   "cell_type": "code",
<<<<<<< HEAD
   "execution_count": 107,
   "id": "590fbaba",
=======
   "execution_count": 23,
   "id": "10a92cff",
>>>>>>> ee1ed545843bd2f6f4d4d4ea295c22fce501ea1e
   "metadata": {},
   "outputs": [
    {
     "name": "stdout",
     "output_type": "stream",
     "text": [
      "En\n",
      "To\n",
      "Tre\n"
     ]
    }
   ],
   "source": [
    "# om man looper over en dict, får man i utgangspunktet bare keysene\n",
    "for k in h:\n",
    "    print(k)"
   ]
  },
  {
   "cell_type": "code",
<<<<<<< HEAD
   "execution_count": 109,
   "id": "8b94afaf",
=======
   "execution_count": 24,
   "id": "ba893477",
>>>>>>> ee1ed545843bd2f6f4d4d4ea295c22fce501ea1e
   "metadata": {},
   "outputs": [
    {
     "name": "stdout",
     "output_type": "stream",
     "text": [
      "1\n",
      "2\n",
      "3\n"
     ]
    }
   ],
   "source": [
    "# Men de kan man jo bruke til å slå opp i dicten...\n",
<<<<<<< HEAD
    "for vilkÅØÆâérlig in h:\n",
    "    print(h[vilkårlig])"
   ]
  },
  {
   "cell_type": "code",
   "execution_count": null,
   "id": "5393e634",
   "metadata": {},
   "outputs": [],
   "source": [
    "if x:\n",
    "    \n",
    "    \n"
=======
    "for k in h:\n",
    "    print(h[k])"
>>>>>>> ee1ed545843bd2f6f4d4d4ea295c22fce501ea1e
   ]
  },
  {
   "cell_type": "code",
<<<<<<< HEAD
   "execution_count": 110,
   "id": "1479f36a",
=======
   "execution_count": 21,
   "id": "853fa7e4",
>>>>>>> ee1ed545843bd2f6f4d4d4ea295c22fce501ea1e
   "metadata": {},
   "outputs": [
    {
     "name": "stdout",
     "output_type": "stream",
     "text": [
      "1\n",
      "2\n",
      "3\n"
     ]
    }
   ],
   "source": [
    "# Ett alternativ er å hente bare verdiene med \"values()\"\n",
    "for i in h.values():\n",
    "    print(i)"
   ]
  },
  {
   "cell_type": "code",
<<<<<<< HEAD
   "execution_count": 111,
   "id": "c51d095a",
=======
   "execution_count": 16,
   "id": "ea162b22",
>>>>>>> ee1ed545843bd2f6f4d4d4ea295c22fce501ea1e
   "metadata": {},
   "outputs": [
    {
     "name": "stdout",
     "output_type": "stream",
     "text": [
<<<<<<< HEAD
      "En : 1\n",
      "To : 2\n",
      "Tre : 3\n"
=======
      "1 : En\n",
      "2 : To\n",
      "3 : Tre\n"
>>>>>>> ee1ed545843bd2f6f4d4d4ea295c22fce501ea1e
     ]
    }
   ],
   "source": [
    "# Eller både keys og values med \"items()\".\n",
    "for k, i in h.items():\n",
    "    print(k, \":\", i)"
   ]
  },
  {
   "cell_type": "markdown",
<<<<<<< HEAD
   "id": "7f765b5f",
=======
   "id": "939d1f2e",
>>>>>>> ee1ed545843bd2f6f4d4d4ea295c22fce501ea1e
   "metadata": {},
   "source": [
    "##### Bonus: implisitt tuple-unpacking"
   ]
  },
  {
   "cell_type": "code",
<<<<<<< HEAD
   "execution_count": null,
   "id": "ddcdc871",
   "metadata": {},
   "outputs": [],
=======
   "execution_count": 26,
   "id": "06bf90c8",
   "metadata": {},
   "outputs": [
    {
     "data": {
      "text/plain": [
       "dict_items([('En', 1), ('To', 2), ('Tre', 3)])"
      ]
     },
     "execution_count": 26,
     "metadata": {},
     "output_type": "execute_result"
    }
   ],
>>>>>>> ee1ed545843bd2f6f4d4d4ea295c22fce501ea1e
   "source": [
    "# Koden over bruker implisitt tuple-unpacking\n",
    "# Denne returnerer en liste av tuples:\n",
    "h.items()\n",
    "# Når man sier \"for k, i in\", så forventer Python at det er \"to verdier\" for hver ting den looper over\n",
    "# Den finner en tuple med to verdier der det skal være to verdier, og skjønner at vi vil ekstrahere dem ut i \"k\" og \"i\" for hver iterasjon av loopen."
   ]
  },
  {
   "cell_type": "code",
   "execution_count": null,
<<<<<<< HEAD
   "id": "60616e0f",
=======
   "id": "edd58b28",
>>>>>>> ee1ed545843bd2f6f4d4d4ea295c22fce501ea1e
   "metadata": {},
   "outputs": [],
   "source": []
  }
 ],
 "metadata": {
  "kernelspec": {
   "display_name": "Python 3",
   "language": "python",
   "name": "python3"
  },
  "language_info": {
   "codemirror_mode": {
    "name": "ipython",
    "version": 3
   },
   "file_extension": ".py",
   "mimetype": "text/x-python",
   "name": "python",
   "nbconvert_exporter": "python",
   "pygments_lexer": "ipython3",
   "version": "3.8.10"
  }
 },
 "nbformat": 4,
 "nbformat_minor": 5
}
