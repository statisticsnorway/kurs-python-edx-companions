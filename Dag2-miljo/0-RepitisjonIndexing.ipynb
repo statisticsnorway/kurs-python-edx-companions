{
 "cells": [
  {
   "cell_type": "markdown",
   "id": "8379bd29",
   "metadata": {},
   "source": [
    "### Ønske om repetisjon fra Kristian: \"Indexing\""
   ]
  },
  {
   "cell_type": "markdown",
   "id": "529cec8b",
   "metadata": {},
   "source": [
    "Det følgende er kopiert ut av \"Begreper-arket\" fra Dag1, med noen endringer"
   ]
  },
  {
   "cell_type": "code",
   "execution_count": 53,
   "id": "95482650",
   "metadata": {},
   "outputs": [
    {
     "data": {
      "text/plain": [
       "[5, '\\nok', 7.0]"
      ]
     },
     "execution_count": 53,
     "metadata": {},
     "output_type": "execute_result"
    }
   ],
   "source": [
    "#Lag en liste\n",
    "e = [5, '\\nok', 7.0]\n",
    "e"
   ]
  },
  {
   "cell_type": "code",
   "execution_count": 54,
   "id": "e8f260a1",
   "metadata": {},
   "outputs": [
    {
     "name": "stdout",
     "output_type": "stream",
     "text": [
      "5\n",
      "<class 'int'>\n",
      "\n",
      "ok\n",
      "<class 'str'>\n",
      "7.0\n",
      "<class 'float'>\n"
     ]
    }
   ],
   "source": [
    "# Loop gjennom listen og print både verdien av variabelen, og typen til verdien.\n",
    "for f in e:\n",
    "    print(f)\n",
    "    print(type(f))"
   ]
  },
  {
   "cell_type": "code",
   "execution_count": 58,
   "id": "e8310625",
   "metadata": {},
   "outputs": [
    {
     "name": "stdout",
     "output_type": "stream",
     "text": [
      "\n",
      "ok\n"
     ]
    }
   ],
   "source": [
    "print(e[1])"
   ]
  },
  {
   "cell_type": "code",
   "execution_count": 60,
   "id": "75743b5c",
   "metadata": {},
   "outputs": [
    {
     "data": {
      "text/plain": [
       "[5, 'ok2', 7.0]"
      ]
     },
     "execution_count": 60,
     "metadata": {},
     "output_type": "execute_result"
    }
   ],
   "source": [
    "# Overskriv en verdi i listen med indexing\n",
    "e[1] = \"ok2\"\n",
    "e"
   ]
  },
  {
   "cell_type": "markdown",
   "id": "d7cccce4",
   "metadata": {},
   "source": [
    "##### Indexing i lister med tall - \"indecies\"\n",
    "Lister har ikke \"keys\" og man kan derfor kun slå opp med \"nummeret\" til elementet."
   ]
  },
  {
   "cell_type": "code",
   "execution_count": 61,
   "id": "5444fb5c",
   "metadata": {},
   "outputs": [],
   "source": [
    "f = [\"En\", \"To\", \"Tre\", \"Fire\", \"Fem\", \"Seks\", \"Sju\"]"
   ]
  },
  {
   "cell_type": "code",
   "execution_count": 62,
   "id": "11afc749",
   "metadata": {},
   "outputs": [
    {
     "data": {
      "text/plain": [
       "'En'"
      ]
     },
     "execution_count": 62,
     "metadata": {},
     "output_type": "execute_result"
    }
   ],
   "source": [
    "# Indexing starter på 0 i Python (ulikt R?)\n",
    "f[0]"
   ]
  },
  {
   "cell_type": "code",
   "execution_count": 64,
   "id": "eca2a087",
   "metadata": {},
   "outputs": [
    {
     "data": {
      "text/plain": [
       "'Seks'"
      ]
     },
     "execution_count": 64,
     "metadata": {},
     "output_type": "execute_result"
    }
   ],
   "source": [
    "# Man kan bruke negative tall for å plukke fra slutten\n",
    "f[-2]"
   ]
  },
  {
   "cell_type": "markdown",
   "id": "24fd53f5",
   "metadata": {},
   "source": [
    "### \"Slicing\"\n",
    "Man kan \"indexe\" med mer enn ett tall, om man er ute etter en range.\n"
   ]
  },
  {
   "cell_type": "code",
   "execution_count": 66,
   "id": "d1fb00cd",
   "metadata": {},
   "outputs": [
    {
     "data": {
      "text/plain": [
       "['En', 'To', 'Tre']"
      ]
     },
     "execution_count": 66,
     "metadata": {},
     "output_type": "execute_result"
    }
   ],
   "source": [
    "# Fra andre element til, men ikke inkludert, femte\n",
    "f[0:3]\n",
    "# 1+1 = andre, 4+1 = femte"
   ]
  },
  {
   "cell_type": "code",
   "execution_count": 67,
   "id": "f3e3ab7d",
   "metadata": {},
   "outputs": [
    {
     "data": {
      "text/plain": [
       "['To', 'Tre', 'Fire', 'Fem', 'Seks', 'Sju']"
      ]
     },
     "execution_count": 67,
     "metadata": {},
     "output_type": "execute_result"
    }
   ],
   "source": [
    "# Fra andre element, helt til slutten\n",
    "f[1:]"
   ]
  },
  {
   "cell_type": "code",
   "execution_count": 68,
   "id": "82aab447",
   "metadata": {},
   "outputs": [
    {
     "data": {
      "text/plain": [
       "['En', 'To', 'Tre', 'Fire', 'Fem', 'Seks']"
      ]
     },
     "execution_count": 68,
     "metadata": {},
     "output_type": "execute_result"
    }
   ],
   "source": [
    "# ALle untatt siste element\n",
    "f[:-1]"
   ]
  },
  {
   "cell_type": "markdown",
   "id": "24295baa",
   "metadata": {},
   "source": [
    "##### \"Step\"\n",
    "Dette kan man bruke med feks .iloc i pandas, for å få rader med ett visst opphold mellom seg."
   ]
  },
  {
   "cell_type": "code",
   "execution_count": 70,
   "id": "735b1c27",
   "metadata": {},
   "outputs": [
    {
     "data": {
      "text/plain": [
       "['En', 'Tre', 'Fem', 'Sju']"
      ]
     },
     "execution_count": 70,
     "metadata": {},
     "output_type": "execute_result"
    }
   ],
   "source": [
    "# Det tredje tallet er \"step\", så dette blir \"annenhvert\" element\n",
    "f[::2]"
   ]
  },
  {
   "cell_type": "code",
   "execution_count": 71,
   "id": "ac25bf93",
   "metadata": {},
   "outputs": [
    {
     "data": {
      "text/plain": [
       "['To', 'Fire', 'Seks']"
      ]
     },
     "execution_count": 71,
     "metadata": {},
     "output_type": "execute_result"
    }
   ],
   "source": [
    "# For å få partallene, kan man starte på det andre elementet\n",
    "f[1::2]"
   ]
  },
  {
   "cell_type": "markdown",
   "id": "265a0af5",
   "metadata": {},
   "source": [
    "### Index innover i \"nested\" iterables"
   ]
  },
  {
   "cell_type": "code",
   "execution_count": 85,
   "id": "5fcfcfef",
   "metadata": {},
   "outputs": [],
   "source": [
    "x = 2\n",
    "def ok():\n",
    "    return x"
   ]
  },
  {
   "cell_type": "code",
   "execution_count": 86,
   "id": "329a526c",
   "metadata": {},
   "outputs": [
    {
     "data": {
      "text/plain": [
       "2"
      ]
     },
     "execution_count": 86,
     "metadata": {},
     "output_type": "execute_result"
    }
   ],
   "source": [
    "ok()"
   ]
  },
  {
   "cell_type": "code",
   "execution_count": 87,
   "id": "d3fa9532",
   "metadata": {},
   "outputs": [
    {
     "data": {
      "text/plain": [
       "2"
      ]
     },
     "execution_count": 87,
     "metadata": {},
     "output_type": "execute_result"
    }
   ],
   "source": [
    "x"
   ]
  },
  {
   "cell_type": "code",
   "execution_count": 79,
   "id": "0d618415",
   "metadata": {},
   "outputs": [
    {
     "data": {
      "text/plain": [
       "[[5, 'ok2', 6], ['En', 'To', 'Tre', 'Fire', 'Fem', 'Seks', 'Sju']]"
      ]
     },
     "execution_count": 79,
     "metadata": {},
     "output_type": "execute_result"
    }
   ],
   "source": [
    "# Kombiner listene våre inn i en ny liste\n",
    "g = [e, f]\n",
    "g"
   ]
  },
  {
   "cell_type": "code",
   "execution_count": 76,
   "id": "a470db9a",
   "metadata": {},
   "outputs": [],
   "source": [
    "e[2] = 6"
   ]
  },
  {
   "cell_type": "code",
   "execution_count": 77,
   "id": "f0d71a53",
   "metadata": {},
   "outputs": [
    {
     "data": {
      "text/plain": [
       "[5, 'ok2', 6]"
      ]
     },
     "execution_count": 77,
     "metadata": {},
     "output_type": "execute_result"
    }
   ],
   "source": [
    "e"
   ]
  },
  {
   "cell_type": "code",
   "execution_count": 78,
   "id": "931f0c28",
   "metadata": {},
   "outputs": [
    {
     "data": {
      "text/plain": [
       "[[5, 'ok2', 6], ['En', 'To', 'Tre', 'Fire', 'Fem', 'Seks', 'Sju']]"
      ]
     },
     "execution_count": 78,
     "metadata": {},
     "output_type": "execute_result"
    }
   ],
   "source": [
    "g"
   ]
  },
  {
   "cell_type": "code",
   "execution_count": 73,
   "id": "02b0cd9c",
   "metadata": {},
   "outputs": [
    {
     "data": {
      "text/plain": [
       "[5, 'ok2', 7.0]"
      ]
     },
     "execution_count": 73,
     "metadata": {},
     "output_type": "execute_result"
    }
   ],
   "source": [
    "# Dette er da en liste med to lister, vi kan hente den første listen i listen med å indexe inn:\n",
    "g[0]"
   ]
  },
  {
   "cell_type": "code",
   "execution_count": 74,
   "id": "1538fefc",
   "metadata": {},
   "outputs": [
    {
     "data": {
      "text/plain": [
       "'ok2'"
      ]
     },
     "execution_count": 74,
     "metadata": {},
     "output_type": "execute_result"
    }
   ],
   "source": [
    "# Og indexe inn i denne listen igjen, til dens elementer\n",
    "g[0][1]"
   ]
  },
  {
   "cell_type": "code",
   "execution_count": 75,
   "id": "8ab41b26",
   "metadata": {},
   "outputs": [
    {
     "data": {
      "text/plain": [
       "'2'"
      ]
     },
     "execution_count": 75,
     "metadata": {},
     "output_type": "execute_result"
    }
   ],
   "source": [
    "# Bonus: Strings kan også indexes i... \n",
    "# Her siste bokstaven i andre element av den første listen:\n",
    "g[0][1][-1]"
   ]
  },
  {
   "cell_type": "markdown",
   "id": "87d9f0ab",
   "metadata": {},
   "source": [
    "### Dicts har \"keys\""
   ]
  },
  {
   "cell_type": "code",
   "execution_count": null,
   "id": "33231b84",
   "metadata": {},
   "outputs": [],
   "source": [
    "dict() = {}\n",
    "list() = []\n",
    "set() = ()\n"
   ]
  },
  {
   "cell_type": "code",
   "execution_count": 103,
   "id": "c16f8f94",
   "metadata": {},
   "outputs": [],
   "source": []
  },
  {
   "cell_type": "code",
   "execution_count": 104,
   "id": "5b0eea96",
   "metadata": {},
   "outputs": [
    {
     "data": {
      "text/plain": [
       "list"
      ]
     },
     "execution_count": 104,
     "metadata": {},
     "output_type": "execute_result"
    }
   ],
   "source": [
    "type(x)"
   ]
  },
  {
   "cell_type": "code",
   "execution_count": 101,
   "id": "42d51cb1",
   "metadata": {},
   "outputs": [],
   "source": [
    "x = {}"
   ]
  },
  {
   "cell_type": "code",
   "execution_count": null,
   "id": "7a2c9a1f",
   "metadata": {},
   "outputs": [],
   "source": []
  },
  {
   "cell_type": "code",
   "execution_count": 105,
   "id": "589b4e4b",
   "metadata": {},
   "outputs": [],
   "source": [
    "h = {\n",
    "    \"En\" : 1,\n",
    "    \"To\" : 2,\n",
    "    \"Tre\" : 3,\n",
    "    }"
   ]
  },
  {
   "cell_type": "code",
   "execution_count": 97,
   "id": "4f469ea9",
   "metadata": {},
   "outputs": [
    {
     "ename": "KeyError",
     "evalue": "0",
     "output_type": "error",
     "traceback": [
      "\u001b[0;31m---------------------------------------------------------------------------\u001b[0m",
      "\u001b[0;31mKeyError\u001b[0m                                  Traceback (most recent call last)",
      "\u001b[0;32m<ipython-input-97-4fff7554f0ae>\u001b[0m in \u001b[0;36m<module>\u001b[0;34m\u001b[0m\n\u001b[1;32m      1\u001b[0m \u001b[0;31m# Hva skjer når vi prøver å indexe som i lists?\u001b[0m\u001b[0;34m\u001b[0m\u001b[0;34m\u001b[0m\u001b[0;34m\u001b[0m\u001b[0m\n\u001b[0;32m----> 2\u001b[0;31m \u001b[0mh\u001b[0m\u001b[0;34m[\u001b[0m\u001b[0;36m0\u001b[0m\u001b[0;34m]\u001b[0m\u001b[0;34m\u001b[0m\u001b[0;34m\u001b[0m\u001b[0m\n\u001b[0m",
      "\u001b[0;31mKeyError\u001b[0m: 0"
     ]
    }
   ],
   "source": [
    "# Hva skjer når vi prøver å indexe som i lists?\n",
    "h[0]"
   ]
  },
  {
   "cell_type": "code",
   "execution_count": 98,
   "id": "26e1335b",
   "metadata": {},
   "outputs": [
    {
     "data": {
      "text/plain": [
       "dict_keys(['En', 'To', 'Tre'])"
      ]
     },
     "execution_count": 98,
     "metadata": {},
     "output_type": "execute_result"
    }
   ],
   "source": [
    "h.keys()"
   ]
  },
  {
   "cell_type": "code",
   "execution_count": 106,
   "id": "52e510aa",
   "metadata": {},
   "outputs": [
    {
     "data": {
      "text/plain": [
       "1"
      ]
     },
     "execution_count": 106,
     "metadata": {},
     "output_type": "execute_result"
    }
   ],
   "source": [
    "h[\"En\"]"
   ]
  },
  {
   "cell_type": "code",
   "execution_count": 107,
   "id": "590fbaba",
   "metadata": {},
   "outputs": [
    {
     "name": "stdout",
     "output_type": "stream",
     "text": [
      "En\n",
      "To\n",
      "Tre\n"
     ]
    }
   ],
   "source": [
    "# om man looper over en dict, får man i utgangspunktet bare keysene\n",
    "for k in h:\n",
    "    print(k)"
   ]
  },
  {
   "cell_type": "code",
   "execution_count": 109,
   "id": "8b94afaf",
   "metadata": {},
   "outputs": [
    {
     "name": "stdout",
     "output_type": "stream",
     "text": [
      "1\n",
      "2\n",
      "3\n"
     ]
    }
   ],
   "source": [
    "# Men de kan man jo bruke til å slå opp i dicten...\n",
    "for vilkÅØÆâérlig in h:\n",
    "    print(h[vilkårlig])"
   ]
  },
  {
   "cell_type": "code",
   "execution_count": null,
   "id": "5393e634",
   "metadata": {},
   "outputs": [],
   "source": [
    "if x:\n",
    "    \n",
    "    \n"
   ]
  },
  {
   "cell_type": "code",
   "execution_count": 110,
   "id": "1479f36a",
   "metadata": {},
   "outputs": [
    {
     "name": "stdout",
     "output_type": "stream",
     "text": [
      "1\n",
      "2\n",
      "3\n"
     ]
    }
   ],
   "source": [
    "# Ett alternativ er å hente bare verdiene med \"values()\"\n",
    "for i in h.values():\n",
    "    print(i)"
   ]
  },
  {
   "cell_type": "code",
   "execution_count": 111,
   "id": "c51d095a",
   "metadata": {},
   "outputs": [
    {
     "name": "stdout",
     "output_type": "stream",
     "text": [
      "En : 1\n",
      "To : 2\n",
      "Tre : 3\n"
     ]
    }
   ],
   "source": [
    "# Eller både keys og values med \"items()\".\n",
    "for k, i in h.items():\n",
    "    print(k, \":\", i)"
   ]
  },
  {
   "cell_type": "markdown",
   "id": "7f765b5f",
   "metadata": {},
   "source": [
    "##### Bonus: implisitt tuple-unpacking"
   ]
  },
  {
   "cell_type": "code",
   "execution_count": null,
   "id": "ddcdc871",
   "metadata": {},
   "outputs": [],
   "source": [
    "# Koden over bruker implisitt tuple-unpacking\n",
    "# Denne returnerer en liste av tuples:\n",
    "h.items()\n",
    "# Når man sier \"for k, i in\", så forventer Python at det er \"to verdier\" for hver ting den looper over\n",
    "# Den finner en tuple med to verdier der det skal være to verdier, og skjønner at vi vil ekstrahere dem ut i \"k\" og \"i\" for hver iterasjon av loopen."
   ]
  },
  {
   "cell_type": "code",
   "execution_count": null,
   "id": "60616e0f",
   "metadata": {},
   "outputs": [],
   "source": []
  }
 ],
 "metadata": {
  "kernelspec": {
   "display_name": "Python 3",
   "language": "python",
   "name": "python3"
  },
  "language_info": {
   "codemirror_mode": {
    "name": "ipython",
    "version": 3
   },
   "file_extension": ".py",
   "mimetype": "text/x-python",
   "name": "python",
   "nbconvert_exporter": "python",
   "pygments_lexer": "ipython3",
   "version": "3.8.10"
  }
 },
 "nbformat": 4,
 "nbformat_minor": 5
}
