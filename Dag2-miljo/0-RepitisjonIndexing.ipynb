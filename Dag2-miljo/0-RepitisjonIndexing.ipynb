{
 "cells": [
  {
   "cell_type": "markdown",
   "id": "0779baf7",
   "metadata": {},
   "source": [
    "### Ønske om repetisjon fra Kristian: \"Indexing\""
   ]
  },
  {
   "cell_type": "markdown",
   "id": "bb1c27a2",
   "metadata": {},
   "source": [
    "Det følgende er kopiert ut av \"Begreper-arket\" fra Dag1, med noen endringer"
   ]
  },
  {
   "cell_type": "code",
   "execution_count": 3,
   "id": "32aa3d49",
   "metadata": {},
   "outputs": [
    {
     "data": {
      "text/plain": [
       "[5, '\\nok', 7.0]"
      ]
     },
     "execution_count": 3,
     "metadata": {},
     "output_type": "execute_result"
    }
   ],
   "source": [
    "#Lag en liste\n",
    "e = [5, '\\nok', 7.0]\n",
    "e"
   ]
  },
  {
   "cell_type": "code",
   "execution_count": 4,
   "id": "be4c1376",
   "metadata": {},
   "outputs": [
    {
     "name": "stdout",
     "output_type": "stream",
     "text": [
      "5\n",
      "<class 'int'>\n",
      "\n",
      "ok\n",
      "<class 'str'>\n",
      "7.0\n",
      "<class 'float'>\n"
     ]
    }
   ],
   "source": [
    "# Loop gjennom listen og print både verdien av variabelen, og typen til verdien.\n",
    "for f in e:\n",
    "    print(f)\n",
    "    print(type(f))"
   ]
  },
  {
   "cell_type": "code",
   "execution_count": 59,
   "id": "0c629238",
   "metadata": {},
   "outputs": [
    {
     "data": {
      "text/plain": [
       "[5, 'ok2', 7.0]"
      ]
     },
     "execution_count": 59,
     "metadata": {},
     "output_type": "execute_result"
    }
   ],
   "source": [
    "# Overskriv en verdi i listen med indexing\n",
    "e[1] = \"ok2\"\n",
    "e"
   ]
  },
  {
   "cell_type": "markdown",
   "id": "feb7b213",
   "metadata": {},
   "source": [
    "##### Indexing i lister med tall - \"indecies\"\n",
    "Lister har ikke \"keys\" og man kan derfor kun slå opp med \"nummeret\" til elementet."
   ]
  },
  {
   "cell_type": "code",
   "execution_count": 33,
   "id": "73584090",
   "metadata": {},
   "outputs": [],
   "source": [
    "f = [\"En\", \"To\", \"Tre\", \"Fire\", \"Fem\", \"Seks\", \"Sju\"]"
   ]
  },
  {
   "cell_type": "code",
   "execution_count": 34,
   "id": "1cf5d578",
   "metadata": {},
   "outputs": [
    {
     "data": {
      "text/plain": [
       "'En'"
      ]
     },
     "execution_count": 34,
     "metadata": {},
     "output_type": "execute_result"
    }
   ],
   "source": [
    "# Indexing starter på 0 i Python (ulikt R?)\n",
    "f[0]"
   ]
  },
  {
   "cell_type": "code",
   "execution_count": 35,
   "id": "e8b28b55",
   "metadata": {},
   "outputs": [
    {
     "data": {
      "text/plain": [
       "'Sju'"
      ]
     },
     "execution_count": 35,
     "metadata": {},
     "output_type": "execute_result"
    }
   ],
   "source": [
    "# Man kan bruke negative tall for å plukke fra slutten\n",
    "f[-1]"
   ]
  },
  {
   "cell_type": "markdown",
   "id": "7ccd5d1e",
   "metadata": {},
   "source": [
    "### \"Slicing\"\n",
    "Man kan \"indexe\" med mer enn ett tall, om man er ute etter en range.\n"
   ]
  },
  {
   "cell_type": "code",
   "execution_count": 36,
   "id": "41fc7e91",
   "metadata": {},
   "outputs": [
    {
     "data": {
      "text/plain": [
       "['To', 'Tre', 'Fire']"
      ]
     },
     "execution_count": 36,
     "metadata": {},
     "output_type": "execute_result"
    }
   ],
   "source": [
    "# Fra andre element til, men ikke inkludert, femte\n",
    "f[1:4]\n",
    "# 1+1 = 2, 4+1 = 5"
   ]
  },
  {
   "cell_type": "code",
   "execution_count": 37,
   "id": "7f15c42f",
   "metadata": {},
   "outputs": [
    {
     "data": {
      "text/plain": [
       "['To', 'Tre', 'Fire', 'Fem', 'Seks', 'Sju']"
      ]
     },
     "execution_count": 37,
     "metadata": {},
     "output_type": "execute_result"
    }
   ],
   "source": [
    "# Fra andre element, helt til slutten\n",
    "f[1:]"
   ]
  },
  {
   "cell_type": "code",
   "execution_count": 38,
   "id": "b0c151c5",
   "metadata": {},
   "outputs": [
    {
     "data": {
      "text/plain": [
       "['En', 'To', 'Tre', 'Fire', 'Fem', 'Seks']"
      ]
     },
     "execution_count": 38,
     "metadata": {},
     "output_type": "execute_result"
    }
   ],
   "source": [
    "# ALle untatt siste element\n",
    "f[:-1]"
   ]
  },
  {
   "cell_type": "markdown",
   "id": "6e737e8d",
   "metadata": {},
   "source": [
    "##### \"Step\"\n",
    "Dette kan man bruke med feks .iloc i pandas, for å få rader med ett visst opphold mellom seg."
   ]
  },
  {
   "cell_type": "code",
   "execution_count": 39,
   "id": "b46cc235",
   "metadata": {},
   "outputs": [
    {
     "data": {
      "text/plain": [
       "['En', 'Tre', 'Fem', 'Sju']"
      ]
     },
     "execution_count": 39,
     "metadata": {},
     "output_type": "execute_result"
    }
   ],
   "source": [
    "# Det tredje tallet er \"step\", så dette blir \"annenhvert\" element\n",
    "f[::2]"
   ]
  },
  {
   "cell_type": "code",
   "execution_count": 40,
   "id": "2fa45f13",
   "metadata": {},
   "outputs": [
    {
     "data": {
      "text/plain": [
       "['To', 'Fire', 'Seks']"
      ]
     },
     "execution_count": 40,
     "metadata": {},
     "output_type": "execute_result"
    }
   ],
   "source": [
    "# For å få partallene, kan man starte på det andre elementet\n",
    "f[1::2]"
   ]
  },
  {
   "cell_type": "markdown",
   "id": "3457a326",
   "metadata": {},
   "source": [
    "### Dicts har \"keys\""
   ]
  },
  {
   "cell_type": "code",
   "execution_count": 17,
   "id": "37946439",
   "metadata": {},
   "outputs": [],
   "source": [
    "h = {\n",
    "    \"En\" : 1,\n",
    "    \"To\" : 2,\n",
    "    \"Tre\" : 3\n",
    "    }"
   ]
  },
  {
   "cell_type": "code",
   "execution_count": 18,
   "id": "599b25f4",
   "metadata": {},
   "outputs": [
    {
     "data": {
      "text/plain": [
       "dict_keys(['En', 'To', 'Tre'])"
      ]
     },
     "execution_count": 18,
     "metadata": {},
     "output_type": "execute_result"
    }
   ],
   "source": [
    "h.keys()"
   ]
  },
  {
   "cell_type": "code",
   "execution_count": 20,
   "id": "6684cab1",
   "metadata": {},
   "outputs": [
    {
     "data": {
      "text/plain": [
       "1"
      ]
     },
     "execution_count": 20,
     "metadata": {},
     "output_type": "execute_result"
    }
   ],
   "source": [
    "h[\"En\"]"
   ]
  },
  {
   "cell_type": "code",
   "execution_count": 23,
   "id": "a7bc0cb2",
   "metadata": {},
   "outputs": [
    {
     "name": "stdout",
     "output_type": "stream",
     "text": [
      "En\n",
      "To\n",
      "Tre\n"
     ]
    }
   ],
   "source": [
    "# om man looper over en dict, får man i utgangspunktet bare keysene\n",
    "for k in h:\n",
    "    print(k)"
   ]
  },
  {
   "cell_type": "code",
   "execution_count": 24,
   "id": "4cc05db5",
   "metadata": {},
   "outputs": [
    {
     "name": "stdout",
     "output_type": "stream",
     "text": [
      "1\n",
      "2\n",
      "3\n"
     ]
    }
   ],
   "source": [
    "# Men de kan man jo bruke til å slå opp i dicten...\n",
    "for k in h:\n",
    "    print(h[k])"
   ]
  },
  {
   "cell_type": "code",
   "execution_count": 21,
   "id": "e73d30a7",
   "metadata": {},
   "outputs": [
    {
     "name": "stdout",
     "output_type": "stream",
     "text": [
      "1\n",
      "2\n",
      "3\n"
     ]
    }
   ],
   "source": [
    "# Ett alternativ er å hente bare verdiene med \"values()\"\n",
    "for i in h.values():\n",
    "    print(i)"
   ]
  },
  {
   "cell_type": "code",
   "execution_count": 16,
   "id": "743627aa",
   "metadata": {},
   "outputs": [
    {
     "name": "stdout",
     "output_type": "stream",
     "text": [
      "1 : En\n",
      "2 : To\n",
      "3 : Tre\n"
     ]
    }
   ],
   "source": [
    "# Eller både keys og values med \"items()\".\n",
    "for k, i in h.items():\n",
    "    print(k, \":\", i)"
   ]
  },
  {
   "cell_type": "markdown",
   "id": "1c507003",
   "metadata": {},
   "source": [
    "##### Bonus: implisitt tuple-unpacking"
   ]
  },
  {
   "cell_type": "code",
   "execution_count": 26,
   "id": "9cdeef63",
   "metadata": {},
   "outputs": [
    {
     "data": {
      "text/plain": [
       "dict_items([('En', 1), ('To', 2), ('Tre', 3)])"
      ]
     },
     "execution_count": 26,
     "metadata": {},
     "output_type": "execute_result"
    }
   ],
   "source": [
    "# Koden over bruker implisitt tuple-unpacking\n",
    "# Denne returnerer en liste av tuples:\n",
    "h.items()\n",
    "# Når man sier \"for k, i in\", så forventer Python at det er \"to verdier\" for hver ting den looper over\n",
    "# Den finner en tuple med to verdier der det skal være to verdier, og skjønner at vi vil ekstrahere dem ut i \"k\" og \"i\" for hver iterasjon av loopen."
   ]
  },
  {
   "cell_type": "code",
   "execution_count": null,
   "id": "752f1b6b",
   "metadata": {},
   "outputs": [],
   "source": []
  }
 ],
 "metadata": {
  "kernelspec": {
   "display_name": "Python 3",
   "language": "python",
   "name": "python3"
  },
  "language_info": {
   "codemirror_mode": {
    "name": "ipython",
    "version": 3
   },
   "file_extension": ".py",
   "mimetype": "text/x-python",
   "name": "python",
   "nbconvert_exporter": "python",
   "pygments_lexer": "ipython3",
   "version": "3.8.10"
  }
 },
 "nbformat": 4,
 "nbformat_minor": 5
}
