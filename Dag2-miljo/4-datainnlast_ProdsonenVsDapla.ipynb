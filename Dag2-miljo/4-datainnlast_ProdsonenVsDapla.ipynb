{
 "cells": [
  {
   "cell_type": "code",
   "execution_count": 16,
   "id": "6da08f2d",
   "metadata": {},
   "outputs": [],
   "source": [
    "from IPython.display import IFrame, display"
   ]
  },
  {
   "cell_type": "markdown",
   "id": "4243f9c3",
   "metadata": {},
   "source": [
    "# I Prodsonen\n",
    "Kan vi laste sas-data rett fra linux-stammene, men ikke fra S: - H: - X:"
   ]
  },
  {
   "cell_type": "markdown",
   "id": "d6aed0db",
   "metadata": {},
   "source": [
    "### Video: Hvordan få edx-kursmateriell inn i prodsonen"
   ]
  },
  {
   "cell_type": "code",
   "execution_count": 3,
   "id": "c4be14ea",
   "metadata": {
    "jupyter": {
     "source_hidden": true
    }
   },
   "outputs": [
    {
     "data": {
      "text/html": [
       "\n",
       "        <iframe\n",
       "            width=\"640\"\n",
       "            height=\"360\"\n",
       "            src=\"https://web.microsoftstream.com/embed/video/18ae1be3-a6c5-4bb6-83dc-9319e15d0ed2?autoplay=false&showinfo=true\"\n",
       "            frameborder=\"0\"\n",
       "            allowfullscreen\n",
       "        ></iframe>\n",
       "        "
      ],
      "text/plain": [
       "<IPython.lib.display.IFrame at 0x7f3d303386d0>"
      ]
     },
     "execution_count": 3,
     "metadata": {},
     "output_type": "execute_result"
    }
   ],
   "source": [
    "IFrame(\"https://web.microsoftstream.com/embed/video/18ae1be3-a6c5-4bb6-83dc-9319e15d0ed2?autoplay=false&showinfo=true\", \n",
    "       width = 640, \n",
    "       height = 360)"
   ]
  },
  {
   "cell_type": "markdown",
   "id": "e7fce607",
   "metadata": {},
   "source": [
    "### Video: Python i prodsonen med stammedata"
   ]
  },
  {
   "cell_type": "code",
   "execution_count": 4,
   "id": "ec3b5fc2",
   "metadata": {
    "jupyter": {
     "source_hidden": true
    }
   },
   "outputs": [
    {
     "data": {
      "text/html": [
       "\n",
       "        <iframe\n",
       "            width=\"640\"\n",
       "            height=\"360\"\n",
       "            src=\"https://web.microsoftstream.com/embed/video/5bc50672-5fd8-4369-9075-8b5a4047a938?autoplay=false&showinfo=true\"\n",
       "            frameborder=\"0\"\n",
       "            allowfullscreen\n",
       "        ></iframe>\n",
       "        "
      ],
      "text/plain": [
       "<IPython.lib.display.IFrame at 0x7f3d33b64d90>"
      ]
     },
     "execution_count": 4,
     "metadata": {},
     "output_type": "execute_result"
    }
   ],
   "source": [
    "IFrame(\"https://web.microsoftstream.com/embed/video/5bc50672-5fd8-4369-9075-8b5a4047a938?autoplay=false&showinfo=true\", \n",
    "       width = 640, \n",
    "       height = 360)"
   ]
  },
  {
   "cell_type": "markdown",
   "id": "85b884a3",
   "metadata": {},
   "source": [
    "Simens post på yammer om at man kanskje bør velge prodsonen å lære seg først:\\\n",
    "https://web.yammer.com/main/threads/eyJfdHlwZSI6IlRocmVhZCIsImlkIjoiMTA2NDYwNTc5MTk5Mzg1NiJ9"
   ]
  },
  {
   "cell_type": "markdown",
   "id": "b54626f9",
   "metadata": {},
   "source": [
    "Annonsering av Jupyterversjonen:\\\n",
    "https://web.yammer.com/main/threads/eyJfdHlwZSI6IlRocmVhZCIs..."
   ]
  },
  {
   "cell_type": "markdown",
   "id": "2755a0e4",
   "metadata": {},
   "source": [
    "I prodsonen - citrix bruk Chrome og gå til adressen:\\\n",
    "https://sl-python-02.ssb.no:8443"
   ]
  },
  {
   "cell_type": "code",
   "execution_count": null,
   "id": "06558968",
   "metadata": {},
   "outputs": [],
   "source": [
    "# Eksempel innlastingskode av sasdata (mediebruksundersøkelsen)\n",
    "stammepath = '/ssb/stamme03/kultmed/aar2020/wk24/medie_vekt_alle2020.sas7bdat'\n",
    "df = pd.read_sas(stammepath, format = 'sas7bdat', encoding ='iso-8859-1')"
   ]
  },
  {
   "cell_type": "markdown",
   "id": "46747d17",
   "metadata": {},
   "source": [
    "\"Root\"-mappen din i denne instansen er \"hjem-mappen\" din på linux."
   ]
  },
  {
   "cell_type": "markdown",
   "id": "c1e2724b",
   "metadata": {},
   "source": [
    "#### Kan vi skrive sas-data tilbake igjen?\n",
    "https://stackoverflow.com/questions/49235845/export-pandas-dataframe-to-sas-sas7bdat-format \\\n",
    "Nei? Men vi kan kanskje skrive ett pythonscript for å generere \"innlastings-SAS-kode\"..."
   ]
  },
  {
   "cell_type": "markdown",
   "id": "a3455309",
   "metadata": {},
   "source": [
    "Bitbucket er ett git-alternativ til github.com og er delt mellom prodsonen og adminsonen, og kan nås på adressen:\\\n",
    "https://git-adm.ssb.no/"
   ]
  },
  {
   "cell_type": "markdown",
   "id": "b7206d8a",
   "metadata": {},
   "source": [
    "<hr>"
   ]
  },
  {
   "cell_type": "markdown",
   "id": "4ad2337c",
   "metadata": {},
   "source": [
    "# På Dapla"
   ]
  },
  {
   "cell_type": "markdown",
   "id": "a12cad90",
   "metadata": {},
   "source": [
    "### Video:Hvordan få edx-kursmateriell inn i Dapla"
   ]
  },
  {
   "cell_type": "code",
   "execution_count": 5,
   "id": "26c70da0",
   "metadata": {
    "jupyter": {
     "source_hidden": true
    }
   },
   "outputs": [
    {
     "data": {
      "text/html": [
       "\n",
       "        <iframe\n",
       "            width=\"640\"\n",
       "            height=\"360\"\n",
       "            src=\"https://web.microsoftstream.com/embed/video/9050c302-922f-4f39-b592-4f258ffc97c2?autoplay=false&showinfo=true\"\n",
       "            frameborder=\"0\"\n",
       "            allowfullscreen\n",
       "        ></iframe>\n",
       "        "
      ],
      "text/plain": [
       "<IPython.lib.display.IFrame at 0x7f3d33be0790>"
      ]
     },
     "execution_count": 5,
     "metadata": {},
     "output_type": "execute_result"
    }
   ],
   "source": [
    "IFrame(\"https://web.microsoftstream.com/embed/video/9050c302-922f-4f39-b592-4f258ffc97c2?autoplay=false&showinfo=true\", \n",
    "       width = 640, \n",
    "       height = 360)"
   ]
  },
  {
   "cell_type": "markdown",
   "id": "df8eaf41",
   "metadata": {},
   "source": [
    "## På dapla har vi biblioteket \"dapla\"\n",
    "Men dette kan potensielt endre seg veldig snart"
   ]
  },
  {
   "cell_type": "code",
   "execution_count": 2,
   "id": "f796d40a",
   "metadata": {},
   "outputs": [
    {
     "name": "stdout",
     "output_type": "stream",
     "text": [
      "Help on module dapla.execute in dapla:\n",
      "\n",
      "NAME\n",
      "    dapla.execute\n",
      "\n",
      "FUNCTIONS\n",
      "    details(path)\n",
      "    \n",
      "    read_pandas(path, columns=None)\n",
      "        Read Parquet data from a path in Dapla.\n",
      "        \n",
      "        Parameters\n",
      "        ----------\n",
      "        path : str\n",
      "            A path that will be mapped to a GCS path in Dapla\n",
      "        columns : List[str], optional\n",
      "            Subset of columns to read.\n",
      "        \n",
      "        Returns\n",
      "        -------\n",
      "        pyarrow.Table\n",
      "            Content as a table (of columns).\n",
      "    \n",
      "    show(path)\n",
      "    \n",
      "    show_meta(path)\n",
      "    \n",
      "    write_pandas(df, path, **option_kwargs)\n",
      "\n",
      "FILE\n",
      "    /opt/conda/lib/python3.8/site-packages/dapla/execute.py\n",
      "\n",
      "\n"
     ]
    }
   ],
   "source": [
    "import dapla as dp\n",
    "help(dp.execute)"
   ]
  },
  {
   "cell_type": "code",
   "execution_count": 3,
   "id": "5f2b40f6",
   "metadata": {},
   "outputs": [
    {
     "data": {
      "text/html": [
       "<div>\n",
       "<style scoped>\n",
       "    .dataframe tbody tr th:only-of-type {\n",
       "        vertical-align: middle;\n",
       "    }\n",
       "\n",
       "    .dataframe tbody tr th {\n",
       "        vertical-align: top;\n",
       "    }\n",
       "\n",
       "    .dataframe thead th {\n",
       "        text-align: right;\n",
       "    }\n",
       "</style>\n",
       "<table border=\"1\" class=\"dataframe\">\n",
       "  <thead>\n",
       "    <tr style=\"text-align: right;\">\n",
       "      <th></th>\n",
       "      <th>path</th>\n",
       "      <th>timestamp</th>\n",
       "    </tr>\n",
       "  </thead>\n",
       "  <tbody>\n",
       "    <tr>\n",
       "      <th>0</th>\n",
       "      <td>/felles/mock_sysselsatte/companies_2019_10000</td>\n",
       "      <td>2021-02-23 09:44:16.678</td>\n",
       "    </tr>\n",
       "    <tr>\n",
       "      <th>1</th>\n",
       "      <td>/felles/mock_sysselsatte/companies_2019_30000</td>\n",
       "      <td>2021-03-03 07:05:35.853</td>\n",
       "    </tr>\n",
       "    <tr>\n",
       "      <th>2</th>\n",
       "      <td>/felles/mock_sysselsatte/companies_2020_10000</td>\n",
       "      <td>2021-02-26 16:00:24.381</td>\n",
       "    </tr>\n",
       "    <tr>\n",
       "      <th>3</th>\n",
       "      <td>/felles/mock_sysselsatte/companies_2020_30000</td>\n",
       "      <td>2021-03-03 11:00:33.237</td>\n",
       "    </tr>\n",
       "    <tr>\n",
       "      <th>4</th>\n",
       "      <td>/felles/mock_sysselsatte/companies_2021_10000</td>\n",
       "      <td>2021-02-26 16:01:25.697</td>\n",
       "    </tr>\n",
       "    <tr>\n",
       "      <th>5</th>\n",
       "      <td>/felles/mock_sysselsatte/companies_2021_30000</td>\n",
       "      <td>2021-03-03 11:05:14.427</td>\n",
       "    </tr>\n",
       "    <tr>\n",
       "      <th>6</th>\n",
       "      <td>/felles/mock_sysselsatte/companies_2022_10000</td>\n",
       "      <td>2021-02-26 16:02:25.987</td>\n",
       "    </tr>\n",
       "    <tr>\n",
       "      <th>7</th>\n",
       "      <td>/felles/mock_sysselsatte/companies_2022_30000</td>\n",
       "      <td>2021-03-03 11:10:23.890</td>\n",
       "    </tr>\n",
       "    <tr>\n",
       "      <th>8</th>\n",
       "      <td>/felles/mock_sysselsatte/companies_2023_10000</td>\n",
       "      <td>2021-02-26 16:03:14.080</td>\n",
       "    </tr>\n",
       "    <tr>\n",
       "      <th>9</th>\n",
       "      <td>/felles/mock_sysselsatte/companies_2023_30000</td>\n",
       "      <td>2021-03-03 11:14:50.105</td>\n",
       "    </tr>\n",
       "    <tr>\n",
       "      <th>10</th>\n",
       "      <td>/felles/mock_sysselsatte/companies_2024_30000</td>\n",
       "      <td>2021-03-03 09:56:22.390</td>\n",
       "    </tr>\n",
       "    <tr>\n",
       "      <th>11</th>\n",
       "      <td>/felles/mock_sysselsatte/population_2019_10000</td>\n",
       "      <td>2021-02-23 09:44:18.095</td>\n",
       "    </tr>\n",
       "    <tr>\n",
       "      <th>12</th>\n",
       "      <td>/felles/mock_sysselsatte/population_2019_30000</td>\n",
       "      <td>2021-03-03 07:05:37.135</td>\n",
       "    </tr>\n",
       "    <tr>\n",
       "      <th>13</th>\n",
       "      <td>/felles/mock_sysselsatte/population_2020_10000</td>\n",
       "      <td>2021-02-26 16:00:25.598</td>\n",
       "    </tr>\n",
       "    <tr>\n",
       "      <th>14</th>\n",
       "      <td>/felles/mock_sysselsatte/population_2020_30000</td>\n",
       "      <td>2021-03-03 11:00:35.487</td>\n",
       "    </tr>\n",
       "    <tr>\n",
       "      <th>15</th>\n",
       "      <td>/felles/mock_sysselsatte/population_2021_10000</td>\n",
       "      <td>2021-02-26 16:01:26.650</td>\n",
       "    </tr>\n",
       "    <tr>\n",
       "      <th>16</th>\n",
       "      <td>/felles/mock_sysselsatte/population_2021_30000</td>\n",
       "      <td>2021-03-03 11:05:15.945</td>\n",
       "    </tr>\n",
       "    <tr>\n",
       "      <th>17</th>\n",
       "      <td>/felles/mock_sysselsatte/population_2022_10000</td>\n",
       "      <td>2021-02-26 16:02:26.930</td>\n",
       "    </tr>\n",
       "    <tr>\n",
       "      <th>18</th>\n",
       "      <td>/felles/mock_sysselsatte/population_2022_30000</td>\n",
       "      <td>2021-03-03 11:10:24.872</td>\n",
       "    </tr>\n",
       "    <tr>\n",
       "      <th>19</th>\n",
       "      <td>/felles/mock_sysselsatte/population_2023_10000</td>\n",
       "      <td>2021-02-26 16:03:15.012</td>\n",
       "    </tr>\n",
       "    <tr>\n",
       "      <th>20</th>\n",
       "      <td>/felles/mock_sysselsatte/population_2023_30000</td>\n",
       "      <td>2021-03-03 11:14:50.821</td>\n",
       "    </tr>\n",
       "    <tr>\n",
       "      <th>21</th>\n",
       "      <td>/felles/mock_sysselsatte/population_2024_30000</td>\n",
       "      <td>2021-03-03 09:56:23.683</td>\n",
       "    </tr>\n",
       "  </tbody>\n",
       "</table>\n",
       "</div>"
      ],
      "text/plain": [
       "                                              path               timestamp\n",
       "0    /felles/mock_sysselsatte/companies_2019_10000 2021-02-23 09:44:16.678\n",
       "1    /felles/mock_sysselsatte/companies_2019_30000 2021-03-03 07:05:35.853\n",
       "2    /felles/mock_sysselsatte/companies_2020_10000 2021-02-26 16:00:24.381\n",
       "3    /felles/mock_sysselsatte/companies_2020_30000 2021-03-03 11:00:33.237\n",
       "4    /felles/mock_sysselsatte/companies_2021_10000 2021-02-26 16:01:25.697\n",
       "5    /felles/mock_sysselsatte/companies_2021_30000 2021-03-03 11:05:14.427\n",
       "6    /felles/mock_sysselsatte/companies_2022_10000 2021-02-26 16:02:25.987\n",
       "7    /felles/mock_sysselsatte/companies_2022_30000 2021-03-03 11:10:23.890\n",
       "8    /felles/mock_sysselsatte/companies_2023_10000 2021-02-26 16:03:14.080\n",
       "9    /felles/mock_sysselsatte/companies_2023_30000 2021-03-03 11:14:50.105\n",
       "10   /felles/mock_sysselsatte/companies_2024_30000 2021-03-03 09:56:22.390\n",
       "11  /felles/mock_sysselsatte/population_2019_10000 2021-02-23 09:44:18.095\n",
       "12  /felles/mock_sysselsatte/population_2019_30000 2021-03-03 07:05:37.135\n",
       "13  /felles/mock_sysselsatte/population_2020_10000 2021-02-26 16:00:25.598\n",
       "14  /felles/mock_sysselsatte/population_2020_30000 2021-03-03 11:00:35.487\n",
       "15  /felles/mock_sysselsatte/population_2021_10000 2021-02-26 16:01:26.650\n",
       "16  /felles/mock_sysselsatte/population_2021_30000 2021-03-03 11:05:15.945\n",
       "17  /felles/mock_sysselsatte/population_2022_10000 2021-02-26 16:02:26.930\n",
       "18  /felles/mock_sysselsatte/population_2022_30000 2021-03-03 11:10:24.872\n",
       "19  /felles/mock_sysselsatte/population_2023_10000 2021-02-26 16:03:15.012\n",
       "20  /felles/mock_sysselsatte/population_2023_30000 2021-03-03 11:14:50.821\n",
       "21  /felles/mock_sysselsatte/population_2024_30000 2021-03-03 09:56:23.683"
      ]
     },
     "execution_count": 3,
     "metadata": {},
     "output_type": "execute_result"
    }
   ],
   "source": [
    "# Det du får fra dp.show() er egentlig bare en dataframe...\n",
    "dp.show('/felles/mock')"
   ]
  },
  {
   "cell_type": "code",
   "execution_count": 4,
   "id": "0cc48734",
   "metadata": {},
   "outputs": [
    {
     "name": "stdout",
     "output_type": "stream",
     "text": [
      "/felles/mock_sysselsatte/companies_2019_30000\n",
      "/felles/mock_sysselsatte/companies_2020_30000\n",
      "/felles/mock_sysselsatte/companies_2021_30000\n",
      "/felles/mock_sysselsatte/companies_2022_30000\n",
      "/felles/mock_sysselsatte/companies_2023_30000\n",
      "/felles/mock_sysselsatte/companies_2024_30000\n"
     ]
    }
   ],
   "source": [
    "# Og kan manipuleres på samme måte som andre dataframes\n",
    "# Her loop over path-kolonnen\n",
    "for x in dp.show('/felles/mock')['path']: \n",
    "    # print kun de som har \"comp\" og \"30000\" i navnet\n",
    "    if 'comp' in x and '30000' in x: \n",
    "        print(x)\n",
    "    #else:\n",
    "    #    print(\"No match\")"
   ]
  },
  {
   "cell_type": "code",
   "execution_count": 5,
   "id": "927f8ff0",
   "metadata": {},
   "outputs": [
    {
     "data": {
      "text/plain": [
       "'/felles/mock_sysselsatte/companies_2019_10000'"
      ]
     },
     "execution_count": 5,
     "metadata": {},
     "output_type": "execute_result"
    }
   ],
   "source": [
    "dp.show('/felles/mock')['path'][0]"
   ]
  },
  {
   "cell_type": "markdown",
   "id": "51a680ac",
   "metadata": {},
   "source": [
    "### Lesing fra Dapla-lagringen"
   ]
  },
  {
   "cell_type": "code",
   "execution_count": 6,
   "id": "ca891157",
   "metadata": {},
   "outputs": [
    {
     "data": {
      "text/html": [
       "<div>\n",
       "<style scoped>\n",
       "    .dataframe tbody tr th:only-of-type {\n",
       "        vertical-align: middle;\n",
       "    }\n",
       "\n",
       "    .dataframe tbody tr th {\n",
       "        vertical-align: top;\n",
       "    }\n",
       "\n",
       "    .dataframe thead th {\n",
       "        text-align: right;\n",
       "    }\n",
       "</style>\n",
       "<table border=\"1\" class=\"dataframe\">\n",
       "  <thead>\n",
       "    <tr style=\"text-align: right;\">\n",
       "      <th></th>\n",
       "      <th>work_id</th>\n",
       "      <th>nace</th>\n",
       "      <th>region_code</th>\n",
       "      <th>region</th>\n",
       "      <th>employee_points</th>\n",
       "    </tr>\n",
       "  </thead>\n",
       "  <tbody>\n",
       "    <tr>\n",
       "      <th>213</th>\n",
       "      <td>542560959</td>\n",
       "      <td>46.731</td>\n",
       "      <td>12</td>\n",
       "      <td>Hordaland (-2019)</td>\n",
       "      <td>14</td>\n",
       "    </tr>\n",
       "    <tr>\n",
       "      <th>1122</th>\n",
       "      <td>339156086</td>\n",
       "      <td>23.990</td>\n",
       "      <td>06</td>\n",
       "      <td>Buskerud (-2019)</td>\n",
       "      <td>24</td>\n",
       "    </tr>\n",
       "    <tr>\n",
       "      <th>1056</th>\n",
       "      <td>138049867</td>\n",
       "      <td>15.200</td>\n",
       "      <td>04</td>\n",
       "      <td>Hedmark (-2019)</td>\n",
       "      <td>3</td>\n",
       "    </tr>\n",
       "    <tr>\n",
       "      <th>848</th>\n",
       "      <td>754525073</td>\n",
       "      <td>47.789</td>\n",
       "      <td>15</td>\n",
       "      <td>Møre og Romsdal</td>\n",
       "      <td>9</td>\n",
       "    </tr>\n",
       "    <tr>\n",
       "      <th>676</th>\n",
       "      <td>088518316</td>\n",
       "      <td>51.210</td>\n",
       "      <td>50</td>\n",
       "      <td>Trøndelag - Trööndelage</td>\n",
       "      <td>15</td>\n",
       "    </tr>\n",
       "    <tr>\n",
       "      <th>778</th>\n",
       "      <td>873045945</td>\n",
       "      <td>50.204</td>\n",
       "      <td>50</td>\n",
       "      <td>Trøndelag - Trööndelage</td>\n",
       "      <td>18</td>\n",
       "    </tr>\n",
       "    <tr>\n",
       "      <th>144</th>\n",
       "      <td>241628580</td>\n",
       "      <td>24.510</td>\n",
       "      <td>06</td>\n",
       "      <td>Buskerud (-2019)</td>\n",
       "      <td>28</td>\n",
       "    </tr>\n",
       "    <tr>\n",
       "      <th>894</th>\n",
       "      <td>302118946</td>\n",
       "      <td>35.112</td>\n",
       "      <td>09</td>\n",
       "      <td>Aust-Agder (-2019)</td>\n",
       "      <td>5</td>\n",
       "    </tr>\n",
       "    <tr>\n",
       "      <th>679</th>\n",
       "      <td>293763048</td>\n",
       "      <td>43.341</td>\n",
       "      <td>10</td>\n",
       "      <td>Vest-Agder (-2019)</td>\n",
       "      <td>21</td>\n",
       "    </tr>\n",
       "    <tr>\n",
       "      <th>1027</th>\n",
       "      <td>125479936</td>\n",
       "      <td>35.130</td>\n",
       "      <td>09</td>\n",
       "      <td>Aust-Agder (-2019)</td>\n",
       "      <td>4</td>\n",
       "    </tr>\n",
       "  </tbody>\n",
       "</table>\n",
       "</div>"
      ],
      "text/plain": [
       "        work_id    nace region_code                   region  employee_points\n",
       "213   542560959  46.731          12        Hordaland (-2019)               14\n",
       "1122  339156086  23.990          06         Buskerud (-2019)               24\n",
       "1056  138049867  15.200          04          Hedmark (-2019)                3\n",
       "848   754525073  47.789          15          Møre og Romsdal                9\n",
       "676   088518316  51.210          50  Trøndelag - Trööndelage               15\n",
       "778   873045945  50.204          50  Trøndelag - Trööndelage               18\n",
       "144   241628580  24.510          06         Buskerud (-2019)               28\n",
       "894   302118946  35.112          09       Aust-Agder (-2019)                5\n",
       "679   293763048  43.341          10       Vest-Agder (-2019)               21\n",
       "1027  125479936  35.130          09       Aust-Agder (-2019)                4"
      ]
     },
     "execution_count": 6,
     "metadata": {},
     "output_type": "execute_result"
    }
   ],
   "source": [
    "# Les inn ett av datasettene, med en hardkodet path\n",
    "df = dp.read_pandas('/felles/mock_sysselsatte/companies_2019_30000')\n",
    "df.sample(10)"
   ]
  },
  {
   "cell_type": "markdown",
   "id": "33a7695f",
   "metadata": {},
   "source": [
    "### Skriving til datalagringen på Dapla"
   ]
  },
  {
   "cell_type": "markdown",
   "id": "485e16bb",
   "metadata": {},
   "source": [
    "Du bør vite hva du gjør når du skriver tilbake til dapla. \\\n",
    "Bla. skal verdivurdering være med som parameter, og \"state\" på dataene. \\\n",
    "Det er pågående diskusjoner om hvordan dette skal håndheves fremover: \\\n",
    "https://ssb-norge.slack.com/archives/C019P6L5SBV/p1611228000005500?thread_ts=1611220403.003000&cid=C019P6L5SBV"
   ]
  },
  {
   "cell_type": "code",
   "execution_count": null,
   "id": "5d01610e",
   "metadata": {},
   "outputs": [],
   "source": [
    "dp.write_pandas(df, '/felles/mock_sysselsatte/companies_2019_30000', \n",
    "                valuation='INTERNAL', \n",
    "                state= 'INPUT')"
   ]
  },
  {
   "cell_type": "markdown",
   "id": "06aaa709",
   "metadata": {},
   "source": [
    "### Bonus: Mer avansert teknikk med en \"dict\"-comprehension"
   ]
  },
  {
   "cell_type": "code",
   "execution_count": 41,
   "id": "7fb5a106",
   "metadata": {},
   "outputs": [],
   "source": [
    "# Last inn alle dataframene med \"comp\" og \"30000\" i navnet i en mappe på dapla inn i en dict, hvor deler av pathen er keyen.\n",
    "comp_years = {x.replace('/felles/mock_sysselsatte/',''): dp.read_pandas(x)\n",
    "              for x in dp.show('/felles/mock')['path'] \n",
    "              if 'comp' in x and '30000' in x}"
   ]
  },
  {
   "cell_type": "code",
   "execution_count": 42,
   "id": "af477fbd",
   "metadata": {},
   "outputs": [
    {
     "data": {
      "text/plain": [
       "dict_keys(['companies_2019_30000', 'companies_2020_30000', 'companies_2021_30000', 'companies_2022_30000', 'companies_2023_30000', 'companies_2024_30000'])"
      ]
     },
     "execution_count": 42,
     "metadata": {},
     "output_type": "execute_result"
    }
   ],
   "source": [
    "# Se på keyene, dvs. navnene vi kan indexe i dicten med\n",
    "comp_years.keys()"
   ]
  },
  {
   "cell_type": "code",
   "execution_count": 44,
   "id": "503dfe55",
   "metadata": {},
   "outputs": [
    {
     "data": {
      "text/html": [
       "<div>\n",
       "<style scoped>\n",
       "    .dataframe tbody tr th:only-of-type {\n",
       "        vertical-align: middle;\n",
       "    }\n",
       "\n",
       "    .dataframe tbody tr th {\n",
       "        vertical-align: top;\n",
       "    }\n",
       "\n",
       "    .dataframe thead th {\n",
       "        text-align: right;\n",
       "    }\n",
       "</style>\n",
       "<table border=\"1\" class=\"dataframe\">\n",
       "  <thead>\n",
       "    <tr style=\"text-align: right;\">\n",
       "      <th></th>\n",
       "      <th>work_id</th>\n",
       "      <th>nace</th>\n",
       "      <th>region_code</th>\n",
       "      <th>region</th>\n",
       "      <th>employee_points</th>\n",
       "    </tr>\n",
       "  </thead>\n",
       "  <tbody>\n",
       "    <tr>\n",
       "      <th>0</th>\n",
       "      <td>118415099</td>\n",
       "      <td>11.070</td>\n",
       "      <td>03</td>\n",
       "      <td>Oslo</td>\n",
       "      <td>60</td>\n",
       "    </tr>\n",
       "    <tr>\n",
       "      <th>1</th>\n",
       "      <td>165189001</td>\n",
       "      <td>10.920</td>\n",
       "      <td>03</td>\n",
       "      <td>Oslo</td>\n",
       "      <td>54</td>\n",
       "    </tr>\n",
       "    <tr>\n",
       "      <th>2</th>\n",
       "      <td>205912967</td>\n",
       "      <td>10.130</td>\n",
       "      <td>02</td>\n",
       "      <td>Akershus (-2019)</td>\n",
       "      <td>48</td>\n",
       "    </tr>\n",
       "    <tr>\n",
       "      <th>3</th>\n",
       "      <td>959013544</td>\n",
       "      <td>46.693</td>\n",
       "      <td>12</td>\n",
       "      <td>Hordaland (-2019)</td>\n",
       "      <td>46</td>\n",
       "    </tr>\n",
       "    <tr>\n",
       "      <th>4</th>\n",
       "      <td>405013223</td>\n",
       "      <td>09.900</td>\n",
       "      <td>02</td>\n",
       "      <td>Akershus (-2019)</td>\n",
       "      <td>88</td>\n",
       "    </tr>\n",
       "    <tr>\n",
       "      <th>...</th>\n",
       "      <td>...</td>\n",
       "      <td>...</td>\n",
       "      <td>...</td>\n",
       "      <td>...</td>\n",
       "      <td>...</td>\n",
       "    </tr>\n",
       "    <tr>\n",
       "      <th>1128</th>\n",
       "      <td>706734220</td>\n",
       "      <td>51.210</td>\n",
       "      <td>50</td>\n",
       "      <td>Trøndelag - Trööndelage</td>\n",
       "      <td>15</td>\n",
       "    </tr>\n",
       "    <tr>\n",
       "      <th>1129</th>\n",
       "      <td>156404021</td>\n",
       "      <td>74.200</td>\n",
       "      <td>18</td>\n",
       "      <td>Nordland</td>\n",
       "      <td>23</td>\n",
       "    </tr>\n",
       "    <tr>\n",
       "      <th>1130</th>\n",
       "      <td>962214437</td>\n",
       "      <td>74.102</td>\n",
       "      <td>18</td>\n",
       "      <td>Nordland</td>\n",
       "      <td>12</td>\n",
       "    </tr>\n",
       "    <tr>\n",
       "      <th>1131</th>\n",
       "      <td>999083400</td>\n",
       "      <td>43.341</td>\n",
       "      <td>10</td>\n",
       "      <td>Vest-Agder (-2019)</td>\n",
       "      <td>21</td>\n",
       "    </tr>\n",
       "    <tr>\n",
       "      <th>1132</th>\n",
       "      <td>438579667</td>\n",
       "      <td>27.900</td>\n",
       "      <td>07</td>\n",
       "      <td>Vestfold (-2019)</td>\n",
       "      <td>16</td>\n",
       "    </tr>\n",
       "  </tbody>\n",
       "</table>\n",
       "<p>1133 rows × 5 columns</p>\n",
       "</div>"
      ],
      "text/plain": [
       "        work_id    nace region_code                   region  employee_points\n",
       "0     118415099  11.070          03                     Oslo               60\n",
       "1     165189001  10.920          03                     Oslo               54\n",
       "2     205912967  10.130          02         Akershus (-2019)               48\n",
       "3     959013544  46.693          12        Hordaland (-2019)               46\n",
       "4     405013223  09.900          02         Akershus (-2019)               88\n",
       "...         ...     ...         ...                      ...              ...\n",
       "1128  706734220  51.210          50  Trøndelag - Trööndelage               15\n",
       "1129  156404021  74.200          18                 Nordland               23\n",
       "1130  962214437  74.102          18                 Nordland               12\n",
       "1131  999083400  43.341          10       Vest-Agder (-2019)               21\n",
       "1132  438579667  27.900          07         Vestfold (-2019)               16\n",
       "\n",
       "[1133 rows x 5 columns]"
      ]
     },
     "execution_count": 44,
     "metadata": {},
     "output_type": "execute_result"
    }
   ],
   "source": [
    "# feks.\n",
    "comp_years['companies_2019_30000']"
   ]
  },
  {
   "cell_type": "code",
   "execution_count": 43,
   "id": "661ffe92",
   "metadata": {},
   "outputs": [
    {
     "name": "stdout",
     "output_type": "stream",
     "text": [
      "companies_2019_30000\n"
     ]
    },
    {
     "data": {
      "text/html": [
       "<div>\n",
       "<style scoped>\n",
       "    .dataframe tbody tr th:only-of-type {\n",
       "        vertical-align: middle;\n",
       "    }\n",
       "\n",
       "    .dataframe tbody tr th {\n",
       "        vertical-align: top;\n",
       "    }\n",
       "\n",
       "    .dataframe thead th {\n",
       "        text-align: right;\n",
       "    }\n",
       "</style>\n",
       "<table border=\"1\" class=\"dataframe\">\n",
       "  <thead>\n",
       "    <tr style=\"text-align: right;\">\n",
       "      <th></th>\n",
       "      <th>work_id</th>\n",
       "      <th>nace</th>\n",
       "      <th>region_code</th>\n",
       "      <th>region</th>\n",
       "      <th>employee_points</th>\n",
       "    </tr>\n",
       "  </thead>\n",
       "  <tbody>\n",
       "    <tr>\n",
       "      <th>0</th>\n",
       "      <td>118415099</td>\n",
       "      <td>11.070</td>\n",
       "      <td>03</td>\n",
       "      <td>Oslo</td>\n",
       "      <td>60</td>\n",
       "    </tr>\n",
       "  </tbody>\n",
       "</table>\n",
       "</div>"
      ],
      "text/plain": [
       "     work_id    nace region_code region  employee_points\n",
       "0  118415099  11.070          03   Oslo               60"
      ]
     },
     "metadata": {},
     "output_type": "display_data"
    },
    {
     "name": "stdout",
     "output_type": "stream",
     "text": [
      "companies_2020_30000\n"
     ]
    },
    {
     "data": {
      "text/html": [
       "<div>\n",
       "<style scoped>\n",
       "    .dataframe tbody tr th:only-of-type {\n",
       "        vertical-align: middle;\n",
       "    }\n",
       "\n",
       "    .dataframe tbody tr th {\n",
       "        vertical-align: top;\n",
       "    }\n",
       "\n",
       "    .dataframe thead th {\n",
       "        text-align: right;\n",
       "    }\n",
       "</style>\n",
       "<table border=\"1\" class=\"dataframe\">\n",
       "  <thead>\n",
       "    <tr style=\"text-align: right;\">\n",
       "      <th></th>\n",
       "      <th>work_id</th>\n",
       "      <th>nace</th>\n",
       "      <th>region_code</th>\n",
       "      <th>region</th>\n",
       "      <th>employee_points</th>\n",
       "    </tr>\n",
       "  </thead>\n",
       "  <tbody>\n",
       "    <tr>\n",
       "      <th>0</th>\n",
       "      <td>118415099</td>\n",
       "      <td>11.070</td>\n",
       "      <td>03</td>\n",
       "      <td>Oslo</td>\n",
       "      <td>60</td>\n",
       "    </tr>\n",
       "  </tbody>\n",
       "</table>\n",
       "</div>"
      ],
      "text/plain": [
       "     work_id    nace region_code region  employee_points\n",
       "0  118415099  11.070          03   Oslo               60"
      ]
     },
     "metadata": {},
     "output_type": "display_data"
    },
    {
     "name": "stdout",
     "output_type": "stream",
     "text": [
      "companies_2021_30000\n"
     ]
    },
    {
     "data": {
      "text/html": [
       "<div>\n",
       "<style scoped>\n",
       "    .dataframe tbody tr th:only-of-type {\n",
       "        vertical-align: middle;\n",
       "    }\n",
       "\n",
       "    .dataframe tbody tr th {\n",
       "        vertical-align: top;\n",
       "    }\n",
       "\n",
       "    .dataframe thead th {\n",
       "        text-align: right;\n",
       "    }\n",
       "</style>\n",
       "<table border=\"1\" class=\"dataframe\">\n",
       "  <thead>\n",
       "    <tr style=\"text-align: right;\">\n",
       "      <th></th>\n",
       "      <th>work_id</th>\n",
       "      <th>nace</th>\n",
       "      <th>region_code</th>\n",
       "      <th>region</th>\n",
       "      <th>employee_points</th>\n",
       "    </tr>\n",
       "  </thead>\n",
       "  <tbody>\n",
       "    <tr>\n",
       "      <th>0</th>\n",
       "      <td>118415099</td>\n",
       "      <td>11.070</td>\n",
       "      <td>03</td>\n",
       "      <td>Oslo</td>\n",
       "      <td>60</td>\n",
       "    </tr>\n",
       "  </tbody>\n",
       "</table>\n",
       "</div>"
      ],
      "text/plain": [
       "     work_id    nace region_code region  employee_points\n",
       "0  118415099  11.070          03   Oslo               60"
      ]
     },
     "metadata": {},
     "output_type": "display_data"
    },
    {
     "name": "stdout",
     "output_type": "stream",
     "text": [
      "companies_2022_30000\n"
     ]
    },
    {
     "data": {
      "text/html": [
       "<div>\n",
       "<style scoped>\n",
       "    .dataframe tbody tr th:only-of-type {\n",
       "        vertical-align: middle;\n",
       "    }\n",
       "\n",
       "    .dataframe tbody tr th {\n",
       "        vertical-align: top;\n",
       "    }\n",
       "\n",
       "    .dataframe thead th {\n",
       "        text-align: right;\n",
       "    }\n",
       "</style>\n",
       "<table border=\"1\" class=\"dataframe\">\n",
       "  <thead>\n",
       "    <tr style=\"text-align: right;\">\n",
       "      <th></th>\n",
       "      <th>work_id</th>\n",
       "      <th>nace</th>\n",
       "      <th>region_code</th>\n",
       "      <th>region</th>\n",
       "      <th>employee_points</th>\n",
       "    </tr>\n",
       "  </thead>\n",
       "  <tbody>\n",
       "    <tr>\n",
       "      <th>0</th>\n",
       "      <td>118415099</td>\n",
       "      <td>11.070</td>\n",
       "      <td>03</td>\n",
       "      <td>Oslo</td>\n",
       "      <td>60</td>\n",
       "    </tr>\n",
       "  </tbody>\n",
       "</table>\n",
       "</div>"
      ],
      "text/plain": [
       "     work_id    nace region_code region  employee_points\n",
       "0  118415099  11.070          03   Oslo               60"
      ]
     },
     "metadata": {},
     "output_type": "display_data"
    },
    {
     "name": "stdout",
     "output_type": "stream",
     "text": [
      "companies_2023_30000\n"
     ]
    },
    {
     "data": {
      "text/html": [
       "<div>\n",
       "<style scoped>\n",
       "    .dataframe tbody tr th:only-of-type {\n",
       "        vertical-align: middle;\n",
       "    }\n",
       "\n",
       "    .dataframe tbody tr th {\n",
       "        vertical-align: top;\n",
       "    }\n",
       "\n",
       "    .dataframe thead th {\n",
       "        text-align: right;\n",
       "    }\n",
       "</style>\n",
       "<table border=\"1\" class=\"dataframe\">\n",
       "  <thead>\n",
       "    <tr style=\"text-align: right;\">\n",
       "      <th></th>\n",
       "      <th>work_id</th>\n",
       "      <th>nace</th>\n",
       "      <th>region_code</th>\n",
       "      <th>region</th>\n",
       "      <th>employee_points</th>\n",
       "    </tr>\n",
       "  </thead>\n",
       "  <tbody>\n",
       "    <tr>\n",
       "      <th>0</th>\n",
       "      <td>118415099</td>\n",
       "      <td>11.070</td>\n",
       "      <td>03</td>\n",
       "      <td>Oslo</td>\n",
       "      <td>60</td>\n",
       "    </tr>\n",
       "  </tbody>\n",
       "</table>\n",
       "</div>"
      ],
      "text/plain": [
       "     work_id    nace region_code region  employee_points\n",
       "0  118415099  11.070          03   Oslo               60"
      ]
     },
     "metadata": {},
     "output_type": "display_data"
    },
    {
     "name": "stdout",
     "output_type": "stream",
     "text": [
      "companies_2024_30000\n"
     ]
    },
    {
     "data": {
      "text/html": [
       "<div>\n",
       "<style scoped>\n",
       "    .dataframe tbody tr th:only-of-type {\n",
       "        vertical-align: middle;\n",
       "    }\n",
       "\n",
       "    .dataframe tbody tr th {\n",
       "        vertical-align: top;\n",
       "    }\n",
       "\n",
       "    .dataframe thead th {\n",
       "        text-align: right;\n",
       "    }\n",
       "</style>\n",
       "<table border=\"1\" class=\"dataframe\">\n",
       "  <thead>\n",
       "    <tr style=\"text-align: right;\">\n",
       "      <th></th>\n",
       "      <th>work_id</th>\n",
       "      <th>nace</th>\n",
       "      <th>region_code</th>\n",
       "      <th>region</th>\n",
       "      <th>employee_points</th>\n",
       "    </tr>\n",
       "  </thead>\n",
       "  <tbody>\n",
       "    <tr>\n",
       "      <th>0</th>\n",
       "      <td>118415099</td>\n",
       "      <td>11.070</td>\n",
       "      <td>03</td>\n",
       "      <td>Oslo</td>\n",
       "      <td>60</td>\n",
       "    </tr>\n",
       "  </tbody>\n",
       "</table>\n",
       "</div>"
      ],
      "text/plain": [
       "     work_id    nace region_code region  employee_points\n",
       "0  118415099  11.070          03   Oslo               60"
      ]
     },
     "metadata": {},
     "output_type": "display_data"
    }
   ],
   "source": [
    "# Print første rad i hver av dataframene\n",
    "for k, df in comp_years.items(): \n",
    "    print(k)\n",
    "    display(df.head(1))"
   ]
  }
 ],
 "metadata": {
  "kernelspec": {
   "display_name": "Python 3",
   "language": "python",
   "name": "python3"
  },
  "language_info": {
   "codemirror_mode": {
    "name": "ipython",
    "version": 3
   },
   "file_extension": ".py",
   "mimetype": "text/x-python",
   "name": "python",
   "nbconvert_exporter": "python",
   "pygments_lexer": "ipython3",
   "version": "3.8.10"
  }
 },
 "nbformat": 4,
 "nbformat_minor": 5
}
