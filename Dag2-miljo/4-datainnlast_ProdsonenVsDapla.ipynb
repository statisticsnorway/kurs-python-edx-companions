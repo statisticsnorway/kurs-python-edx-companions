{
 "cells": [
  {
   "cell_type": "markdown",
   "id": "6dcc06e5",
   "metadata": {},
   "source": [
    "## På dapla har vi biblioteket \"dapla\"\n",
    "Men dette kan potensielt endre seg veldig snart"
   ]
  },
  {
   "cell_type": "code",
   "execution_count": 3,
   "id": "1aadd52a",
   "metadata": {},
   "outputs": [
    {
     "name": "stdout",
     "output_type": "stream",
     "text": [
      "Help on module dapla.execute in dapla:\n",
      "\n",
      "NAME\n",
      "    dapla.execute\n",
      "\n",
      "FUNCTIONS\n",
      "    details(path)\n",
      "    \n",
      "    read_pandas(path, columns=None)\n",
      "        Read Parquet data from a path in Dapla.\n",
      "        \n",
      "        Parameters\n",
      "        ----------\n",
      "        path : str\n",
      "            A path that will be mapped to a GCS path in Dapla\n",
      "        columns : List[str], optional\n",
      "            Subset of columns to read.\n",
      "        \n",
      "        Returns\n",
      "        -------\n",
      "        pyarrow.Table\n",
      "            Content as a table (of columns).\n",
      "    \n",
      "    show(path)\n",
      "    \n",
      "    show_meta(path)\n",
      "    \n",
      "    write_pandas(df, path, **option_kwargs)\n",
      "\n",
      "FILE\n",
      "    /opt/conda/lib/python3.8/site-packages/dapla/execute.py\n",
      "\n",
      "\n"
     ]
    }
   ],
   "source": [
    "import dapla as dp\n",
    "help(dp.execute)"
   ]
  },
  {
   "cell_type": "code",
   "execution_count": 9,
   "id": "2ae98c58",
   "metadata": {},
   "outputs": [
    {
     "data": {
      "text/html": [
       "<div>\n",
       "<style scoped>\n",
       "    .dataframe tbody tr th:only-of-type {\n",
       "        vertical-align: middle;\n",
       "    }\n",
       "\n",
       "    .dataframe tbody tr th {\n",
       "        vertical-align: top;\n",
       "    }\n",
       "\n",
       "    .dataframe thead th {\n",
       "        text-align: right;\n",
       "    }\n",
       "</style>\n",
       "<table border=\"1\" class=\"dataframe\">\n",
       "  <thead>\n",
       "    <tr style=\"text-align: right;\">\n",
       "      <th></th>\n",
       "      <th>path</th>\n",
       "      <th>timestamp</th>\n",
       "    </tr>\n",
       "  </thead>\n",
       "  <tbody>\n",
       "    <tr>\n",
       "      <th>0</th>\n",
       "      <td>/felles/mock_sysselsatte/companies_2019_10000</td>\n",
       "      <td>2021-02-23 09:44:16.678</td>\n",
       "    </tr>\n",
       "    <tr>\n",
       "      <th>1</th>\n",
       "      <td>/felles/mock_sysselsatte/companies_2019_30000</td>\n",
       "      <td>2021-03-03 07:05:35.853</td>\n",
       "    </tr>\n",
       "    <tr>\n",
       "      <th>2</th>\n",
       "      <td>/felles/mock_sysselsatte/companies_2020_10000</td>\n",
       "      <td>2021-02-26 16:00:24.381</td>\n",
       "    </tr>\n",
       "    <tr>\n",
       "      <th>3</th>\n",
       "      <td>/felles/mock_sysselsatte/companies_2020_30000</td>\n",
       "      <td>2021-03-03 11:00:33.237</td>\n",
       "    </tr>\n",
       "    <tr>\n",
       "      <th>4</th>\n",
       "      <td>/felles/mock_sysselsatte/companies_2021_10000</td>\n",
       "      <td>2021-02-26 16:01:25.697</td>\n",
       "    </tr>\n",
       "  </tbody>\n",
       "</table>\n",
       "</div>"
      ],
      "text/plain": [
       "                                            path               timestamp\n",
       "0  /felles/mock_sysselsatte/companies_2019_10000 2021-02-23 09:44:16.678\n",
       "1  /felles/mock_sysselsatte/companies_2019_30000 2021-03-03 07:05:35.853\n",
       "2  /felles/mock_sysselsatte/companies_2020_10000 2021-02-26 16:00:24.381\n",
       "3  /felles/mock_sysselsatte/companies_2020_30000 2021-03-03 11:00:33.237\n",
       "4  /felles/mock_sysselsatte/companies_2021_10000 2021-02-26 16:01:25.697"
      ]
     },
     "execution_count": 9,
     "metadata": {},
     "output_type": "execute_result"
    }
   ],
   "source": [
    "# Det du ser på er egentlig bare en dataframe...\n",
    "dp.show('/felles/mock').head()"
   ]
  },
  {
   "cell_type": "code",
   "execution_count": 12,
   "id": "edab1ea2",
   "metadata": {},
   "outputs": [
    {
     "name": "stdout",
     "output_type": "stream",
     "text": [
      "/felles/mock_sysselsatte/companies_2019_30000\n",
      "/felles/mock_sysselsatte/companies_2020_30000\n",
      "/felles/mock_sysselsatte/companies_2021_30000\n",
      "/felles/mock_sysselsatte/companies_2022_30000\n",
      "/felles/mock_sysselsatte/companies_2023_30000\n",
      "/felles/mock_sysselsatte/companies_2024_30000\n"
     ]
    }
   ],
   "source": [
    "# Og kan manipuleres på samme måte\n",
    "# Her loop over path-kolonnen\n",
    "for x in dp.show('/felles/mock')['path']: \n",
    "    # print kun de som har \"comp\" og \"30000\" i navnet\n",
    "    if 'comp' in x and '30000' in x: \n",
    "        print(x)"
   ]
  },
  {
   "cell_type": "code",
   "execution_count": 7,
   "id": "02672883",
   "metadata": {},
   "outputs": [
    {
     "data": {
      "text/html": [
       "<div>\n",
       "<style scoped>\n",
       "    .dataframe tbody tr th:only-of-type {\n",
       "        vertical-align: middle;\n",
       "    }\n",
       "\n",
       "    .dataframe tbody tr th {\n",
       "        vertical-align: top;\n",
       "    }\n",
       "\n",
       "    .dataframe thead th {\n",
       "        text-align: right;\n",
       "    }\n",
       "</style>\n",
       "<table border=\"1\" class=\"dataframe\">\n",
       "  <thead>\n",
       "    <tr style=\"text-align: right;\">\n",
       "      <th></th>\n",
       "      <th>work_id</th>\n",
       "      <th>nace</th>\n",
       "      <th>region_code</th>\n",
       "      <th>region</th>\n",
       "      <th>employee_points</th>\n",
       "    </tr>\n",
       "  </thead>\n",
       "  <tbody>\n",
       "    <tr>\n",
       "      <th>24</th>\n",
       "      <td>559023560</td>\n",
       "      <td>12.000</td>\n",
       "      <td>03</td>\n",
       "      <td>Oslo</td>\n",
       "      <td>45</td>\n",
       "    </tr>\n",
       "    <tr>\n",
       "      <th>749</th>\n",
       "      <td>832925850</td>\n",
       "      <td>43.120</td>\n",
       "      <td>10</td>\n",
       "      <td>Vest-Agder (-2019)</td>\n",
       "      <td>12</td>\n",
       "    </tr>\n",
       "    <tr>\n",
       "      <th>756</th>\n",
       "      <td>400795411</td>\n",
       "      <td>46.510</td>\n",
       "      <td>12</td>\n",
       "      <td>Hordaland (-2019)</td>\n",
       "      <td>20</td>\n",
       "    </tr>\n",
       "    <tr>\n",
       "      <th>918</th>\n",
       "      <td>185786417</td>\n",
       "      <td>18.140</td>\n",
       "      <td>04</td>\n",
       "      <td>Hedmark (-2019)</td>\n",
       "      <td>7</td>\n",
       "    </tr>\n",
       "    <tr>\n",
       "      <th>212</th>\n",
       "      <td>771034507</td>\n",
       "      <td>01.440</td>\n",
       "      <td>01</td>\n",
       "      <td>Østfold (-2019)</td>\n",
       "      <td>12</td>\n",
       "    </tr>\n",
       "    <tr>\n",
       "      <th>1063</th>\n",
       "      <td>319813986</td>\n",
       "      <td>23.310</td>\n",
       "      <td>05</td>\n",
       "      <td>Oppland (-2019)</td>\n",
       "      <td>5</td>\n",
       "    </tr>\n",
       "    <tr>\n",
       "      <th>172</th>\n",
       "      <td>093591671</td>\n",
       "      <td>47.529</td>\n",
       "      <td>14</td>\n",
       "      <td>Sogn og Fjordane (-2019)</td>\n",
       "      <td>11</td>\n",
       "    </tr>\n",
       "    <tr>\n",
       "      <th>661</th>\n",
       "      <td>888844328</td>\n",
       "      <td>24.540</td>\n",
       "      <td>06</td>\n",
       "      <td>Buskerud (-2019)</td>\n",
       "      <td>34</td>\n",
       "    </tr>\n",
       "    <tr>\n",
       "      <th>359</th>\n",
       "      <td>461107179</td>\n",
       "      <td>49.410</td>\n",
       "      <td>50</td>\n",
       "      <td>Trøndelag - Trööndelage</td>\n",
       "      <td>5</td>\n",
       "    </tr>\n",
       "    <tr>\n",
       "      <th>18</th>\n",
       "      <td>870563989</td>\n",
       "      <td>05.200</td>\n",
       "      <td>02</td>\n",
       "      <td>Akershus (-2019)</td>\n",
       "      <td>28</td>\n",
       "    </tr>\n",
       "  </tbody>\n",
       "</table>\n",
       "</div>"
      ],
      "text/plain": [
       "        work_id    nace region_code                    region  employee_points\n",
       "24    559023560  12.000          03                      Oslo               45\n",
       "749   832925850  43.120          10        Vest-Agder (-2019)               12\n",
       "756   400795411  46.510          12         Hordaland (-2019)               20\n",
       "918   185786417  18.140          04           Hedmark (-2019)                7\n",
       "212   771034507  01.440          01           Østfold (-2019)               12\n",
       "1063  319813986  23.310          05           Oppland (-2019)                5\n",
       "172   093591671  47.529          14  Sogn og Fjordane (-2019)               11\n",
       "661   888844328  24.540          06          Buskerud (-2019)               34\n",
       "359   461107179  49.410          50   Trøndelag - Trööndelage                5\n",
       "18    870563989  05.200          02          Akershus (-2019)               28"
      ]
     },
     "execution_count": 7,
     "metadata": {},
     "output_type": "execute_result"
    }
   ],
   "source": [
    "df = dp.read_pandas('/felles/mock_sysselsatte/companies_2019_30000')\n",
    "df.sample(10)"
   ]
  },
  {
   "cell_type": "code",
   "execution_count": null,
   "id": "15566339",
   "metadata": {},
   "outputs": [],
   "source": [
    "# Du bør vide hva du gjør når du skriver tilbake til dapla.\n",
    "# Bla. skal verdivurdering være med som parameter, og \"state\" på dataene.\n",
    "dp.write_pandas(df, '/felles/mock_sysselsatte/companies_2019_30000', valuation='INTERNAL', state= 'INPUT')"
   ]
  },
  {
   "cell_type": "markdown",
   "id": "1ca9348a",
   "metadata": {},
   "source": [
    "# I Prodsonen\n",
    "Kan vi laste sas-data rett fra linux-stammene, men ikke fra S: - H: - X:"
   ]
  },
  {
   "cell_type": "code",
   "execution_count": null,
   "id": "f1fd0ea0",
   "metadata": {},
   "outputs": [],
   "source": []
  }
 ],
 "metadata": {
  "kernelspec": {
   "display_name": "Python 3",
   "language": "python",
   "name": "python3"
  },
  "language_info": {
   "codemirror_mode": {
    "name": "ipython",
    "version": 3
   },
   "file_extension": ".py",
   "mimetype": "text/x-python",
   "name": "python",
   "nbconvert_exporter": "python",
   "pygments_lexer": "ipython3",
   "version": "3.8.10"
  }
 },
 "nbformat": 4,
 "nbformat_minor": 5
}
