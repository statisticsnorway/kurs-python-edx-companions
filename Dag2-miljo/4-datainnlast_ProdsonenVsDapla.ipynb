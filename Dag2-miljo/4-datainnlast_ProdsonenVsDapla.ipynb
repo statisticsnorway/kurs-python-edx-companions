{
 "cells": [
  {
   "cell_type": "markdown",
   "id": "4d85ba46",
   "metadata": {},
   "source": [
    "# Videohjelp"
   ]
  },
  {
   "cell_type": "code",
   "execution_count": 2,
   "id": "e689a720",
   "metadata": {},
   "outputs": [],
   "source": [
    "from IPython.display import IFrame"
   ]
  },
  {
   "cell_type": "markdown",
   "id": "3ffcb1ed",
   "metadata": {},
   "source": [
    "# I Prodsonen\n",
    "Kan vi laste sas-data rett fra linux-stammene, men ikke fra S: - H: - X:"
   ]
  },
  {
   "cell_type": "markdown",
   "id": "44220b93",
   "metadata": {},
   "source": [
    "### Hvordan få edx-kursmateriell inn i prodsonen"
   ]
  },
  {
   "cell_type": "code",
   "execution_count": 15,
   "id": "3e2f3385",
   "metadata": {
    "jupyter": {
     "source_hidden": true
    }
   },
   "outputs": [
    {
     "data": {
      "text/html": [
       "\n",
       "        <iframe\n",
       "            width=\"640\"\n",
       "            height=\"360\"\n",
       "            src=\"https://web.microsoftstream.com/embed/video/18ae1be3-a6c5-4bb6-83dc-9319e15d0ed2?autoplay=false&showinfo=true\"\n",
       "            frameborder=\"0\"\n",
       "            allowfullscreen\n",
       "        ></iframe>\n",
       "        "
      ],
      "text/plain": [
       "<IPython.lib.display.IFrame at 0x7f4a699066d0>"
      ]
     },
     "execution_count": 15,
     "metadata": {},
     "output_type": "execute_result"
    }
   ],
   "source": [
    "IFrame(\"https://web.microsoftstream.com/embed/video/18ae1be3-a6c5-4bb6-83dc-9319e15d0ed2?autoplay=false&showinfo=true\", \n",
    "       width = 640, \n",
    "       height = 360)"
   ]
  },
  {
   "cell_type": "markdown",
   "id": "4a803654",
   "metadata": {},
   "source": [
    "### Python i prodsonen med stammedata"
   ]
  },
  {
   "cell_type": "code",
   "execution_count": 17,
   "id": "69eb1859",
   "metadata": {
    "jupyter": {
     "source_hidden": true
    }
   },
   "outputs": [
    {
     "data": {
      "text/html": [
       "\n",
       "        <iframe\n",
       "            width=\"640\"\n",
       "            height=\"360\"\n",
       "            src=\"https://web.microsoftstream.com/embed/video/5bc50672-5fd8-4369-9075-8b5a4047a938?autoplay=false&showinfo=true\"\n",
       "            frameborder=\"0\"\n",
       "            allowfullscreen\n",
       "        ></iframe>\n",
       "        "
      ],
      "text/plain": [
       "<IPython.lib.display.IFrame at 0x7f4a698ff4c0>"
      ]
     },
     "execution_count": 17,
     "metadata": {},
     "output_type": "execute_result"
    }
   ],
   "source": [
    "IFrame(\"https://web.microsoftstream.com/embed/video/5bc50672-5fd8-4369-9075-8b5a4047a938?autoplay=false&showinfo=true\", \n",
    "       width = 640, \n",
    "       height = 360)"
   ]
  },
  {
   "cell_type": "markdown",
   "id": "ec37b7c2",
   "metadata": {},
   "source": [
    "Simens post på yammer om at man kanskje bør velge prodsonen å lære seg først:\\\n",
    "https://web.yammer.com/main/threads/eyJfdHlwZSI6IlRocmVhZCIsImlkIjoiMTA2NDYwNTc5MTk5Mzg1NiJ9"
   ]
  },
  {
   "cell_type": "markdown",
   "id": "1dc335bb",
   "metadata": {},
   "source": [
    "Annonsering av Jupyterversjonen:\\\n",
    "https://web.yammer.com/main/threads/eyJfdHlwZSI6IlRocmVhZCIs..."
   ]
  },
  {
   "cell_type": "markdown",
   "id": "737a64ec",
   "metadata": {},
   "source": [
    "I prodsonen - citrix bruk Chrome og gå til adressen:\\\n",
    "https://sl-python-02.ssb.no:8443"
   ]
  },
  {
   "cell_type": "code",
   "execution_count": null,
   "id": "d2aa166a",
   "metadata": {},
   "outputs": [],
   "source": [
    "# Eksempel innlastingskode av sasdata (mediebruksundersøkelsen)\n",
    "stammepath = '/ssb/stamme03/kultmed/aar2020/wk24/medie_vekt_alle2020.sas7bdat'\n",
    "df = pd.read_sas(stammepath, format = 'sas7bdat', encoding ='iso-8859-1')"
   ]
  },
  {
   "cell_type": "markdown",
   "id": "45117739",
   "metadata": {},
   "source": [
    "\"Root\"-mappen din i denne instansen er \"hjem-mappen\" din på linux."
   ]
  },
  {
   "cell_type": "markdown",
   "id": "ef95dd7a",
   "metadata": {},
   "source": [
    "#### Kan vi skrive sas-data tilbake igjen?\n",
    "https://stackoverflow.com/questions/49235845/export-pandas-dataframe-to-sas-sas7bdat-format \\\n",
    "Nei? Men vi kan kanskje skrive ett pythonscript for å generere \"innlastings-SAS-kode\"..."
   ]
  },
  {
   "cell_type": "markdown",
   "id": "eb704db1",
   "metadata": {},
   "source": [
    "Bitbucket er ett alternativ til github.com og er delt mellom prodsonen og adminsonen, og kan nås på adressen:\\\n",
    "https://git-adm.ssb.no/"
   ]
  },
  {
   "cell_type": "markdown",
   "id": "8b7e39fb",
   "metadata": {},
   "source": [
    "<hr>"
   ]
  },
  {
   "cell_type": "markdown",
   "id": "121185b2",
   "metadata": {},
   "source": [
    "# På Dapla"
   ]
  },
  {
   "cell_type": "markdown",
   "id": "e03a25b5",
   "metadata": {},
   "source": [
    "### Hvordan få edx-kursmateriell inn i Dapla"
   ]
  },
  {
   "cell_type": "code",
   "execution_count": 3,
   "id": "0d3d6065",
   "metadata": {
    "jupyter": {
     "source_hidden": true
    }
   },
   "outputs": [
    {
     "data": {
      "text/html": [
       "\n",
       "        <iframe\n",
       "            width=\"640\"\n",
       "            height=\"360\"\n",
       "            src=\"https://web.microsoftstream.com/embed/video/9050c302-922f-4f39-b592-4f258ffc97c2?autoplay=false&showinfo=true\"\n",
       "            frameborder=\"0\"\n",
       "            allowfullscreen\n",
       "        ></iframe>\n",
       "        "
      ],
      "text/plain": [
       "<IPython.lib.display.IFrame at 0x7f51b02045b0>"
      ]
     },
     "execution_count": 3,
     "metadata": {},
     "output_type": "execute_result"
    }
   ],
   "source": [
    "IFrame(\"https://web.microsoftstream.com/embed/video/9050c302-922f-4f39-b592-4f258ffc97c2?autoplay=false&showinfo=true\", \n",
    "       width = 640, \n",
    "       height = 360)"
   ]
  },
  {
   "cell_type": "markdown",
   "id": "ddca894f",
   "metadata": {},
   "source": [
    "## På dapla har vi biblioteket \"dapla\"\n",
    "Men dette kan potensielt endre seg veldig snart"
   ]
  },
  {
   "cell_type": "code",
   "execution_count": 3,
   "id": "0bb8b6d4",
   "metadata": {},
   "outputs": [
    {
     "name": "stdout",
     "output_type": "stream",
     "text": [
      "Help on module dapla.execute in dapla:\n",
      "\n",
      "NAME\n",
      "    dapla.execute\n",
      "\n",
      "FUNCTIONS\n",
      "    details(path)\n",
      "    \n",
      "    read_pandas(path, columns=None)\n",
      "        Read Parquet data from a path in Dapla.\n",
      "        \n",
      "        Parameters\n",
      "        ----------\n",
      "        path : str\n",
      "            A path that will be mapped to a GCS path in Dapla\n",
      "        columns : List[str], optional\n",
      "            Subset of columns to read.\n",
      "        \n",
      "        Returns\n",
      "        -------\n",
      "        pyarrow.Table\n",
      "            Content as a table (of columns).\n",
      "    \n",
      "    show(path)\n",
      "    \n",
      "    show_meta(path)\n",
      "    \n",
      "    write_pandas(df, path, **option_kwargs)\n",
      "\n",
      "FILE\n",
      "    /opt/conda/lib/python3.8/site-packages/dapla/execute.py\n",
      "\n",
      "\n"
     ]
    }
   ],
   "source": [
    "import dapla as dp\n",
    "help(dp.execute)"
   ]
  },
  {
   "cell_type": "code",
   "execution_count": 9,
   "id": "256a7e82",
   "metadata": {},
   "outputs": [
    {
     "data": {
      "text/html": [
       "<div>\n",
       "<style scoped>\n",
       "    .dataframe tbody tr th:only-of-type {\n",
       "        vertical-align: middle;\n",
       "    }\n",
       "\n",
       "    .dataframe tbody tr th {\n",
       "        vertical-align: top;\n",
       "    }\n",
       "\n",
       "    .dataframe thead th {\n",
       "        text-align: right;\n",
       "    }\n",
       "</style>\n",
       "<table border=\"1\" class=\"dataframe\">\n",
       "  <thead>\n",
       "    <tr style=\"text-align: right;\">\n",
       "      <th></th>\n",
       "      <th>path</th>\n",
       "      <th>timestamp</th>\n",
       "    </tr>\n",
       "  </thead>\n",
       "  <tbody>\n",
       "    <tr>\n",
       "      <th>0</th>\n",
       "      <td>/felles/mock_sysselsatte/companies_2019_10000</td>\n",
       "      <td>2021-02-23 09:44:16.678</td>\n",
       "    </tr>\n",
       "    <tr>\n",
       "      <th>1</th>\n",
       "      <td>/felles/mock_sysselsatte/companies_2019_30000</td>\n",
       "      <td>2021-03-03 07:05:35.853</td>\n",
       "    </tr>\n",
       "    <tr>\n",
       "      <th>2</th>\n",
       "      <td>/felles/mock_sysselsatte/companies_2020_10000</td>\n",
       "      <td>2021-02-26 16:00:24.381</td>\n",
       "    </tr>\n",
       "    <tr>\n",
       "      <th>3</th>\n",
       "      <td>/felles/mock_sysselsatte/companies_2020_30000</td>\n",
       "      <td>2021-03-03 11:00:33.237</td>\n",
       "    </tr>\n",
       "    <tr>\n",
       "      <th>4</th>\n",
       "      <td>/felles/mock_sysselsatte/companies_2021_10000</td>\n",
       "      <td>2021-02-26 16:01:25.697</td>\n",
       "    </tr>\n",
       "  </tbody>\n",
       "</table>\n",
       "</div>"
      ],
      "text/plain": [
       "                                            path               timestamp\n",
       "0  /felles/mock_sysselsatte/companies_2019_10000 2021-02-23 09:44:16.678\n",
       "1  /felles/mock_sysselsatte/companies_2019_30000 2021-03-03 07:05:35.853\n",
       "2  /felles/mock_sysselsatte/companies_2020_10000 2021-02-26 16:00:24.381\n",
       "3  /felles/mock_sysselsatte/companies_2020_30000 2021-03-03 11:00:33.237\n",
       "4  /felles/mock_sysselsatte/companies_2021_10000 2021-02-26 16:01:25.697"
      ]
     },
     "execution_count": 9,
     "metadata": {},
     "output_type": "execute_result"
    }
   ],
   "source": [
    "# Det du ser på er egentlig bare en dataframe...\n",
    "dp.show('/felles/mock').head()"
   ]
  },
  {
   "cell_type": "code",
   "execution_count": 12,
   "id": "9e435fa0",
   "metadata": {},
   "outputs": [
    {
     "name": "stdout",
     "output_type": "stream",
     "text": [
      "/felles/mock_sysselsatte/companies_2019_30000\n",
      "/felles/mock_sysselsatte/companies_2020_30000\n",
      "/felles/mock_sysselsatte/companies_2021_30000\n",
      "/felles/mock_sysselsatte/companies_2022_30000\n",
      "/felles/mock_sysselsatte/companies_2023_30000\n",
      "/felles/mock_sysselsatte/companies_2024_30000\n"
     ]
    }
   ],
   "source": [
    "# Og kan manipuleres på samme måte\n",
    "# Her loop over path-kolonnen\n",
    "for x in dp.show('/felles/mock')['path']: \n",
    "    # print kun de som har \"comp\" og \"30000\" i navnet\n",
    "    if 'comp' in x and '30000' in x: \n",
    "        print(x)"
   ]
  },
  {
   "cell_type": "code",
   "execution_count": 7,
   "id": "83b7e6e8",
   "metadata": {},
   "outputs": [
    {
     "data": {
      "text/html": [
       "<div>\n",
       "<style scoped>\n",
       "    .dataframe tbody tr th:only-of-type {\n",
       "        vertical-align: middle;\n",
       "    }\n",
       "\n",
       "    .dataframe tbody tr th {\n",
       "        vertical-align: top;\n",
       "    }\n",
       "\n",
       "    .dataframe thead th {\n",
       "        text-align: right;\n",
       "    }\n",
       "</style>\n",
       "<table border=\"1\" class=\"dataframe\">\n",
       "  <thead>\n",
       "    <tr style=\"text-align: right;\">\n",
       "      <th></th>\n",
       "      <th>work_id</th>\n",
       "      <th>nace</th>\n",
       "      <th>region_code</th>\n",
       "      <th>region</th>\n",
       "      <th>employee_points</th>\n",
       "    </tr>\n",
       "  </thead>\n",
       "  <tbody>\n",
       "    <tr>\n",
       "      <th>24</th>\n",
       "      <td>559023560</td>\n",
       "      <td>12.000</td>\n",
       "      <td>03</td>\n",
       "      <td>Oslo</td>\n",
       "      <td>45</td>\n",
       "    </tr>\n",
       "    <tr>\n",
       "      <th>749</th>\n",
       "      <td>832925850</td>\n",
       "      <td>43.120</td>\n",
       "      <td>10</td>\n",
       "      <td>Vest-Agder (-2019)</td>\n",
       "      <td>12</td>\n",
       "    </tr>\n",
       "    <tr>\n",
       "      <th>756</th>\n",
       "      <td>400795411</td>\n",
       "      <td>46.510</td>\n",
       "      <td>12</td>\n",
       "      <td>Hordaland (-2019)</td>\n",
       "      <td>20</td>\n",
       "    </tr>\n",
       "    <tr>\n",
       "      <th>918</th>\n",
       "      <td>185786417</td>\n",
       "      <td>18.140</td>\n",
       "      <td>04</td>\n",
       "      <td>Hedmark (-2019)</td>\n",
       "      <td>7</td>\n",
       "    </tr>\n",
       "    <tr>\n",
       "      <th>212</th>\n",
       "      <td>771034507</td>\n",
       "      <td>01.440</td>\n",
       "      <td>01</td>\n",
       "      <td>Østfold (-2019)</td>\n",
       "      <td>12</td>\n",
       "    </tr>\n",
       "    <tr>\n",
       "      <th>1063</th>\n",
       "      <td>319813986</td>\n",
       "      <td>23.310</td>\n",
       "      <td>05</td>\n",
       "      <td>Oppland (-2019)</td>\n",
       "      <td>5</td>\n",
       "    </tr>\n",
       "    <tr>\n",
       "      <th>172</th>\n",
       "      <td>093591671</td>\n",
       "      <td>47.529</td>\n",
       "      <td>14</td>\n",
       "      <td>Sogn og Fjordane (-2019)</td>\n",
       "      <td>11</td>\n",
       "    </tr>\n",
       "    <tr>\n",
       "      <th>661</th>\n",
       "      <td>888844328</td>\n",
       "      <td>24.540</td>\n",
       "      <td>06</td>\n",
       "      <td>Buskerud (-2019)</td>\n",
       "      <td>34</td>\n",
       "    </tr>\n",
       "    <tr>\n",
       "      <th>359</th>\n",
       "      <td>461107179</td>\n",
       "      <td>49.410</td>\n",
       "      <td>50</td>\n",
       "      <td>Trøndelag - Trööndelage</td>\n",
       "      <td>5</td>\n",
       "    </tr>\n",
       "    <tr>\n",
       "      <th>18</th>\n",
       "      <td>870563989</td>\n",
       "      <td>05.200</td>\n",
       "      <td>02</td>\n",
       "      <td>Akershus (-2019)</td>\n",
       "      <td>28</td>\n",
       "    </tr>\n",
       "  </tbody>\n",
       "</table>\n",
       "</div>"
      ],
      "text/plain": [
       "        work_id    nace region_code                    region  employee_points\n",
       "24    559023560  12.000          03                      Oslo               45\n",
       "749   832925850  43.120          10        Vest-Agder (-2019)               12\n",
       "756   400795411  46.510          12         Hordaland (-2019)               20\n",
       "918   185786417  18.140          04           Hedmark (-2019)                7\n",
       "212   771034507  01.440          01           Østfold (-2019)               12\n",
       "1063  319813986  23.310          05           Oppland (-2019)                5\n",
       "172   093591671  47.529          14  Sogn og Fjordane (-2019)               11\n",
       "661   888844328  24.540          06          Buskerud (-2019)               34\n",
       "359   461107179  49.410          50   Trøndelag - Trööndelage                5\n",
       "18    870563989  05.200          02          Akershus (-2019)               28"
      ]
     },
     "execution_count": 7,
     "metadata": {},
     "output_type": "execute_result"
    }
   ],
   "source": [
    "df = dp.read_pandas('/felles/mock_sysselsatte/companies_2019_30000')\n",
    "df.sample(10)"
   ]
  },
  {
   "cell_type": "code",
   "execution_count": null,
   "id": "489a2f1a",
   "metadata": {},
   "outputs": [],
   "source": [
    "# Du bør vide hva du gjør når du skriver tilbake til dapla.\n",
    "# Bla. skal verdivurdering være med som parameter, og \"state\" på dataene.\n",
    "dp.write_pandas(df, '/felles/mock_sysselsatte/companies_2019_30000', valuation='INTERNAL', state= 'INPUT')"
   ]
  }
 ],
 "metadata": {
  "kernelspec": {
   "display_name": "Python 3",
   "language": "python",
   "name": "python3"
  },
  "language_info": {
   "codemirror_mode": {
    "name": "ipython",
    "version": 3
   },
   "file_extension": ".py",
   "mimetype": "text/x-python",
   "name": "python",
   "nbconvert_exporter": "python",
   "pygments_lexer": "ipython3",
   "version": "3.8.10"
  }
 },
 "nbformat": 4,
 "nbformat_minor": 5
}
