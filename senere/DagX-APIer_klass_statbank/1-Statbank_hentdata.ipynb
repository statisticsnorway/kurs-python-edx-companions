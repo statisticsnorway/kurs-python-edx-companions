{
 "cells": [
  {
   "cell_type": "code",
   "execution_count": 1,
   "id": "fe04a655",
   "metadata": {},
   "outputs": [],
   "source": [
    "# Muliggjør innbaking av video i notebooken\n",
    "from IPython.display import IFrame"
   ]
  },
  {
   "cell_type": "code",
   "execution_count": 2,
   "id": "9d1d4efa",
   "metadata": {},
   "outputs": [
    {
     "data": {
      "text/html": [
       "\n",
       "        <iframe\n",
       "            width=\"640\"\n",
       "            height=\"360\"\n",
       "            src=\"https://web.microsoftstream.com/embed/video/60208d32-1dbe-4723-928c-77337a7c3f2e?autoplay=false&showinfo=true\"\n",
       "            frameborder=\"0\"\n",
       "            allowfullscreen\n",
       "        ></iframe>\n",
       "        "
      ],
      "text/plain": [
       "<IPython.lib.display.IFrame at 0x7f1cb483ed90>"
      ]
     },
     "execution_count": 2,
     "metadata": {},
     "output_type": "execute_result"
    }
   ],
   "source": [
    "IFrame(\"https://web.microsoftstream.com/embed/video/60208d32-1dbe-4723-928c-77337a7c3f2e?autoplay=false&showinfo=true\", \n",
    "       width = 640, \n",
    "       height = 360)"
   ]
  },
  {
   "cell_type": "code",
   "execution_count": 2,
   "id": "8b2f240e",
   "metadata": {},
   "outputs": [
    {
     "data": {
      "text/html": [
       "\n",
       "        <iframe\n",
       "            width=\"640\"\n",
       "            height=\"360\"\n",
       "            src=\"https://web.microsoftstream.com/embed/video/81f86be5-9f1a-4e3c-a65c-c82760b9dc9b?autoplay=false&showinfo=true\"\n",
       "            frameborder=\"0\"\n",
       "            allowfullscreen\n",
       "        ></iframe>\n",
       "        "
      ],
      "text/plain": [
       "<IPython.lib.display.IFrame at 0x7fbb9844a5e0>"
      ]
     },
     "execution_count": 2,
     "metadata": {},
     "output_type": "execute_result"
    }
   ],
   "source": [
    "IFrame(\"https://web.microsoftstream.com/embed/video/81f86be5-9f1a-4e3c-a65c-c82760b9dc9b?autoplay=false&showinfo=true\", \n",
    "       width = 640, \n",
    "       height = 360)"
   ]
  },
  {
   "cell_type": "code",
   "execution_count": null,
   "id": "1b652020",
   "metadata": {},
   "outputs": [],
   "source": []
  }
 ],
 "metadata": {
  "kernelspec": {
   "display_name": "Python 3",
   "language": "python",
   "name": "python3"
  },
  "language_info": {
   "codemirror_mode": {
    "name": "ipython",
    "version": 3
   },
   "file_extension": ".py",
   "mimetype": "text/x-python",
   "name": "python",
   "nbconvert_exporter": "python",
   "pygments_lexer": "ipython3",
   "version": "3.8.10"
  }
 },
 "nbformat": 4,
 "nbformat_minor": 5
}
