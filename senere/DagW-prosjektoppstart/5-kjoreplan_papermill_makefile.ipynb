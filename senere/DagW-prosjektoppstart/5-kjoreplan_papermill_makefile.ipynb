{
 "cells": [
  {
   "cell_type": "code",
   "execution_count": 1,
   "id": "4eecacc8",
   "metadata": {},
   "outputs": [],
   "source": [
    "# Muliggjør innbaking av video i notebooken\n",
    "from IPython.display import IFrame"
   ]
  },
  {
   "cell_type": "code",
   "execution_count": 2,
   "id": "261027a7",
   "metadata": {},
   "outputs": [
    {
     "data": {
      "text/html": [
       "\n",
       "        <iframe\n",
       "            width=\"640\"\n",
       "            height=\"360\"\n",
       "            src=\"https://web.microsoftstream.com/embed/video/9311cb5a-07a5-4e4e-b19b-3613bc365785?autoplay=false&showinfo=true\"\n",
       "            frameborder=\"0\"\n",
       "            allowfullscreen\n",
       "        ></iframe>\n",
       "        "
      ],
      "text/plain": [
       "<IPython.lib.display.IFrame at 0x7f8db40ced00>"
      ]
     },
     "execution_count": 2,
     "metadata": {},
     "output_type": "execute_result"
    }
   ],
   "source": [
    "IFrame(\"https://web.microsoftstream.com/embed/video/9311cb5a-07a5-4e4e-b19b-3613bc365785?autoplay=false&showinfo=true\", \n",
    "       width = 640, \n",
    "       height = 360)"
   ]
  },
  {
   "cell_type": "code",
   "execution_count": null,
   "id": "bdaff636",
   "metadata": {},
   "outputs": [],
   "source": []
  }
 ],
 "metadata": {
  "kernelspec": {
   "display_name": "Python 3",
   "language": "python",
   "name": "python3"
  },
  "language_info": {
   "codemirror_mode": {
    "name": "ipython",
    "version": 3
   },
   "file_extension": ".py",
   "mimetype": "text/x-python",
   "name": "python",
   "nbconvert_exporter": "python",
   "pygments_lexer": "ipython3",
   "version": "3.8.10"
  }
 },
 "nbformat": 4,
 "nbformat_minor": 5
}
